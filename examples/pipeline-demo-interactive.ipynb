{
 "cells": [
  {
   "cell_type": "code",
   "execution_count": null,
   "id": "a7075bd7",
   "metadata": {},
   "outputs": [],
   "source": [
    "from __future__ import annotations"
   ]
  },
  {
   "cell_type": "markdown",
   "id": "0fa94bea",
   "metadata": {},
   "source": [
    "---\n",
    "jupyter:\n",
    "  jupytext:\n",
    "    text_representation:\n",
    "      extension: .py\n",
    "      format_name: light\n",
    "      format_version: '1.5'\n",
    "      jupytext_version: 1.17.2\n",
    "  kernelspec:\n",
    "    display_name: Python 3\n",
    "    name: python3\n",
    "---"
   ]
  },
  {
   "cell_type": "markdown",
   "id": "3859847e",
   "metadata": {},
   "source": [
    "# Pipeline Demo (Interactive)"
   ]
  },
  {
   "cell_type": "markdown",
   "id": "d7eb9fbf",
   "metadata": {},
   "source": [
    "This notebook demonstrates a simple data processing pipeline with multiple stages: validation, transformation, and a slow sink. It also includes a control-plane kill switch to gracefully shut down the pipeline."
   ]
  },
  {
   "cell_type": "markdown",
   "id": "a4adf61d",
   "metadata": {},
   "source": [
    "## 1. Setup: Add Project to Python Path"
   ]
  },
  {
   "cell_type": "markdown",
   "id": "84c4f19b",
   "metadata": {},
   "source": [
    "This cell adds the project's `src` directory to the Python path. This is necessary for the notebook to find and import the `meridian` module."
   ]
  },
  {
   "cell_type": "code",
   "execution_count": null,
   "id": "af7d48fa",
   "metadata": {},
   "outputs": [],
   "source": [
    "import sys\n",
    "import os\n",
    "\n",
    "# Add the project's 'src' directory to the Python path\n",
    "# This is necessary for the notebook to find the 'meridian' module\n",
    "# We assume the notebook is run from the 'notebooks/examples' directory.\n",
    "src_path = os.path.abspath('../../src')\n",
    "if src_path not in sys.path:\n",
    "    sys.path.insert(0, src_path)\n",
    "    print(f\"Added '{src_path}' to the Python path.\")"
   ]
  },
  {
   "cell_type": "markdown",
   "id": "6e749530",
   "metadata": {},
   "source": [
    "## 2. Pipeline Nodes"
   ]
  },
  {
   "cell_type": "markdown",
   "id": "344aa2fc",
   "metadata": {},
   "source": [
    "Let's define the nodes that make up our pipeline:"
   ]
  },
  {
   "cell_type": "markdown",
   "id": "fc1ea4b1",
   "metadata": {},
   "source": [
    "* **Validator**: Drops invalid inputs, emits valid items only.\n",
    "* **Transformer**: Normalizes payloads and forwards.\n",
    "* **SlowSink**: Simulates I/O latency to trigger backpressure.\n",
    "* **KillSwitch**: Publishes a shutdown signal on control-plane edge."
   ]
  },
  {
   "cell_type": "code",
   "execution_count": null,
   "id": "f4b6dde0",
   "metadata": {
    "lines_to_end_of_cell_marker": 0,
    "lines_to_next_cell": 1
   },
   "outputs": [],
   "source": [
    "import time\n",
    "from typing import Any\n",
    "\n",
    "from meridian.core import Message, MessageType, Node, PortSpec\n",
    "from meridian.core.ports import Port, PortDirection\n",
    "\n",
    "\n",
    "class Validator(Node):\n",
    "    \"\"\"Drops invalid inputs, emits valid items only.\"\"\"\n",
    "\n",
    "    def __init__(self) -> None:\n",
    "        super().__init__(\n",
    "            name=\"validator\",\n",
    "            inputs=[Port(\"in\", PortDirection.INPUT, spec=PortSpec(\"in\", dict))],\n",
    "            outputs=[Port(\"out\", PortDirection.OUTPUT, spec=PortSpec(\"out\", dict))],\n",
    "        )\n",
    "        self.seen: int = 0\n",
    "        self.valid: int = 0\n",
    "\n",
    "    def _handle_message(self, port: str, msg: Message[Any]) -> None:\n",
    "        if port != \"in\":\n",
    "            return\n",
    "        self.seen += 1\n",
    "        payload = msg.payload\n",
    "        if isinstance(payload, dict) and \"id\" in payload:\n",
    "            self.valid += 1\n",
    "            self.emit(\"out\", Message(type=MessageType.DATA, payload=payload))\n",
    "\n",
    "\n",
    "class Transformer(Node):\n",
    "    \"\"\"Normalizes payloads and forwards.\"\"\"\n",
    "\n",
    "    def __init__(self) -> None:\n",
    "        super().__init__(\n",
    "            name=\"transformer\",\n",
    "            inputs=[Port(\"in\", PortDirection.INPUT, spec=PortSpec(\"in\", dict))],\n",
    "            outputs=[Port(\"out\", PortDirection.OUTPUT, spec=PortSpec(\"out\", dict))],\n",
    "        )\n",
    "\n",
    "    def _handle_message(self, port: str, msg: Message[dict[str, Any]]) -> None:\n",
    "        if port != \"in\":\n",
    "            return\n",
    "        payload = dict(msg.payload)\n",
    "        payload.setdefault(\"normalized\", True)\n",
    "        self.emit(\"out\", Message(type=MessageType.DATA, payload=payload))\n",
    "\n",
    "\n",
    "class SlowSink(Node):\n",
    "    \"\"\"Simulates I/O latency to trigger backpressure.\"\"\"\n",
    "\n",
    "    def __init__(self, delay_s: float = 0.02) -> None:\n",
    "        super().__init__(\n",
    "            name=\"sink\",\n",
    "            inputs=[\n",
    "                Port(\"in\", PortDirection.INPUT, spec=PortSpec(\"in\", dict)),\n",
    "                Port(\"control\", PortDirection.INPUT, spec=PortSpec(\"control\", str)),\n",
    "            ],\n",
    "            outputs=[],\n",
    "        )\n",
    "        self.delay_s = delay_s\n",
    "        self.count = 0\n",
    "\n",
    "    def _handle_message(self, port: str, msg: Message[Any]) -> None:\n",
    "        if port == \"in\":\n",
    "            time.sleep(self.delay_s)\n",
    "            self.count += 1\n",
    "        elif port == \"control\":\n",
    "            print(f\"Sink received control message: {msg.payload}\")\n",
    "\n",
    "\n",
    "class KillSwitch(Node):\n",
    "    \"\"\"Publishes a shutdown signal on control-plane edge.\"\"\"\n",
    "\n",
    "    def __init__(self) -> None:\n",
    "        super().__init__(\n",
    "            name=\"control\",\n",
    "            inputs=[],\n",
    "            outputs=[Port(\"out\", PortDirection.OUTPUT, spec=PortSpec(\"out\", str))],\n",
    "        )\n",
    "        self.triggered = False\n",
    "\n",
    "    def _handle_tick(self) -> None:\n",
    "        if self.triggered:\n",
    "            return\n",
    "        self.triggered = True\n",
    "        self.emit(\"out\", Message(type=MessageType.CONTROL, payload=\"shutdown\"))"
   ]
  },
  {
   "cell_type": "markdown",
   "id": "146b0668",
   "metadata": {},
   "source": [
    "## 3. Building and Running the Pipeline"
   ]
  },
  {
   "cell_type": "markdown",
   "id": "71624698",
   "metadata": {},
   "source": [
    "Now, let's build the pipeline and run it with the scheduler. We'll also add a simple producer to feed messages into the pipeline."
   ]
  },
  {
   "cell_type": "code",
   "execution_count": null,
   "id": "e153b28d",
   "metadata": {},
   "outputs": [],
   "source": [
    "from meridian.core import Subgraph, Scheduler\n",
    "import ipywidgets as widgets\n",
    "from IPython.display import display\n",
    "import threading\n",
    "\n",
    "class SimpleProducer(Node):\n",
    "    def __init__(self, num_messages: int = 10):\n",
    "        super().__init__(\n",
    "            name=\"simple_producer\",\n",
    "            inputs=[],\n",
    "            outputs=[Port(\"out\", PortDirection.OUTPUT, spec=PortSpec(\"out\", dict))],\n",
    "        )\n",
    "        self.num_messages = num_messages\n",
    "        self.count = 0\n",
    "\n",
    "    def _handle_tick(self) -> None:\n",
    "        if self.count < self.num_messages:\n",
    "            self.emit(\"out\", Message(type=MessageType.DATA, payload={\"id\": self.count, \"data\": f\"message_{self.count}\"}))\n",
    "            self.count += 1\n",
    "        else:\n",
    "            # Stop the producer once all messages are sent\n",
    "            self.stop()\n",
    "\n",
    "# Create a slider for the number of messages\n",
    "message_slider = widgets.IntSlider(value=10, min=1, max=100, step=1, description='Messages:')\n",
    "\n",
    "# Create a button to run the pipeline\n",
    "run_button = widgets.Button(description='Run Pipeline')\n",
    "\n",
    "# Create an output widget to display results\n",
    "output_area = widgets.Output()\n",
    "\n",
    "def run_pipeline(b):\n",
    "    with output_area:\n",
    "        output_area.clear_output()\n",
    "        print(\"=== Starting Pipeline Demo ===\")\n",
    "\n",
    "        # Create nodes\n",
    "        validator = Validator()\n",
    "        transformer = Transformer()\n",
    "        sink = SlowSink(delay_s=0.01) # Small delay to show backpressure\n",
    "        kill_switch = KillSwitch()\n",
    "        producer = SimpleProducer(num_messages=message_slider.value)\n",
    "\n",
    "        # Create subgraph and connect nodes\n",
    "        sg = Subgraph.from_nodes(\"pipeline_demo\", [validator, transformer, sink, kill_switch, producer])\n",
    "\n",
    "        # Data pipeline\n",
    "        sg.connect((\"simple_producer\", \"out\"), (\"validator\", \"in\"), capacity=64)\n",
    "        sg.connect((\"validator\", \"out\"), (\"transformer\", \"in\"), capacity=64)\n",
    "        sg.connect((\"transformer\", \"out\"), (\"sink\", \"in\"), capacity=8)\n",
    "\n",
    "        # Control plane\n",
    "        sg.connect((\"control\", \"out\"), (\"sink\", \"control\"), capacity=1) # Kill switch to sink\n",
    "\n",
    "        # Create scheduler and run\n",
    "        sched = Scheduler()\n",
    "        sched.register(sg)\n",
    "\n",
    "        # Run in a separate thread to keep notebook interactive\n",
    "        pipeline_thread = threading.Thread(target=sched.run)\n",
    "        pipeline_thread.start()\n",
    "        pipeline_thread.join() # Wait for pipeline to complete\n",
    "\n",
    "        print(f\"\\nSink processed {sink.count} messages.\")\n",
    "        print(\"=== Pipeline Demo Finished ===\")\n",
    "\n",
    "run_button.on_click(run_pipeline)\n",
    "\n",
    "display(message_slider, run_button, output_area)"
   ]
  }
 ],
 "metadata": {
  "jupytext": {
   "cell_metadata_filter": "-all",
   "main_language": "python",
   "notebook_metadata_filter": "-all"
  }
 },
 "nbformat": 4,
 "nbformat_minor": 5
}
