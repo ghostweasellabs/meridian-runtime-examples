{
 "cells": [
  {
   "cell_type": "code",
   "execution_count": null,
   "id": "ec687010",
   "metadata": {},
   "outputs": [],
   "source": []
  },
  {
   "cell_type": "markdown",
   "id": "de300da9",
   "metadata": {},
   "source": [
    "---\n",
    "jupyter:\n",
    "  jupytext:\n",
    "    text_representation:\n",
    "      extension: .py\n",
    "      format_name: light\n",
    "      format_version: '1.5'\n",
    "      jupytext_version: 1.17.2\n",
    "  kernelspec:\n",
    "    display_name: Python 3\n",
    "    name: python3\n",
    "---"
   ]
  },
  {
   "cell_type": "markdown",
   "id": "d2228001",
   "metadata": {},
   "source": [
    "# Minimal Hello World"
   ]
  },
  {
   "cell_type": "markdown",
   "id": "3439788e",
   "metadata": {},
   "source": [
    "This notebook demonstrates the basic concepts of Meridian Runtime:\n",
    "- Creating nodes with typed ports\n",
    "- Connecting nodes with bounded edges\n",
    "- Running a simple dataflow"
   ]
  },
  {
   "cell_type": "markdown",
   "id": "116d957b",
   "metadata": {},
   "source": [
    "## 1. Setup: Add Project to Python Path"
   ]
  },
  {
   "cell_type": "markdown",
   "id": "58ff005c",
   "metadata": {},
   "source": [
    "This cell adds the project's `src` directory to the Python path. This is necessary for the notebook to find and import the `meridian` module."
   ]
  },
  {
   "cell_type": "code",
   "execution_count": null,
   "id": "58667bb2",
   "metadata": {},
   "outputs": [],
   "source": [
    "import sys\n",
    "import os\n",
    "\n",
    "# Add the project's 'src' directory to the Python path\n",
    "# This is necessary for the notebook to find the 'meridian' module\n",
    "# We assume the notebook is run from the 'notebooks/examples' directory.\n",
    "src_path = os.path.abspath('../../src')\n",
    "if src_path not in sys.path:\n",
    "    sys.path.insert(0, src_path)\n",
    "    print(f\"Added '{src_path}' to the Python path.\")"
   ]
  },
  {
   "cell_type": "markdown",
   "id": "15f01b15",
   "metadata": {},
   "source": [
    "## 2. The Producer and Consumer Nodes"
   ]
  },
  {
   "cell_type": "markdown",
   "id": "ab8943d4",
   "metadata": {},
   "source": [
    "First, let's define the producer and consumer nodes."
   ]
  },
  {
   "cell_type": "code",
   "execution_count": null,
   "id": "f557a123",
   "metadata": {
    "lines_to_end_of_cell_marker": 0,
    "lines_to_next_cell": 1
   },
   "outputs": [],
   "source": [
    "from meridian.core import Subgraph, Scheduler, Message, MessageType, Node, PortSpec\n",
    "from meridian.core.ports import Port, PortDirection\n",
    "\n",
    "\n",
    "class Producer(Node):\n",
    "    \"\"\"Produces integer messages on tick intervals.\"\"\"\n",
    "\n",
    "    def __init__(self, name: str = \"producer\", max_count: int = 5):\n",
    "        super().__init__(\n",
    "            name=name,\n",
    "            inputs=[],\n",
    "            outputs=[Port(\"output\", PortDirection.OUTPUT, spec=PortSpec(\"output\", int))],\n",
    "        )\n",
    "        self.max_count = max_count\n",
    "        self.count = 0\n",
    "\n",
    "    def _handle_tick(self) -> None:\n",
    "        if self.count < self.max_count:\n",
    "            self.emit(\"output\", Message(type=MessageType.DATA, payload=self.count))\n",
    "            self.count += 1\n",
    "\n",
    "\n",
    "class Consumer(Node):\n",
    "    \"\"\"Consumes and prints integer messages.\"\"\"\n",
    "\n",
    "    def __init__(self, name: str = \"consumer\"):\n",
    "        super().__init__(\n",
    "            name=name,\n",
    "            inputs=[Port(\"in\", PortDirection.INPUT, spec=PortSpec(\"in\", int))],\n",
    "            outputs=[],\n",
    "        )\n",
    "        self.values = []\n",
    "\n",
    "    def _handle_message(self, port: str, msg: Message) -> None:\n",
    "        if port == \"in\":\n",
    "            self.values.append(msg.payload)\n",
    "            print(f\"Consumer received: {msg.payload}\")"
   ]
  },
  {
   "cell_type": "markdown",
   "id": "245bbc63",
   "metadata": {},
   "source": [
    "## 3. Building and Running the Graph"
   ]
  },
  {
   "cell_type": "markdown",
   "id": "9e984f2f",
   "metadata": {},
   "source": [
    "Now, let's build the graph and run it with the scheduler."
   ]
  },
  {
   "cell_type": "code",
   "execution_count": null,
   "id": "99b80835",
   "metadata": {
    "lines_to_next_cell": 0
   },
   "outputs": [],
   "source": [
    "# Create nodes\n",
    "producer = Producer(max_count=5)\n",
    "consumer = Consumer()\n",
    "\n",
    "# Create subgraph and connect nodes\n",
    "sg = Subgraph.from_nodes(\"hello_world\", [producer, consumer])\n",
    "sg.connect((\"producer\", \"output\"), (\"consumer\", \"in\"), capacity=8)\n",
    "\n",
    "# Create scheduler and run\n",
    "sch = Scheduler()\n",
    "sch.register(sg)\n",
    "\n",
    "print(\"Starting dataflow...\")\n",
    "sch.run()\n",
    "\n",
    "print(f\"\\nConsumer processed {len(consumer.values)} messages\")\n",
    "print(\"✓ Example completed successfully!\")"
   ]
  },
  {
   "cell_type": "code",
   "execution_count": null,
   "id": "8ee4973e",
   "metadata": {},
   "outputs": [],
   "source": []
  }
 ],
 "metadata": {
  "jupytext": {
   "cell_metadata_filter": "-all",
   "main_language": "python",
   "notebook_metadata_filter": "-all"
  }
 },
 "nbformat": 4,
 "nbformat_minor": 5
}
