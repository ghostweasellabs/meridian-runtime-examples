{
 "cells": [
  {
   "cell_type": "markdown",
   "id": "aceb6e79",
   "metadata": {},
   "source": [
    "# Getting Started with Meridian Runtime"
   ]
  },
  {
   "cell_type": "markdown",
   "id": "f80369dc",
   "metadata": {},
   "source": [
    "This notebook provides a hands-on introduction to the core concepts of Meridian Runtime. We'll build a simple \"Hello, World!\" graph with a producer, a consumer, and an edge connecting them."
   ]
  },
  {
   "cell_type": "markdown",
   "id": "6f56bef3",
   "metadata": {},
   "source": [
    "## 1. Setup: Add Project to Python Path"
   ]
  },
  {
   "cell_type": "markdown",
   "id": "edb473e1",
   "metadata": {},
   "source": [
    "This cell adds the project's `src` directory to the Python path. This is necessary for the notebook to find and import the `meridian` module."
   ]
  },
  {
   "cell_type": "code",
   "execution_count": null,
   "id": "a018943d",
   "metadata": {},
   "outputs": [],
   "source": [
    "import sys\n",
    "import os\n",
    "\n",
    "# Add the project's 'src' directory to the Python path\n",
    "# This is necessary for the notebook to find the 'meridian' module\n",
    "# We assume the notebook is run from the 'notebooks/tutorials' directory.\n",
    "src_path = os.path.abspath('../../src')\n",
    "if src_path not in sys.path:\n",
    "    sys.path.insert(0, src_path)\n",
    "    print(f\"Added '{src_path}' to the Python path.\")"
   ]
  },
  {
   "cell_type": "markdown",
   "id": "385a65c9",
   "metadata": {},
   "source": [
    "## 2. Core Concepts"
   ]
  },
  {
   "cell_type": "markdown",
   "id": "6818a465",
   "metadata": {},
   "source": [
    "Meridian Runtime is based on a few simple primitives:"
   ]
  },
  {
   "cell_type": "markdown",
   "id": "410cab61",
   "metadata": {},
   "source": [
    "* **Node**: A single-responsibility processing unit.\n",
    "* **Edge**: A typed, bounded queue connecting nodes.\n",
    "* **Subgraph**: A composition of nodes and edges.\n",
    "* **Scheduler**: Drives the execution of the graph."
   ]
  },
  {
   "cell_type": "markdown",
   "id": "1fde9390",
   "metadata": {},
   "source": [
    "## 3. The \"Hello, World!\" Example"
   ]
  },
  {
   "cell_type": "markdown",
   "id": "c49aa4fe",
   "metadata": {},
   "source": [
    "Let's start by defining a simple producer node that emits a sequence of integers."
   ]
  },
  {
   "cell_type": "code",
   "execution_count": null,
   "id": "cd0be775",
   "metadata": {
    "lines_to_end_of_cell_marker": 0,
    "lines_to_next_cell": 1
   },
   "outputs": [],
   "source": [
    "from meridian.core import Node, Message, Port, PortDirection, PortSpec\n",
    "\n",
    "class Producer(Node):\n",
    "    def __init__(self, n=5):\n",
    "        # Create output port for emitting messages\n",
    "        output_port = Port(\"out\", PortDirection.OUTPUT, spec=PortSpec(\"out\"))\n",
    "        super().__init__(name=\"producer\", outputs=[output_port])\n",
    "        self._n = n\n",
    "        self._i = 0\n",
    "\n",
    "    def on_start(self):\n",
    "        self._i = 0\n",
    "\n",
    "    def on_tick(self):\n",
    "        if self._i < self._n:\n",
    "            print(f\"Producing message {self._i}\")\n",
    "            self.emit(\"out\", Message(payload=self._i))\n",
    "            self._i += 1"
   ]
  },
  {
   "cell_type": "markdown",
   "id": "8b2927f9",
   "metadata": {},
   "source": [
    "Next, we'll define a consumer node that receives the integers and prints them."
   ]
  },
  {
   "cell_type": "code",
   "execution_count": null,
   "id": "cf246768",
   "metadata": {
    "lines_to_end_of_cell_marker": 0,
    "lines_to_next_cell": 1
   },
   "outputs": [],
   "source": [
    "from meridian.core import Node\n",
    "\n",
    "class Consumer(Node):\n",
    "    def __init__(self):\n",
    "        # Create input port for receiving messages\n",
    "        input_port = Port(\"in\", PortDirection.INPUT, spec=PortSpec(\"in\"))\n",
    "        super().__init__(name=\"consumer\", inputs=[input_port])\n",
    "\n",
    "    def on_message(self, port, msg):\n",
    "        print(f\"Consumed message: {msg.payload}\")"
   ]
  },
  {
   "cell_type": "markdown",
   "id": "07ed9548",
   "metadata": {},
   "source": [
    "## 4. Building and Running the Graph"
   ]
  },
  {
   "cell_type": "markdown",
   "id": "40f6e1f3",
   "metadata": {},
   "source": [
    "Now, let's wire up the producer and consumer in a subgraph and run it with the scheduler."
   ]
  },
  {
   "cell_type": "code",
   "execution_count": null,
   "id": "8016cd25",
   "metadata": {},
   "outputs": [],
   "source": [
    "from meridian.core import Subgraph, Scheduler\n",
    "\n",
    "# Create a subgraph\n",
    "graph = Subgraph(name=\"hello_world\")\n",
    "\n",
    "# Add the producer and consumer nodes\n",
    "graph.add_node(Producer(n=3))\n",
    "graph.add_node(Consumer())\n",
    "\n",
    "# Connect the producer's \"out\" port to the consumer's \"in\" port\n",
    "graph.connect((\"producer\", \"out\"), (\"consumer\", \"in\"))\n",
    "\n",
    "# Create a scheduler and register the subgraph\n",
    "scheduler = Scheduler()\n",
    "scheduler.register(graph)\n",
    "\n",
    "# Run the scheduler\n",
    "scheduler.run()"
   ]
  },
  {
   "cell_type": "markdown",
   "id": "37750e8b",
   "metadata": {},
   "source": [
    "## 5. Conclusion"
   ]
  },
  {
   "cell_type": "markdown",
   "id": "2500c8bd",
   "metadata": {},
   "source": [
    "You've successfully built and run your first Meridian Runtime graph! This simple example demonstrates the core concepts of nodes, edges, and the scheduler. In the next tutorial, we'll explore backpressure and overflow policies."
   ]
  }
 ],
 "metadata": {
  "jupytext": {
   "main_language": "python"
  },
  "kernelspec": {
   "display_name": "Python 3",
   "name": "python3"
  }
 },
 "nbformat": 4,
 "nbformat_minor": 5
}
