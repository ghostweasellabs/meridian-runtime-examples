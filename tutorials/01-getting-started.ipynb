{
 "cells": [
  {
   "cell_type": "code",
   "execution_count": null,
   "id": "48bfdd09",
   "metadata": {
    "lines_to_next_cell": 0
   },
   "outputs": [],
   "source": []
  },
  {
   "cell_type": "markdown",
   "id": "782b947e",
   "metadata": {},
   "source": [
    "---\n",
    "jupyter:\n",
    "  jupytext:\n",
    "    text_representation:\n",
    "      extension: .py\n",
    "      format_name: light\n",
    "      format_version: '1.5'\n",
    "      jupytext_version: 1.17.2\n",
    "  kernelspec:\n",
    "    display_name: Python 3\n",
    "    name: python3\n",
    "---"
   ]
  },
  {
   "cell_type": "markdown",
   "id": "a9226203",
   "metadata": {},
   "source": [
    "# Getting Started with Meridian Runtime"
   ]
  },
  {
   "cell_type": "markdown",
   "id": "d5ba1449",
   "metadata": {},
   "source": [
    "This notebook provides a hands-on introduction to the core concepts of Meridian Runtime. We'll build a simple \"Hello, World!\" graph with a producer, a consumer, and an edge connecting them."
   ]
  },
  {
   "cell_type": "markdown",
   "id": "444627b5",
   "metadata": {},
   "source": [
    "## 1. Core Concepts"
   ]
  },
  {
   "cell_type": "markdown",
   "id": "2c04fd2a",
   "metadata": {},
   "source": [
    "Meridian Runtime is based on a few simple primitives:"
   ]
  },
  {
   "cell_type": "markdown",
   "id": "c7f73eb5",
   "metadata": {},
   "source": [
    "* **Node**: A single-responsibility processing unit.\n",
    "* **Edge**: A typed, bounded queue connecting nodes.\n",
    "* **Subgraph**: A composition of nodes and edges.\n",
    "* **Scheduler**: Drives the execution of the graph."
   ]
  },
  {
   "cell_type": "markdown",
   "id": "5e2dcb87",
   "metadata": {},
   "source": [
    "## 2. The \"Hello, World!\" Example"
   ]
  },
  {
   "cell_type": "markdown",
   "id": "0a853a27",
   "metadata": {},
   "source": [
    "Let's start by defining a simple producer node that emits a sequence of integers."
   ]
  },
  {
   "cell_type": "code",
   "execution_count": null,
   "id": "34570dbd",
   "metadata": {
    "lines_to_end_of_cell_marker": 0,
    "lines_to_next_cell": 1
   },
   "outputs": [],
   "source": [
    "from meridian.core import Node, Message\n",
    "\n",
    "class Producer(Node):\n",
    "    def __init__(self, n=5):\n",
    "        self._n = n\n",
    "        self._i = 0\n",
    "\n",
    "    def name(self):\n",
    "        return \"producer\"\n",
    "\n",
    "    def on_start(self):\n",
    "        self._i = 0\n",
    "\n",
    "    def on_tick(self):\n",
    "        if self._i < self._n:\n",
    "            print(f\"Producing message {self._i}\")\n",
    "            self.emit(\"out\", Message(payload=self._i))\n",
    "            self._i += 1"
   ]
  },
  {
   "cell_type": "markdown",
   "id": "d096d692",
   "metadata": {},
   "source": [
    "Next, we'll define a consumer node that receives the integers and prints them."
   ]
  },
  {
   "cell_type": "code",
   "execution_count": null,
   "id": "35c5a532",
   "metadata": {
    "lines_to_end_of_cell_marker": 0,
    "lines_to_next_cell": 1
   },
   "outputs": [],
   "source": [
    "from meridian.core import Node\n",
    "\n",
    "class Consumer(Node):\n",
    "    def name(self):\n",
    "        return \"consumer\"\n",
    "\n",
    "    def on_message(self, port, msg):\n",
    "        print(f\"Consumed message: {msg.payload}\")"
   ]
  },
  {
   "cell_type": "markdown",
   "id": "9e26e63e",
   "metadata": {},
   "source": [
    "## 3. Building and Running the Graph"
   ]
  },
  {
   "cell_type": "markdown",
   "id": "a0bbe467",
   "metadata": {},
   "source": [
    "Now, let's wire up the producer and consumer in a subgraph and run it with the scheduler."
   ]
  },
  {
   "cell_type": "code",
   "execution_count": null,
   "id": "0c9c2507",
   "metadata": {},
   "outputs": [],
   "source": [
    "from meridian.core import Subgraph, Scheduler\n",
    "\n",
    "# Create a subgraph\n",
    "graph = Subgraph()\n",
    "\n",
    "# Add the producer and consumer nodes\n",
    "graph.add_node(Producer(n=3))\n",
    "graph.add_node(Consumer())\n",
    "\n",
    "# Connect the producer's \"out\" port to the consumer's \"in\" port\n",
    "graph.connect((\"producer\", \"out\"), (\"consumer\", \"in\"))\n",
    "\n",
    "# Create a scheduler and register the subgraph\n",
    "scheduler = Scheduler()\n",
    "scheduler.register(graph)\n",
    "\n",
    "# Run the scheduler\n",
    "scheduler.run()"
   ]
  },
  {
   "cell_type": "markdown",
   "id": "e9919867",
   "metadata": {},
   "source": [
    "## 4. Conclusion"
   ]
  },
  {
   "cell_type": "markdown",
   "id": "016c1f10",
   "metadata": {},
   "source": [
    "You've successfully built and run your first Meridian Runtime graph! This simple example demonstrates the core concepts of nodes, edges, and the scheduler. In the next tutorial, we'll explore backpressure and overflow policies."
   ]
  }
 ],
 "metadata": {
  "jupytext": {
   "cell_metadata_filter": "-all",
   "main_language": "python",
   "notebook_metadata_filter": "-all"
  }
 },
 "nbformat": 4,
 "nbformat_minor": 5
}
