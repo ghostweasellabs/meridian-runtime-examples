{
 "cells": [
  {
   "cell_type": "code",
   "execution_count": null,
   "id": "924eb3d1",
   "metadata": {
    "lines_to_next_cell": 0
   },
   "outputs": [],
   "source": []
  },
  {
   "cell_type": "markdown",
   "id": "60e45440",
   "metadata": {},
   "source": [
    "---\n",
    "jupyter:\n",
    "  jupytext:\n",
    "    text_representation:\n",
    "      extension: .py\n",
    "      format_name: light\n",
    "      format_version: '1.5'\n",
    "      jupytext_version: 1.17.2\n",
    "  kernelspec:\n",
    "    display_name: Python 3\n",
    "    name: python3\n",
    "---"
   ]
  },
  {
   "cell_type": "markdown",
   "id": "64eac076",
   "metadata": {},
   "source": [
    "# Getting Started with Meridian Runtime"
   ]
  },
  {
   "cell_type": "markdown",
   "id": "3abae1f2",
   "metadata": {},
   "source": [
    "This notebook provides a hands-on introduction to the core concepts of Meridian Runtime. We'll build a simple \"Hello, World!\" graph with a producer, a consumer, and an edge connecting them."
   ]
  },
  {
   "cell_type": "markdown",
   "id": "a985a350",
   "metadata": {},
   "source": [
    "## 1. Setup: Add Project to Python Path"
   ]
  },
  {
   "cell_type": "markdown",
   "id": "f9356e41",
   "metadata": {},
   "source": [
    "This cell adds the project's `src` directory to the Python path. This is necessary for the notebook to find and import the `meridian` module."
   ]
  },
  {
   "cell_type": "code",
   "execution_count": null,
   "id": "12fabfd7",
   "metadata": {},
   "outputs": [],
   "source": [
    "import sys\n",
    "import os\n",
    "\n",
    "# Add the project's 'src' directory to the Python path\n",
    "# This is necessary for the notebook to find the 'meridian' module\n",
    "# We assume the notebook is run from the 'notebooks/tutorials' directory.\n",
    "src_path = os.path.abspath('../../src')\n",
    "if src_path not in sys.path:\n",
    "    sys.path.insert(0, src_path)\n",
    "    print(f\"Added '{src_path}' to the Python path.\")"
   ]
  },
  {
   "cell_type": "markdown",
   "id": "4b1954f2",
   "metadata": {},
   "source": [
    "## 2. Core Concepts"
   ]
  },
  {
   "cell_type": "markdown",
   "id": "f5559c1f",
   "metadata": {},
   "source": [
    "Meridian Runtime is based on a few simple primitives:"
   ]
  },
  {
   "cell_type": "markdown",
   "id": "38f9dd27",
   "metadata": {},
   "source": [
    "* **Node**: A single-responsibility processing unit.\n",
    "* **Edge**: A typed, bounded queue connecting nodes.\n",
    "* **Subgraph**: A composition of nodes and edges.\n",
    "* **Scheduler**: Drives the execution of the graph."
   ]
  },
  {
   "cell_type": "markdown",
   "id": "67cef071",
   "metadata": {},
   "source": [
    "## 3. The \"Hello, World!\" Example"
   ]
  },
  {
   "cell_type": "markdown",
   "id": "57632771",
   "metadata": {},
   "source": [
    "Let's start by defining a simple producer node that emits a sequence of integers."
   ]
  },
  {
   "cell_type": "code",
   "execution_count": null,
   "id": "3bf42cf1",
   "metadata": {
    "lines_to_end_of_cell_marker": 0,
    "lines_to_next_cell": 1
   },
   "outputs": [],
   "source": [
    "from meridian.core import Node, Message, Port, PortDirection, PortSpec, MessageType\n",
    "\n",
    "class Producer(Node):\n",
    "    def __init__(self, n=5):\n",
    "        super().__init__(\n",
    "            name=\"producer\",\n",
    "            inputs=[],\n",
    "            outputs=[Port(\"out\", PortDirection.OUTPUT, spec=PortSpec(\"out\", int))],\n",
    "        )\n",
    "        self._n = n\n",
    "        self._i = 0\n",
    "\n",
    "    def on_start(self):\n",
    "        self._i = 0\n",
    "\n",
    "    def _handle_tick(self):\n",
    "        if self._i < self._n:\n",
    "            print(f\"Producing message {self._i}\")\n",
    "            self.emit(\"out\", Message(type=MessageType.DATA, payload=self._i))\n",
    "            self._i += 1"
   ]
  },
  {
   "cell_type": "markdown",
   "id": "0e59f8ea",
   "metadata": {},
   "source": [
    "Next, we'll define a consumer node that receives the integers and prints them."
   ]
  },
  {
   "cell_type": "code",
   "execution_count": null,
   "id": "c1d7be37",
   "metadata": {
    "lines_to_end_of_cell_marker": 0,
    "lines_to_next_cell": 1
   },
   "outputs": [],
   "source": [
    "from meridian.core import Node\n",
    "\n",
    "class Consumer(Node):\n",
    "    def __init__(self):\n",
    "        super().__init__(\n",
    "            name=\"consumer\",\n",
    "            inputs=[Port(\"in\", PortDirection.INPUT, spec=PortSpec(\"in\", int))],\n",
    "            outputs=[],\n",
    "        )\n",
    "\n",
    "    def on_message(self, port, msg):\n",
    "        print(f\"Consumed message: {msg.payload}\")"
   ]
  },
  {
   "cell_type": "markdown",
   "id": "a0369008",
   "metadata": {},
   "source": [
    "## 4. Building and Running the Graph"
   ]
  },
  {
   "cell_type": "markdown",
   "id": "6bef938d",
   "metadata": {},
   "source": [
    "Now, let's wire up the producer and consumer in a subgraph and run it with the scheduler."
   ]
  },
  {
   "cell_type": "code",
   "execution_count": null,
   "id": "1460522a",
   "metadata": {},
   "outputs": [],
   "source": [
    "from meridian.core import Subgraph, Scheduler\n",
    "\n",
    "# Create a subgraph\n",
    "graph = Subgraph(name=\"hello_world\")\n",
    "\n",
    "# Add the producer and consumer nodes\n",
    "graph.add_node(Producer(n=3))\n",
    "graph.add_node(Consumer())\n",
    "\n",
    "# Connect the producer's \"out\" port to the consumer's \"in\" port\n",
    "graph.connect((\"producer\", \"out\"), (\"consumer\", \"in\"))\n",
    "\n",
    "# Create a scheduler and register the subgraph\n",
    "scheduler = Scheduler()\n",
    "scheduler.register(graph)\n",
    "\n",
    "# Run the scheduler\n",
    "scheduler.run()"
   ]
  },
  {
   "cell_type": "markdown",
   "id": "09eee8b0",
   "metadata": {},
   "source": [
    "## 5. Conclusion"
   ]
  },
  {
   "cell_type": "markdown",
   "id": "db7c921f",
   "metadata": {},
   "source": [
    "You've successfully built and run your first Meridian Runtime graph! This simple example demonstrates the core concepts of nodes, edges, and the scheduler. In the next tutorial, we'll explore backpressure and overflow policies."
   ]
  }
 ],
 "metadata": {
  "jupytext": {
   "cell_metadata_filter": "-all",
   "main_language": "python",
   "notebook_metadata_filter": "-all"
  }
 },
 "nbformat": 4,
 "nbformat_minor": 5
}
