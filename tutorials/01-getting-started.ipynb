{
 "cells": [
  {
   "cell_type": "markdown",
   "id": "ede5bea7",
   "metadata": {},
   "source": [
    "_____\n",
    "Meridian Runtime Tutorial — \"Getting Started\"\n",
    "\n",
    "Major changes in this revision:\n",
    "- Modularized cells: smaller, single-purpose code blocks with clear execution order\n",
    "- Stable rendering: consistent cell heights and widget panel sizes via metadata/layout\n",
    "- Minimal, professional narrative: brief context before or after code cells\n",
    "- Optional heavy sections: policy comparison and observability demo are collapsible and not auto-run\n",
    "- Reproducibility: seeded randomness and lightweight sanity checks\n",
    "\n",
    "How to run end-to-end:\n",
    "1) Run the Environment & Imports cells\n",
    "2) Run Meridian Runtime import checks\n",
    "3) Run Graph Visualizer and Interactive Builder cells\n",
    "\n",
    "4) Display the Interactive Experience (build → run → experiment → reset)\n",
    "\n",
    "5) Optionally expand and run: Backpressure Policy Comparison, Observability Demo\n",
    "---\n",
    "\n",
    "# Getting Started with Meridian Runtime: Interactive Graph Building\n",
    "\n",
    "Welcome to your first interactive Meridian Runtime tutorial! This notebook provides hands-on experience with building dataflow graphs, understanding execution models, and exploring backpressure mechanisms through professional visualizations and real-time monitoring.\n",
    "\n",
    "## Learning Objectives\n",
    "\n",
    "By the end of this tutorial, you'll understand:\n",
    "\n",
    "- **Core Components**: Nodes, edges, subgraphs, and the scheduler\n",
    "- **Graph Construction**: Building and connecting processing units\n",
    "- **Execution Model**: How messages flow through bounded queues\n",
    "- **Backpressure**: Flow control mechanisms and policies\n",
    "- **Observability**: Real-time monitoring and visualization\n",
    "- **Interactive Experimentation**: Parameter tuning and behavior analysis\n",
    "\n",
    "## Prerequisites & Setup\n",
    "\n",
    "Ensure you have the required dependencies installed:\n",
    "\n",
    "**Recommended Setup (using `uv`):**\n",
    "```bash\n",
    "uv sync --extra notebooks\n",
    "uv run python -c \"import meridian, ipywidgets, matplotlib, networkx, pandas, plotly; print('✅ All dependencies ready')\"\n",
    "```\n",
    "\n",
    "**Alternative Setup (using `pip`):**\n",
    "```bash\n",
    "python -m venv .venv && source .venv/bin/activate\n",
    "pip install -e .\n",
    "pip install -r notebooks/requirements.txt\n",
    "python -c \"import meridian, ipywidgets, matplotlib, networkx, pandas, plotly; print('✅ All dependencies ready')\"\n",
    "```\n",
    "\n",
    "**Requirements:** Python 3.11+, ipywidgets 8.0+, matplotlib 3.7+, networkx 3.0+, pandas 2.0+, plotly 5.0+"
   ]
  },
  {
   "cell_type": "code",
   "execution_count": 1,
   "id": "ebd5c97d",
   "metadata": {},
   "outputs": [
    {
     "name": "stdout",
     "output_type": "stream",
     "text": [
      "🔧 Environment Information:\n",
      "   Python: 3.12.11\n",
      "   Platform: macOS-15.6-arm64-arm-64bit\n",
      "\n",
      "📦 Package Versions:\n",
      "   Meridian: 0.0.0\n",
      "   ipywidgets: 8.1.7\n",
      "   matplotlib: 3.10.5\n",
      "   networkx: 3.5\n",
      "   pandas: 2.3.1\n",
      "   plotly: 6.2.0\n",
      "\n",
      "✅ Environment verification complete!\n"
     ]
    }
   ],
   "source": [
    "# Environment verification and imports (stable height via cell metadata)\n",
    "import sys\n",
    "import platform\n",
    "import time\n",
    "import threading\n",
    "from typing import Any, Dict, List, Tuple, Optional\n",
    "from dataclasses import dataclass\n",
    "from collections import deque\n",
    "import uuid\n",
    "\n",
    "# Visualization libraries\n",
    "import matplotlib.pyplot as plt\n",
    "import matplotlib.patches as patches\n",
    "from matplotlib.animation import FuncAnimation\n",
    "import plotly.graph_objects as go\n",
    "import plotly.express as px\n",
    "from plotly.subplots import make_subplots\n",
    "import ipywidgets as widgets\n",
    "from IPython.display import display, clear_output, HTML\n",
    "import networkx as nx\n",
    "import pandas as pd\n",
    "import numpy as np\n",
    "\n",
    "# Reproducibility\n",
    "np.random.seed(42)\n",
    "\n",
    "# Configure matplotlib for better appearance\n",
    "plt.style.use('seaborn-v0_8-darkgrid')\n",
    "plt.rcParams['figure.facecolor'] = 'white'\n",
    "plt.rcParams['axes.facecolor'] = '#f8f9fa'\n",
    "plt.rcParams['font.size'] = 11\n",
    "plt.rcParams['axes.titlesize'] = 14\n",
    "plt.rcParams['axes.labelsize'] = 12\n",
    "\n",
    "print(\"🔧 Environment Information:\")\n",
    "print(f\"   Python: {sys.version.split()[0]}\")\n",
    "print(f\"   Platform: {platform.platform()}\")\n",
    "\n",
    "# Lightweight sanity check\n",
    "assert hasattr(widgets, \"VBox\"), \"ipywidgets not available\"\n",
    "\n",
    "# Verify all required packages\n",
    "try:\n",
    "    import meridian\n",
    "    import ipywidgets\n",
    "    import matplotlib\n",
    "    import networkx\n",
    "    import pandas\n",
    "    import plotly\n",
    "    \n",
    "    print(\"\\n📦 Package Versions:\")\n",
    "    print(f\"   Meridian: {getattr(meridian, '__version__', 'dev')}\")\n",
    "    print(f\"   ipywidgets: {ipywidgets.__version__}\")\n",
    "    print(f\"   matplotlib: {matplotlib.__version__}\")\n",
    "    print(f\"   networkx: {networkx.__version__}\")\n",
    "    print(f\"   pandas: {pandas.__version__}\")\n",
    "    print(f\"   plotly: {plotly.__version__}\")\n",
    "    print(\"\\n✅ Environment verification complete!\")\n",
    "except ImportError as e:\n",
    "    print(f\"❌ Missing dependency: {e}\")\n",
    "    print(\"Please run the setup commands above.\")"
   ]
  },
  {
   "cell_type": "code",
   "execution_count": 2,
   "id": "2298a78d",
   "metadata": {
    "lines_to_next_cell": 1
   },
   "outputs": [
    {
     "name": "stdout",
     "output_type": "stream",
     "text": [
      "✅ Meridian Runtime imported successfully!\n",
      "📚 Ready to explore dataflow graphs!\n"
     ]
    }
   ],
   "source": [
    "# Import Meridian Runtime components\n",
    "from meridian.core import (\n",
    "    Node, Message, MessageType, Subgraph, Scheduler, SchedulerConfig,\n",
    "    PortSpec, Port, PortDirection\n",
    ")\n",
    "from meridian.observability.config import ObservabilityConfig, configure_observability\n",
    "from meridian.observability.logging import get_logger, with_context\n",
    "from meridian.core.policies import Block, Drop, Latest, Coalesce, PutResult\n",
    "\n",
    "# Verify API compatibility\n",
    "assert hasattr(Subgraph, \"from_nodes\"), \"Unexpected Subgraph API; update notebook to match library\"\n",
    "assert hasattr(Scheduler, \"register\"), \"Unexpected Scheduler API; update notebook to match library\"\n",
    "\n",
    "print(\"✅ Meridian Runtime imported successfully!\")\n",
    "print(\"📚 Ready to explore dataflow graphs!\")"
   ]
  },
  {
   "cell_type": "markdown",
   "id": "90759ee9",
   "metadata": {},
   "source": [
    "## Step 1: Understanding Core Components\n",
    "\n",
    "Meridian Runtime core concepts:\n",
    "1. Nodes: single-responsibility processing units\n",
    "2. Edges: bounded queues connecting nodes\n",
    "3. Subgraphs: composable node/edge collections\n",
    "4. Scheduler: orchestrates execution and backpressure\n",
    "\n",
    "We start with enhanced producer/consumer nodes and basic stats for visualization."
   ]
  },
  {
   "cell_type": "code",
   "execution_count": 3,
   "id": "a3deeebc",
   "metadata": {
    "lines_to_next_cell": 1
   },
   "outputs": [
    {
     "name": "stdout",
     "output_type": "stream",
     "text": [
      "✅ Enhanced Producer and Consumer nodes created!\n"
     ]
    }
   ],
   "source": [
    "@dataclass\n",
    "class NodeStats:\n",
    "    \"\"\"Statistics tracking for nodes\"\"\"\n",
    "    messages_sent: int = 0\n",
    "    messages_received: int = 0\n",
    "    current_value: Optional[Any] = None\n",
    "    is_complete: bool = False\n",
    "    last_values: List[Any] = None\n",
    "    all_values: List[Any] = None\n",
    "    processing_times: List[float] = None\n",
    "    \n",
    "    def __post_init__(self):\n",
    "        if self.last_values is None:\n",
    "            self.last_values = []\n",
    "        if self.all_values is None:\n",
    "            self.all_values = []\n",
    "        if self.processing_times is None:\n",
    "            self.processing_times = []\n",
    "\n",
    "class EnhancedProducer(Node):\n",
    "    \"\"\"A producer that generates numbers with comprehensive monitoring.\"\"\"\n",
    "    \n",
    "    def __init__(self, name: str = \"producer\", max_count: int = 10, delay_ms: int = 0):\n",
    "        super().__init__(\n",
    "            name=name,\n",
    "            inputs=[],\n",
    "            outputs=[Port(\"output\", PortDirection.OUTPUT, spec=PortSpec(\"output\", int))]\n",
    "        )\n",
    "        self._max_count = max_count\n",
    "        self._current = 0\n",
    "        self._delay_ms = delay_ms\n",
    "        self._stats = NodeStats()\n",
    "        self._start_time = time.time()\n",
    "        \n",
    "    def _handle_tick(self):\n",
    "        \"\"\"Emit a number on each tick until we reach max_count.\"\"\"\n",
    "        if self._current < self._max_count:\n",
    "            start_time = time.perf_counter()\n",
    "            \n",
    "            # Optional delay to simulate processing time\n",
    "            if self._delay_ms > 0:\n",
    "                time.sleep(self._delay_ms / 1000.0)\n",
    "            \n",
    "            # Emit the message\n",
    "            msg = Message(MessageType.DATA, self._current)\n",
    "            self.emit(\"output\", msg)\n",
    "            \n",
    "            # Update statistics\n",
    "            processing_time = time.perf_counter() - start_time\n",
    "            self._stats.messages_sent += 1\n",
    "            self._stats.current_value = self._current\n",
    "            self._stats.processing_times.append(processing_time)\n",
    "            self._stats.all_values.append(self._current)\n",
    "            self._stats.is_complete = (self._current + 1) >= self._max_count\n",
    "            \n",
    "            self._current += 1\n",
    "            \n",
    "    def get_stats(self) -> NodeStats:\n",
    "        \"\"\"Get current statistics for visualization.\"\"\"\n",
    "        return self._stats\n",
    "    \n",
    "    def reset(self):\n",
    "        \"\"\"Reset the producer state.\"\"\"\n",
    "        self._current = 0\n",
    "        self._stats = NodeStats()\n",
    "        self._start_time = time.time()\n",
    "\n",
    "class EnhancedConsumer(Node):\n",
    "    \"\"\"A consumer that collects and analyzes received messages.\"\"\"\n",
    "    \n",
    "    def __init__(self, name: str = \"consumer\", delay_ms: int = 0):\n",
    "        super().__init__(\n",
    "            name=name,\n",
    "            inputs=[Port(\"input\", PortDirection.INPUT, spec=PortSpec(\"input\", int))],\n",
    "            outputs=[]\n",
    "        )\n",
    "        self._delay_ms = delay_ms\n",
    "        self._stats = NodeStats()\n",
    "        self._start_time = time.time()\n",
    "        \n",
    "    def _handle_message(self, port: str, msg: Message):\n",
    "        \"\"\"Process incoming messages with timing and statistics.\"\"\"\n",
    "        if port == \"input\":\n",
    "            start_time = time.perf_counter()\n",
    "            \n",
    "            # Optional delay to simulate processing time\n",
    "            if self._delay_ms > 0:\n",
    "                time.sleep(self._delay_ms / 1000.0)\n",
    "            \n",
    "            # Update statistics\n",
    "            processing_time = time.perf_counter() - start_time\n",
    "            self._stats.messages_received += 1\n",
    "            self._stats.current_value = msg.payload\n",
    "            self._stats.all_values.append(msg.payload)\n",
    "            self._stats.last_values = self._stats.all_values[-5:]  # Keep last 5\n",
    "            self._stats.processing_times.append(processing_time)\n",
    "            \n",
    "            print(f\"📨 {self.name} received: {msg.payload} (processed in {processing_time*1000:.2f}ms)\")\n",
    "            \n",
    "    def get_stats(self) -> NodeStats:\n",
    "        \"\"\"Get current statistics for visualization.\"\"\"\n",
    "        return self._stats\n",
    "    \n",
    "    def reset(self):\n",
    "        \"\"\"Reset the consumer state.\"\"\"\n",
    "        self._stats = NodeStats()\n",
    "        self._start_time = time.time()\n",
    "\n",
    "print(\"✅ Enhanced Producer and Consumer nodes created!\")"
   ]
  },
  {
   "cell_type": "markdown",
   "id": "5923bb2b",
   "metadata": {},
   "source": [
    "## Step 2: Professional Graph Visualization\n",
    "A small helper that draws the graph topology and a performance dashboard sized for the layout."
   ]
  },
  {
   "cell_type": "code",
   "execution_count": 4,
   "id": "e1394100",
   "metadata": {
    "lines_to_next_cell": 1
   },
   "outputs": [
    {
     "name": "stdout",
     "output_type": "stream",
     "text": [
      "✅ Professional graph visualizer created!\n"
     ]
    }
   ],
   "source": [
    "class GraphVisualizer:\n",
    "    \"\"\"Professional graph visualization with interactive features.\"\"\"\n",
    "    \n",
    "    def __init__(self):\n",
    "        self.colors = {\n",
    "            'node': '#2E86AB',\n",
    "            'producer': '#A23B72', \n",
    "            'consumer': '#F18F01',\n",
    "            'edge': '#C73E1D',\n",
    "            'background': '#F5F5F5',\n",
    "            'text': '#2C3E50'\n",
    "        }\n",
    "        \n",
    "    def create_topology_plot(self, graph: Subgraph, title: str = \"Graph Topology\") -> go.Figure:\n",
    "        \"\"\"Create an interactive topology visualization using Plotly with proper sizing.\"\"\"\n",
    "        \n",
    "        # Create NetworkX graph for layout\n",
    "        G = nx.DiGraph()\n",
    "        \n",
    "        # Add nodes with metadata\n",
    "        for node_name, node in graph.nodes.items():\n",
    "            node_type = 'producer' if not node.inputs else 'consumer' if not node.outputs else 'processor'\n",
    "            G.add_node(node_name, \n",
    "                      type=node_type,\n",
    "                      inputs=len(node.inputs),\n",
    "                      outputs=len(node.outputs))\n",
    "        \n",
    "        # Add edges with capacity information\n",
    "        edge_info = []\n",
    "        for edge in graph.edges:\n",
    "            G.add_edge(edge.source_node, edge.target_node, \n",
    "                      capacity=edge.capacity,\n",
    "                      source_port=edge.source_port.name,\n",
    "                      target_port=edge.target_port.name)\n",
    "            edge_info.append({\n",
    "                'source': edge.source_node,\n",
    "                'target': edge.target_node,\n",
    "                'capacity': edge.capacity,\n",
    "                'source_port': edge.source_port.name,\n",
    "                'target_port': edge.target_port.name\n",
    "            })\n",
    "        \n",
    "        # Calculate layout with better spacing\n",
    "        pos = nx.spring_layout(G, k=5, iterations=100, seed=42)\n",
    "        \n",
    "        # Scale positions to use more space\n",
    "        scale_factor = 2.0\n",
    "        for node in pos:\n",
    "            pos[node] = (pos[node][0] * scale_factor, pos[node][1] * scale_factor)\n",
    "        \n",
    "        # Create edge traces with arrows\n",
    "        edge_traces = []\n",
    "        for edge in edge_info:\n",
    "            x0, y0 = pos[edge['source']]\n",
    "            x1, y1 = pos[edge['target']]\n",
    "            \n",
    "            # Calculate arrow position (80% along the edge)\n",
    "            arrow_x = x0 + 0.8 * (x1 - x0)\n",
    "            arrow_y = y0 + 0.8 * (y1 - y0)\n",
    "            \n",
    "            # Main edge line\n",
    "            edge_trace = go.Scatter(\n",
    "                x=[x0, x1, None],\n",
    "                y=[y0, y1, None],\n",
    "                mode='lines',\n",
    "                line=dict(width=4, color=self.colors['edge']),\n",
    "                hoverinfo='text',\n",
    "                hovertext=f\"<b>{edge['source']}:{edge['source_port']}</b> → <b>{edge['target']}:{edge['target_port']}</b><br>Capacity: <b>{edge['capacity']}</b> messages<br>Click to see edge details\",\n",
    "                showlegend=False,\n",
    "                name=f\"Edge {edge['source']}→{edge['target']}\"\n",
    "            )\n",
    "            edge_traces.append(edge_trace)\n",
    "            \n",
    "            # Arrow head\n",
    "            arrow_trace = go.Scatter(\n",
    "                x=[arrow_x],\n",
    "                y=[arrow_y],\n",
    "                mode='markers',\n",
    "                marker=dict(\n",
    "                    symbol='triangle-right',\n",
    "                    size=15,\n",
    "                    color=self.colors['edge'],\n",
    "                    line=dict(width=1, color='white')\n",
    "                ),\n",
    "                hoverinfo='skip',\n",
    "                showlegend=False\n",
    "            )\n",
    "            edge_traces.append(arrow_trace)\n",
    "        \n",
    "        # Create node trace with better sizing\n",
    "        node_x, node_y, node_text, node_colors, node_sizes, hover_text = [], [], [], [], [], [], []\n",
    "        \n",
    "        for node_name in G.nodes():\n",
    "            x, y = pos[node_name]\n",
    "            node_x.append(x)\n",
    "            node_y.append(y)\n",
    "            \n",
    "            node_data = G.nodes[node_name]\n",
    "            node_text.append(node_name)\n",
    "            \n",
    "            # Enhanced hover text\n",
    "            hover_info = f\"<b>{node_name}</b><br>\"\n",
    "            hover_info += f\"Type: <b>{node_data['type'].title()}</b><br>\"\n",
    "            hover_info += f\"Input Ports: <b>{node_data['inputs']}</b><br>\"\n",
    "            hover_info += f\"Output Ports: <b>{node_data['outputs']}</b><br>\"\n",
    "            hover_info += \"Click to inspect node details\"\n",
    "            hover_text.append(hover_info)\n",
    "            \n",
    "            # Color and size by type\n",
    "            if node_data['type'] == 'producer':\n",
    "                node_colors.append(self.colors['producer'])\n",
    "                node_sizes.append(40)\n",
    "            elif node_data['type'] == 'consumer':\n",
    "                node_colors.append(self.colors['consumer'])\n",
    "                node_sizes.append(40)\n",
    "            else:\n",
    "                node_colors.append(self.colors['node'])\n",
    "                node_sizes.append(35)\n",
    "        \n",
    "        node_trace = go.Scatter(\n",
    "            x=node_x, y=node_y,\n",
    "            mode='markers+text',\n",
    "            marker=dict(\n",
    "                size=node_sizes, \n",
    "                color=node_colors, \n",
    "                line=dict(width=3, color='white'),\n",
    "                opacity=0.9\n",
    "            ),\n",
    "            text=node_text,\n",
    "            textposition=\"middle center\",\n",
    "            textfont=dict(color='white', size=14, family='Arial Black'),\n",
    "            hoverinfo='text',\n",
    "            hovertext=hover_text,\n",
    "            showlegend=False,\n",
    "            name=\"Graph Nodes\"\n",
    "        )\n",
    "        \n",
    "        # Create figure with proper sizing\n",
    "        fig = go.Figure(data=[*edge_traces, node_trace])\n",
    "        \n",
    "        fig.update_layout(\n",
    "            title=dict(\n",
    "                text=title, \n",
    "                x=0.5, \n",
    "                font=dict(size=18, color=self.colors['text'], family='Arial Black')\n",
    "            ),\n",
    "            showlegend=False,\n",
    "            hovermode='closest',\n",
    "            width=None,\n",
    "            height=500,  # Fixed height for top-right panel\n",
    "            margin=dict(b=40, l=40, r=40, t=60),\n",
    "            annotations=[\n",
    "                dict(\n",
    "                    text=\"💡 Hover over nodes and edges for detailed information\", \n",
    "                    showarrow=False, \n",
    "                    xref=\"paper\", \n",
    "                    yref=\"paper\",\n",
    "                    x=0.5, \n",
    "                    y=-0.08, \n",
    "                    xanchor='center', \n",
    "                    yanchor='top',\n",
    "                    font=dict(color=self.colors['text'], size=12, style='italic')\n",
    "                )\n",
    "            ],\n",
    "            xaxis=dict(\n",
    "                showgrid=False, \n",
    "                zeroline=False, \n",
    "                showticklabels=False,\n",
    "                range=[-3, 3]\n",
    "            ),\n",
    "            yaxis=dict(\n",
    "                showgrid=False, \n",
    "                zeroline=False, \n",
    "                showticklabels=False,\n",
    "                range=[-2.5, 2.5]\n",
    "            ),\n",
    "            plot_bgcolor='#fafafa',\n",
    "            paper_bgcolor='white',\n",
    "            font=dict(family='Arial, sans-serif')\n",
    "        )\n",
    "        \n",
    "        return fig\n",
    "    \n",
    "    def create_stats_dashboard(self, producer_stats: NodeStats, consumer_stats: NodeStats) -> go.Figure:\n",
    "        \"\"\"Create a comprehensive statistics dashboard with better sizing.\"\"\"\n",
    "        \n",
    "        fig = make_subplots(\n",
    "            rows=2, cols=2,\n",
    "            subplot_titles=(\n",
    "                '📊 Message Flow Comparison', \n",
    "                '⏱️ Processing Times (ms)', \n",
    "                '📈 Cumulative Throughput', \n",
    "                '🔢 Message Values Received'\n",
    "            ),\n",
    "            specs=[[{\"secondary_y\": False}, {\"secondary_y\": False}],\n",
    "                   [{\"secondary_y\": False}, {\"secondary_y\": False}]],\n",
    "            vertical_spacing=0.12,\n",
    "            horizontal_spacing=0.1\n",
    "        )\n",
    "        \n",
    "        # Message flow comparison\n",
    "        fig.add_trace(\n",
    "            go.Bar(\n",
    "                name='Messages Sent', \n",
    "                x=['Producer'], \n",
    "                y=[producer_stats.messages_sent], \n",
    "                marker_color=self.colors['producer'],\n",
    "                text=[producer_stats.messages_sent],\n",
    "                textposition='auto',\n",
    "                hovertemplate='<b>Producer</b><br>Messages Sent: %{y}<extra></extra>'\n",
    "            ),\n",
    "            row=1, col=1\n",
    "        )\n",
    "        fig.add_trace(\n",
    "            go.Bar(\n",
    "                name='Messages Received', \n",
    "                x=['Consumer'], \n",
    "                y=[consumer_stats.messages_received],\n",
    "                marker_color=self.colors['consumer'],\n",
    "                text=[consumer_stats.messages_received],\n",
    "                textposition='auto',\n",
    "                hovertemplate='<b>Consumer</b><br>Messages Received: %{y}<extra></extra>'\n",
    "            ),\n",
    "            row=1, col=1\n",
    "        )\n",
    "        \n",
    "        # Processing times\n",
    "        if producer_stats.processing_times:\n",
    "            processing_times_ms = [t * 1000 for t in producer_stats.processing_times]\n",
    "            fig.add_trace(\n",
    "                go.Scatter(\n",
    "                    x=list(range(1, len(processing_times_ms) + 1)),\n",
    "                    y=processing_times_ms, \n",
    "                    mode='lines+markers',\n",
    "                    name='Producer Processing', \n",
    "                    line=dict(color=self.colors['producer'], width=3),\n",
    "                    marker=dict(size=6),\n",
    "                    hovertemplate='<b>Producer</b><br>Message: %{x}<br>Time: %{y:.2f}ms<extra></extra>'\n",
    "                ),\n",
    "                row=1, col=2\n",
    "            )\n",
    "        if consumer_stats.processing_times:\n",
    "            processing_times_ms = [t * 1000 for t in consumer_stats.processing_times]\n",
    "            fig.add_trace(\n",
    "                go.Scatter(\n",
    "                    x=list(range(1, len(processing_times_ms) + 1)),\n",
    "                    y=processing_times_ms, \n",
    "                    mode='lines+markers',\n",
    "                    name='Consumer Processing', \n",
    "                    line=dict(color=self.colors['consumer'], width=3),\n",
    "                    marker=dict(size=6),\n",
    "                    hovertemplate='<b>Consumer</b><br>Message: %{x}<br>Time: %{y:.2f}ms<extra></extra>'\n",
    "                ),\n",
    "                row=1, col=2\n",
    "            )\n",
    "        \n",
    "        # Cumulative throughput\n",
    "        if producer_stats.all_values:\n",
    "            producer_cumulative = list(range(1, len(producer_stats.all_values) + 1))\n",
    "            fig.add_trace(\n",
    "                go.Scatter(\n",
    "                    x=list(range(1, len(producer_cumulative) + 1)), \n",
    "                    y=producer_cumulative,\n",
    "                    mode='lines+markers', \n",
    "                    name='Producer Cumulative', \n",
    "                    line=dict(color=self.colors['producer'], width=3),\n",
    "                    marker=dict(size=6),\n",
    "                    hovertemplate='<b>Producer</b><br>Time: %{x}<br>Total Sent: %{y}<extra></extra>'\n",
    "                ),\n",
    "                row=2, col=1\n",
    "            )\n",
    "        if consumer_stats.all_values:\n",
    "            consumer_cumulative = list(range(1, len(consumer_stats.all_values) + 1))\n",
    "            fig.add_trace(\n",
    "                go.Scatter(\n",
    "                    x=list(range(1, len(consumer_cumulative) + 1)), \n",
    "                    y=consumer_cumulative,\n",
    "                    mode='lines+markers', \n",
    "                    name='Consumer Cumulative', \n",
    "                    line=dict(color=self.colors['consumer'], width=3),\n",
    "                    marker=dict(size=6),\n",
    "                    hovertemplate='<b>Consumer</b><br>Time: %{x}<br>Total Received: %{y}<extra></extra>'\n",
    "                ),\n",
    "                row=2, col=1\n",
    "            )\n",
    "        \n",
    "        # Message values\n",
    "        if consumer_stats.all_values:\n",
    "            fig.add_trace(\n",
    "                go.Scatter(\n",
    "                    x=list(range(1, len(consumer_stats.all_values) + 1)), \n",
    "                    y=consumer_stats.all_values,\n",
    "                    mode='markers+lines', \n",
    "                    name='Message Values', \n",
    "                    line=dict(color=self.colors['consumer'], width=2),\n",
    "                    marker=dict(color=self.colors['consumer'], size=10, opacity=0.8),\n",
    "                    hovertemplate='<b>Message %{x}</b><br>Value: %{y}<extra></extra>'\n",
    "                ),\n",
    "                row=2, col=2\n",
    "            )\n",
    "        \n",
    "        # Title\n",
    "        efficiency = 0\n",
    "        if producer_stats.messages_sent > 0:\n",
    "            efficiency = (consumer_stats.messages_received / producer_stats.messages_sent) * 100\n",
    "        \n",
    "        fig.update_layout(\n",
    "            height=650,  # Fixed for dashboard panel\n",
    "            width=None,\n",
    "            showlegend=True,\n",
    "            title=dict(\n",
    "                text=f\"📊 Real-time Performance Dashboard - Efficiency: {efficiency:.1f}%\",\n",
    "                x=0.5,\n",
    "                font=dict(size=18, color=self.colors['text'], family='Arial Black')\n",
    "            ),\n",
    "            legend=dict(\n",
    "                orientation=\"h\",\n",
    "                yanchor=\"bottom\",\n",
    "                y=1.02,\n",
    "                xanchor=\"right\",\n",
    "                x=1\n",
    "            ),\n",
    "            margin=dict(t=80, b=50, l=50, r=50),\n",
    "            plot_bgcolor='#fafafa',\n",
    "            paper_bgcolor='white',\n",
    "            font=dict(family='Arial, sans-serif', size=12)\n",
    "        )\n",
    "        \n",
    "        for i in fig['layout']['annotations']:\n",
    "            i['font'] = dict(size=14, color=self.colors['text'], family='Arial Black')\n",
    "        \n",
    "        return fig\n",
    "\n",
    "visualizer = GraphVisualizer()\n",
    "print(\"✅ Professional graph visualizer created!\")"
   ]
  },
  {
   "cell_type": "code",
   "execution_count": 5,
   "id": "1e01a95c",
   "metadata": {},
   "outputs": [
    {
     "name": "stdout",
     "output_type": "stream",
     "text": [
      "✅ Interactive graph builder created!\n"
     ]
    }
   ],
   "source": [
    "class InteractiveGraphBuilder:\n",
    "    \"\"\"Interactive graph builder with professional controls.\"\"\"\n",
    "    \n",
    "    def __init__(self):\n",
    "        self.setup_controls()\n",
    "        \n",
    "    def setup_controls(self):\n",
    "        \"\"\"Set up controls for the interactive experience.\"\"\"\n",
    "        \n",
    "        self.builder_controls = widgets.VBox([\n",
    "            # Graph Config\n",
    "            widgets.HBox([\n",
    "                widgets.Label(value=\"Producer Count:\"),\n",
    "                widgets.IntSlider(value=1, min=1, max=5, step=1),\n",
    "                widgets.Label(value=\"Consumer Count:\"),\n",
    "                widgets.IntSlider(value=1, min=1, max=5, step=1),\n",
    "            ]),\n",
    "            # Graph Topology\n",
    "            widgets.Output(),\n",
    "            # Performance Dashboard\n",
    "            widgets.Output(),\n",
    "            # Execution Log\n",
    "            widgets.Output()\n",
    "        ])\n",
    "        \n",
    "        self.builder_controls.observe(self.process_graph_config, names=\"children\")\n",
    "        \n",
    "    def process_graph_config(self, change):\n",
    "        \"\"\"Handle changing graph configuration.\"\"\"\n",
    "        \n",
    "        prod_count = change['owner'].children[0].children[1].value\n",
    "        cons_count = change['owner'].children[0].children[3].value\n",
    "        \n",
    "        # Create fresh nodes\n",
    "        producer = EnhancedProducer(f\"producer_{prod_count.lower()}\", prod_count, 0)\n",
    "        consumer = EnhancedConsumer(f\"consumer_{cons_count.lower()}\", 0)\n",
    "        \n",
    "        # Create graph\n",
    "        graph = Subgraph.from_nodes(f\"test_{prod_count.lower()}\", [producer, consumer])\n",
    "        \n",
    "        # Connect with a configurable edge policy\n",
    "        capacity = widgets.IntSlider(value=3, min=1, max=10, step=1, description=\"Edge Capacity\")\n",
    "        policy = widgets.Dropdown(options=['Block', 'Drop', 'Latest'], value='Latest', description=\"Edge Policy\")\n",
    "        \n",
    "        graph.connect(\n",
    "            (producer.name, \"output\"), \n",
    "            (consumer.name, \"input\"), \n",
    "            capacity=capacity.value,\n",
    "            policy=policy.value\n",
    "        )\n",
    "        \n",
    "        # Update performance dashboard\n",
    "        producer_stats = producer.get_stats()\n",
    "        consumer_stats = consumer.get_stats()\n",
    "        dashboard = self.visualizer.create_stats_dashboard(producer_stats, consumer_stats)\n",
    "        \n",
    "        # Clear and update outputs in the builder_controls.\n",
    "        clear_output()\n",
    "        with self.builder_controls.children[1]:\n",
    "            display(dashboard)\n",
    "        with self.builder_controls.children[2]:\n",
    "            display(self.visualizer.create_topology_plot(graph))\n",
    "        with self.builder_controls.children[3]:\n",
    "            display(widgets.HTML(f\"<b><pre>\\n{'Producer' * producer_stats.messages_sent}\\n{'Consumer' * consumer_stats.messages_received}\\n</pre></b>\"))\n",
    "        \n",
    "    def display(self):\n",
    "        \"\"\"Show the interactive controls.\"\"\"\n",
    "        display(self.builder_controls)\n",
    "        \n",
    "    def reset(self):\n",
    "        \"\"\"Reset the interactive interface.\"\"\"\n",
    "        clear_output()\n",
    "        self.builder_controls.children[0].children[1].value = 1\n",
    "        self.builder_controls.children[0].children[3].value = 1\n",
    "        self.builder_controls.children[1].clear_output()\n",
    "        self.builder_controls.children[2].clear_output()\n",
    "        self.builder_controls.children[3].clear_output()\n",
    "\n",
    "observations = InteractiveGraphBuilder()\n",
    "print(\"✅ Interactive graph builder created!\")"
   ]
  },
  {
   "cell_type": "markdown",
   "id": "e0376b6b",
   "metadata": {},
   "source": [
    "## Step 4: Launch Interactive Experience\n",
    "Run the next cell to build/run experiments. Heavy analysis lives in optional sections below."
   ]
  },
  {
   "cell_type": "code",
   "execution_count": 6,
   "id": "55687629",
   "metadata": {
    "lines_to_next_cell": 1
   },
   "outputs": [
    {
     "name": "stdout",
     "output_type": "stream",
     "text": [
      "✅ Interactive graph builder created!\n"
     ]
    },
    {
     "data": {
      "application/vnd.jupyter.widget-view+json": {
       "model_id": "b7741c310d7e448d8cacc739c0326abe",
       "version_major": 2,
       "version_minor": 0
      },
      "text/plain": [
       "VBox(children=(HBox(children=(Label(value='Producer Count:'), IntSlider(value=1, max=5, min=1), Label(value='C…"
      ]
     },
     "metadata": {},
     "output_type": "display_data"
    }
   ],
   "source": [
    "# Launch the interactive experience\n",
    "observations = InteractiveGraphBuilder()\n",
    "print(\"✅ Interactive graph builder created!\")\n",
    "observations.display()"
   ]
  },
  {
   "cell_type": "markdown",
   "id": "2af88875",
   "metadata": {},
   "source": [
    "## Step 5: Understanding Backpressure Policies\n",
    "Optional, collapsible section. Expand to run controlled comparisons across policies.\n",
    "Links:\n",
    "- Concepts: ../../docs/concepts/patterns.md\n",
    "- Examples: ../../docs/examples/streaming-coalesce.md"
   ]
  },
  {
   "cell_type": "code",
   "execution_count": 11,
   "id": "a5465d1a",
   "metadata": {
    "lines_to_next_cell": 1
   },
   "outputs": [
    {
     "name": "stdout",
     "output_type": "stream",
     "text": [
      "🧪 Ready for backpressure policy comparison\n",
      "Configuration suggestion: Fast producer (0ms), Slow consumer (100ms), Small capacity (3)\n",
      "\n",
      "🔍 Testing Block policy...\n",
      "   Sent: 8, Received: 0\n",
      "   Efficiency: 0.0%\n",
      "   Values: []\n",
      "\n",
      "🔍 Testing Drop policy...\n",
      "   Sent: 8, Received: 0\n",
      "   Efficiency: 0.0%\n",
      "   Values: []\n",
      "\n",
      "🔍 Testing Latest policy...\n"
     ]
    },
    {
     "name": "stderr",
     "output_type": "stream",
     "text": [
      "{\"ts\":1754534568.501072,\"level\":\"DEBUG\",\"event\":\"scheduler.register_subgraph\",\"message\":\"Registered subgraph test_block\",\"json\":false}\n",
      "{\"ts\":1754534568.501162,\"level\":\"DEBUG\",\"event\":\"node.emit\",\"message\":\"Emitting DATA message\",\"trace_id\":\"0de20748-4cde-4d87-8a23-68d4434c1683\",\"node\":\"producer_block\",\"port\":\"output\",\"json\":false,\"message_type\":\"DATA\"}\n",
      "{\"ts\":1754534568.511656,\"level\":\"DEBUG\",\"event\":\"node.emit\",\"message\":\"Emitting DATA message\",\"trace_id\":\"018005b7-19ac-488f-9c27-d610f2c87d0b\",\"node\":\"producer_block\",\"port\":\"output\",\"json\":false,\"message_type\":\"DATA\"}\n",
      "{\"ts\":1754534568.521909,\"level\":\"DEBUG\",\"event\":\"node.emit\",\"message\":\"Emitting DATA message\",\"trace_id\":\"dabce4ca-cade-46f8-8b1d-3709b198f21b\",\"node\":\"producer_block\",\"port\":\"output\",\"json\":false,\"message_type\":\"DATA\"}\n",
      "{\"ts\":1754534568.535599,\"level\":\"DEBUG\",\"event\":\"node.emit\",\"message\":\"Emitting DATA message\",\"trace_id\":\"a7dea99f-aa36-49dd-b2d1-ee3099d00353\",\"node\":\"producer_block\",\"port\":\"output\",\"json\":false,\"message_type\":\"DATA\"}\n",
      "{\"ts\":1754534568.54879,\"level\":\"DEBUG\",\"event\":\"node.emit\",\"message\":\"Emitting DATA message\",\"trace_id\":\"fa766e9c-12cb-4a49-b50b-7ece7ce7484b\",\"node\":\"producer_block\",\"port\":\"output\",\"json\":false,\"message_type\":\"DATA\"}\n",
      "{\"ts\":1754534568.55936,\"level\":\"DEBUG\",\"event\":\"node.emit\",\"message\":\"Emitting DATA message\",\"trace_id\":\"7512ac9c-4240-43cf-84c6-d7521d2969d0\",\"node\":\"producer_block\",\"port\":\"output\",\"json\":false,\"message_type\":\"DATA\"}\n",
      "{\"ts\":1754534568.569786,\"level\":\"DEBUG\",\"event\":\"node.emit\",\"message\":\"Emitting DATA message\",\"trace_id\":\"9a32ddd4-092b-4cc9-9d32-b865cb61263d\",\"node\":\"producer_block\",\"port\":\"output\",\"json\":false,\"message_type\":\"DATA\"}\n",
      "{\"ts\":1754534568.58267,\"level\":\"DEBUG\",\"event\":\"node.emit\",\"message\":\"Emitting DATA message\",\"trace_id\":\"b7df3ba0-7c27-41d9-a85d-2d693dce33bf\",\"node\":\"producer_block\",\"port\":\"output\",\"json\":false,\"message_type\":\"DATA\"}\n",
      "{\"ts\":1754534568.595277,\"level\":\"DEBUG\",\"event\":\"scheduler.register_subgraph\",\"message\":\"Registered subgraph test_drop\",\"json\":false}\n",
      "{\"ts\":1754534568.595417,\"level\":\"DEBUG\",\"event\":\"node.emit\",\"message\":\"Emitting DATA message\",\"trace_id\":\"390cb165-9ac1-4c28-aed1-c2c5d615314e\",\"node\":\"producer_drop\",\"port\":\"output\",\"json\":false,\"message_type\":\"DATA\"}\n",
      "{\"ts\":1754534568.608122,\"level\":\"DEBUG\",\"event\":\"node.emit\",\"message\":\"Emitting DATA message\",\"trace_id\":\"8e6760bb-8e44-4cc0-a627-fff591a16512\",\"node\":\"producer_drop\",\"port\":\"output\",\"json\":false,\"message_type\":\"DATA\"}\n",
      "{\"ts\":1754534568.6207979,\"level\":\"DEBUG\",\"event\":\"node.emit\",\"message\":\"Emitting DATA message\",\"trace_id\":\"abf546a9-7aa2-40fe-b984-da23a0a95a62\",\"node\":\"producer_drop\",\"port\":\"output\",\"json\":false,\"message_type\":\"DATA\"}\n",
      "{\"ts\":1754534568.6320682,\"level\":\"DEBUG\",\"event\":\"node.emit\",\"message\":\"Emitting DATA message\",\"trace_id\":\"66f9ee53-c51f-4c67-9b6a-2a0f0080fac3\",\"node\":\"producer_drop\",\"port\":\"output\",\"json\":false,\"message_type\":\"DATA\"}\n",
      "{\"ts\":1754534568.644464,\"level\":\"DEBUG\",\"event\":\"node.emit\",\"message\":\"Emitting DATA message\",\"trace_id\":\"cf429c1e-23b0-4772-aed9-a2e17b09218e\",\"node\":\"producer_drop\",\"port\":\"output\",\"json\":false,\"message_type\":\"DATA\"}\n",
      "{\"ts\":1754534568.657193,\"level\":\"DEBUG\",\"event\":\"node.emit\",\"message\":\"Emitting DATA message\",\"trace_id\":\"9d8e2247-f9e1-405b-ac13-8deff3a9b25e\",\"node\":\"producer_drop\",\"port\":\"output\",\"json\":false,\"message_type\":\"DATA\"}\n",
      "{\"ts\":1754534568.667541,\"level\":\"DEBUG\",\"event\":\"node.emit\",\"message\":\"Emitting DATA message\",\"trace_id\":\"ceda1712-1428-450e-a6af-b2547a74ff5f\",\"node\":\"producer_drop\",\"port\":\"output\",\"json\":false,\"message_type\":\"DATA\"}\n",
      "{\"ts\":1754534568.6803358,\"level\":\"DEBUG\",\"event\":\"node.emit\",\"message\":\"Emitting DATA message\",\"trace_id\":\"11469f22-e593-443c-82ed-222bf7a73c08\",\"node\":\"producer_drop\",\"port\":\"output\",\"json\":false,\"message_type\":\"DATA\"}\n",
      "{\"ts\":1754534568.6934881,\"level\":\"DEBUG\",\"event\":\"scheduler.register_subgraph\",\"message\":\"Registered subgraph test_latest\",\"json\":false}\n",
      "{\"ts\":1754534568.6936278,\"level\":\"DEBUG\",\"event\":\"node.emit\",\"message\":\"Emitting DATA message\",\"trace_id\":\"df58cbf7-7628-4c6f-98ef-c03776a976ce\",\"node\":\"producer_latest\",\"port\":\"output\",\"json\":false,\"message_type\":\"DATA\"}\n"
     ]
    },
    {
     "name": "stdout",
     "output_type": "stream",
     "text": [
      "   Sent: 8, Received: 0\n",
      "   Efficiency: 0.0%\n",
      "   Values: []\n"
     ]
    },
    {
     "name": "stderr",
     "output_type": "stream",
     "text": [
      "{\"ts\":1754534568.705478,\"level\":\"DEBUG\",\"event\":\"node.emit\",\"message\":\"Emitting DATA message\",\"trace_id\":\"5ea15c57-24f8-4bed-b186-4f35acbb5845\",\"node\":\"producer_latest\",\"port\":\"output\",\"json\":false,\"message_type\":\"DATA\"}\n",
      "{\"ts\":1754534568.718709,\"level\":\"DEBUG\",\"event\":\"node.emit\",\"message\":\"Emitting DATA message\",\"trace_id\":\"5f3b26e7-345d-4115-b623-8edaab1a56c9\",\"node\":\"producer_latest\",\"port\":\"output\",\"json\":false,\"message_type\":\"DATA\"}\n",
      "{\"ts\":1754534568.7314172,\"level\":\"DEBUG\",\"event\":\"node.emit\",\"message\":\"Emitting DATA message\",\"trace_id\":\"07f5db29-923f-4018-9f28-06f2d0e8f32b\",\"node\":\"producer_latest\",\"port\":\"output\",\"json\":false,\"message_type\":\"DATA\"}\n",
      "{\"ts\":1754534568.7441752,\"level\":\"DEBUG\",\"event\":\"node.emit\",\"message\":\"Emitting DATA message\",\"trace_id\":\"79020aaa-e678-4519-ae38-8750f5b30b29\",\"node\":\"producer_latest\",\"port\":\"output\",\"json\":false,\"message_type\":\"DATA\"}\n",
      "{\"ts\":1754534568.7568572,\"level\":\"DEBUG\",\"event\":\"node.emit\",\"message\":\"Emitting DATA message\",\"trace_id\":\"3e6ef545-6f15-451d-a869-fadff9a48c55\",\"node\":\"producer_latest\",\"port\":\"output\",\"json\":false,\"message_type\":\"DATA\"}\n",
      "{\"ts\":1754534568.7693598,\"level\":\"DEBUG\",\"event\":\"node.emit\",\"message\":\"Emitting DATA message\",\"trace_id\":\"badcb6c9-14e4-49ac-8b90-bab9539b8e39\",\"node\":\"producer_latest\",\"port\":\"output\",\"json\":false,\"message_type\":\"DATA\"}\n",
      "{\"ts\":1754534568.782231,\"level\":\"DEBUG\",\"event\":\"node.emit\",\"message\":\"Emitting DATA message\",\"trace_id\":\"31e20907-0a9a-46f1-8d7f-03f7bfdbcef6\",\"node\":\"producer_latest\",\"port\":\"output\",\"json\":false,\"message_type\":\"DATA\"}\n"
     ]
    },
    {
     "data": {
      "application/vnd.plotly.v1+json": {
       "config": {
        "plotlyServerURL": "https://plot.ly"
       },
       "data": [
        {
         "marker": {
          "color": [
           "#2E86AB",
           "#A23B72",
           "#F18F01"
          ]
         },
         "name": "Efficiency (%)",
         "type": "bar",
         "x": [
          "Block",
          "Drop",
          "Latest"
         ],
         "xaxis": "x",
         "y": [
          0,
          0,
          0
         ],
         "yaxis": "y"
        },
        {
         "marker": {
          "color": [
           "#2E86AB",
           "#A23B72",
           "#F18F01"
          ]
         },
         "name": "Time (s)",
         "type": "bar",
         "x": [
          "Block",
          "Drop",
          "Latest"
         ],
         "xaxis": "x2",
         "y": [
          0.09382915496826172,
          0.097808837890625,
          0.10141420364379883
         ],
         "yaxis": "y2"
        },
        {
         "marker": {
          "color": "#D9534F",
          "size": 10
         },
         "mode": "markers+lines",
         "name": "Sent",
         "type": "scatter",
         "x": [
          "Block",
          "Drop",
          "Latest"
         ],
         "xaxis": "x3",
         "y": [
          8,
          8,
          8
         ],
         "yaxis": "y3"
        },
        {
         "marker": {
          "color": "#5BC0DE",
          "size": 10
         },
         "mode": "markers+lines",
         "name": "Received",
         "type": "scatter",
         "x": [
          "Block",
          "Drop",
          "Latest"
         ],
         "xaxis": "x3",
         "y": [
          0,
          0,
          0
         ],
         "yaxis": "y3"
        }
       ],
       "layout": {
        "annotations": [
         {
          "font": {
           "color": "#2C3E50",
           "family": "Arial Black",
           "size": 14
          },
          "showarrow": false,
          "text": "Message Efficiency",
          "x": 0.225,
          "xanchor": "center",
          "xref": "paper",
          "y": 1,
          "yanchor": "bottom",
          "yref": "paper"
         },
         {
          "font": {
           "color": "#2C3E50",
           "family": "Arial Black",
           "size": 14
          },
          "showarrow": false,
          "text": "Execution Time",
          "x": 0.775,
          "xanchor": "center",
          "xref": "paper",
          "y": 1,
          "yanchor": "bottom",
          "yref": "paper"
         },
         {
          "font": {
           "color": "#2C3E50",
           "family": "Arial Black",
           "size": 14
          },
          "showarrow": false,
          "text": "Messages Sent vs Received",
          "x": 0.225,
          "xanchor": "center",
          "xref": "paper",
          "y": 0.375,
          "yanchor": "bottom",
          "yref": "paper"
         },
         {
          "font": {
           "color": "#2C3E50",
           "family": "Arial Black",
           "size": 14
          },
          "showarrow": false,
          "text": "Value Sequences",
          "x": 0.775,
          "xanchor": "center",
          "xref": "paper",
          "y": 0.375,
          "yanchor": "bottom",
          "yref": "paper"
         }
        ],
        "font": {
         "color": "#2C3E50",
         "family": "Arial, sans-serif",
         "size": 12
        },
        "height": 500,
        "paper_bgcolor": "white",
        "plot_bgcolor": "#fafafa",
        "showlegend": true,
        "template": {
         "data": {
          "bar": [
           {
            "error_x": {
             "color": "#2a3f5f"
            },
            "error_y": {
             "color": "#2a3f5f"
            },
            "marker": {
             "line": {
              "color": "#E5ECF6",
              "width": 0.5
             },
             "pattern": {
              "fillmode": "overlay",
              "size": 10,
              "solidity": 0.2
             }
            },
            "type": "bar"
           }
          ],
          "barpolar": [
           {
            "marker": {
             "line": {
              "color": "#E5ECF6",
              "width": 0.5
             },
             "pattern": {
              "fillmode": "overlay",
              "size": 10,
              "solidity": 0.2
             }
            },
            "type": "barpolar"
           }
          ],
          "carpet": [
           {
            "aaxis": {
             "endlinecolor": "#2a3f5f",
             "gridcolor": "white",
             "linecolor": "white",
             "minorgridcolor": "white",
             "startlinecolor": "#2a3f5f"
            },
            "baxis": {
             "endlinecolor": "#2a3f5f",
             "gridcolor": "white",
             "linecolor": "white",
             "minorgridcolor": "white",
             "startlinecolor": "#2a3f5f"
            },
            "type": "carpet"
           }
          ],
          "choropleth": [
           {
            "colorbar": {
             "outlinewidth": 0,
             "ticks": ""
            },
            "type": "choropleth"
           }
          ],
          "contour": [
           {
            "colorbar": {
             "outlinewidth": 0,
             "ticks": ""
            },
            "colorscale": [
             [
              0,
              "#0d0887"
             ],
             [
              0.1111111111111111,
              "#46039f"
             ],
             [
              0.2222222222222222,
              "#7201a8"
             ],
             [
              0.3333333333333333,
              "#9c179e"
             ],
             [
              0.4444444444444444,
              "#bd3786"
             ],
             [
              0.5555555555555556,
              "#d8576b"
             ],
             [
              0.6666666666666666,
              "#ed7953"
             ],
             [
              0.7777777777777778,
              "#fb9f3a"
             ],
             [
              0.8888888888888888,
              "#fdca26"
             ],
             [
              1,
              "#f0f921"
             ]
            ],
            "type": "contour"
           }
          ],
          "contourcarpet": [
           {
            "colorbar": {
             "outlinewidth": 0,
             "ticks": ""
            },
            "type": "contourcarpet"
           }
          ],
          "heatmap": [
           {
            "colorbar": {
             "outlinewidth": 0,
             "ticks": ""
            },
            "colorscale": [
             [
              0,
              "#0d0887"
             ],
             [
              0.1111111111111111,
              "#46039f"
             ],
             [
              0.2222222222222222,
              "#7201a8"
             ],
             [
              0.3333333333333333,
              "#9c179e"
             ],
             [
              0.4444444444444444,
              "#bd3786"
             ],
             [
              0.5555555555555556,
              "#d8576b"
             ],
             [
              0.6666666666666666,
              "#ed7953"
             ],
             [
              0.7777777777777778,
              "#fb9f3a"
             ],
             [
              0.8888888888888888,
              "#fdca26"
             ],
             [
              1,
              "#f0f921"
             ]
            ],
            "type": "heatmap"
           }
          ],
          "histogram": [
           {
            "marker": {
             "pattern": {
              "fillmode": "overlay",
              "size": 10,
              "solidity": 0.2
             }
            },
            "type": "histogram"
           }
          ],
          "histogram2d": [
           {
            "colorbar": {
             "outlinewidth": 0,
             "ticks": ""
            },
            "colorscale": [
             [
              0,
              "#0d0887"
             ],
             [
              0.1111111111111111,
              "#46039f"
             ],
             [
              0.2222222222222222,
              "#7201a8"
             ],
             [
              0.3333333333333333,
              "#9c179e"
             ],
             [
              0.4444444444444444,
              "#bd3786"
             ],
             [
              0.5555555555555556,
              "#d8576b"
             ],
             [
              0.6666666666666666,
              "#ed7953"
             ],
             [
              0.7777777777777778,
              "#fb9f3a"
             ],
             [
              0.8888888888888888,
              "#fdca26"
             ],
             [
              1,
              "#f0f921"
             ]
            ],
            "type": "histogram2d"
           }
          ],
          "histogram2dcontour": [
           {
            "colorbar": {
             "outlinewidth": 0,
             "ticks": ""
            },
            "colorscale": [
             [
              0,
              "#0d0887"
             ],
             [
              0.1111111111111111,
              "#46039f"
             ],
             [
              0.2222222222222222,
              "#7201a8"
             ],
             [
              0.3333333333333333,
              "#9c179e"
             ],
             [
              0.4444444444444444,
              "#bd3786"
             ],
             [
              0.5555555555555556,
              "#d8576b"
             ],
             [
              0.6666666666666666,
              "#ed7953"
             ],
             [
              0.7777777777777778,
              "#fb9f3a"
             ],
             [
              0.8888888888888888,
              "#fdca26"
             ],
             [
              1,
              "#f0f921"
             ]
            ],
            "type": "histogram2dcontour"
           }
          ],
          "mesh3d": [
           {
            "colorbar": {
             "outlinewidth": 0,
             "ticks": ""
            },
            "type": "mesh3d"
           }
          ],
          "parcoords": [
           {
            "line": {
             "colorbar": {
              "outlinewidth": 0,
              "ticks": ""
             }
            },
            "type": "parcoords"
           }
          ],
          "pie": [
           {
            "automargin": true,
            "type": "pie"
           }
          ],
          "scatter": [
           {
            "fillpattern": {
             "fillmode": "overlay",
             "size": 10,
             "solidity": 0.2
            },
            "type": "scatter"
           }
          ],
          "scatter3d": [
           {
            "line": {
             "colorbar": {
              "outlinewidth": 0,
              "ticks": ""
             }
            },
            "marker": {
             "colorbar": {
              "outlinewidth": 0,
              "ticks": ""
             }
            },
            "type": "scatter3d"
           }
          ],
          "scattercarpet": [
           {
            "marker": {
             "colorbar": {
              "outlinewidth": 0,
              "ticks": ""
             }
            },
            "type": "scattercarpet"
           }
          ],
          "scattergeo": [
           {
            "marker": {
             "colorbar": {
              "outlinewidth": 0,
              "ticks": ""
             }
            },
            "type": "scattergeo"
           }
          ],
          "scattergl": [
           {
            "marker": {
             "colorbar": {
              "outlinewidth": 0,
              "ticks": ""
             }
            },
            "type": "scattergl"
           }
          ],
          "scattermap": [
           {
            "marker": {
             "colorbar": {
              "outlinewidth": 0,
              "ticks": ""
             }
            },
            "type": "scattermap"
           }
          ],
          "scattermapbox": [
           {
            "marker": {
             "colorbar": {
              "outlinewidth": 0,
              "ticks": ""
             }
            },
            "type": "scattermapbox"
           }
          ],
          "scatterpolar": [
           {
            "marker": {
             "colorbar": {
              "outlinewidth": 0,
              "ticks": ""
             }
            },
            "type": "scatterpolar"
           }
          ],
          "scatterpolargl": [
           {
            "marker": {
             "colorbar": {
              "outlinewidth": 0,
              "ticks": ""
             }
            },
            "type": "scatterpolargl"
           }
          ],
          "scatterternary": [
           {
            "marker": {
             "colorbar": {
              "outlinewidth": 0,
              "ticks": ""
             }
            },
            "type": "scatterternary"
           }
          ],
          "surface": [
           {
            "colorbar": {
             "outlinewidth": 0,
             "ticks": ""
            },
            "colorscale": [
             [
              0,
              "#0d0887"
             ],
             [
              0.1111111111111111,
              "#46039f"
             ],
             [
              0.2222222222222222,
              "#7201a8"
             ],
             [
              0.3333333333333333,
              "#9c179e"
             ],
             [
              0.4444444444444444,
              "#bd3786"
             ],
             [
              0.5555555555555556,
              "#d8576b"
             ],
             [
              0.6666666666666666,
              "#ed7953"
             ],
             [
              0.7777777777777778,
              "#fb9f3a"
             ],
             [
              0.8888888888888888,
              "#fdca26"
             ],
             [
              1,
              "#f0f921"
             ]
            ],
            "type": "surface"
           }
          ],
          "table": [
           {
            "cells": {
             "fill": {
              "color": "#EBF0F8"
             },
             "line": {
              "color": "white"
             }
            },
            "header": {
             "fill": {
              "color": "#C8D4E3"
             },
             "line": {
              "color": "white"
             }
            },
            "type": "table"
           }
          ]
         },
         "layout": {
          "annotationdefaults": {
           "arrowcolor": "#2a3f5f",
           "arrowhead": 0,
           "arrowwidth": 1
          },
          "autotypenumbers": "strict",
          "coloraxis": {
           "colorbar": {
            "outlinewidth": 0,
            "ticks": ""
           }
          },
          "colorscale": {
           "diverging": [
            [
             0,
             "#8e0152"
            ],
            [
             0.1,
             "#c51b7d"
            ],
            [
             0.2,
             "#de77ae"
            ],
            [
             0.3,
             "#f1b6da"
            ],
            [
             0.4,
             "#fde0ef"
            ],
            [
             0.5,
             "#f7f7f7"
            ],
            [
             0.6,
             "#e6f5d0"
            ],
            [
             0.7,
             "#b8e186"
            ],
            [
             0.8,
             "#7fbc41"
            ],
            [
             0.9,
             "#4d9221"
            ],
            [
             1,
             "#276419"
            ]
           ],
           "sequential": [
            [
             0,
             "#0d0887"
            ],
            [
             0.1111111111111111,
             "#46039f"
            ],
            [
             0.2222222222222222,
             "#7201a8"
            ],
            [
             0.3333333333333333,
             "#9c179e"
            ],
            [
             0.4444444444444444,
             "#bd3786"
            ],
            [
             0.5555555555555556,
             "#d8576b"
            ],
            [
             0.6666666666666666,
             "#ed7953"
            ],
            [
             0.7777777777777778,
             "#fb9f3a"
            ],
            [
             0.8888888888888888,
             "#fdca26"
            ],
            [
             1,
             "#f0f921"
            ]
           ],
           "sequentialminus": [
            [
             0,
             "#0d0887"
            ],
            [
             0.1111111111111111,
             "#46039f"
            ],
            [
             0.2222222222222222,
             "#7201a8"
            ],
            [
             0.3333333333333333,
             "#9c179e"
            ],
            [
             0.4444444444444444,
             "#bd3786"
            ],
            [
             0.5555555555555556,
             "#d8576b"
            ],
            [
             0.6666666666666666,
             "#ed7953"
            ],
            [
             0.7777777777777778,
             "#fb9f3a"
            ],
            [
             0.8888888888888888,
             "#fdca26"
            ],
            [
             1,
             "#f0f921"
            ]
           ]
          },
          "colorway": [
           "#636efa",
           "#EF553B",
           "#00cc96",
           "#ab63fa",
           "#FFA15A",
           "#19d3f3",
           "#FF6692",
           "#B6E880",
           "#FF97FF",
           "#FECB52"
          ],
          "font": {
           "color": "#2a3f5f"
          },
          "geo": {
           "bgcolor": "white",
           "lakecolor": "white",
           "landcolor": "#E5ECF6",
           "showlakes": true,
           "showland": true,
           "subunitcolor": "white"
          },
          "hoverlabel": {
           "align": "left"
          },
          "hovermode": "closest",
          "mapbox": {
           "style": "light"
          },
          "paper_bgcolor": "white",
          "plot_bgcolor": "#E5ECF6",
          "polar": {
           "angularaxis": {
            "gridcolor": "white",
            "linecolor": "white",
            "ticks": ""
           },
           "bgcolor": "#E5ECF6",
           "radialaxis": {
            "gridcolor": "white",
            "linecolor": "white",
            "ticks": ""
           }
          },
          "scene": {
           "xaxis": {
            "backgroundcolor": "#E5ECF6",
            "gridcolor": "white",
            "gridwidth": 2,
            "linecolor": "white",
            "showbackground": true,
            "ticks": "",
            "zerolinecolor": "white"
           },
           "yaxis": {
            "backgroundcolor": "#E5ECF6",
            "gridcolor": "white",
            "gridwidth": 2,
            "linecolor": "white",
            "showbackground": true,
            "ticks": "",
            "zerolinecolor": "white"
           },
           "zaxis": {
            "backgroundcolor": "#E5ECF6",
            "gridcolor": "white",
            "gridwidth": 2,
            "linecolor": "white",
            "showbackground": true,
            "ticks": "",
            "zerolinecolor": "white"
           }
          },
          "shapedefaults": {
           "line": {
            "color": "#2a3f5f"
           }
          },
          "ternary": {
           "aaxis": {
            "gridcolor": "white",
            "linecolor": "white",
            "ticks": ""
           },
           "baxis": {
            "gridcolor": "white",
            "linecolor": "white",
            "ticks": ""
           },
           "bgcolor": "#E5ECF6",
           "caxis": {
            "gridcolor": "white",
            "linecolor": "white",
            "ticks": ""
           }
          },
          "title": {
           "x": 0.05
          },
          "xaxis": {
           "automargin": true,
           "gridcolor": "white",
           "linecolor": "white",
           "ticks": "",
           "title": {
            "standoff": 15
           },
           "zerolinecolor": "white",
           "zerolinewidth": 2
          },
          "yaxis": {
           "automargin": true,
           "gridcolor": "white",
           "linecolor": "white",
           "ticks": "",
           "title": {
            "standoff": 15
           },
           "zerolinecolor": "white",
           "zerolinewidth": 2
          }
         }
        },
        "title": {
         "text": "Backpressure Policy Comparison Results",
         "x": 0.5
        },
        "xaxis": {
         "anchor": "y",
         "domain": [
          0,
          0.45
         ]
        },
        "xaxis2": {
         "anchor": "y2",
         "domain": [
          0.55,
          1
         ]
        },
        "xaxis3": {
         "anchor": "y3",
         "domain": [
          0,
          0.45
         ]
        },
        "xaxis4": {
         "anchor": "y4",
         "domain": [
          0.55,
          1
         ]
        },
        "yaxis": {
         "anchor": "x",
         "domain": [
          0.625,
          1
         ]
        },
        "yaxis2": {
         "anchor": "x2",
         "domain": [
          0.625,
          1
         ]
        },
        "yaxis3": {
         "anchor": "x3",
         "domain": [
          0,
          0.375
         ]
        },
        "yaxis4": {
         "anchor": "x4",
         "domain": [
          0,
          0.375
         ]
        }
       }
      },
      "image/png": "[encoded data removed]"
     },
     "metadata": {},
     "output_type": "display_data"
    },
    {
     "name": "stdout",
     "output_type": "stream",
     "text": [
      "\n",
      "📊 Policy Comparison Summary:\n",
      "   Block: 0.0% efficiency, 0.09s execution time\n",
      "   Drop: 0.0% efficiency, 0.10s execution time\n",
      "   Latest: 0.0% efficiency, 0.10s execution time\n"
     ]
    }
   ],
   "source": [
    "class BackpressureExperiment:\n",
    "    \"\"\"Dedicated experiment for understanding backpressure policies.\"\"\"\n",
    "    \n",
    "    def __init__(self):\n",
    "        self.results = {}\n",
    "        self.visualizer = GraphVisualizer()\n",
    "    \n",
    "    def run_policy_comparison(self, producer_delay=0, consumer_delay=100, capacity=3, message_count=10):\n",
    "        \"\"\"Run the same configuration with different policies and compare results.\"\"\"\n",
    "        \n",
    "        policies = {\n",
    "            'Block': Block(),\n",
    "            'Drop': Drop(), \n",
    "            'Latest': Latest()\n",
    "        }\n",
    "        \n",
    "        results = {}\n",
    "        \n",
    "        for policy_name, policy in policies.items():\n",
    "            print(f\"\\n🔍 Testing {policy_name} policy...\")\n",
    "            \n",
    "            # Create fresh nodes\n",
    "            producer = EnhancedProducer(f\"producer_{policy_name.lower()}\", message_count, producer_delay)\n",
    "            consumer = EnhancedConsumer(f\"consumer_{policy_name.lower()}\", consumer_delay)\n",
    "            \n",
    "            # Create graph\n",
    "            graph = Subgraph.from_nodes(f\"test_{policy_name.lower()}\", [producer, consumer])\n",
    "            graph.connect(\n",
    "                (producer.name, \"output\"), \n",
    "                (consumer.name, \"input\"), \n",
    "                capacity=capacity,\n",
    "                policy=policy\n",
    "            )\n",
    "            \n",
    "            # Run simulation\n",
    "            start_time = time.time()\n",
    "            scheduler = Scheduler(SchedulerConfig(shutdown_timeout_s=2.0))\n",
    "            scheduler.register(graph)\n",
    "            \n",
    "            # Simple execution loop for controlled testing\n",
    "            tick_count = 0\n",
    "            max_ticks = message_count * 3  # Allow extra ticks for completion\n",
    "            \n",
    "            while tick_count < max_ticks and not producer.get_stats().is_complete:\n",
    "                producer._handle_tick()\n",
    "                tick_count += 1\n",
    "                time.sleep(0.01)  # Small delay to simulate real execution\n",
    "            \n",
    "            end_time = time.time()\n",
    "            \n",
    "            # Collect results\n",
    "            producer_stats = producer.get_stats()\n",
    "            consumer_stats = consumer.get_stats()\n",
    "            \n",
    "            results[policy_name] = {\n",
    "                'policy': policy_name,\n",
    "                'messages_sent': producer_stats.messages_sent,\n",
    "                'messages_received': consumer_stats.messages_received,\n",
    "                'efficiency': (consumer_stats.messages_received / producer_stats.messages_sent) * 100 if producer_stats.messages_sent > 0 else 0,\n",
    "                'execution_time': end_time - start_time,\n",
    "                'received_values': consumer_stats.all_values.copy()\n",
    "            }\n",
    "            \n",
    "            print(f\"   Sent: {producer_stats.messages_sent}, Received: {consumer_stats.messages_received}\")\n",
    "            print(f\"   Efficiency: {results[policy_name]['efficiency']:.1f}%\")\n",
    "            print(f\"   Values: {consumer_stats.all_values}\")\n",
    "        \n",
    "        return results\n",
    "    \n",
    "    def visualize_policy_comparison(self, results):\n",
    "        \"\"\"Create visualization comparing policy results.\"\"\"\n",
    "        \n",
    "        fig = make_subplots(\n",
    "            rows=2, cols=2,\n",
    "            subplot_titles=('Message Efficiency', 'Execution Time', 'Messages Sent vs Received', 'Value Sequences'),\n",
    "            specs=[[{\"type\": \"bar\"}, {\"type\": \"bar\"}],\n",
    "                   [{\"type\": \"scatter\"}, {\"type\": \"scatter\"}]]\n",
    "        )\n",
    "        \n",
    "        policies = list(results.keys())\n",
    "        # Use local palette to avoid referencing non-existent self.colors\n",
    "        palette = {\n",
    "            \"primary\": \"#2E86AB\",\n",
    "            \"accent1\": \"#A23B72\",\n",
    "            \"accent2\": \"#F18F01\",\n",
    "            \"sent\": \"#D9534F\",\n",
    "            \"received\": \"#5BC0DE\",\n",
    "            \"text\": \"#2C3E50\",\n",
    "        }\n",
    "        series_colors = [palette[\"primary\"], palette[\"accent1\"], palette[\"accent2\"]]\n",
    "        \n",
    "        # Efficiency comparison\n",
    "        efficiencies = [results[p]['efficiency'] for p in policies]\n",
    "        fig.add_trace(\n",
    "            go.Bar(x=policies, y=efficiencies, name='Efficiency (%)', \n",
    "                   marker_color=series_colors[:len(policies)]),\n",
    "            row=1, col=1\n",
    "        )\n",
    "        \n",
    "        # Execution time comparison\n",
    "        exec_times = [results[p]['execution_time'] for p in policies]\n",
    "        fig.add_trace(\n",
    "            go.Bar(x=policies, y=exec_times, name='Time (s)', \n",
    "                   marker_color=series_colors[:len(policies)]),\n",
    "            row=1, col=2\n",
    "        )\n",
    "        \n",
    "        # Sent vs Received\n",
    "        sent = [results[p]['messages_sent'] for p in policies]\n",
    "        received = [results[p]['messages_received'] for p in policies]\n",
    "        \n",
    "        fig.add_trace(\n",
    "            go.Scatter(x=policies, y=sent, mode='markers+lines', name='Sent',\n",
    "                       marker=dict(size=10, color=palette[\"sent\"])),\n",
    "            row=2, col=1\n",
    "        )\n",
    "        fig.add_trace(\n",
    "            go.Scatter(x=policies, y=received, mode='markers+lines', name='Received',\n",
    "                       marker=dict(size=10, color=palette[\"received\"])),\n",
    "            row=2, col=1\n",
    "        )\n",
    "        \n",
    "        # Value sequences\n",
    "        for i, policy in enumerate(policies):\n",
    "            values = results[policy]['received_values']\n",
    "            if values:\n",
    "                fig.add_trace(\n",
    "                    go.Scatter(x=list(range(len(values))), y=values, \n",
    "                               mode='lines+markers', name=f'{policy} Values',\n",
    "                               line=dict(color=series_colors[i % len(series_colors)])),\n",
    "                    row=2, col=2\n",
    "                )\n",
    "        \n",
    "        fig.update_layout(\n",
    "            height=500,  # Fixed for dashboard panel\n",
    "            title_text=\"Backpressure Policy Comparison Results\",\n",
    "            title_x=0.5,\n",
    "            showlegend=True,\n",
    "            font=dict(family='Arial, sans-serif', size=12, color=palette[\"text\"]),\n",
    "            plot_bgcolor='#fafafa',\n",
    "            paper_bgcolor='white',\n",
    "        )\n",
    "        \n",
    "        # Guarded annotation font styling\n",
    "        if \"annotations\" in fig.layout and fig.layout.annotations:\n",
    "            for ann in fig.layout.annotations:\n",
    "                ann.font = dict(size=14, color=palette[\"text\"], family='Arial Black')\n",
    "        \n",
    "        return fig\n",
    "\n",
    "# Create backpressure experiment\n",
    "bp_experiment = BackpressureExperiment()\n",
    "\n",
    "# Run comparison with backpressure conditions\n",
    "print(\"🧪 Ready for backpressure policy comparison\")\n",
    "print(\"Configuration suggestion: Fast producer (0ms), Slow consumer (100ms), Small capacity (3)\")\n",
    "\n",
    "comparison_results = bp_experiment.run_policy_comparison(\n",
    "    producer_delay=0,\n",
    "    consumer_delay=100, \n",
    "    capacity=3,\n",
    "    message_count=8\n",
    ")\n",
    "\n",
    "fig = bp_experiment.visualize_policy_comparison(comparison_results)\n",
    "fig.show()\n",
    "\n",
    "print(\"\\n📊 Policy Comparison Summary:\")\n",
    "for policy, result in comparison_results.items():\n",
    "    print(f\"   {policy}: {result['efficiency']:.1f}% efficiency, {result['execution_time']:.2f}s execution time\")"
   ]
  },
  {
   "cell_type": "markdown",
   "id": "e7cd390d",
   "metadata": {},
   "source": [
    "## Step 6: Advanced Monitoring and Observability\n",
    "Optional, collapsible. Demonstrates structured logging, metrics, tracing."
   ]
  },
  {
   "cell_type": "code",
   "execution_count": 8,
   "id": "f5e39b02",
   "metadata": {},
   "outputs": [
    {
     "name": "stdout",
     "output_type": "stream",
     "text": [
      "✅ Observability configured with full monitoring\n",
      "🧭 Observability demo ready\n",
      "🔍 Starting comprehensive observability demo...\n",
      "📊 Graph created with comprehensive monitoring\n",
      "🚀 Starting execution with detailed logging...\n"
     ]
    },
    {
     "name": "stderr",
     "output_type": "stream",
     "text": [
      "{\"ts\":1754534526.3751,\"level\":\"DEBUG\",\"event\":\"scheduler.register_subgraph\",\"message\":\"Registered subgraph observability_demo\",\"json\":false}\n",
      "{\"ts\":1754534526.375128,\"level\":\"INFO\",\"event\":\"scheduler.start\",\"message\":\"Scheduler starting\",\"json\":false,\"graphs_count\":1,\"tick_interval_ms\":100}\n",
      "{\"ts\":1754534526.375165,\"level\":\"INFO\",\"event\":\"node.start\",\"message\":\"Node obs_producer starting\",\"node\":\"obs_producer\",\"json\":false}\n",
      "{\"ts\":1754534526.375176,\"level\":\"INFO\",\"event\":\"node.enhanced_start\",\"message\":\"Enhanced node obs_producer starting with monitoring\",\"node\":\"obs_producer\",\"json\":false}\n",
      "{\"ts\":1754534526.375187,\"level\":\"INFO\",\"event\":\"node.start\",\"message\":\"Node obs_processor starting\",\"node\":\"obs_processor\",\"json\":false}\n",
      "{\"ts\":1754534526.3751948,\"level\":\"INFO\",\"event\":\"node.enhanced_start\",\"message\":\"Enhanced node obs_processor starting with monitoring\",\"node\":\"obs_processor\",\"json\":false}\n",
      "{\"ts\":1754534526.375202,\"level\":\"INFO\",\"event\":\"node.start\",\"message\":\"Node obs_consumer starting\",\"node\":\"obs_consumer\",\"json\":false}\n",
      "{\"ts\":1754534526.375208,\"level\":\"INFO\",\"event\":\"node.enhanced_start\",\"message\":\"Enhanced node obs_consumer starting with monitoring\",\"node\":\"obs_consumer\",\"json\":false}\n",
      "{\"ts\":1754534526.375217,\"level\":\"INFO\",\"event\":\"scheduler.ready\",\"message\":\"Scheduler ready, entering main loop\",\"json\":false,\"nodes_count\":3}\n",
      "{\"ts\":1754534526.478299,\"level\":\"DEBUG\",\"event\":\"scheduler.process_tick\",\"message\":\"Processing tick for node obs_producer\",\"node\":\"obs_producer\",\"json\":false}\n",
      "{\"ts\":1754534526.478379,\"level\":\"DEBUG\",\"event\":\"node.emit\",\"message\":\"Emitting DATA message\",\"trace_id\":\"6f73765b-7361-44c2-8c50-3b09a94b0837\",\"node\":\"obs_producer\",\"port\":\"output\",\"json\":false,\"message_type\":\"DATA\"}\n",
      "{\"ts\":1754534526.478407,\"level\":\"DEBUG\",\"event\":\"edge.enqueue\",\"message\":\"Item enqueued, depth=1\",\"node\":\"obs_producer\",\"edge_id\":\"obs_producer:output->obs_processor:input\",\"json\":false}\n",
      "{\"ts\":1754534526.478421,\"level\":\"DEBUG\",\"event\":\"scheduler.message_routed\",\"message\":\"Message routed successfully: OK\",\"node\":\"obs_producer\",\"edge_id\":\"obs_producer:output->obs_processor:input\",\"port\":\"output\",\"json\":false}\n",
      "{\"ts\":1754534526.47843,\"level\":\"INFO\",\"event\":\"node.tick_emit\",\"message\":\"Generated message 1\",\"node\":\"obs_producer\",\"json\":false}\n",
      "{\"ts\":1754534526.47844,\"level\":\"DEBUG\",\"event\":\"node.tick_processed\",\"message\":\"Tick processed successfully\",\"node\":\"obs_producer\",\"json\":false}\n",
      "{\"ts\":1754534526.478466,\"level\":\"DEBUG\",\"event\":\"scheduler.process_messages\",\"message\":\"Processing messages for node obs_processor\",\"node\":\"obs_processor\",\"json\":false}\n",
      "{\"ts\":1754534526.4784782,\"level\":\"DEBUG\",\"event\":\"edge.dequeue\",\"message\":\"Item dequeued, depth=0\",\"edge_id\":\"obs_producer:output->obs_processor:input\",\"json\":false}\n",
      "{\"ts\":1754534526.478492,\"level\":\"DEBUG\",\"event\":\"node.message_start\",\"message\":\"Processing message 1\",\"trace_id\":\"6f73765b-7361-44c2-8c50-3b09a94b0837\",\"node\":\"obs_processor\",\"port\":\"input\",\"json\":false}\n",
      "{\"ts\":1754534526.489824,\"level\":\"DEBUG\",\"event\":\"node.emit\",\"message\":\"Emitting DATA message\",\"trace_id\":\"6e3bd4e5-2299-46db-a515-f1cd824edea6\",\"node\":\"obs_processor\",\"port\":\"output\",\"json\":false,\"message_type\":\"DATA\"}\n",
      "{\"ts\":1754534526.489918,\"level\":\"DEBUG\",\"event\":\"edge.enqueue\",\"message\":\"Item enqueued, depth=1\",\"trace_id\":\"6f73765b-7361-44c2-8c50-3b09a94b0837\",\"node\":\"obs_processor\",\"edge_id\":\"obs_processor:output->obs_consumer:input\",\"port\":\"input\",\"json\":false}\n",
      "{\"ts\":1754534526.4899719,\"level\":\"DEBUG\",\"event\":\"scheduler.message_routed\",\"message\":\"Message routed successfully: OK\",\"trace_id\":\"6f73765b-7361-44c2-8c50-3b09a94b0837\",\"node\":\"obs_processor\",\"edge_id\":\"obs_processor:output->obs_consumer:input\",\"port\":\"output\",\"json\":false}\n",
      "{\"ts\":1754534526.48999,\"level\":\"DEBUG\",\"event\":\"node.message_emitted\",\"message\":\"Emitted processed message\",\"trace_id\":\"6f73765b-7361-44c2-8c50-3b09a94b0837\",\"node\":\"obs_processor\",\"port\":\"input\",\"json\":false}\n",
      "{\"ts\":1754534526.490001,\"level\":\"INFO\",\"event\":\"node.message_complete\",\"message\":\"Message processed successfully\",\"trace_id\":\"6f73765b-7361-44c2-8c50-3b09a94b0837\",\"node\":\"obs_processor\",\"port\":\"input\",\"json\":false,\"processing_time\":0.011291833005088847,\"message_sequence\":1}\n",
      "{\"ts\":1754534526.4900181,\"level\":\"DEBUG\",\"event\":\"node.message_processed\",\"message\":\"Message processed in 0.011524s\",\"trace_id\":\"6f73765b-7361-44c2-8c50-3b09a94b0837\",\"node\":\"obs_processor\",\"port\":\"input\",\"json\":false,\"duration\":0.01152400000137277}\n",
      "{\"ts\":1754534526.49008,\"level\":\"DEBUG\",\"event\":\"scheduler.process_tick\",\"message\":\"Processing tick for node obs_processor\",\"node\":\"obs_processor\",\"json\":false}\n",
      "{\"ts\":1754534526.4901278,\"level\":\"DEBUG\",\"event\":\"node.emit\",\"message\":\"Emitting DATA message\",\"trace_id\":\"afcd9928-4937-4278-865b-f274b907d21f\",\"node\":\"obs_processor\",\"port\":\"output\",\"json\":false,\"message_type\":\"DATA\"}\n",
      "{\"ts\":1754534526.4901462,\"level\":\"DEBUG\",\"event\":\"edge.enqueue\",\"message\":\"Item enqueued, depth=2\",\"node\":\"obs_processor\",\"edge_id\":\"obs_processor:output->obs_consumer:input\",\"json\":false}\n",
      "{\"ts\":1754534526.4901602,\"level\":\"DEBUG\",\"event\":\"scheduler.message_routed\",\"message\":\"Message routed successfully: OK\",\"node\":\"obs_processor\",\"edge_id\":\"obs_processor:output->obs_consumer:input\",\"port\":\"output\",\"json\":false}\n",
      "{\"ts\":1754534526.49017,\"level\":\"INFO\",\"event\":\"node.tick_emit\",\"message\":\"Generated message 2\",\"node\":\"obs_processor\",\"json\":false}\n",
      "{\"ts\":1754534526.4901829,\"level\":\"DEBUG\",\"event\":\"node.tick_processed\",\"message\":\"Tick processed successfully\",\"node\":\"obs_processor\",\"json\":false}\n",
      "{\"ts\":1754534526.4902148,\"level\":\"DEBUG\",\"event\":\"scheduler.process_messages\",\"message\":\"Processing messages for node obs_consumer\",\"node\":\"obs_consumer\",\"json\":false}\n",
      "{\"ts\":1754534526.490231,\"level\":\"DEBUG\",\"event\":\"edge.dequeue\",\"message\":\"Item dequeued, depth=1\",\"edge_id\":\"obs_processor:output->obs_consumer:input\",\"json\":false}\n",
      "{\"ts\":1754534526.490252,\"level\":\"DEBUG\",\"event\":\"node.message_start\",\"message\":\"Processing message 1\",\"trace_id\":\"6e3bd4e5-2299-46db-a515-f1cd824edea6\",\"node\":\"obs_consumer\",\"port\":\"input\",\"json\":false}\n",
      "{\"ts\":1754534526.502794,\"level\":\"INFO\",\"event\":\"node.message_complete\",\"message\":\"Message processed successfully\",\"trace_id\":\"6e3bd4e5-2299-46db-a515-f1cd824edea6\",\"node\":\"obs_consumer\",\"port\":\"input\",\"json\":false,\"processing_time\":0.012538082999526523,\"message_sequence\":1}\n",
      "{\"ts\":1754534526.5028381,\"level\":\"DEBUG\",\"event\":\"node.message_processed\",\"message\":\"Message processed in 0.012584s\",\"trace_id\":\"6e3bd4e5-2299-46db-a515-f1cd824edea6\",\"node\":\"obs_consumer\",\"port\":\"input\",\"json\":false,\"duration\":0.012583874995470978}\n",
      "{\"ts\":1754534526.502895,\"level\":\"DEBUG\",\"event\":\"scheduler.process_messages\",\"message\":\"Processing messages for node obs_consumer\",\"node\":\"obs_consumer\",\"json\":false}\n",
      "{\"ts\":1754534526.502912,\"level\":\"DEBUG\",\"event\":\"edge.dequeue\",\"message\":\"Item dequeued, depth=0\",\"edge_id\":\"obs_processor:output->obs_consumer:input\",\"json\":false}\n",
      "{\"ts\":1754534526.5029278,\"level\":\"DEBUG\",\"event\":\"node.message_start\",\"message\":\"Processing message 2\",\"trace_id\":\"afcd9928-4937-4278-865b-f274b907d21f\",\"node\":\"obs_consumer\",\"port\":\"input\",\"json\":false}\n",
      "{\"ts\":1754534526.5154612,\"level\":\"INFO\",\"event\":\"node.message_complete\",\"message\":\"Message processed successfully\",\"trace_id\":\"afcd9928-4937-4278-865b-f274b907d21f\",\"node\":\"obs_consumer\",\"port\":\"input\",\"json\":false,\"processing_time\":0.01252737500180956,\"message_sequence\":2}\n",
      "{\"ts\":1754534526.515512,\"level\":\"DEBUG\",\"event\":\"node.message_processed\",\"message\":\"Message processed in 0.012581s\",\"trace_id\":\"afcd9928-4937-4278-865b-f274b907d21f\",\"node\":\"obs_consumer\",\"port\":\"input\",\"json\":false,\"duration\":0.01258104199951049}\n",
      "{\"ts\":1754534526.515567,\"level\":\"DEBUG\",\"event\":\"scheduler.process_tick\",\"message\":\"Processing tick for node obs_consumer\",\"node\":\"obs_consumer\",\"json\":false}\n",
      "{\"ts\":1754534526.5156538,\"level\":\"DEBUG\",\"event\":\"node.tick_processed\",\"message\":\"Tick processed successfully\",\"node\":\"obs_consumer\",\"json\":false}\n",
      "{\"ts\":1754534526.5823948,\"level\":\"DEBUG\",\"event\":\"scheduler.process_tick\",\"message\":\"Processing tick for node obs_producer\",\"node\":\"obs_producer\",\"json\":false}\n",
      "{\"ts\":1754534526.5829918,\"level\":\"DEBUG\",\"event\":\"node.emit\",\"message\":\"Emitting DATA message\",\"trace_id\":\"8bc9e9e5-4b8e-4c8e-94d4-b3b47a1906a1\",\"node\":\"obs_producer\",\"port\":\"output\",\"json\":false,\"message_type\":\"DATA\"}\n",
      "{\"ts\":1754534526.583054,\"level\":\"DEBUG\",\"event\":\"edge.enqueue\",\"message\":\"Item enqueued, depth=1\",\"node\":\"obs_producer\",\"edge_id\":\"obs_producer:output->obs_processor:input\",\"json\":false}\n",
      "{\"ts\":1754534526.583085,\"level\":\"DEBUG\",\"event\":\"scheduler.message_routed\",\"message\":\"Message routed successfully: OK\",\"node\":\"obs_producer\",\"edge_id\":\"obs_producer:output->obs_processor:input\",\"port\":\"output\",\"json\":false}\n",
      "{\"ts\":1754534526.583105,\"level\":\"INFO\",\"event\":\"node.tick_emit\",\"message\":\"Generated message 1\",\"node\":\"obs_producer\",\"json\":false}\n",
      "{\"ts\":1754534526.5831308,\"level\":\"DEBUG\",\"event\":\"node.tick_processed\",\"message\":\"Tick processed successfully\",\"node\":\"obs_producer\",\"json\":false}\n",
      "{\"ts\":1754534526.583192,\"level\":\"DEBUG\",\"event\":\"scheduler.process_messages\",\"message\":\"Processing messages for node obs_processor\",\"node\":\"obs_processor\",\"json\":false}\n",
      "{\"ts\":1754534526.5832179,\"level\":\"DEBUG\",\"event\":\"edge.dequeue\",\"message\":\"Item dequeued, depth=0\",\"edge_id\":\"obs_producer:output->obs_processor:input\",\"json\":false}\n",
      "{\"ts\":1754534526.5832498,\"level\":\"DEBUG\",\"event\":\"node.message_start\",\"message\":\"Processing message 2\",\"trace_id\":\"8bc9e9e5-4b8e-4c8e-94d4-b3b47a1906a1\",\"node\":\"obs_processor\",\"port\":\"input\",\"json\":false}\n",
      "{\"ts\":1754534526.595853,\"level\":\"DEBUG\",\"event\":\"node.emit\",\"message\":\"Emitting DATA message\",\"trace_id\":\"0833c5d1-f7c4-4407-ad57-e901f25d14f6\",\"node\":\"obs_processor\",\"port\":\"output\",\"json\":false,\"message_type\":\"DATA\"}\n",
      "{\"ts\":1754534526.595943,\"level\":\"DEBUG\",\"event\":\"edge.enqueue\",\"message\":\"Item enqueued, depth=1\",\"trace_id\":\"8bc9e9e5-4b8e-4c8e-94d4-b3b47a1906a1\",\"node\":\"obs_processor\",\"edge_id\":\"obs_processor:output->obs_consumer:input\",\"port\":\"input\",\"json\":false}\n",
      "{\"ts\":1754534526.595971,\"level\":\"DEBUG\",\"event\":\"scheduler.message_routed\",\"message\":\"Message routed successfully: OK\",\"trace_id\":\"8bc9e9e5-4b8e-4c8e-94d4-b3b47a1906a1\",\"node\":\"obs_processor\",\"edge_id\":\"obs_processor:output->obs_consumer:input\",\"port\":\"output\",\"json\":false}\n",
      "{\"ts\":1754534526.59599,\"level\":\"DEBUG\",\"event\":\"node.message_emitted\",\"message\":\"Emitted processed message\",\"trace_id\":\"8bc9e9e5-4b8e-4c8e-94d4-b3b47a1906a1\",\"node\":\"obs_processor\",\"port\":\"input\",\"json\":false}\n",
      "{\"ts\":1754534526.5960078,\"level\":\"INFO\",\"event\":\"node.message_complete\",\"message\":\"Message processed successfully\",\"trace_id\":\"8bc9e9e5-4b8e-4c8e-94d4-b3b47a1906a1\",\"node\":\"obs_processor\",\"port\":\"input\",\"json\":false,\"processing_time\":0.012543500000901986,\"message_sequence\":2}\n",
      "{\"ts\":1754534526.59603,\"level\":\"DEBUG\",\"event\":\"node.message_processed\",\"message\":\"Message processed in 0.012779s\",\"trace_id\":\"8bc9e9e5-4b8e-4c8e-94d4-b3b47a1906a1\",\"node\":\"obs_processor\",\"port\":\"input\",\"json\":false,\"duration\":0.012779124997905456}\n",
      "{\"ts\":1754534526.596118,\"level\":\"DEBUG\",\"event\":\"scheduler.process_tick\",\"message\":\"Processing tick for node obs_processor\",\"node\":\"obs_processor\",\"json\":false}\n",
      "{\"ts\":1754534526.596176,\"level\":\"DEBUG\",\"event\":\"node.emit\",\"message\":\"Emitting DATA message\",\"trace_id\":\"5bbeddc7-c1ce-4d32-8b92-e0873e3d6e6a\",\"node\":\"obs_processor\",\"port\":\"output\",\"json\":false,\"message_type\":\"DATA\"}\n",
      "{\"ts\":1754534526.5961971,\"level\":\"DEBUG\",\"event\":\"edge.enqueue\",\"message\":\"Item enqueued, depth=2\",\"node\":\"obs_processor\",\"edge_id\":\"obs_processor:output->obs_consumer:input\",\"json\":false}\n",
      "{\"ts\":1754534526.596215,\"level\":\"DEBUG\",\"event\":\"scheduler.message_routed\",\"message\":\"Message routed successfully: OK\",\"node\":\"obs_processor\",\"edge_id\":\"obs_processor:output->obs_consumer:input\",\"port\":\"output\",\"json\":false}\n",
      "{\"ts\":1754534526.596231,\"level\":\"INFO\",\"event\":\"node.tick_emit\",\"message\":\"Generated message 3\",\"node\":\"obs_processor\",\"json\":false}\n",
      "{\"ts\":1754534526.596259,\"level\":\"DEBUG\",\"event\":\"node.tick_processed\",\"message\":\"Tick processed successfully\",\"node\":\"obs_processor\",\"json\":false}\n",
      "{\"ts\":1754534526.596304,\"level\":\"DEBUG\",\"event\":\"scheduler.process_messages\",\"message\":\"Processing messages for node obs_consumer\",\"node\":\"obs_consumer\",\"json\":false}\n",
      "{\"ts\":1754534526.596341,\"level\":\"DEBUG\",\"event\":\"edge.dequeue\",\"message\":\"Item dequeued, depth=1\",\"edge_id\":\"obs_processor:output->obs_consumer:input\",\"json\":false}\n",
      "{\"ts\":1754534526.596374,\"level\":\"DEBUG\",\"event\":\"node.message_start\",\"message\":\"Processing message 3\",\"trace_id\":\"0833c5d1-f7c4-4407-ad57-e901f25d14f6\",\"node\":\"obs_consumer\",\"port\":\"input\",\"json\":false}\n",
      "{\"ts\":1754534526.608008,\"level\":\"INFO\",\"event\":\"node.message_complete\",\"message\":\"Message processed successfully\",\"trace_id\":\"0833c5d1-f7c4-4407-ad57-e901f25d14f6\",\"node\":\"obs_consumer\",\"port\":\"input\",\"json\":false,\"processing_time\":0.011591875001613516,\"message_sequence\":3}\n",
      "{\"ts\":1754534526.608137,\"level\":\"DEBUG\",\"event\":\"node.message_processed\",\"message\":\"Message processed in 0.011759s\",\"trace_id\":\"0833c5d1-f7c4-4407-ad57-e901f25d14f6\",\"node\":\"obs_consumer\",\"port\":\"input\",\"json\":false,\"duration\":0.011759207998693455}\n",
      "{\"ts\":1754534526.608267,\"level\":\"DEBUG\",\"event\":\"scheduler.process_messages\",\"message\":\"Processing messages for node obs_consumer\",\"node\":\"obs_consumer\",\"json\":false}\n",
      "{\"ts\":1754534526.6083012,\"level\":\"DEBUG\",\"event\":\"edge.dequeue\",\"message\":\"Item dequeued, depth=0\",\"edge_id\":\"obs_processor:output->obs_consumer:input\",\"json\":false}\n",
      "{\"ts\":1754534526.608337,\"level\":\"DEBUG\",\"event\":\"node.message_start\",\"message\":\"Processing message 4\",\"trace_id\":\"5bbeddc7-c1ce-4d32-8b92-e0873e3d6e6a\",\"node\":\"obs_consumer\",\"port\":\"input\",\"json\":false}\n",
      "{\"ts\":1754534526.620939,\"level\":\"INFO\",\"event\":\"node.message_complete\",\"message\":\"Message processed successfully\",\"trace_id\":\"5bbeddc7-c1ce-4d32-8b92-e0873e3d6e6a\",\"node\":\"obs_consumer\",\"port\":\"input\",\"json\":false,\"processing_time\":0.012577790999785066,\"message_sequence\":4}\n",
      "{\"ts\":1754534526.621161,\"level\":\"DEBUG\",\"event\":\"node.message_processed\",\"message\":\"Message processed in 0.012812s\",\"trace_id\":\"5bbeddc7-c1ce-4d32-8b92-e0873e3d6e6a\",\"node\":\"obs_consumer\",\"port\":\"input\",\"json\":false,\"duration\":0.012812332999601495}\n",
      "{\"ts\":1754534526.6214,\"level\":\"DEBUG\",\"event\":\"scheduler.process_tick\",\"message\":\"Processing tick for node obs_consumer\",\"node\":\"obs_consumer\",\"json\":false}\n",
      "{\"ts\":1754534526.621505,\"level\":\"DEBUG\",\"event\":\"node.tick_processed\",\"message\":\"Tick processed successfully\",\"node\":\"obs_consumer\",\"json\":false}\n",
      "{\"ts\":1754534526.684832,\"level\":\"DEBUG\",\"event\":\"scheduler.process_tick\",\"message\":\"Processing tick for node obs_producer\",\"node\":\"obs_producer\",\"json\":false}\n",
      "{\"ts\":1754534526.685239,\"level\":\"DEBUG\",\"event\":\"node.emit\",\"message\":\"Emitting DATA message\",\"trace_id\":\"f534fd52-349e-40c4-b4fb-ca7db80fb6de\",\"node\":\"obs_producer\",\"port\":\"output\",\"json\":false,\"message_type\":\"DATA\"}\n",
      "{\"ts\":1754534526.685344,\"level\":\"DEBUG\",\"event\":\"edge.enqueue\",\"message\":\"Item enqueued, depth=1\",\"node\":\"obs_producer\",\"edge_id\":\"obs_producer:output->obs_processor:input\",\"json\":false}\n",
      "{\"ts\":1754534526.685416,\"level\":\"DEBUG\",\"event\":\"scheduler.message_routed\",\"message\":\"Message routed successfully: OK\",\"node\":\"obs_producer\",\"edge_id\":\"obs_producer:output->obs_processor:input\",\"port\":\"output\",\"json\":false}\n",
      "{\"ts\":1754534526.685466,\"level\":\"INFO\",\"event\":\"node.tick_emit\",\"message\":\"Generated message 1\",\"node\":\"obs_producer\",\"json\":false}\n",
      "{\"ts\":1754534526.6855302,\"level\":\"DEBUG\",\"event\":\"node.tick_processed\",\"message\":\"Tick processed successfully\",\"node\":\"obs_producer\",\"json\":false}\n",
      "{\"ts\":1754534526.68567,\"level\":\"DEBUG\",\"event\":\"scheduler.process_messages\",\"message\":\"Processing messages for node obs_processor\",\"node\":\"obs_processor\",\"json\":false}\n",
      "{\"ts\":1754534526.685728,\"level\":\"DEBUG\",\"event\":\"edge.dequeue\",\"message\":\"Item dequeued, depth=0\",\"edge_id\":\"obs_producer:output->obs_processor:input\",\"json\":false}\n",
      "{\"ts\":1754534526.685784,\"level\":\"DEBUG\",\"event\":\"node.message_start\",\"message\":\"Processing message 3\",\"trace_id\":\"f534fd52-349e-40c4-b4fb-ca7db80fb6de\",\"node\":\"obs_processor\",\"port\":\"input\",\"json\":false}\n",
      "{\"ts\":1754534526.696173,\"level\":\"DEBUG\",\"event\":\"node.emit\",\"message\":\"Emitting DATA message\",\"trace_id\":\"50944d71-5298-4a2c-bf4b-647aa8884cb6\",\"node\":\"obs_processor\",\"port\":\"output\",\"json\":false,\"message_type\":\"DATA\"}\n",
      "{\"ts\":1754534526.696355,\"level\":\"DEBUG\",\"event\":\"edge.enqueue\",\"message\":\"Item enqueued, depth=1\",\"trace_id\":\"f534fd52-349e-40c4-b4fb-ca7db80fb6de\",\"node\":\"obs_processor\",\"edge_id\":\"obs_processor:output->obs_consumer:input\",\"port\":\"input\",\"json\":false}\n",
      "{\"ts\":1754534526.696445,\"level\":\"DEBUG\",\"event\":\"scheduler.message_routed\",\"message\":\"Message routed successfully: OK\",\"trace_id\":\"f534fd52-349e-40c4-b4fb-ca7db80fb6de\",\"node\":\"obs_processor\",\"edge_id\":\"obs_processor:output->obs_consumer:input\",\"port\":\"output\",\"json\":false}\n",
      "{\"ts\":1754534526.696533,\"level\":\"DEBUG\",\"event\":\"node.message_emitted\",\"message\":\"Emitted processed message\",\"trace_id\":\"f534fd52-349e-40c4-b4fb-ca7db80fb6de\",\"node\":\"obs_processor\",\"port\":\"input\",\"json\":false}\n",
      "{\"ts\":1754534526.696664,\"level\":\"INFO\",\"event\":\"node.message_complete\",\"message\":\"Message processed successfully\",\"trace_id\":\"f534fd52-349e-40c4-b4fb-ca7db80fb6de\",\"node\":\"obs_processor\",\"port\":\"input\",\"json\":false,\"processing_time\":0.010277208006300498,\"message_sequence\":3}\n",
      "{\"ts\":1754534526.696713,\"level\":\"DEBUG\",\"event\":\"node.message_processed\",\"message\":\"Message processed in 0.010922s\",\"trace_id\":\"f534fd52-349e-40c4-b4fb-ca7db80fb6de\",\"node\":\"obs_processor\",\"port\":\"input\",\"json\":false,\"duration\":0.010922333000053186}\n",
      "{\"ts\":1754534526.69689,\"level\":\"DEBUG\",\"event\":\"scheduler.process_tick\",\"message\":\"Processing tick for node obs_processor\",\"node\":\"obs_processor\",\"json\":false}\n",
      "{\"ts\":1754534526.6970549,\"level\":\"DEBUG\",\"event\":\"node.emit\",\"message\":\"Emitting DATA message\",\"trace_id\":\"cc4bb056-2422-4787-bbdc-59a47d29c882\",\"node\":\"obs_processor\",\"port\":\"output\",\"json\":false,\"message_type\":\"DATA\"}\n",
      "{\"ts\":1754534526.697099,\"level\":\"DEBUG\",\"event\":\"edge.enqueue\",\"message\":\"Item enqueued, depth=2\",\"node\":\"obs_processor\",\"edge_id\":\"obs_processor:output->obs_consumer:input\",\"json\":false}\n",
      "{\"ts\":1754534526.697134,\"level\":\"DEBUG\",\"event\":\"scheduler.message_routed\",\"message\":\"Message routed successfully: OK\",\"node\":\"obs_processor\",\"edge_id\":\"obs_processor:output->obs_consumer:input\",\"port\":\"output\",\"json\":false}\n",
      "{\"ts\":1754534526.69716,\"level\":\"INFO\",\"event\":\"node.tick_emit\",\"message\":\"Generated message 4\",\"node\":\"obs_processor\",\"json\":false}\n",
      "{\"ts\":1754534526.69721,\"level\":\"DEBUG\",\"event\":\"node.tick_processed\",\"message\":\"Tick processed successfully\",\"node\":\"obs_processor\",\"json\":false}\n",
      "{\"ts\":1754534526.697379,\"level\":\"DEBUG\",\"event\":\"scheduler.process_messages\",\"message\":\"Processing messages for node obs_consumer\",\"node\":\"obs_consumer\",\"json\":false}\n",
      "{\"ts\":1754534526.697481,\"level\":\"DEBUG\",\"event\":\"edge.dequeue\",\"message\":\"Item dequeued, depth=1\",\"edge_id\":\"obs_processor:output->obs_consumer:input\",\"json\":false}\n",
      "{\"ts\":1754534526.697551,\"level\":\"DEBUG\",\"event\":\"node.message_start\",\"message\":\"Processing message 5\",\"trace_id\":\"50944d71-5298-4a2c-bf4b-647aa8884cb6\",\"node\":\"obs_consumer\",\"port\":\"input\",\"json\":false}\n",
      "{\"ts\":1754534526.70864,\"level\":\"INFO\",\"event\":\"node.message_complete\",\"message\":\"Message processed successfully\",\"trace_id\":\"50944d71-5298-4a2c-bf4b-647aa8884cb6\",\"node\":\"obs_consumer\",\"port\":\"input\",\"json\":false,\"processing_time\":0.011074542002461385,\"message_sequence\":5}\n",
      "{\"ts\":1754534526.708849,\"level\":\"DEBUG\",\"event\":\"node.message_processed\",\"message\":\"Message processed in 0.011291s\",\"trace_id\":\"50944d71-5298-4a2c-bf4b-647aa8884cb6\",\"node\":\"obs_consumer\",\"port\":\"input\",\"json\":false,\"duration\":0.011291499999060761}\n",
      "{\"ts\":1754534526.709137,\"level\":\"DEBUG\",\"event\":\"scheduler.process_messages\",\"message\":\"Processing messages for node obs_consumer\",\"node\":\"obs_consumer\",\"json\":false}\n",
      "{\"ts\":1754534526.709235,\"level\":\"DEBUG\",\"event\":\"edge.dequeue\",\"message\":\"Item dequeued, depth=0\",\"edge_id\":\"obs_processor:output->obs_consumer:input\",\"json\":false}\n",
      "{\"ts\":1754534526.7093592,\"level\":\"DEBUG\",\"event\":\"node.message_start\",\"message\":\"Processing message 6\",\"trace_id\":\"cc4bb056-2422-4787-bbdc-59a47d29c882\",\"node\":\"obs_consumer\",\"port\":\"input\",\"json\":false}\n",
      "{\"ts\":1754534526.7210891,\"level\":\"INFO\",\"event\":\"node.message_complete\",\"message\":\"Message processed successfully\",\"trace_id\":\"cc4bb056-2422-4787-bbdc-59a47d29c882\",\"node\":\"obs_consumer\",\"port\":\"input\",\"json\":false,\"processing_time\":0.01171079200139502,\"message_sequence\":6}\n",
      "{\"ts\":1754534526.721318,\"level\":\"DEBUG\",\"event\":\"node.message_processed\",\"message\":\"Message processed in 0.011953s\",\"trace_id\":\"cc4bb056-2422-4787-bbdc-59a47d29c882\",\"node\":\"obs_consumer\",\"port\":\"input\",\"json\":false,\"duration\":0.011953458000789396}\n",
      "{\"ts\":1754534526.7269812,\"level\":\"DEBUG\",\"event\":\"scheduler.process_tick\",\"message\":\"Processing tick for node obs_consumer\",\"node\":\"obs_consumer\",\"json\":false}\n",
      "{\"ts\":1754534526.727133,\"level\":\"DEBUG\",\"event\":\"node.tick_processed\",\"message\":\"Tick processed successfully\",\"node\":\"obs_consumer\",\"json\":false}\n",
      "{\"ts\":1754534526.788474,\"level\":\"DEBUG\",\"event\":\"scheduler.process_tick\",\"message\":\"Processing tick for node obs_producer\",\"node\":\"obs_producer\",\"json\":false}\n",
      "{\"ts\":1754534526.788737,\"level\":\"DEBUG\",\"event\":\"node.emit\",\"message\":\"Emitting DATA message\",\"trace_id\":\"5419a074-3189-4891-ae5a-2b74e522f562\",\"node\":\"obs_producer\",\"port\":\"output\",\"json\":false,\"message_type\":\"DATA\"}\n",
      "{\"ts\":1754534526.788793,\"level\":\"DEBUG\",\"event\":\"edge.enqueue\",\"message\":\"Item enqueued, depth=1\",\"node\":\"obs_producer\",\"edge_id\":\"obs_producer:output->obs_processor:input\",\"json\":false}\n",
      "{\"ts\":1754534526.788831,\"level\":\"DEBUG\",\"event\":\"scheduler.message_routed\",\"message\":\"Message routed successfully: OK\",\"node\":\"obs_producer\",\"edge_id\":\"obs_producer:output->obs_processor:input\",\"port\":\"output\",\"json\":false}\n",
      "{\"ts\":1754534526.788864,\"level\":\"INFO\",\"event\":\"node.tick_emit\",\"message\":\"Generated message 1\",\"node\":\"obs_producer\",\"json\":false}\n",
      "{\"ts\":1754534526.788908,\"level\":\"DEBUG\",\"event\":\"node.tick_processed\",\"message\":\"Tick processed successfully\",\"node\":\"obs_producer\",\"json\":false}\n",
      "{\"ts\":1754534526.789027,\"level\":\"DEBUG\",\"event\":\"scheduler.process_messages\",\"message\":\"Processing messages for node obs_processor\",\"node\":\"obs_processor\",\"json\":false}\n",
      "{\"ts\":1754534526.789089,\"level\":\"DEBUG\",\"event\":\"edge.dequeue\",\"message\":\"Item dequeued, depth=0\",\"edge_id\":\"obs_producer:output->obs_processor:input\",\"json\":false}\n",
      "{\"ts\":1754534526.7891681,\"level\":\"DEBUG\",\"event\":\"node.message_start\",\"message\":\"Processing message 4\",\"trace_id\":\"5419a074-3189-4891-ae5a-2b74e522f562\",\"node\":\"obs_processor\",\"port\":\"input\",\"json\":false}\n",
      "{\"ts\":1754534526.800965,\"level\":\"DEBUG\",\"event\":\"node.emit\",\"message\":\"Emitting DATA message\",\"trace_id\":\"23935708-7612-4f6e-a2c2-5b81d8593512\",\"node\":\"obs_processor\",\"port\":\"output\",\"json\":false,\"message_type\":\"DATA\"}\n",
      "{\"ts\":1754534526.801155,\"level\":\"DEBUG\",\"event\":\"edge.enqueue\",\"message\":\"Item enqueued, depth=1\",\"trace_id\":\"5419a074-3189-4891-ae5a-2b74e522f562\",\"node\":\"obs_processor\",\"edge_id\":\"obs_processor:output->obs_consumer:input\",\"port\":\"input\",\"json\":false}\n",
      "{\"ts\":1754534526.8012831,\"level\":\"DEBUG\",\"event\":\"scheduler.message_routed\",\"message\":\"Message routed successfully: OK\",\"trace_id\":\"5419a074-3189-4891-ae5a-2b74e522f562\",\"node\":\"obs_processor\",\"edge_id\":\"obs_processor:output->obs_consumer:input\",\"port\":\"output\",\"json\":false}\n",
      "{\"ts\":1754534526.801342,\"level\":\"DEBUG\",\"event\":\"node.message_emitted\",\"message\":\"Emitted processed message\",\"trace_id\":\"5419a074-3189-4891-ae5a-2b74e522f562\",\"node\":\"obs_processor\",\"port\":\"input\",\"json\":false}\n",
      "{\"ts\":1754534526.8013902,\"level\":\"INFO\",\"event\":\"node.message_complete\",\"message\":\"Message processed successfully\",\"trace_id\":\"5419a074-3189-4891-ae5a-2b74e522f562\",\"node\":\"obs_processor\",\"port\":\"input\",\"json\":false,\"processing_time\":0.01166933400236303,\"message_sequence\":4}\n",
      "{\"ts\":1754534526.801452,\"level\":\"DEBUG\",\"event\":\"node.message_processed\",\"message\":\"Message processed in 0.012279s\",\"trace_id\":\"5419a074-3189-4891-ae5a-2b74e522f562\",\"node\":\"obs_processor\",\"port\":\"input\",\"json\":false,\"duration\":0.012278624999453314}\n",
      "{\"ts\":1754534526.801665,\"level\":\"DEBUG\",\"event\":\"scheduler.process_tick\",\"message\":\"Processing tick for node obs_processor\",\"node\":\"obs_processor\",\"json\":false}\n",
      "{\"ts\":1754534526.801827,\"level\":\"DEBUG\",\"event\":\"node.emit\",\"message\":\"Emitting DATA message\",\"trace_id\":\"87aa872d-f30a-4cbe-8d20-dd1dfbcdac02\",\"node\":\"obs_processor\",\"port\":\"output\",\"json\":false,\"message_type\":\"DATA\"}\n",
      "{\"ts\":1754534526.801892,\"level\":\"DEBUG\",\"event\":\"edge.enqueue\",\"message\":\"Item enqueued, depth=2\",\"node\":\"obs_processor\",\"edge_id\":\"obs_processor:output->obs_consumer:input\",\"json\":false}\n",
      "{\"ts\":1754534526.801944,\"level\":\"DEBUG\",\"event\":\"scheduler.message_routed\",\"message\":\"Message routed successfully: OK\",\"node\":\"obs_processor\",\"edge_id\":\"obs_processor:output->obs_consumer:input\",\"port\":\"output\",\"json\":false}\n",
      "{\"ts\":1754534526.8019898,\"level\":\"INFO\",\"event\":\"node.tick_emit\",\"message\":\"Generated message 5\",\"node\":\"obs_processor\",\"json\":false}\n",
      "{\"ts\":1754534526.802043,\"level\":\"DEBUG\",\"event\":\"node.tick_processed\",\"message\":\"Tick processed successfully\",\"node\":\"obs_processor\",\"json\":false}\n",
      "{\"ts\":1754534526.802161,\"level\":\"DEBUG\",\"event\":\"scheduler.process_messages\",\"message\":\"Processing messages for node obs_consumer\",\"node\":\"obs_consumer\",\"json\":false}\n",
      "{\"ts\":1754534526.8022301,\"level\":\"DEBUG\",\"event\":\"edge.dequeue\",\"message\":\"Item dequeued, depth=1\",\"edge_id\":\"obs_processor:output->obs_consumer:input\",\"json\":false}\n",
      "{\"ts\":1754534526.8023171,\"level\":\"DEBUG\",\"event\":\"node.message_start\",\"message\":\"Processing message 7\",\"trace_id\":\"23935708-7612-4f6e-a2c2-5b81d8593512\",\"node\":\"obs_consumer\",\"port\":\"input\",\"json\":false}\n",
      "{\"ts\":1754534526.81325,\"level\":\"INFO\",\"event\":\"node.message_complete\",\"message\":\"Message processed successfully\",\"trace_id\":\"23935708-7612-4f6e-a2c2-5b81d8593512\",\"node\":\"obs_consumer\",\"port\":\"input\",\"json\":false,\"processing_time\":0.01092412500292994,\"message_sequence\":7}\n",
      "{\"ts\":1754534526.813501,\"level\":\"DEBUG\",\"event\":\"node.message_processed\",\"message\":\"Message processed in 0.011164s\",\"trace_id\":\"23935708-7612-4f6e-a2c2-5b81d8593512\",\"node\":\"obs_consumer\",\"port\":\"input\",\"json\":false,\"duration\":0.011164208000991493}\n",
      "{\"ts\":1754534526.813796,\"level\":\"DEBUG\",\"event\":\"scheduler.process_messages\",\"message\":\"Processing messages for node obs_consumer\",\"node\":\"obs_consumer\",\"json\":false}\n",
      "{\"ts\":1754534526.8138518,\"level\":\"DEBUG\",\"event\":\"edge.dequeue\",\"message\":\"Item dequeued, depth=0\",\"edge_id\":\"obs_processor:output->obs_consumer:input\",\"json\":false}\n",
      "{\"ts\":1754534526.813907,\"level\":\"DEBUG\",\"event\":\"node.message_start\",\"message\":\"Processing message 8\",\"trace_id\":\"87aa872d-f30a-4cbe-8d20-dd1dfbcdac02\",\"node\":\"obs_consumer\",\"port\":\"input\",\"json\":false}\n",
      "{\"ts\":1754534526.82653,\"level\":\"INFO\",\"event\":\"node.message_complete\",\"message\":\"Message processed successfully\",\"trace_id\":\"87aa872d-f30a-4cbe-8d20-dd1dfbcdac02\",\"node\":\"obs_consumer\",\"port\":\"input\",\"json\":false,\"processing_time\":0.012597792003361974,\"message_sequence\":8}\n",
      "{\"ts\":1754534526.826776,\"level\":\"DEBUG\",\"event\":\"node.message_processed\",\"message\":\"Message processed in 0.012859s\",\"trace_id\":\"87aa872d-f30a-4cbe-8d20-dd1dfbcdac02\",\"node\":\"obs_consumer\",\"port\":\"input\",\"json\":false,\"duration\":0.012859458001912571}\n",
      "{\"ts\":1754534526.833473,\"level\":\"DEBUG\",\"event\":\"scheduler.process_tick\",\"message\":\"Processing tick for node obs_consumer\",\"node\":\"obs_consumer\",\"json\":false}\n",
      "{\"ts\":1754534526.83366,\"level\":\"DEBUG\",\"event\":\"node.tick_processed\",\"message\":\"Tick processed successfully\",\"node\":\"obs_consumer\",\"json\":false}\n",
      "{\"ts\":1754534526.889591,\"level\":\"DEBUG\",\"event\":\"scheduler.process_tick\",\"message\":\"Processing tick for node obs_producer\",\"node\":\"obs_producer\",\"json\":false}\n",
      "{\"ts\":1754534526.890113,\"level\":\"DEBUG\",\"event\":\"node.emit\",\"message\":\"Emitting DATA message\",\"trace_id\":\"025ebcc3-27cd-4f88-b4b8-16020cc43f6c\",\"node\":\"obs_producer\",\"port\":\"output\",\"json\":false,\"message_type\":\"DATA\"}\n",
      "{\"ts\":1754534526.890229,\"level\":\"DEBUG\",\"event\":\"edge.enqueue\",\"message\":\"Item enqueued, depth=1\",\"node\":\"obs_producer\",\"edge_id\":\"obs_producer:output->obs_processor:input\",\"json\":false}\n",
      "{\"ts\":1754534526.8902779,\"level\":\"DEBUG\",\"event\":\"scheduler.message_routed\",\"message\":\"Message routed successfully: OK\",\"node\":\"obs_producer\",\"edge_id\":\"obs_producer:output->obs_processor:input\",\"port\":\"output\",\"json\":false}\n",
      "{\"ts\":1754534526.890325,\"level\":\"INFO\",\"event\":\"node.tick_emit\",\"message\":\"Generated message 1\",\"node\":\"obs_producer\",\"json\":false}\n",
      "{\"ts\":1754534526.8903549,\"level\":\"DEBUG\",\"event\":\"node.tick_processed\",\"message\":\"Tick processed successfully\",\"node\":\"obs_producer\",\"json\":false}\n",
      "{\"ts\":1754534526.890424,\"level\":\"DEBUG\",\"event\":\"scheduler.process_messages\",\"message\":\"Processing messages for node obs_processor\",\"node\":\"obs_processor\",\"json\":false}\n",
      "{\"ts\":1754534526.890452,\"level\":\"DEBUG\",\"event\":\"edge.dequeue\",\"message\":\"Item dequeued, depth=0\",\"edge_id\":\"obs_producer:output->obs_processor:input\",\"json\":false}\n",
      "{\"ts\":1754534526.8904881,\"level\":\"DEBUG\",\"event\":\"node.message_start\",\"message\":\"Processing message 5\",\"trace_id\":\"025ebcc3-27cd-4f88-b4b8-16020cc43f6c\",\"node\":\"obs_processor\",\"port\":\"input\",\"json\":false}\n",
      "{\"ts\":1754534526.9024708,\"level\":\"DEBUG\",\"event\":\"node.emit\",\"message\":\"Emitting DATA message\",\"trace_id\":\"a0e719c6-b46c-475a-a629-d10c1b326da8\",\"node\":\"obs_processor\",\"port\":\"output\",\"json\":false,\"message_type\":\"DATA\"}\n",
      "{\"ts\":1754534526.902591,\"level\":\"DEBUG\",\"event\":\"edge.enqueue\",\"message\":\"Item enqueued, depth=1\",\"trace_id\":\"025ebcc3-27cd-4f88-b4b8-16020cc43f6c\",\"node\":\"obs_processor\",\"edge_id\":\"obs_processor:output->obs_consumer:input\",\"port\":\"input\",\"json\":false}\n",
      "{\"ts\":1754534526.9026392,\"level\":\"DEBUG\",\"event\":\"scheduler.message_routed\",\"message\":\"Message routed successfully: OK\",\"trace_id\":\"025ebcc3-27cd-4f88-b4b8-16020cc43f6c\",\"node\":\"obs_processor\",\"edge_id\":\"obs_processor:output->obs_consumer:input\",\"port\":\"output\",\"json\":false}\n",
      "{\"ts\":1754534526.9026718,\"level\":\"DEBUG\",\"event\":\"node.message_emitted\",\"message\":\"Emitted processed message\",\"trace_id\":\"025ebcc3-27cd-4f88-b4b8-16020cc43f6c\",\"node\":\"obs_processor\",\"port\":\"input\",\"json\":false}\n",
      "{\"ts\":1754534526.902703,\"level\":\"INFO\",\"event\":\"node.message_complete\",\"message\":\"Message processed successfully\",\"trace_id\":\"025ebcc3-27cd-4f88-b4b8-16020cc43f6c\",\"node\":\"obs_processor\",\"port\":\"input\",\"json\":false,\"processing_time\":0.011810292002337519,\"message_sequence\":5}\n",
      "{\"ts\":1754534526.90274,\"level\":\"DEBUG\",\"event\":\"node.message_processed\",\"message\":\"Message processed in 0.012250s\",\"trace_id\":\"025ebcc3-27cd-4f88-b4b8-16020cc43f6c\",\"node\":\"obs_processor\",\"port\":\"input\",\"json\":false,\"duration\":0.012249583000084385}\n",
      "{\"ts\":1754534526.902858,\"level\":\"DEBUG\",\"event\":\"scheduler.process_tick\",\"message\":\"Processing tick for node obs_processor\",\"node\":\"obs_processor\",\"json\":false}\n",
      "{\"ts\":1754534526.902966,\"level\":\"DEBUG\",\"event\":\"node.tick_processed\",\"message\":\"Tick processed successfully\",\"node\":\"obs_processor\",\"json\":false}\n",
      "{\"ts\":1754534526.90305,\"level\":\"DEBUG\",\"event\":\"scheduler.process_messages\",\"message\":\"Processing messages for node obs_consumer\",\"node\":\"obs_consumer\",\"json\":false}\n",
      "{\"ts\":1754534526.9030871,\"level\":\"DEBUG\",\"event\":\"edge.dequeue\",\"message\":\"Item dequeued, depth=0\",\"edge_id\":\"obs_processor:output->obs_consumer:input\",\"json\":false}\n",
      "{\"ts\":1754534526.903189,\"level\":\"DEBUG\",\"event\":\"node.message_start\",\"message\":\"Processing message 9\",\"trace_id\":\"a0e719c6-b46c-475a-a629-d10c1b326da8\",\"node\":\"obs_consumer\",\"port\":\"input\",\"json\":false}\n",
      "{\"ts\":1754534526.9148202,\"level\":\"INFO\",\"event\":\"node.message_complete\",\"message\":\"Message processed successfully\",\"trace_id\":\"a0e719c6-b46c-475a-a629-d10c1b326da8\",\"node\":\"obs_consumer\",\"port\":\"input\",\"json\":false,\"processing_time\":0.011624459002632648,\"message_sequence\":9}\n",
      "{\"ts\":1754534526.914925,\"level\":\"DEBUG\",\"event\":\"node.message_processed\",\"message\":\"Message processed in 0.011729s\",\"trace_id\":\"a0e719c6-b46c-475a-a629-d10c1b326da8\",\"node\":\"obs_consumer\",\"port\":\"input\",\"json\":false,\"duration\":0.011729291996743996}\n",
      "{\"ts\":1754534526.9380538,\"level\":\"DEBUG\",\"event\":\"scheduler.process_tick\",\"message\":\"Processing tick for node obs_consumer\",\"node\":\"obs_consumer\",\"json\":false}\n",
      "{\"ts\":1754534526.938196,\"level\":\"DEBUG\",\"event\":\"node.tick_processed\",\"message\":\"Tick processed successfully\",\"node\":\"obs_consumer\",\"json\":false}\n",
      "{\"ts\":1754534526.996785,\"level\":\"DEBUG\",\"event\":\"scheduler.process_tick\",\"message\":\"Processing tick for node obs_producer\",\"node\":\"obs_producer\",\"json\":false}\n",
      "{\"ts\":1754534526.997231,\"level\":\"DEBUG\",\"event\":\"node.emit\",\"message\":\"Emitting DATA message\",\"trace_id\":\"1f602ed4-19f3-42e0-b7d5-e268ca3986f2\",\"node\":\"obs_producer\",\"port\":\"output\",\"json\":false,\"message_type\":\"DATA\"}\n",
      "{\"ts\":1754534526.9973388,\"level\":\"DEBUG\",\"event\":\"edge.enqueue\",\"message\":\"Item enqueued, depth=1\",\"node\":\"obs_producer\",\"edge_id\":\"obs_producer:output->obs_processor:input\",\"json\":false}\n",
      "{\"ts\":1754534526.997781,\"level\":\"DEBUG\",\"event\":\"scheduler.message_routed\",\"message\":\"Message routed successfully: OK\",\"node\":\"obs_producer\",\"edge_id\":\"obs_producer:output->obs_processor:input\",\"port\":\"output\",\"json\":false}\n",
      "{\"ts\":1754534526.997896,\"level\":\"INFO\",\"event\":\"node.tick_emit\",\"message\":\"Generated message 1\",\"node\":\"obs_producer\",\"json\":false}\n",
      "{\"ts\":1754534526.997942,\"level\":\"DEBUG\",\"event\":\"node.tick_processed\",\"message\":\"Tick processed successfully\",\"node\":\"obs_producer\",\"json\":false}\n",
      "{\"ts\":1754534526.9980228,\"level\":\"DEBUG\",\"event\":\"scheduler.process_messages\",\"message\":\"Processing messages for node obs_processor\",\"node\":\"obs_processor\",\"json\":false}\n",
      "{\"ts\":1754534526.998053,\"level\":\"DEBUG\",\"event\":\"edge.dequeue\",\"message\":\"Item dequeued, depth=0\",\"edge_id\":\"obs_producer:output->obs_processor:input\",\"json\":false}\n",
      "{\"ts\":1754534526.998092,\"level\":\"DEBUG\",\"event\":\"node.message_start\",\"message\":\"Processing message 6\",\"trace_id\":\"1f602ed4-19f3-42e0-b7d5-e268ca3986f2\",\"node\":\"obs_processor\",\"port\":\"input\",\"json\":false}\n",
      "{\"ts\":1754534527.01087,\"level\":\"DEBUG\",\"event\":\"node.emit\",\"message\":\"Emitting DATA message\",\"trace_id\":\"679f96bc-6c08-4fc3-8d1a-6790dd6bb1df\",\"node\":\"obs_processor\",\"port\":\"output\",\"json\":false,\"message_type\":\"DATA\"}\n",
      "{\"ts\":1754534527.011092,\"level\":\"DEBUG\",\"event\":\"edge.enqueue\",\"message\":\"Item enqueued, depth=1\",\"trace_id\":\"1f602ed4-19f3-42e0-b7d5-e268ca3986f2\",\"node\":\"obs_processor\",\"edge_id\":\"obs_processor:output->obs_consumer:input\",\"port\":\"input\",\"json\":false}\n",
      "{\"ts\":1754534527.011202,\"level\":\"DEBUG\",\"event\":\"scheduler.message_routed\",\"message\":\"Message routed successfully: OK\",\"trace_id\":\"1f602ed4-19f3-42e0-b7d5-e268ca3986f2\",\"node\":\"obs_processor\",\"edge_id\":\"obs_processor:output->obs_consumer:input\",\"port\":\"output\",\"json\":false}\n",
      "{\"ts\":1754534527.01129,\"level\":\"DEBUG\",\"event\":\"node.message_emitted\",\"message\":\"Emitted processed message\",\"trace_id\":\"1f602ed4-19f3-42e0-b7d5-e268ca3986f2\",\"node\":\"obs_processor\",\"port\":\"input\",\"json\":false}\n",
      "{\"ts\":1754534527.011342,\"level\":\"INFO\",\"event\":\"node.message_complete\",\"message\":\"Message processed successfully\",\"trace_id\":\"1f602ed4-19f3-42e0-b7d5-e268ca3986f2\",\"node\":\"obs_processor\",\"port\":\"input\",\"json\":false,\"processing_time\":0.012591208003868815,\"message_sequence\":6}\n",
      "{\"ts\":1754534527.0114079,\"level\":\"DEBUG\",\"event\":\"node.message_processed\",\"message\":\"Message processed in 0.013307s\",\"trace_id\":\"1f602ed4-19f3-42e0-b7d5-e268ca3986f2\",\"node\":\"obs_processor\",\"port\":\"input\",\"json\":false,\"duration\":0.013306792003277224}\n",
      "{\"ts\":1754534527.011667,\"level\":\"DEBUG\",\"event\":\"scheduler.process_tick\",\"message\":\"Processing tick for node obs_processor\",\"node\":\"obs_processor\",\"json\":false}\n",
      "{\"ts\":1754534527.011797,\"level\":\"DEBUG\",\"event\":\"node.tick_processed\",\"message\":\"Tick processed successfully\",\"node\":\"obs_processor\",\"json\":false}\n",
      "{\"ts\":1754534527.011918,\"level\":\"DEBUG\",\"event\":\"scheduler.process_messages\",\"message\":\"Processing messages for node obs_consumer\",\"node\":\"obs_consumer\",\"json\":false}\n",
      "{\"ts\":1754534527.0119848,\"level\":\"DEBUG\",\"event\":\"edge.dequeue\",\"message\":\"Item dequeued, depth=0\",\"edge_id\":\"obs_processor:output->obs_consumer:input\",\"json\":false}\n",
      "{\"ts\":1754534527.0120661,\"level\":\"DEBUG\",\"event\":\"node.message_start\",\"message\":\"Processing message 10\",\"trace_id\":\"679f96bc-6c08-4fc3-8d1a-6790dd6bb1df\",\"node\":\"obs_consumer\",\"port\":\"input\",\"json\":false}\n",
      "{\"ts\":1754534527.02336,\"level\":\"INFO\",\"event\":\"node.message_complete\",\"message\":\"Message processed successfully\",\"trace_id\":\"679f96bc-6c08-4fc3-8d1a-6790dd6bb1df\",\"node\":\"obs_consumer\",\"port\":\"input\",\"json\":false,\"processing_time\":0.011279124999418855,\"message_sequence\":10}\n",
      "{\"ts\":1754534527.023554,\"level\":\"DEBUG\",\"event\":\"node.message_processed\",\"message\":\"Message processed in 0.011487s\",\"trace_id\":\"679f96bc-6c08-4fc3-8d1a-6790dd6bb1df\",\"node\":\"obs_consumer\",\"port\":\"input\",\"json\":false,\"duration\":0.011486667004646733}\n",
      "{\"ts\":1754534527.043347,\"level\":\"DEBUG\",\"event\":\"scheduler.process_tick\",\"message\":\"Processing tick for node obs_consumer\",\"node\":\"obs_consumer\",\"json\":false}\n",
      "{\"ts\":1754534527.043633,\"level\":\"DEBUG\",\"event\":\"node.tick_processed\",\"message\":\"Tick processed successfully\",\"node\":\"obs_consumer\",\"json\":false}\n",
      "{\"ts\":1754534527.09824,\"level\":\"DEBUG\",\"event\":\"scheduler.process_tick\",\"message\":\"Processing tick for node obs_producer\",\"node\":\"obs_producer\",\"json\":false}\n",
      "{\"ts\":1754534527.0984561,\"level\":\"DEBUG\",\"event\":\"node.emit\",\"message\":\"Emitting DATA message\",\"trace_id\":\"d282cdf4-2bf2-463a-806f-5845d7663ac6\",\"node\":\"obs_producer\",\"port\":\"output\",\"json\":false,\"message_type\":\"DATA\"}\n",
      "{\"ts\":1754534527.098505,\"level\":\"DEBUG\",\"event\":\"edge.enqueue\",\"message\":\"Item enqueued, depth=1\",\"node\":\"obs_producer\",\"edge_id\":\"obs_producer:output->obs_processor:input\",\"json\":false}\n",
      "{\"ts\":1754534527.09854,\"level\":\"DEBUG\",\"event\":\"scheduler.message_routed\",\"message\":\"Message routed successfully: OK\",\"node\":\"obs_producer\",\"edge_id\":\"obs_producer:output->obs_processor:input\",\"port\":\"output\",\"json\":false}\n",
      "{\"ts\":1754534527.098563,\"level\":\"INFO\",\"event\":\"node.tick_emit\",\"message\":\"Generated message 1\",\"node\":\"obs_producer\",\"json\":false}\n",
      "{\"ts\":1754534527.09859,\"level\":\"DEBUG\",\"event\":\"node.tick_processed\",\"message\":\"Tick processed successfully\",\"node\":\"obs_producer\",\"json\":false}\n",
      "{\"ts\":1754534527.098655,\"level\":\"DEBUG\",\"event\":\"scheduler.process_messages\",\"message\":\"Processing messages for node obs_processor\",\"node\":\"obs_processor\",\"json\":false}\n",
      "{\"ts\":1754534527.098691,\"level\":\"DEBUG\",\"event\":\"edge.dequeue\",\"message\":\"Item dequeued, depth=0\",\"edge_id\":\"obs_producer:output->obs_processor:input\",\"json\":false}\n",
      "{\"ts\":1754534527.098728,\"level\":\"DEBUG\",\"event\":\"node.message_start\",\"message\":\"Processing message 7\",\"trace_id\":\"d282cdf4-2bf2-463a-806f-5845d7663ac6\",\"node\":\"obs_processor\",\"port\":\"input\",\"json\":false}\n",
      "{\"ts\":1754534527.111418,\"level\":\"DEBUG\",\"event\":\"node.emit\",\"message\":\"Emitting DATA message\",\"trace_id\":\"84c45c47-9415-470d-9bd5-ca739b26349a\",\"node\":\"obs_processor\",\"port\":\"output\",\"json\":false,\"message_type\":\"DATA\"}\n",
      "{\"ts\":1754534527.1115851,\"level\":\"DEBUG\",\"event\":\"edge.enqueue\",\"message\":\"Item enqueued, depth=1\",\"trace_id\":\"d282cdf4-2bf2-463a-806f-5845d7663ac6\",\"node\":\"obs_processor\",\"edge_id\":\"obs_processor:output->obs_consumer:input\",\"port\":\"input\",\"json\":false}\n",
      "{\"ts\":1754534527.111658,\"level\":\"DEBUG\",\"event\":\"scheduler.message_routed\",\"message\":\"Message routed successfully: OK\",\"trace_id\":\"d282cdf4-2bf2-463a-806f-5845d7663ac6\",\"node\":\"obs_processor\",\"edge_id\":\"obs_processor:output->obs_consumer:input\",\"port\":\"output\",\"json\":false}\n",
      "{\"ts\":1754534527.111713,\"level\":\"DEBUG\",\"event\":\"node.message_emitted\",\"message\":\"Emitted processed message\",\"trace_id\":\"d282cdf4-2bf2-463a-806f-5845d7663ac6\",\"node\":\"obs_processor\",\"port\":\"input\",\"json\":false}\n",
      "{\"ts\":1754534527.11176,\"level\":\"INFO\",\"event\":\"node.message_complete\",\"message\":\"Message processed successfully\",\"trace_id\":\"d282cdf4-2bf2-463a-806f-5845d7663ac6\",\"node\":\"obs_processor\",\"port\":\"input\",\"json\":false,\"processing_time\":0.01256416700198315,\"message_sequence\":7}\n",
      "{\"ts\":1754534527.1118238,\"level\":\"DEBUG\",\"event\":\"node.message_processed\",\"message\":\"Message processed in 0.013087s\",\"trace_id\":\"d282cdf4-2bf2-463a-806f-5845d7663ac6\",\"node\":\"obs_processor\",\"port\":\"input\",\"json\":false,\"duration\":0.013086874998407438}\n",
      "{\"ts\":1754534527.112023,\"level\":\"DEBUG\",\"event\":\"scheduler.process_tick\",\"message\":\"Processing tick for node obs_processor\",\"node\":\"obs_processor\",\"json\":false}\n",
      "{\"ts\":1754534527.112146,\"level\":\"DEBUG\",\"event\":\"node.tick_processed\",\"message\":\"Tick processed successfully\",\"node\":\"obs_processor\",\"json\":false}\n",
      "{\"ts\":1754534527.112266,\"level\":\"DEBUG\",\"event\":\"scheduler.process_messages\",\"message\":\"Processing messages for node obs_consumer\",\"node\":\"obs_consumer\",\"json\":false}\n",
      "{\"ts\":1754534527.112334,\"level\":\"DEBUG\",\"event\":\"edge.dequeue\",\"message\":\"Item dequeued, depth=0\",\"edge_id\":\"obs_processor:output->obs_consumer:input\",\"json\":false}\n",
      "{\"ts\":1754534527.1124191,\"level\":\"DEBUG\",\"event\":\"node.message_start\",\"message\":\"Processing message 11\",\"trace_id\":\"84c45c47-9415-470d-9bd5-ca739b26349a\",\"node\":\"obs_consumer\",\"port\":\"input\",\"json\":false}\n",
      "{\"ts\":1754534527.124327,\"level\":\"INFO\",\"event\":\"node.message_complete\",\"message\":\"Message processed successfully\",\"trace_id\":\"84c45c47-9415-470d-9bd5-ca739b26349a\",\"node\":\"obs_consumer\",\"port\":\"input\",\"json\":false,\"processing_time\":0.011898791999556124,\"message_sequence\":11}\n",
      "{\"ts\":1754534527.1245399,\"level\":\"DEBUG\",\"event\":\"node.message_processed\",\"message\":\"Message processed in 0.012044s\",\"trace_id\":\"84c45c47-9415-470d-9bd5-ca739b26349a\",\"node\":\"obs_consumer\",\"port\":\"input\",\"json\":false,\"duration\":0.012044124996464234}\n",
      "{\"ts\":1754534527.149344,\"level\":\"DEBUG\",\"event\":\"scheduler.process_tick\",\"message\":\"Processing tick for node obs_consumer\",\"node\":\"obs_consumer\",\"json\":false}\n",
      "{\"ts\":1754534527.1495419,\"level\":\"DEBUG\",\"event\":\"node.tick_processed\",\"message\":\"Tick processed successfully\",\"node\":\"obs_consumer\",\"json\":false}\n",
      "{\"ts\":1754534527.199414,\"level\":\"DEBUG\",\"event\":\"scheduler.process_tick\",\"message\":\"Processing tick for node obs_producer\",\"node\":\"obs_producer\",\"json\":false}\n",
      "{\"ts\":1754534527.1995678,\"level\":\"DEBUG\",\"event\":\"node.emit\",\"message\":\"Emitting DATA message\",\"trace_id\":\"904c8f7f-fc6a-41e7-a4cd-9dc5ac7320cb\",\"node\":\"obs_producer\",\"port\":\"output\",\"json\":false,\"message_type\":\"DATA\"}\n",
      "{\"ts\":1754534527.199611,\"level\":\"DEBUG\",\"event\":\"edge.enqueue\",\"message\":\"Item enqueued, depth=1\",\"node\":\"obs_producer\",\"edge_id\":\"obs_producer:output->obs_processor:input\",\"json\":false}\n",
      "{\"ts\":1754534527.1996439,\"level\":\"DEBUG\",\"event\":\"scheduler.message_routed\",\"message\":\"Message routed successfully: OK\",\"node\":\"obs_producer\",\"edge_id\":\"obs_producer:output->obs_processor:input\",\"port\":\"output\",\"json\":false}\n",
      "{\"ts\":1754534527.199668,\"level\":\"INFO\",\"event\":\"node.tick_emit\",\"message\":\"Generated message 1\",\"node\":\"obs_producer\",\"json\":false}\n",
      "{\"ts\":1754534527.199693,\"level\":\"DEBUG\",\"event\":\"node.tick_processed\",\"message\":\"Tick processed successfully\",\"node\":\"obs_producer\",\"json\":false}\n",
      "{\"ts\":1754534527.19975,\"level\":\"DEBUG\",\"event\":\"scheduler.process_messages\",\"message\":\"Processing messages for node obs_processor\",\"node\":\"obs_processor\",\"json\":false}\n",
      "{\"ts\":1754534527.199778,\"level\":\"DEBUG\",\"event\":\"edge.dequeue\",\"message\":\"Item dequeued, depth=0\",\"edge_id\":\"obs_producer:output->obs_processor:input\",\"json\":false}\n",
      "{\"ts\":1754534527.199816,\"level\":\"DEBUG\",\"event\":\"node.message_start\",\"message\":\"Processing message 8\",\"trace_id\":\"904c8f7f-fc6a-41e7-a4cd-9dc5ac7320cb\",\"node\":\"obs_processor\",\"port\":\"input\",\"json\":false}\n",
      "{\"ts\":1754534527.212511,\"level\":\"DEBUG\",\"event\":\"node.emit\",\"message\":\"Emitting DATA message\",\"trace_id\":\"179a3dd5-a6e4-47ff-9569-2d2cea9183da\",\"node\":\"obs_processor\",\"port\":\"output\",\"json\":false,\"message_type\":\"DATA\"}\n",
      "{\"ts\":1754534527.213229,\"level\":\"DEBUG\",\"event\":\"edge.enqueue\",\"message\":\"Item enqueued, depth=1\",\"trace_id\":\"904c8f7f-fc6a-41e7-a4cd-9dc5ac7320cb\",\"node\":\"obs_processor\",\"edge_id\":\"obs_processor:output->obs_consumer:input\",\"port\":\"input\",\"json\":false}\n",
      "{\"ts\":1754534527.213322,\"level\":\"DEBUG\",\"event\":\"scheduler.message_routed\",\"message\":\"Message routed successfully: OK\",\"trace_id\":\"904c8f7f-fc6a-41e7-a4cd-9dc5ac7320cb\",\"node\":\"obs_processor\",\"edge_id\":\"obs_processor:output->obs_consumer:input\",\"port\":\"output\",\"json\":false}\n",
      "{\"ts\":1754534527.2133682,\"level\":\"DEBUG\",\"event\":\"node.message_emitted\",\"message\":\"Emitted processed message\",\"trace_id\":\"904c8f7f-fc6a-41e7-a4cd-9dc5ac7320cb\",\"node\":\"obs_processor\",\"port\":\"input\",\"json\":false}\n",
      "{\"ts\":1754534527.213403,\"level\":\"INFO\",\"event\":\"node.message_complete\",\"message\":\"Message processed successfully\",\"trace_id\":\"904c8f7f-fc6a-41e7-a4cd-9dc5ac7320cb\",\"node\":\"obs_processor\",\"port\":\"input\",\"json\":false,\"processing_time\":0.012570833998324815,\"message_sequence\":8}\n",
      "{\"ts\":1754534527.213451,\"level\":\"DEBUG\",\"event\":\"node.message_processed\",\"message\":\"Message processed in 0.013628s\",\"trace_id\":\"904c8f7f-fc6a-41e7-a4cd-9dc5ac7320cb\",\"node\":\"obs_processor\",\"port\":\"input\",\"json\":false,\"duration\":0.013627541993628256}\n",
      "{\"ts\":1754534527.2140741,\"level\":\"DEBUG\",\"event\":\"scheduler.process_tick\",\"message\":\"Processing tick for node obs_processor\",\"node\":\"obs_processor\",\"json\":false}\n",
      "{\"ts\":1754534527.214186,\"level\":\"DEBUG\",\"event\":\"node.tick_processed\",\"message\":\"Tick processed successfully\",\"node\":\"obs_processor\",\"json\":false}\n",
      "{\"ts\":1754534527.2142599,\"level\":\"DEBUG\",\"event\":\"scheduler.process_messages\",\"message\":\"Processing messages for node obs_consumer\",\"node\":\"obs_consumer\",\"json\":false}\n",
      "{\"ts\":1754534527.214307,\"level\":\"DEBUG\",\"event\":\"edge.dequeue\",\"message\":\"Item dequeued, depth=0\",\"edge_id\":\"obs_processor:output->obs_consumer:input\",\"json\":false}\n",
      "{\"ts\":1754534527.21436,\"level\":\"DEBUG\",\"event\":\"node.message_start\",\"message\":\"Processing message 12\",\"trace_id\":\"179a3dd5-a6e4-47ff-9569-2d2cea9183da\",\"node\":\"obs_consumer\",\"port\":\"input\",\"json\":false}\n",
      "{\"ts\":1754534527.226978,\"level\":\"INFO\",\"event\":\"node.message_complete\",\"message\":\"Message processed successfully\",\"trace_id\":\"179a3dd5-a6e4-47ff-9569-2d2cea9183da\",\"node\":\"obs_consumer\",\"port\":\"input\",\"json\":false,\"processing_time\":0.012593750005180482,\"message_sequence\":12}\n",
      "{\"ts\":1754534527.22719,\"level\":\"DEBUG\",\"event\":\"node.message_processed\",\"message\":\"Message processed in 0.012820s\",\"trace_id\":\"179a3dd5-a6e4-47ff-9569-2d2cea9183da\",\"node\":\"obs_consumer\",\"port\":\"input\",\"json\":false,\"duration\":0.012820417003240436}\n",
      "{\"ts\":1754534527.25248,\"level\":\"DEBUG\",\"event\":\"scheduler.process_tick\",\"message\":\"Processing tick for node obs_consumer\",\"node\":\"obs_consumer\",\"json\":false}\n",
      "{\"ts\":1754534527.2527711,\"level\":\"DEBUG\",\"event\":\"node.tick_processed\",\"message\":\"Tick processed successfully\",\"node\":\"obs_consumer\",\"json\":false}\n",
      "{\"ts\":1754534527.30146,\"level\":\"DEBUG\",\"event\":\"scheduler.process_tick\",\"message\":\"Processing tick for node obs_producer\",\"node\":\"obs_producer\",\"json\":false}\n",
      "{\"ts\":1754534527.301761,\"level\":\"DEBUG\",\"event\":\"node.emit\",\"message\":\"Emitting DATA message\",\"trace_id\":\"8c5f69c1-6ddb-4ff1-8147-ed09daa0d159\",\"node\":\"obs_producer\",\"port\":\"output\",\"json\":false,\"message_type\":\"DATA\"}\n",
      "{\"ts\":1754534527.3018188,\"level\":\"DEBUG\",\"event\":\"edge.enqueue\",\"message\":\"Item enqueued, depth=1\",\"node\":\"obs_producer\",\"edge_id\":\"obs_producer:output->obs_processor:input\",\"json\":false}\n",
      "{\"ts\":1754534527.3018591,\"level\":\"DEBUG\",\"event\":\"scheduler.message_routed\",\"message\":\"Message routed successfully: OK\",\"node\":\"obs_producer\",\"edge_id\":\"obs_producer:output->obs_processor:input\",\"port\":\"output\",\"json\":false}\n",
      "{\"ts\":1754534527.301885,\"level\":\"INFO\",\"event\":\"node.tick_emit\",\"message\":\"Generated message 1\",\"node\":\"obs_producer\",\"json\":false}\n",
      "{\"ts\":1754534527.3019211,\"level\":\"DEBUG\",\"event\":\"node.tick_processed\",\"message\":\"Tick processed successfully\",\"node\":\"obs_producer\",\"json\":false}\n",
      "{\"ts\":1754534527.301986,\"level\":\"DEBUG\",\"event\":\"scheduler.process_messages\",\"message\":\"Processing messages for node obs_processor\",\"node\":\"obs_processor\",\"json\":false}\n",
      "{\"ts\":1754534527.302023,\"level\":\"DEBUG\",\"event\":\"edge.dequeue\",\"message\":\"Item dequeued, depth=0\",\"edge_id\":\"obs_producer:output->obs_processor:input\",\"json\":false}\n",
      "{\"ts\":1754534527.3020642,\"level\":\"DEBUG\",\"event\":\"node.message_start\",\"message\":\"Processing message 9\",\"trace_id\":\"8c5f69c1-6ddb-4ff1-8147-ed09daa0d159\",\"node\":\"obs_processor\",\"port\":\"input\",\"json\":false}\n",
      "{\"ts\":1754534527.31471,\"level\":\"DEBUG\",\"event\":\"node.emit\",\"message\":\"Emitting DATA message\",\"trace_id\":\"39edb9e2-8126-476e-a365-44bf57686a8f\",\"node\":\"obs_processor\",\"port\":\"output\",\"json\":false,\"message_type\":\"DATA\"}\n",
      "{\"ts\":1754534527.314828,\"level\":\"DEBUG\",\"event\":\"edge.enqueue\",\"message\":\"Item enqueued, depth=1\",\"trace_id\":\"8c5f69c1-6ddb-4ff1-8147-ed09daa0d159\",\"node\":\"obs_processor\",\"edge_id\":\"obs_processor:output->obs_consumer:input\",\"port\":\"input\",\"json\":false}\n",
      "{\"ts\":1754534527.314871,\"level\":\"DEBUG\",\"event\":\"scheduler.message_routed\",\"message\":\"Message routed successfully: OK\",\"trace_id\":\"8c5f69c1-6ddb-4ff1-8147-ed09daa0d159\",\"node\":\"obs_processor\",\"edge_id\":\"obs_processor:output->obs_consumer:input\",\"port\":\"output\",\"json\":false}\n",
      "{\"ts\":1754534527.3148959,\"level\":\"DEBUG\",\"event\":\"node.message_emitted\",\"message\":\"Emitted processed message\",\"trace_id\":\"8c5f69c1-6ddb-4ff1-8147-ed09daa0d159\",\"node\":\"obs_processor\",\"port\":\"input\",\"json\":false}\n",
      "{\"ts\":1754534527.314919,\"level\":\"INFO\",\"event\":\"node.message_complete\",\"message\":\"Message processed successfully\",\"trace_id\":\"8c5f69c1-6ddb-4ff1-8147-ed09daa0d159\",\"node\":\"obs_processor\",\"port\":\"input\",\"json\":false,\"processing_time\":0.012569209000503179,\"message_sequence\":9}\n",
      "{\"ts\":1754534527.31495,\"level\":\"DEBUG\",\"event\":\"node.message_processed\",\"message\":\"Message processed in 0.012885s\",\"trace_id\":\"8c5f69c1-6ddb-4ff1-8147-ed09daa0d159\",\"node\":\"obs_processor\",\"port\":\"input\",\"json\":false,\"duration\":0.01288524999836227}\n",
      "{\"ts\":1754534527.315051,\"level\":\"DEBUG\",\"event\":\"scheduler.process_tick\",\"message\":\"Processing tick for node obs_processor\",\"node\":\"obs_processor\",\"json\":false}\n",
      "{\"ts\":1754534527.315108,\"level\":\"DEBUG\",\"event\":\"node.tick_processed\",\"message\":\"Tick processed successfully\",\"node\":\"obs_processor\",\"json\":false}\n",
      "{\"ts\":1754534527.3151622,\"level\":\"DEBUG\",\"event\":\"scheduler.process_messages\",\"message\":\"Processing messages for node obs_consumer\",\"node\":\"obs_consumer\",\"json\":false}\n",
      "{\"ts\":1754534527.315192,\"level\":\"DEBUG\",\"event\":\"edge.dequeue\",\"message\":\"Item dequeued, depth=0\",\"edge_id\":\"obs_processor:output->obs_consumer:input\",\"json\":false}\n",
      "{\"ts\":1754534527.315231,\"level\":\"DEBUG\",\"event\":\"node.message_start\",\"message\":\"Processing message 13\",\"trace_id\":\"39edb9e2-8126-476e-a365-44bf57686a8f\",\"node\":\"obs_consumer\",\"port\":\"input\",\"json\":false}\n",
      "{\"ts\":1754534527.327153,\"level\":\"INFO\",\"event\":\"node.message_complete\",\"message\":\"Message processed successfully\",\"trace_id\":\"39edb9e2-8126-476e-a365-44bf57686a8f\",\"node\":\"obs_consumer\",\"port\":\"input\",\"json\":false,\"processing_time\":0.011915457995200995,\"message_sequence\":13}\n",
      "{\"ts\":1754534527.327252,\"level\":\"DEBUG\",\"event\":\"node.message_processed\",\"message\":\"Message processed in 0.012017s\",\"trace_id\":\"39edb9e2-8126-476e-a365-44bf57686a8f\",\"node\":\"obs_consumer\",\"port\":\"input\",\"json\":false,\"duration\":0.012017375003779307}\n",
      "{\"ts\":1754534527.358963,\"level\":\"DEBUG\",\"event\":\"scheduler.process_tick\",\"message\":\"Processing tick for node obs_consumer\",\"node\":\"obs_consumer\",\"json\":false}\n",
      "{\"ts\":1754534527.359092,\"level\":\"DEBUG\",\"event\":\"node.tick_processed\",\"message\":\"Tick processed successfully\",\"node\":\"obs_consumer\",\"json\":false}\n",
      "{\"ts\":1754534527.402294,\"level\":\"DEBUG\",\"event\":\"scheduler.process_tick\",\"message\":\"Processing tick for node obs_producer\",\"node\":\"obs_producer\",\"json\":false}\n",
      "{\"ts\":1754534527.40269,\"level\":\"DEBUG\",\"event\":\"node.emit\",\"message\":\"Emitting DATA message\",\"trace_id\":\"77f019a2-1883-4f14-b486-41a76540ca77\",\"node\":\"obs_producer\",\"port\":\"output\",\"json\":false,\"message_type\":\"DATA\"}\n",
      "{\"ts\":1754534527.402848,\"level\":\"DEBUG\",\"event\":\"edge.enqueue\",\"message\":\"Item enqueued, depth=1\",\"node\":\"obs_producer\",\"edge_id\":\"obs_producer:output->obs_processor:input\",\"json\":false}\n",
      "{\"ts\":1754534527.402911,\"level\":\"DEBUG\",\"event\":\"scheduler.message_routed\",\"message\":\"Message routed successfully: OK\",\"node\":\"obs_producer\",\"edge_id\":\"obs_producer:output->obs_processor:input\",\"port\":\"output\",\"json\":false}\n",
      "{\"ts\":1754534527.402949,\"level\":\"INFO\",\"event\":\"node.tick_emit\",\"message\":\"Generated message 1\",\"node\":\"obs_producer\",\"json\":false}\n",
      "{\"ts\":1754534527.402998,\"level\":\"DEBUG\",\"event\":\"node.tick_processed\",\"message\":\"Tick processed successfully\",\"node\":\"obs_producer\",\"json\":false}\n",
      "{\"ts\":1754534527.4031029,\"level\":\"DEBUG\",\"event\":\"scheduler.process_messages\",\"message\":\"Processing messages for node obs_processor\",\"node\":\"obs_processor\",\"json\":false}\n",
      "{\"ts\":1754534527.40316,\"level\":\"DEBUG\",\"event\":\"edge.dequeue\",\"message\":\"Item dequeued, depth=0\",\"edge_id\":\"obs_producer:output->obs_processor:input\",\"json\":false}\n",
      "{\"ts\":1754534527.403222,\"level\":\"DEBUG\",\"event\":\"node.message_start\",\"message\":\"Processing message 10\",\"trace_id\":\"77f019a2-1883-4f14-b486-41a76540ca77\",\"node\":\"obs_processor\",\"port\":\"input\",\"json\":false}\n",
      "{\"ts\":1754534527.4148521,\"level\":\"DEBUG\",\"event\":\"node.emit\",\"message\":\"Emitting DATA message\",\"trace_id\":\"852cb4aa-e30b-40b1-89f5-5cd09573dc39\",\"node\":\"obs_processor\",\"port\":\"output\",\"json\":false,\"message_type\":\"DATA\"}\n",
      "{\"ts\":1754534527.415284,\"level\":\"DEBUG\",\"event\":\"edge.enqueue\",\"message\":\"Item enqueued, depth=1\",\"trace_id\":\"77f019a2-1883-4f14-b486-41a76540ca77\",\"node\":\"obs_processor\",\"edge_id\":\"obs_processor:output->obs_consumer:input\",\"port\":\"input\",\"json\":false}\n",
      "{\"ts\":1754534527.4155111,\"level\":\"DEBUG\",\"event\":\"scheduler.message_routed\",\"message\":\"Message routed successfully: OK\",\"trace_id\":\"77f019a2-1883-4f14-b486-41a76540ca77\",\"node\":\"obs_processor\",\"edge_id\":\"obs_processor:output->obs_consumer:input\",\"port\":\"output\",\"json\":false}\n",
      "{\"ts\":1754534527.4166012,\"level\":\"DEBUG\",\"event\":\"node.message_emitted\",\"message\":\"Emitted processed message\",\"trace_id\":\"77f019a2-1883-4f14-b486-41a76540ca77\",\"node\":\"obs_processor\",\"port\":\"input\",\"json\":false}\n",
      "{\"ts\":1754534527.416685,\"level\":\"INFO\",\"event\":\"node.message_complete\",\"message\":\"Message processed successfully\",\"trace_id\":\"77f019a2-1883-4f14-b486-41a76540ca77\",\"node\":\"obs_processor\",\"port\":\"input\",\"json\":false,\"processing_time\":0.01148795799963409,\"message_sequence\":10}\n",
      "{\"ts\":1754534527.416755,\"level\":\"DEBUG\",\"event\":\"node.message_processed\",\"message\":\"Message processed in 0.013524s\",\"trace_id\":\"77f019a2-1883-4f14-b486-41a76540ca77\",\"node\":\"obs_processor\",\"port\":\"input\",\"json\":false,\"duration\":0.013523834000807256}\n",
      "{\"ts\":1754534527.4176629,\"level\":\"DEBUG\",\"event\":\"scheduler.process_tick\",\"message\":\"Processing tick for node obs_processor\",\"node\":\"obs_processor\",\"json\":false}\n",
      "{\"ts\":1754534527.418182,\"level\":\"DEBUG\",\"event\":\"node.tick_processed\",\"message\":\"Tick processed successfully\",\"node\":\"obs_processor\",\"json\":false}\n",
      "{\"ts\":1754534527.418283,\"level\":\"DEBUG\",\"event\":\"scheduler.process_messages\",\"message\":\"Processing messages for node obs_consumer\",\"node\":\"obs_consumer\",\"json\":false}\n",
      "{\"ts\":1754534527.4183412,\"level\":\"DEBUG\",\"event\":\"edge.dequeue\",\"message\":\"Item dequeued, depth=0\",\"edge_id\":\"obs_processor:output->obs_consumer:input\",\"json\":false}\n",
      "{\"ts\":1754534527.418402,\"level\":\"DEBUG\",\"event\":\"node.message_start\",\"message\":\"Processing message 14\",\"trace_id\":\"852cb4aa-e30b-40b1-89f5-5cd09573dc39\",\"node\":\"obs_consumer\",\"port\":\"input\",\"json\":false}\n",
      "{\"ts\":1754534527.429884,\"level\":\"INFO\",\"event\":\"node.message_complete\",\"message\":\"Message processed successfully\",\"trace_id\":\"852cb4aa-e30b-40b1-89f5-5cd09573dc39\",\"node\":\"obs_consumer\",\"port\":\"input\",\"json\":false,\"processing_time\":0.011474625003756955,\"message_sequence\":14}\n",
      "{\"ts\":1754534527.430024,\"level\":\"DEBUG\",\"event\":\"node.message_processed\",\"message\":\"Message processed in 0.011620s\",\"trace_id\":\"852cb4aa-e30b-40b1-89f5-5cd09573dc39\",\"node\":\"obs_consumer\",\"port\":\"input\",\"json\":false,\"duration\":0.011619958997471258}\n",
      "{\"ts\":1754534527.45959,\"level\":\"DEBUG\",\"event\":\"scheduler.process_tick\",\"message\":\"Processing tick for node obs_consumer\",\"node\":\"obs_consumer\",\"json\":false}\n",
      "{\"ts\":1754534527.459828,\"level\":\"DEBUG\",\"event\":\"node.tick_processed\",\"message\":\"Tick processed successfully\",\"node\":\"obs_consumer\",\"json\":false}\n",
      "{\"ts\":1754534527.5036328,\"level\":\"DEBUG\",\"event\":\"scheduler.process_tick\",\"message\":\"Processing tick for node obs_producer\",\"node\":\"obs_producer\",\"json\":false}\n",
      "{\"ts\":1754534527.504396,\"level\":\"DEBUG\",\"event\":\"node.emit\",\"message\":\"Emitting DATA message\",\"trace_id\":\"98fdf76d-5354-4bcd-b93e-1f7c62c68542\",\"node\":\"obs_producer\",\"port\":\"output\",\"json\":false,\"message_type\":\"DATA\"}\n",
      "{\"ts\":1754534527.504755,\"level\":\"DEBUG\",\"event\":\"edge.enqueue\",\"message\":\"Item enqueued, depth=1\",\"node\":\"obs_producer\",\"edge_id\":\"obs_producer:output->obs_processor:input\",\"json\":false}\n",
      "{\"ts\":1754534527.5048058,\"level\":\"DEBUG\",\"event\":\"scheduler.message_routed\",\"message\":\"Message routed successfully: OK\",\"node\":\"obs_producer\",\"edge_id\":\"obs_producer:output->obs_processor:input\",\"port\":\"output\",\"json\":false}\n",
      "{\"ts\":1754534527.50484,\"level\":\"INFO\",\"event\":\"node.tick_emit\",\"message\":\"Generated message 1\",\"node\":\"obs_producer\",\"json\":false}\n",
      "{\"ts\":1754534527.5048802,\"level\":\"DEBUG\",\"event\":\"node.tick_processed\",\"message\":\"Tick processed successfully\",\"node\":\"obs_producer\",\"json\":false}\n",
      "{\"ts\":1754534527.5051332,\"level\":\"DEBUG\",\"event\":\"scheduler.process_messages\",\"message\":\"Processing messages for node obs_processor\",\"node\":\"obs_processor\",\"json\":false}\n",
      "{\"ts\":1754534527.505228,\"level\":\"DEBUG\",\"event\":\"edge.dequeue\",\"message\":\"Item dequeued, depth=0\",\"edge_id\":\"obs_producer:output->obs_processor:input\",\"json\":false}\n",
      "{\"ts\":1754534527.505298,\"level\":\"DEBUG\",\"event\":\"node.message_start\",\"message\":\"Processing message 11\",\"trace_id\":\"98fdf76d-5354-4bcd-b93e-1f7c62c68542\",\"node\":\"obs_processor\",\"port\":\"input\",\"json\":false}\n",
      "{\"ts\":1754534527.518163,\"level\":\"DEBUG\",\"event\":\"node.emit\",\"message\":\"Emitting DATA message\",\"trace_id\":\"47f60980-b321-4705-aa99-f9310e0a28da\",\"node\":\"obs_processor\",\"port\":\"output\",\"json\":false,\"message_type\":\"DATA\"}\n",
      "{\"ts\":1754534527.518389,\"level\":\"DEBUG\",\"event\":\"edge.enqueue\",\"message\":\"Item enqueued, depth=1\",\"trace_id\":\"98fdf76d-5354-4bcd-b93e-1f7c62c68542\",\"node\":\"obs_processor\",\"edge_id\":\"obs_processor:output->obs_consumer:input\",\"port\":\"input\",\"json\":false}\n",
      "{\"ts\":1754534527.51845,\"level\":\"DEBUG\",\"event\":\"scheduler.message_routed\",\"message\":\"Message routed successfully: OK\",\"trace_id\":\"98fdf76d-5354-4bcd-b93e-1f7c62c68542\",\"node\":\"obs_processor\",\"edge_id\":\"obs_processor:output->obs_consumer:input\",\"port\":\"output\",\"json\":false}\n",
      "{\"ts\":1754534527.5184808,\"level\":\"DEBUG\",\"event\":\"node.message_emitted\",\"message\":\"Emitted processed message\",\"trace_id\":\"98fdf76d-5354-4bcd-b93e-1f7c62c68542\",\"node\":\"obs_processor\",\"port\":\"input\",\"json\":false}\n",
      "{\"ts\":1754534527.5185149,\"level\":\"INFO\",\"event\":\"node.message_complete\",\"message\":\"Message processed successfully\",\"trace_id\":\"98fdf76d-5354-4bcd-b93e-1f7c62c68542\",\"node\":\"obs_processor\",\"port\":\"input\",\"json\":false,\"processing_time\":0.012712292002106551,\"message_sequence\":11}\n",
      "{\"ts\":1754534527.5185559,\"level\":\"DEBUG\",\"event\":\"node.message_processed\",\"message\":\"Message processed in 0.013252s\",\"trace_id\":\"98fdf76d-5354-4bcd-b93e-1f7c62c68542\",\"node\":\"obs_processor\",\"port\":\"input\",\"json\":false,\"duration\":0.013252208998892456}\n",
      "{\"ts\":1754534527.5187242,\"level\":\"DEBUG\",\"event\":\"scheduler.process_tick\",\"message\":\"Processing tick for node obs_processor\",\"node\":\"obs_processor\",\"json\":false}\n",
      "{\"ts\":1754534527.518804,\"level\":\"DEBUG\",\"event\":\"node.tick_processed\",\"message\":\"Tick processed successfully\",\"node\":\"obs_processor\",\"json\":false}\n",
      "{\"ts\":1754534527.518869,\"level\":\"DEBUG\",\"event\":\"scheduler.process_messages\",\"message\":\"Processing messages for node obs_consumer\",\"node\":\"obs_consumer\",\"json\":false}\n",
      "{\"ts\":1754534527.518909,\"level\":\"DEBUG\",\"event\":\"edge.dequeue\",\"message\":\"Item dequeued, depth=0\",\"edge_id\":\"obs_processor:output->obs_consumer:input\",\"json\":false}\n",
      "{\"ts\":1754534527.5190332,\"level\":\"DEBUG\",\"event\":\"node.message_start\",\"message\":\"Processing message 15\",\"trace_id\":\"47f60980-b321-4705-aa99-f9310e0a28da\",\"node\":\"obs_consumer\",\"port\":\"input\",\"json\":false}\n",
      "{\"ts\":1754534527.531177,\"level\":\"INFO\",\"event\":\"node.message_complete\",\"message\":\"Message processed successfully\",\"trace_id\":\"47f60980-b321-4705-aa99-f9310e0a28da\",\"node\":\"obs_consumer\",\"port\":\"input\",\"json\":false,\"processing_time\":0.01214129100117134,\"message_sequence\":15}\n",
      "{\"ts\":1754534527.531304,\"level\":\"DEBUG\",\"event\":\"node.message_processed\",\"message\":\"Message processed in 0.012273s\",\"trace_id\":\"47f60980-b321-4705-aa99-f9310e0a28da\",\"node\":\"obs_consumer\",\"port\":\"input\",\"json\":false,\"duration\":0.012273416999960318}\n",
      "{\"ts\":1754534527.563243,\"level\":\"DEBUG\",\"event\":\"scheduler.process_tick\",\"message\":\"Processing tick for node obs_consumer\",\"node\":\"obs_consumer\",\"json\":false}\n",
      "{\"ts\":1754534527.5634859,\"level\":\"DEBUG\",\"event\":\"node.tick_processed\",\"message\":\"Tick processed successfully\",\"node\":\"obs_consumer\",\"json\":false}\n",
      "{\"ts\":1754534527.606446,\"level\":\"DEBUG\",\"event\":\"scheduler.process_tick\",\"message\":\"Processing tick for node obs_producer\",\"node\":\"obs_producer\",\"json\":false}\n",
      "{\"ts\":1754534527.607262,\"level\":\"DEBUG\",\"event\":\"node.emit\",\"message\":\"Emitting DATA message\",\"trace_id\":\"ac3de175-7f5d-4d48-9a59-0b1d222e36a5\",\"node\":\"obs_producer\",\"port\":\"output\",\"json\":false,\"message_type\":\"DATA\"}\n",
      "{\"ts\":1754534527.60758,\"level\":\"DEBUG\",\"event\":\"edge.enqueue\",\"message\":\"Item enqueued, depth=1\",\"node\":\"obs_producer\",\"edge_id\":\"obs_producer:output->obs_processor:input\",\"json\":false}\n",
      "{\"ts\":1754534527.607705,\"level\":\"DEBUG\",\"event\":\"scheduler.message_routed\",\"message\":\"Message routed successfully: OK\",\"node\":\"obs_producer\",\"edge_id\":\"obs_producer:output->obs_processor:input\",\"port\":\"output\",\"json\":false}\n",
      "{\"ts\":1754534527.607784,\"level\":\"INFO\",\"event\":\"node.tick_emit\",\"message\":\"Generated message 1\",\"node\":\"obs_producer\",\"json\":false}\n",
      "{\"ts\":1754534527.607865,\"level\":\"DEBUG\",\"event\":\"node.tick_processed\",\"message\":\"Tick processed successfully\",\"node\":\"obs_producer\",\"json\":false}\n",
      "{\"ts\":1754534527.608097,\"level\":\"DEBUG\",\"event\":\"scheduler.process_messages\",\"message\":\"Processing messages for node obs_processor\",\"node\":\"obs_processor\",\"json\":false}\n",
      "{\"ts\":1754534527.608193,\"level\":\"DEBUG\",\"event\":\"edge.dequeue\",\"message\":\"Item dequeued, depth=0\",\"edge_id\":\"obs_producer:output->obs_processor:input\",\"json\":false}\n",
      "{\"ts\":1754534527.608302,\"level\":\"DEBUG\",\"event\":\"node.message_start\",\"message\":\"Processing message 12\",\"trace_id\":\"ac3de175-7f5d-4d48-9a59-0b1d222e36a5\",\"node\":\"obs_processor\",\"port\":\"input\",\"json\":false}\n",
      "{\"ts\":1754534527.620403,\"level\":\"DEBUG\",\"event\":\"node.emit\",\"message\":\"Emitting DATA message\",\"trace_id\":\"13406d51-5ee7-4d98-881a-445b53a4a0e3\",\"node\":\"obs_processor\",\"port\":\"output\",\"json\":false,\"message_type\":\"DATA\"}\n",
      "{\"ts\":1754534527.621019,\"level\":\"DEBUG\",\"event\":\"edge.enqueue\",\"message\":\"Item enqueued, depth=1\",\"trace_id\":\"ac3de175-7f5d-4d48-9a59-0b1d222e36a5\",\"node\":\"obs_processor\",\"edge_id\":\"obs_processor:output->obs_consumer:input\",\"port\":\"input\",\"json\":false}\n",
      "{\"ts\":1754534527.62111,\"level\":\"DEBUG\",\"event\":\"scheduler.message_routed\",\"message\":\"Message routed successfully: OK\",\"trace_id\":\"ac3de175-7f5d-4d48-9a59-0b1d222e36a5\",\"node\":\"obs_processor\",\"edge_id\":\"obs_processor:output->obs_consumer:input\",\"port\":\"output\",\"json\":false}\n",
      "{\"ts\":1754534527.6211681,\"level\":\"DEBUG\",\"event\":\"node.message_emitted\",\"message\":\"Emitted processed message\",\"trace_id\":\"ac3de175-7f5d-4d48-9a59-0b1d222e36a5\",\"node\":\"obs_processor\",\"port\":\"input\",\"json\":false}\n",
      "{\"ts\":1754534527.621221,\"level\":\"INFO\",\"event\":\"node.message_complete\",\"message\":\"Message processed successfully\",\"trace_id\":\"ac3de175-7f5d-4d48-9a59-0b1d222e36a5\",\"node\":\"obs_processor\",\"port\":\"input\",\"json\":false,\"processing_time\":0.011962500000663567,\"message_sequence\":12}\n",
      "{\"ts\":1754534527.62129,\"level\":\"DEBUG\",\"event\":\"node.message_processed\",\"message\":\"Message processed in 0.012986s\",\"trace_id\":\"ac3de175-7f5d-4d48-9a59-0b1d222e36a5\",\"node\":\"obs_processor\",\"port\":\"input\",\"json\":false,\"duration\":0.012985749999643303}\n",
      "{\"ts\":1754534527.621522,\"level\":\"DEBUG\",\"event\":\"scheduler.process_tick\",\"message\":\"Processing tick for node obs_processor\",\"node\":\"obs_processor\",\"json\":false}\n",
      "{\"ts\":1754534527.621652,\"level\":\"DEBUG\",\"event\":\"node.tick_processed\",\"message\":\"Tick processed successfully\",\"node\":\"obs_processor\",\"json\":false}\n",
      "{\"ts\":1754534527.621834,\"level\":\"DEBUG\",\"event\":\"scheduler.process_messages\",\"message\":\"Processing messages for node obs_consumer\",\"node\":\"obs_consumer\",\"json\":false}\n",
      "{\"ts\":1754534527.621943,\"level\":\"DEBUG\",\"event\":\"edge.dequeue\",\"message\":\"Item dequeued, depth=0\",\"edge_id\":\"obs_processor:output->obs_consumer:input\",\"json\":false}\n",
      "{\"ts\":1754534527.6220531,\"level\":\"DEBUG\",\"event\":\"node.message_start\",\"message\":\"Processing message 16\",\"trace_id\":\"13406d51-5ee7-4d98-881a-445b53a4a0e3\",\"node\":\"obs_consumer\",\"port\":\"input\",\"json\":false}\n",
      "{\"ts\":1754534527.633861,\"level\":\"INFO\",\"event\":\"node.message_complete\",\"message\":\"Message processed successfully\",\"trace_id\":\"13406d51-5ee7-4d98-881a-445b53a4a0e3\",\"node\":\"obs_consumer\",\"port\":\"input\",\"json\":false,\"processing_time\":0.011803084002167452,\"message_sequence\":16}\n",
      "{\"ts\":1754534527.633996,\"level\":\"DEBUG\",\"event\":\"node.message_processed\",\"message\":\"Message processed in 0.011943s\",\"trace_id\":\"13406d51-5ee7-4d98-881a-445b53a4a0e3\",\"node\":\"obs_consumer\",\"port\":\"input\",\"json\":false,\"duration\":0.011943291996431071}\n",
      "{\"ts\":1754534527.66543,\"level\":\"DEBUG\",\"event\":\"scheduler.process_tick\",\"message\":\"Processing tick for node obs_consumer\",\"node\":\"obs_consumer\",\"json\":false}\n",
      "{\"ts\":1754534527.665719,\"level\":\"DEBUG\",\"event\":\"node.tick_processed\",\"message\":\"Tick processed successfully\",\"node\":\"obs_consumer\",\"json\":false}\n",
      "{\"ts\":1754534527.710201,\"level\":\"DEBUG\",\"event\":\"scheduler.process_tick\",\"message\":\"Processing tick for node obs_producer\",\"node\":\"obs_producer\",\"json\":false}\n",
      "{\"ts\":1754534527.710676,\"level\":\"DEBUG\",\"event\":\"node.emit\",\"message\":\"Emitting DATA message\",\"trace_id\":\"bfac4df1-29c9-4de9-bc24-84edd0c147cc\",\"node\":\"obs_producer\",\"port\":\"output\",\"json\":false,\"message_type\":\"DATA\"}\n",
      "{\"ts\":1754534527.71079,\"level\":\"DEBUG\",\"event\":\"edge.enqueue\",\"message\":\"Item enqueued, depth=1\",\"node\":\"obs_producer\",\"edge_id\":\"obs_producer:output->obs_processor:input\",\"json\":false}\n",
      "{\"ts\":1754534527.7108579,\"level\":\"DEBUG\",\"event\":\"scheduler.message_routed\",\"message\":\"Message routed successfully: OK\",\"node\":\"obs_producer\",\"edge_id\":\"obs_producer:output->obs_processor:input\",\"port\":\"output\",\"json\":false}\n",
      "{\"ts\":1754534527.710901,\"level\":\"INFO\",\"event\":\"node.tick_emit\",\"message\":\"Generated message 1\",\"node\":\"obs_producer\",\"json\":false}\n",
      "{\"ts\":1754534527.710955,\"level\":\"DEBUG\",\"event\":\"node.tick_processed\",\"message\":\"Tick processed successfully\",\"node\":\"obs_producer\",\"json\":false}\n",
      "{\"ts\":1754534527.711052,\"level\":\"DEBUG\",\"event\":\"scheduler.process_messages\",\"message\":\"Processing messages for node obs_processor\",\"node\":\"obs_processor\",\"json\":false}\n",
      "{\"ts\":1754534527.711113,\"level\":\"DEBUG\",\"event\":\"edge.dequeue\",\"message\":\"Item dequeued, depth=0\",\"edge_id\":\"obs_producer:output->obs_processor:input\",\"json\":false}\n",
      "{\"ts\":1754534527.7112598,\"level\":\"DEBUG\",\"event\":\"node.message_start\",\"message\":\"Processing message 13\",\"trace_id\":\"bfac4df1-29c9-4de9-bc24-84edd0c147cc\",\"node\":\"obs_processor\",\"port\":\"input\",\"json\":false}\n",
      "{\"ts\":1754534527.724153,\"level\":\"DEBUG\",\"event\":\"node.emit\",\"message\":\"Emitting DATA message\",\"trace_id\":\"510d8971-6ba6-405c-bde1-18a94db605fb\",\"node\":\"obs_processor\",\"port\":\"output\",\"json\":false,\"message_type\":\"DATA\"}\n",
      "{\"ts\":1754534527.724425,\"level\":\"DEBUG\",\"event\":\"edge.enqueue\",\"message\":\"Item enqueued, depth=1\",\"trace_id\":\"bfac4df1-29c9-4de9-bc24-84edd0c147cc\",\"node\":\"obs_processor\",\"edge_id\":\"obs_processor:output->obs_consumer:input\",\"port\":\"input\",\"json\":false}\n",
      "{\"ts\":1754534527.724492,\"level\":\"DEBUG\",\"event\":\"scheduler.message_routed\",\"message\":\"Message routed successfully: OK\",\"trace_id\":\"bfac4df1-29c9-4de9-bc24-84edd0c147cc\",\"node\":\"obs_processor\",\"edge_id\":\"obs_processor:output->obs_consumer:input\",\"port\":\"output\",\"json\":false}\n",
      "{\"ts\":1754534527.724523,\"level\":\"DEBUG\",\"event\":\"node.message_emitted\",\"message\":\"Emitted processed message\",\"trace_id\":\"bfac4df1-29c9-4de9-bc24-84edd0c147cc\",\"node\":\"obs_processor\",\"port\":\"input\",\"json\":false}\n",
      "{\"ts\":1754534527.724548,\"level\":\"INFO\",\"event\":\"node.message_complete\",\"message\":\"Message processed successfully\",\"trace_id\":\"bfac4df1-29c9-4de9-bc24-84edd0c147cc\",\"node\":\"obs_processor\",\"port\":\"input\",\"json\":false,\"processing_time\":0.012711082999885548,\"message_sequence\":13}\n",
      "{\"ts\":1754534527.7245839,\"level\":\"DEBUG\",\"event\":\"node.message_processed\",\"message\":\"Message processed in 0.013326s\",\"trace_id\":\"bfac4df1-29c9-4de9-bc24-84edd0c147cc\",\"node\":\"obs_processor\",\"port\":\"input\",\"json\":false,\"duration\":0.013325999992957804}\n",
      "{\"ts\":1754534527.7246962,\"level\":\"DEBUG\",\"event\":\"scheduler.process_tick\",\"message\":\"Processing tick for node obs_processor\",\"node\":\"obs_processor\",\"json\":false}\n",
      "{\"ts\":1754534527.724757,\"level\":\"DEBUG\",\"event\":\"node.tick_processed\",\"message\":\"Tick processed successfully\",\"node\":\"obs_processor\",\"json\":false}\n",
      "{\"ts\":1754534527.724809,\"level\":\"DEBUG\",\"event\":\"scheduler.process_messages\",\"message\":\"Processing messages for node obs_consumer\",\"node\":\"obs_consumer\",\"json\":false}\n",
      "{\"ts\":1754534527.7248378,\"level\":\"DEBUG\",\"event\":\"edge.dequeue\",\"message\":\"Item dequeued, depth=0\",\"edge_id\":\"obs_processor:output->obs_consumer:input\",\"json\":false}\n",
      "{\"ts\":1754534527.724873,\"level\":\"DEBUG\",\"event\":\"node.message_start\",\"message\":\"Processing message 17\",\"trace_id\":\"510d8971-6ba6-405c-bde1-18a94db605fb\",\"node\":\"obs_consumer\",\"port\":\"input\",\"json\":false}\n",
      "{\"ts\":1754534527.7361631,\"level\":\"INFO\",\"event\":\"node.message_complete\",\"message\":\"Message processed successfully\",\"trace_id\":\"510d8971-6ba6-405c-bde1-18a94db605fb\",\"node\":\"obs_consumer\",\"port\":\"input\",\"json\":false,\"processing_time\":0.011278917001618538,\"message_sequence\":17}\n",
      "{\"ts\":1754534527.736507,\"level\":\"DEBUG\",\"event\":\"node.message_processed\",\"message\":\"Message processed in 0.011629s\",\"trace_id\":\"510d8971-6ba6-405c-bde1-18a94db605fb\",\"node\":\"obs_consumer\",\"port\":\"input\",\"json\":false,\"duration\":0.011629249995166901}\n",
      "{\"ts\":1754534527.766887,\"level\":\"DEBUG\",\"event\":\"scheduler.process_tick\",\"message\":\"Processing tick for node obs_consumer\",\"node\":\"obs_consumer\",\"json\":false}\n",
      "{\"ts\":1754534527.76729,\"level\":\"DEBUG\",\"event\":\"node.tick_processed\",\"message\":\"Tick processed successfully\",\"node\":\"obs_consumer\",\"json\":false}\n",
      "{\"ts\":1754534527.811332,\"level\":\"DEBUG\",\"event\":\"scheduler.process_tick\",\"message\":\"Processing tick for node obs_producer\",\"node\":\"obs_producer\",\"json\":false}\n",
      "{\"ts\":1754534527.811622,\"level\":\"DEBUG\",\"event\":\"node.emit\",\"message\":\"Emitting DATA message\",\"trace_id\":\"b209586f-b5f0-4491-b95c-7a913cf35adf\",\"node\":\"obs_producer\",\"port\":\"output\",\"json\":false,\"message_type\":\"DATA\"}\n",
      "{\"ts\":1754534527.811711,\"level\":\"DEBUG\",\"event\":\"edge.enqueue\",\"message\":\"Item enqueued, depth=1\",\"node\":\"obs_producer\",\"edge_id\":\"obs_producer:output->obs_processor:input\",\"json\":false}\n",
      "{\"ts\":1754534527.8117802,\"level\":\"DEBUG\",\"event\":\"scheduler.message_routed\",\"message\":\"Message routed successfully: OK\",\"node\":\"obs_producer\",\"edge_id\":\"obs_producer:output->obs_processor:input\",\"port\":\"output\",\"json\":false}\n",
      "{\"ts\":1754534527.811834,\"level\":\"INFO\",\"event\":\"node.tick_emit\",\"message\":\"Generated message 1\",\"node\":\"obs_producer\",\"json\":false}\n",
      "{\"ts\":1754534527.8118951,\"level\":\"DEBUG\",\"event\":\"node.tick_processed\",\"message\":\"Tick processed successfully\",\"node\":\"obs_producer\",\"json\":false}\n",
      "{\"ts\":1754534527.812038,\"level\":\"DEBUG\",\"event\":\"scheduler.process_messages\",\"message\":\"Processing messages for node obs_processor\",\"node\":\"obs_processor\",\"json\":false}\n",
      "{\"ts\":1754534527.812104,\"level\":\"DEBUG\",\"event\":\"edge.dequeue\",\"message\":\"Item dequeued, depth=0\",\"edge_id\":\"obs_producer:output->obs_processor:input\",\"json\":false}\n",
      "{\"ts\":1754534527.812187,\"level\":\"DEBUG\",\"event\":\"node.message_start\",\"message\":\"Processing message 14\",\"trace_id\":\"b209586f-b5f0-4491-b95c-7a913cf35adf\",\"node\":\"obs_processor\",\"port\":\"input\",\"json\":false}\n",
      "{\"ts\":1754534527.824283,\"level\":\"DEBUG\",\"event\":\"node.emit\",\"message\":\"Emitting DATA message\",\"trace_id\":\"f9e2cbe2-5c29-41f2-9f8c-f045ea992a98\",\"node\":\"obs_processor\",\"port\":\"output\",\"json\":false,\"message_type\":\"DATA\"}\n",
      "{\"ts\":1754534527.825655,\"level\":\"DEBUG\",\"event\":\"edge.enqueue\",\"message\":\"Item enqueued, depth=1\",\"trace_id\":\"b209586f-b5f0-4491-b95c-7a913cf35adf\",\"node\":\"obs_processor\",\"edge_id\":\"obs_processor:output->obs_consumer:input\",\"port\":\"input\",\"json\":false}\n",
      "{\"ts\":1754534527.825797,\"level\":\"DEBUG\",\"event\":\"scheduler.message_routed\",\"message\":\"Message routed successfully: OK\",\"trace_id\":\"b209586f-b5f0-4491-b95c-7a913cf35adf\",\"node\":\"obs_processor\",\"edge_id\":\"obs_processor:output->obs_consumer:input\",\"port\":\"output\",\"json\":false}\n",
      "{\"ts\":1754534527.825844,\"level\":\"DEBUG\",\"event\":\"node.message_emitted\",\"message\":\"Emitted processed message\",\"trace_id\":\"b209586f-b5f0-4491-b95c-7a913cf35adf\",\"node\":\"obs_processor\",\"port\":\"input\",\"json\":false}\n",
      "{\"ts\":1754534527.825879,\"level\":\"INFO\",\"event\":\"node.message_complete\",\"message\":\"Message processed successfully\",\"trace_id\":\"b209586f-b5f0-4491-b95c-7a913cf35adf\",\"node\":\"obs_processor\",\"port\":\"input\",\"json\":false,\"processing_time\":0.011417540998081677,\"message_sequence\":14}\n",
      "{\"ts\":1754534527.8259242,\"level\":\"DEBUG\",\"event\":\"node.message_processed\",\"message\":\"Message processed in 0.013737s\",\"trace_id\":\"b209586f-b5f0-4491-b95c-7a913cf35adf\",\"node\":\"obs_processor\",\"port\":\"input\",\"json\":false,\"duration\":0.013736542001424823}\n",
      "{\"ts\":1754534527.8261461,\"level\":\"DEBUG\",\"event\":\"scheduler.process_tick\",\"message\":\"Processing tick for node obs_processor\",\"node\":\"obs_processor\",\"json\":false}\n",
      "{\"ts\":1754534527.8264608,\"level\":\"DEBUG\",\"event\":\"node.tick_processed\",\"message\":\"Tick processed successfully\",\"node\":\"obs_processor\",\"json\":false}\n",
      "{\"ts\":1754534527.826711,\"level\":\"DEBUG\",\"event\":\"scheduler.process_messages\",\"message\":\"Processing messages for node obs_consumer\",\"node\":\"obs_consumer\",\"json\":false}\n",
      "{\"ts\":1754534527.826772,\"level\":\"DEBUG\",\"event\":\"edge.dequeue\",\"message\":\"Item dequeued, depth=0\",\"edge_id\":\"obs_processor:output->obs_consumer:input\",\"json\":false}\n",
      "{\"ts\":1754534527.826825,\"level\":\"DEBUG\",\"event\":\"node.message_start\",\"message\":\"Processing message 18\",\"trace_id\":\"f9e2cbe2-5c29-41f2-9f8c-f045ea992a98\",\"node\":\"obs_consumer\",\"port\":\"input\",\"json\":false}\n",
      "{\"ts\":1754534527.8377202,\"level\":\"INFO\",\"event\":\"node.message_complete\",\"message\":\"Message processed successfully\",\"trace_id\":\"f9e2cbe2-5c29-41f2-9f8c-f045ea992a98\",\"node\":\"obs_consumer\",\"port\":\"input\",\"json\":false,\"processing_time\":0.010884625000471715,\"message_sequence\":18}\n",
      "{\"ts\":1754534527.8378692,\"level\":\"DEBUG\",\"event\":\"node.message_processed\",\"message\":\"Message processed in 0.011041s\",\"trace_id\":\"f9e2cbe2-5c29-41f2-9f8c-f045ea992a98\",\"node\":\"obs_consumer\",\"port\":\"input\",\"json\":false,\"duration\":0.011040999997931067}\n",
      "{\"ts\":1754534527.867873,\"level\":\"DEBUG\",\"event\":\"scheduler.process_tick\",\"message\":\"Processing tick for node obs_consumer\",\"node\":\"obs_consumer\",\"json\":false}\n",
      "{\"ts\":1754534527.868046,\"level\":\"DEBUG\",\"event\":\"node.tick_processed\",\"message\":\"Tick processed successfully\",\"node\":\"obs_consumer\",\"json\":false}\n",
      "{\"ts\":1754534527.916915,\"level\":\"DEBUG\",\"event\":\"scheduler.process_tick\",\"message\":\"Processing tick for node obs_producer\",\"node\":\"obs_producer\",\"json\":false}\n",
      "{\"ts\":1754534527.9172401,\"level\":\"DEBUG\",\"event\":\"node.emit\",\"message\":\"Emitting DATA message\",\"trace_id\":\"26b3360d-77aa-4547-addf-b8064b18f7a3\",\"node\":\"obs_producer\",\"port\":\"output\",\"json\":false,\"message_type\":\"DATA\"}\n",
      "{\"ts\":1754534527.9173381,\"level\":\"DEBUG\",\"event\":\"edge.enqueue\",\"message\":\"Item enqueued, depth=1\",\"node\":\"obs_producer\",\"edge_id\":\"obs_producer:output->obs_processor:input\",\"json\":false}\n",
      "{\"ts\":1754534527.9174159,\"level\":\"DEBUG\",\"event\":\"scheduler.message_routed\",\"message\":\"Message routed successfully: OK\",\"node\":\"obs_producer\",\"edge_id\":\"obs_producer:output->obs_processor:input\",\"port\":\"output\",\"json\":false}\n",
      "{\"ts\":1754534527.917472,\"level\":\"INFO\",\"event\":\"node.tick_emit\",\"message\":\"Generated message 1\",\"node\":\"obs_producer\",\"json\":false}\n",
      "{\"ts\":1754534527.9175382,\"level\":\"DEBUG\",\"event\":\"node.tick_processed\",\"message\":\"Tick processed successfully\",\"node\":\"obs_producer\",\"json\":false}\n",
      "{\"ts\":1754534527.917672,\"level\":\"DEBUG\",\"event\":\"scheduler.process_messages\",\"message\":\"Processing messages for node obs_processor\",\"node\":\"obs_processor\",\"json\":false}\n",
      "{\"ts\":1754534527.9177432,\"level\":\"DEBUG\",\"event\":\"edge.dequeue\",\"message\":\"Item dequeued, depth=0\",\"edge_id\":\"obs_producer:output->obs_processor:input\",\"json\":false}\n",
      "{\"ts\":1754534527.9178271,\"level\":\"DEBUG\",\"event\":\"node.message_start\",\"message\":\"Processing message 15\",\"trace_id\":\"26b3360d-77aa-4547-addf-b8064b18f7a3\",\"node\":\"obs_processor\",\"port\":\"input\",\"json\":false}\n",
      "{\"ts\":1754534527.928755,\"level\":\"DEBUG\",\"event\":\"node.emit\",\"message\":\"Emitting DATA message\",\"trace_id\":\"b95fe576-3827-41b8-a80b-a42178efc441\",\"node\":\"obs_processor\",\"port\":\"output\",\"json\":false,\"message_type\":\"DATA\"}\n",
      "{\"ts\":1754534527.928919,\"level\":\"DEBUG\",\"event\":\"edge.enqueue\",\"message\":\"Item enqueued, depth=1\",\"trace_id\":\"26b3360d-77aa-4547-addf-b8064b18f7a3\",\"node\":\"obs_processor\",\"edge_id\":\"obs_processor:output->obs_consumer:input\",\"port\":\"input\",\"json\":false}\n",
      "{\"ts\":1754534527.928965,\"level\":\"DEBUG\",\"event\":\"scheduler.message_routed\",\"message\":\"Message routed successfully: OK\",\"trace_id\":\"26b3360d-77aa-4547-addf-b8064b18f7a3\",\"node\":\"obs_processor\",\"edge_id\":\"obs_processor:output->obs_consumer:input\",\"port\":\"output\",\"json\":false}\n",
      "{\"ts\":1754534527.928997,\"level\":\"DEBUG\",\"event\":\"node.message_emitted\",\"message\":\"Emitted processed message\",\"trace_id\":\"26b3360d-77aa-4547-addf-b8064b18f7a3\",\"node\":\"obs_processor\",\"port\":\"input\",\"json\":false}\n",
      "{\"ts\":1754534527.9290261,\"level\":\"INFO\",\"event\":\"node.message_complete\",\"message\":\"Message processed successfully\",\"trace_id\":\"26b3360d-77aa-4547-addf-b8064b18f7a3\",\"node\":\"obs_processor\",\"port\":\"input\",\"json\":false,\"processing_time\":0.010823834003531374,\"message_sequence\":15}\n",
      "{\"ts\":1754534527.929065,\"level\":\"DEBUG\",\"event\":\"node.message_processed\",\"message\":\"Message processed in 0.011240s\",\"trace_id\":\"26b3360d-77aa-4547-addf-b8064b18f7a3\",\"node\":\"obs_processor\",\"port\":\"input\",\"json\":false,\"duration\":0.011239667001063935}\n",
      "{\"ts\":1754534527.929195,\"level\":\"DEBUG\",\"event\":\"scheduler.process_tick\",\"message\":\"Processing tick for node obs_processor\",\"node\":\"obs_processor\",\"json\":false}\n",
      "{\"ts\":1754534527.929266,\"level\":\"DEBUG\",\"event\":\"node.tick_processed\",\"message\":\"Tick processed successfully\",\"node\":\"obs_processor\",\"json\":false}\n",
      "{\"ts\":1754534527.929323,\"level\":\"DEBUG\",\"event\":\"scheduler.process_messages\",\"message\":\"Processing messages for node obs_consumer\",\"node\":\"obs_consumer\",\"json\":false}\n",
      "{\"ts\":1754534527.929363,\"level\":\"DEBUG\",\"event\":\"edge.dequeue\",\"message\":\"Item dequeued, depth=0\",\"edge_id\":\"obs_processor:output->obs_consumer:input\",\"json\":false}\n",
      "{\"ts\":1754534527.929404,\"level\":\"DEBUG\",\"event\":\"node.message_start\",\"message\":\"Processing message 19\",\"trace_id\":\"b95fe576-3827-41b8-a80b-a42178efc441\",\"node\":\"obs_consumer\",\"port\":\"input\",\"json\":false}\n",
      "{\"ts\":1754534527.940842,\"level\":\"INFO\",\"event\":\"node.message_complete\",\"message\":\"Message processed successfully\",\"trace_id\":\"b95fe576-3827-41b8-a80b-a42178efc441\",\"node\":\"obs_consumer\",\"port\":\"input\",\"json\":false,\"processing_time\":0.01142124999751104,\"message_sequence\":19}\n",
      "{\"ts\":1754534527.941011,\"level\":\"DEBUG\",\"event\":\"node.message_processed\",\"message\":\"Message processed in 0.011602s\",\"trace_id\":\"b95fe576-3827-41b8-a80b-a42178efc441\",\"node\":\"obs_consumer\",\"port\":\"input\",\"json\":false,\"duration\":0.01160162500309525}\n",
      "{\"ts\":1754534527.97347,\"level\":\"DEBUG\",\"event\":\"scheduler.process_tick\",\"message\":\"Processing tick for node obs_consumer\",\"node\":\"obs_consumer\",\"json\":false}\n",
      "{\"ts\":1754534527.9737759,\"level\":\"DEBUG\",\"event\":\"node.tick_processed\",\"message\":\"Tick processed successfully\",\"node\":\"obs_consumer\",\"json\":false}\n",
      "{\"ts\":1754534528.0225952,\"level\":\"DEBUG\",\"event\":\"scheduler.process_tick\",\"message\":\"Processing tick for node obs_producer\",\"node\":\"obs_producer\",\"json\":false}\n",
      "{\"ts\":1754534528.02301,\"level\":\"DEBUG\",\"event\":\"node.emit\",\"message\":\"Emitting DATA message\",\"trace_id\":\"dd1ce979-44c0-4b94-86b4-41bb404b31bb\",\"node\":\"obs_producer\",\"port\":\"output\",\"json\":false,\"message_type\":\"DATA\"}\n",
      "{\"ts\":1754534528.02311,\"level\":\"DEBUG\",\"event\":\"edge.enqueue\",\"message\":\"Item enqueued, depth=1\",\"node\":\"obs_producer\",\"edge_id\":\"obs_producer:output->obs_processor:input\",\"json\":false}\n",
      "{\"ts\":1754534528.023173,\"level\":\"DEBUG\",\"event\":\"scheduler.message_routed\",\"message\":\"Message routed successfully: OK\",\"node\":\"obs_producer\",\"edge_id\":\"obs_producer:output->obs_processor:input\",\"port\":\"output\",\"json\":false}\n",
      "{\"ts\":1754534528.023207,\"level\":\"INFO\",\"event\":\"node.tick_emit\",\"message\":\"Generated message 1\",\"node\":\"obs_producer\",\"json\":false}\n",
      "{\"ts\":1754534528.023253,\"level\":\"DEBUG\",\"event\":\"node.tick_processed\",\"message\":\"Tick processed successfully\",\"node\":\"obs_producer\",\"json\":false}\n",
      "{\"ts\":1754534528.023363,\"level\":\"DEBUG\",\"event\":\"scheduler.process_messages\",\"message\":\"Processing messages for node obs_processor\",\"node\":\"obs_processor\",\"json\":false}\n",
      "{\"ts\":1754534528.023412,\"level\":\"DEBUG\",\"event\":\"edge.dequeue\",\"message\":\"Item dequeued, depth=0\",\"edge_id\":\"obs_producer:output->obs_processor:input\",\"json\":false}\n",
      "{\"ts\":1754534528.023468,\"level\":\"DEBUG\",\"event\":\"node.message_start\",\"message\":\"Processing message 16\",\"trace_id\":\"dd1ce979-44c0-4b94-86b4-41bb404b31bb\",\"node\":\"obs_processor\",\"port\":\"input\",\"json\":false}\n",
      "{\"ts\":1754534528.036219,\"level\":\"DEBUG\",\"event\":\"node.emit\",\"message\":\"Emitting DATA message\",\"trace_id\":\"f86bce65-a171-42e6-9615-eae0804d8b4a\",\"node\":\"obs_processor\",\"port\":\"output\",\"json\":false,\"message_type\":\"DATA\"}\n",
      "{\"ts\":1754534528.036552,\"level\":\"DEBUG\",\"event\":\"edge.enqueue\",\"message\":\"Item enqueued, depth=1\",\"trace_id\":\"dd1ce979-44c0-4b94-86b4-41bb404b31bb\",\"node\":\"obs_processor\",\"edge_id\":\"obs_processor:output->obs_consumer:input\",\"port\":\"input\",\"json\":false}\n",
      "{\"ts\":1754534528.036607,\"level\":\"DEBUG\",\"event\":\"scheduler.message_routed\",\"message\":\"Message routed successfully: OK\",\"trace_id\":\"dd1ce979-44c0-4b94-86b4-41bb404b31bb\",\"node\":\"obs_processor\",\"edge_id\":\"obs_processor:output->obs_consumer:input\",\"port\":\"output\",\"json\":false}\n",
      "{\"ts\":1754534528.036644,\"level\":\"DEBUG\",\"event\":\"node.message_emitted\",\"message\":\"Emitted processed message\",\"trace_id\":\"dd1ce979-44c0-4b94-86b4-41bb404b31bb\",\"node\":\"obs_processor\",\"port\":\"input\",\"json\":false}\n",
      "{\"ts\":1754534528.036705,\"level\":\"INFO\",\"event\":\"node.message_complete\",\"message\":\"Message processed successfully\",\"trace_id\":\"dd1ce979-44c0-4b94-86b4-41bb404b31bb\",\"node\":\"obs_processor\",\"port\":\"input\",\"json\":false,\"processing_time\":0.012595917003636714,\"message_sequence\":16}\n",
      "{\"ts\":1754534528.036758,\"level\":\"DEBUG\",\"event\":\"node.message_processed\",\"message\":\"Message processed in 0.013286s\",\"trace_id\":\"dd1ce979-44c0-4b94-86b4-41bb404b31bb\",\"node\":\"obs_processor\",\"port\":\"input\",\"json\":false,\"duration\":0.013285875000292435}\n",
      "{\"ts\":1754534528.0374029,\"level\":\"DEBUG\",\"event\":\"scheduler.process_tick\",\"message\":\"Processing tick for node obs_processor\",\"node\":\"obs_processor\",\"json\":false}\n",
      "{\"ts\":1754534528.0375779,\"level\":\"DEBUG\",\"event\":\"node.tick_processed\",\"message\":\"Tick processed successfully\",\"node\":\"obs_processor\",\"json\":false}\n",
      "{\"ts\":1754534528.037648,\"level\":\"DEBUG\",\"event\":\"scheduler.process_messages\",\"message\":\"Processing messages for node obs_consumer\",\"node\":\"obs_consumer\",\"json\":false}\n",
      "{\"ts\":1754534528.037694,\"level\":\"DEBUG\",\"event\":\"edge.dequeue\",\"message\":\"Item dequeued, depth=0\",\"edge_id\":\"obs_processor:output->obs_consumer:input\",\"json\":false}\n",
      "{\"ts\":1754534528.037739,\"level\":\"DEBUG\",\"event\":\"node.message_start\",\"message\":\"Processing message 20\",\"trace_id\":\"f86bce65-a171-42e6-9615-eae0804d8b4a\",\"node\":\"obs_consumer\",\"port\":\"input\",\"json\":false}\n",
      "{\"ts\":1754534528.0493839,\"level\":\"INFO\",\"event\":\"node.message_complete\",\"message\":\"Message processed successfully\",\"trace_id\":\"f86bce65-a171-42e6-9615-eae0804d8b4a\",\"node\":\"obs_consumer\",\"port\":\"input\",\"json\":false,\"processing_time\":0.011628708001808263,\"message_sequence\":20}\n",
      "{\"ts\":1754534528.050134,\"level\":\"DEBUG\",\"event\":\"node.message_processed\",\"message\":\"Message processed in 0.012381s\",\"trace_id\":\"f86bce65-a171-42e6-9615-eae0804d8b4a\",\"node\":\"obs_consumer\",\"port\":\"input\",\"json\":false,\"duration\":0.012380916996335145}\n",
      "{\"ts\":1754534528.0763252,\"level\":\"DEBUG\",\"event\":\"scheduler.process_tick\",\"message\":\"Processing tick for node obs_consumer\",\"node\":\"obs_consumer\",\"json\":false}\n",
      "{\"ts\":1754534528.076648,\"level\":\"DEBUG\",\"event\":\"node.tick_processed\",\"message\":\"Tick processed successfully\",\"node\":\"obs_consumer\",\"json\":false}\n",
      "{\"ts\":1754534528.128182,\"level\":\"DEBUG\",\"event\":\"scheduler.process_tick\",\"message\":\"Processing tick for node obs_producer\",\"node\":\"obs_producer\",\"json\":false}\n",
      "{\"ts\":1754534528.128289,\"level\":\"DEBUG\",\"event\":\"node.emit\",\"message\":\"Emitting DATA message\",\"trace_id\":\"da2c07cd-5aba-4665-b4bf-5f49514018cb\",\"node\":\"obs_producer\",\"port\":\"output\",\"json\":false,\"message_type\":\"DATA\"}\n",
      "{\"ts\":1754534528.128321,\"level\":\"DEBUG\",\"event\":\"edge.enqueue\",\"message\":\"Item enqueued, depth=1\",\"node\":\"obs_producer\",\"edge_id\":\"obs_producer:output->obs_processor:input\",\"json\":false}\n",
      "{\"ts\":1754534528.128345,\"level\":\"DEBUG\",\"event\":\"scheduler.message_routed\",\"message\":\"Message routed successfully: OK\",\"node\":\"obs_producer\",\"edge_id\":\"obs_producer:output->obs_processor:input\",\"port\":\"output\",\"json\":false}\n",
      "{\"ts\":1754534528.128363,\"level\":\"INFO\",\"event\":\"node.tick_emit\",\"message\":\"Generated message 1\",\"node\":\"obs_producer\",\"json\":false}\n",
      "{\"ts\":1754534528.128383,\"level\":\"DEBUG\",\"event\":\"node.tick_processed\",\"message\":\"Tick processed successfully\",\"node\":\"obs_producer\",\"json\":false}\n",
      "{\"ts\":1754534528.128423,\"level\":\"DEBUG\",\"event\":\"scheduler.process_messages\",\"message\":\"Processing messages for node obs_processor\",\"node\":\"obs_processor\",\"json\":false}\n",
      "{\"ts\":1754534528.1284459,\"level\":\"DEBUG\",\"event\":\"edge.dequeue\",\"message\":\"Item dequeued, depth=0\",\"edge_id\":\"obs_producer:output->obs_processor:input\",\"json\":false}\n",
      "{\"ts\":1754534528.1284711,\"level\":\"DEBUG\",\"event\":\"node.message_start\",\"message\":\"Processing message 17\",\"trace_id\":\"da2c07cd-5aba-4665-b4bf-5f49514018cb\",\"node\":\"obs_processor\",\"port\":\"input\",\"json\":false}\n",
      "{\"ts\":1754534528.140809,\"level\":\"DEBUG\",\"event\":\"node.emit\",\"message\":\"Emitting DATA message\",\"trace_id\":\"3b8b9c73-bd5a-41bb-a696-42fe22e6f98b\",\"node\":\"obs_processor\",\"port\":\"output\",\"json\":false,\"message_type\":\"DATA\"}\n",
      "{\"ts\":1754534528.1408901,\"level\":\"DEBUG\",\"event\":\"edge.enqueue\",\"message\":\"Item enqueued, depth=1\",\"trace_id\":\"da2c07cd-5aba-4665-b4bf-5f49514018cb\",\"node\":\"obs_processor\",\"edge_id\":\"obs_processor:output->obs_consumer:input\",\"port\":\"input\",\"json\":false}\n",
      "{\"ts\":1754534528.1409159,\"level\":\"DEBUG\",\"event\":\"scheduler.message_routed\",\"message\":\"Message routed successfully: OK\",\"trace_id\":\"da2c07cd-5aba-4665-b4bf-5f49514018cb\",\"node\":\"obs_processor\",\"edge_id\":\"obs_processor:output->obs_consumer:input\",\"port\":\"output\",\"json\":false}\n",
      "{\"ts\":1754534528.140933,\"level\":\"DEBUG\",\"event\":\"node.message_emitted\",\"message\":\"Emitted processed message\",\"trace_id\":\"da2c07cd-5aba-4665-b4bf-5f49514018cb\",\"node\":\"obs_processor\",\"port\":\"input\",\"json\":false}\n",
      "{\"ts\":1754534528.140948,\"level\":\"INFO\",\"event\":\"node.message_complete\",\"message\":\"Message processed successfully\",\"trace_id\":\"da2c07cd-5aba-4665-b4bf-5f49514018cb\",\"node\":\"obs_processor\",\"port\":\"input\",\"json\":false,\"processing_time\":0.012269999999261927,\"message_sequence\":17}\n",
      "{\"ts\":1754534528.1409678,\"level\":\"DEBUG\",\"event\":\"node.message_processed\",\"message\":\"Message processed in 0.012496s\",\"trace_id\":\"da2c07cd-5aba-4665-b4bf-5f49514018cb\",\"node\":\"obs_processor\",\"port\":\"input\",\"json\":false,\"duration\":0.012495500006480142}\n",
      "{\"ts\":1754534528.141037,\"level\":\"DEBUG\",\"event\":\"scheduler.process_tick\",\"message\":\"Processing tick for node obs_processor\",\"node\":\"obs_processor\",\"json\":false}\n",
      "{\"ts\":1754534528.141088,\"level\":\"DEBUG\",\"event\":\"node.tick_processed\",\"message\":\"Tick processed successfully\",\"node\":\"obs_processor\",\"json\":false}\n",
      "{\"ts\":1754534528.1411352,\"level\":\"DEBUG\",\"event\":\"scheduler.process_messages\",\"message\":\"Processing messages for node obs_consumer\",\"node\":\"obs_consumer\",\"json\":false}\n",
      "{\"ts\":1754534528.1411572,\"level\":\"DEBUG\",\"event\":\"edge.dequeue\",\"message\":\"Item dequeued, depth=0\",\"edge_id\":\"obs_processor:output->obs_consumer:input\",\"json\":false}\n",
      "{\"ts\":1754534528.141181,\"level\":\"DEBUG\",\"event\":\"node.message_start\",\"message\":\"Processing message 21\",\"trace_id\":\"3b8b9c73-bd5a-41bb-a696-42fe22e6f98b\",\"node\":\"obs_consumer\",\"port\":\"input\",\"json\":false}\n",
      "{\"ts\":1754534528.153724,\"level\":\"INFO\",\"event\":\"node.message_complete\",\"message\":\"Message processed successfully\",\"trace_id\":\"3b8b9c73-bd5a-41bb-a696-42fe22e6f98b\",\"node\":\"obs_consumer\",\"port\":\"input\",\"json\":false,\"processing_time\":0.012538208000478335,\"message_sequence\":21}\n",
      "{\"ts\":1754534528.153801,\"level\":\"DEBUG\",\"event\":\"node.message_processed\",\"message\":\"Message processed in 0.012617s\",\"trace_id\":\"3b8b9c73-bd5a-41bb-a696-42fe22e6f98b\",\"node\":\"obs_consumer\",\"port\":\"input\",\"json\":false,\"duration\":0.012617291999049485}\n",
      "{\"ts\":1754534528.179104,\"level\":\"DEBUG\",\"event\":\"scheduler.process_tick\",\"message\":\"Processing tick for node obs_consumer\",\"node\":\"obs_consumer\",\"json\":false}\n",
      "{\"ts\":1754534528.1791801,\"level\":\"DEBUG\",\"event\":\"node.tick_processed\",\"message\":\"Tick processed successfully\",\"node\":\"obs_consumer\",\"json\":false}\n",
      "{\"ts\":1754534528.2285209,\"level\":\"DEBUG\",\"event\":\"scheduler.process_tick\",\"message\":\"Processing tick for node obs_producer\",\"node\":\"obs_producer\",\"json\":false}\n",
      "{\"ts\":1754534528.2286239,\"level\":\"DEBUG\",\"event\":\"node.emit\",\"message\":\"Emitting DATA message\",\"trace_id\":\"04bcd8c0-1955-43b8-bdaf-fd3cda2b206a\",\"node\":\"obs_producer\",\"port\":\"output\",\"json\":false,\"message_type\":\"DATA\"}\n",
      "{\"ts\":1754534528.2286642,\"level\":\"DEBUG\",\"event\":\"edge.enqueue\",\"message\":\"Item enqueued, depth=1\",\"node\":\"obs_producer\",\"edge_id\":\"obs_producer:output->obs_processor:input\",\"json\":false}\n",
      "{\"ts\":1754534528.228687,\"level\":\"DEBUG\",\"event\":\"scheduler.message_routed\",\"message\":\"Message routed successfully: OK\",\"node\":\"obs_producer\",\"edge_id\":\"obs_producer:output->obs_processor:input\",\"port\":\"output\",\"json\":false}\n",
      "{\"ts\":1754534528.2287061,\"level\":\"INFO\",\"event\":\"node.tick_emit\",\"message\":\"Generated message 1\",\"node\":\"obs_producer\",\"json\":false}\n",
      "{\"ts\":1754534528.228726,\"level\":\"DEBUG\",\"event\":\"node.tick_processed\",\"message\":\"Tick processed successfully\",\"node\":\"obs_producer\",\"json\":false}\n",
      "{\"ts\":1754534528.228766,\"level\":\"DEBUG\",\"event\":\"scheduler.process_messages\",\"message\":\"Processing messages for node obs_processor\",\"node\":\"obs_processor\",\"json\":false}\n",
      "{\"ts\":1754534528.228788,\"level\":\"DEBUG\",\"event\":\"edge.dequeue\",\"message\":\"Item dequeued, depth=0\",\"edge_id\":\"obs_producer:output->obs_processor:input\",\"json\":false}\n",
      "{\"ts\":1754534528.228815,\"level\":\"DEBUG\",\"event\":\"node.message_start\",\"message\":\"Processing message 18\",\"trace_id\":\"04bcd8c0-1955-43b8-bdaf-fd3cda2b206a\",\"node\":\"obs_processor\",\"port\":\"input\",\"json\":false}\n",
      "{\"ts\":1754534528.240762,\"level\":\"DEBUG\",\"event\":\"node.emit\",\"message\":\"Emitting DATA message\",\"trace_id\":\"3da2e4ec-8caa-4f34-9b19-e1e91ff6c4d5\",\"node\":\"obs_processor\",\"port\":\"output\",\"json\":false,\"message_type\":\"DATA\"}\n",
      "{\"ts\":1754534528.240937,\"level\":\"DEBUG\",\"event\":\"edge.enqueue\",\"message\":\"Item enqueued, depth=1\",\"trace_id\":\"04bcd8c0-1955-43b8-bdaf-fd3cda2b206a\",\"node\":\"obs_processor\",\"edge_id\":\"obs_processor:output->obs_consumer:input\",\"port\":\"input\",\"json\":false}\n",
      "{\"ts\":1754534528.240993,\"level\":\"DEBUG\",\"event\":\"scheduler.message_routed\",\"message\":\"Message routed successfully: OK\",\"trace_id\":\"04bcd8c0-1955-43b8-bdaf-fd3cda2b206a\",\"node\":\"obs_processor\",\"edge_id\":\"obs_processor:output->obs_consumer:input\",\"port\":\"output\",\"json\":false}\n",
      "{\"ts\":1754534528.2410262,\"level\":\"DEBUG\",\"event\":\"node.message_emitted\",\"message\":\"Emitted processed message\",\"trace_id\":\"04bcd8c0-1955-43b8-bdaf-fd3cda2b206a\",\"node\":\"obs_processor\",\"port\":\"input\",\"json\":false}\n",
      "{\"ts\":1754534528.241055,\"level\":\"INFO\",\"event\":\"node.message_complete\",\"message\":\"Message processed successfully\",\"trace_id\":\"04bcd8c0-1955-43b8-bdaf-fd3cda2b206a\",\"node\":\"obs_processor\",\"port\":\"input\",\"json\":false,\"processing_time\":0.011917957999685314,\"message_sequence\":18}\n",
      "{\"ts\":1754534528.241089,\"level\":\"DEBUG\",\"event\":\"node.message_processed\",\"message\":\"Message processed in 0.012272s\",\"trace_id\":\"04bcd8c0-1955-43b8-bdaf-fd3cda2b206a\",\"node\":\"obs_processor\",\"port\":\"input\",\"json\":false,\"duration\":0.012271833002159838}\n",
      "{\"ts\":1754534528.241193,\"level\":\"DEBUG\",\"event\":\"scheduler.process_tick\",\"message\":\"Processing tick for node obs_processor\",\"node\":\"obs_processor\",\"json\":false}\n",
      "{\"ts\":1754534528.2412548,\"level\":\"DEBUG\",\"event\":\"node.tick_processed\",\"message\":\"Tick processed successfully\",\"node\":\"obs_processor\",\"json\":false}\n",
      "{\"ts\":1754534528.241434,\"level\":\"DEBUG\",\"event\":\"scheduler.process_messages\",\"message\":\"Processing messages for node obs_consumer\",\"node\":\"obs_consumer\",\"json\":false}\n",
      "{\"ts\":1754534528.241471,\"level\":\"DEBUG\",\"event\":\"edge.dequeue\",\"message\":\"Item dequeued, depth=0\",\"edge_id\":\"obs_processor:output->obs_consumer:input\",\"json\":false}\n",
      "{\"ts\":1754534528.241508,\"level\":\"DEBUG\",\"event\":\"node.message_start\",\"message\":\"Processing message 22\",\"trace_id\":\"3da2e4ec-8caa-4f34-9b19-e1e91ff6c4d5\",\"node\":\"obs_consumer\",\"port\":\"input\",\"json\":false}\n",
      "{\"ts\":1754534528.252061,\"level\":\"INFO\",\"event\":\"node.message_complete\",\"message\":\"Message processed successfully\",\"trace_id\":\"3da2e4ec-8caa-4f34-9b19-e1e91ff6c4d5\",\"node\":\"obs_consumer\",\"port\":\"input\",\"json\":false,\"processing_time\":0.010541875002672896,\"message_sequence\":22}\n",
      "{\"ts\":1754534528.2521548,\"level\":\"DEBUG\",\"event\":\"node.message_processed\",\"message\":\"Message processed in 0.010644s\",\"trace_id\":\"3da2e4ec-8caa-4f34-9b19-e1e91ff6c4d5\",\"node\":\"obs_consumer\",\"port\":\"input\",\"json\":false,\"duration\":0.010643624998920131}\n",
      "{\"ts\":1754534528.2830532,\"level\":\"DEBUG\",\"event\":\"scheduler.process_tick\",\"message\":\"Processing tick for node obs_consumer\",\"node\":\"obs_consumer\",\"json\":false}\n",
      "{\"ts\":1754534528.2831738,\"level\":\"DEBUG\",\"event\":\"node.tick_processed\",\"message\":\"Tick processed successfully\",\"node\":\"obs_consumer\",\"json\":false}\n",
      "{\"ts\":1754534528.333647,\"level\":\"DEBUG\",\"event\":\"scheduler.process_tick\",\"message\":\"Processing tick for node obs_producer\",\"node\":\"obs_producer\",\"json\":false}\n",
      "{\"ts\":1754534528.33391,\"level\":\"DEBUG\",\"event\":\"node.emit\",\"message\":\"Emitting DATA message\",\"trace_id\":\"2235d4d3-82b0-43cd-b9d0-7bc04a71d270\",\"node\":\"obs_producer\",\"port\":\"output\",\"json\":false,\"message_type\":\"DATA\"}\n",
      "{\"ts\":1754534528.334008,\"level\":\"DEBUG\",\"event\":\"edge.enqueue\",\"message\":\"Item enqueued, depth=1\",\"node\":\"obs_producer\",\"edge_id\":\"obs_producer:output->obs_processor:input\",\"json\":false}\n",
      "{\"ts\":1754534528.3340852,\"level\":\"DEBUG\",\"event\":\"scheduler.message_routed\",\"message\":\"Message routed successfully: OK\",\"node\":\"obs_producer\",\"edge_id\":\"obs_producer:output->obs_processor:input\",\"port\":\"output\",\"json\":false}\n",
      "{\"ts\":1754534528.334144,\"level\":\"INFO\",\"event\":\"node.tick_emit\",\"message\":\"Generated message 1\",\"node\":\"obs_producer\",\"json\":false}\n",
      "{\"ts\":1754534528.334209,\"level\":\"DEBUG\",\"event\":\"node.tick_processed\",\"message\":\"Tick processed successfully\",\"node\":\"obs_producer\",\"json\":false}\n",
      "{\"ts\":1754534528.334343,\"level\":\"DEBUG\",\"event\":\"scheduler.process_messages\",\"message\":\"Processing messages for node obs_processor\",\"node\":\"obs_processor\",\"json\":false}\n",
      "{\"ts\":1754534528.334412,\"level\":\"DEBUG\",\"event\":\"edge.dequeue\",\"message\":\"Item dequeued, depth=0\",\"edge_id\":\"obs_producer:output->obs_processor:input\",\"json\":false}\n",
      "{\"ts\":1754534528.3344982,\"level\":\"DEBUG\",\"event\":\"node.message_start\",\"message\":\"Processing message 19\",\"trace_id\":\"2235d4d3-82b0-43cd-b9d0-7bc04a71d270\",\"node\":\"obs_processor\",\"port\":\"input\",\"json\":false}\n",
      "{\"ts\":1754534528.34725,\"level\":\"DEBUG\",\"event\":\"node.emit\",\"message\":\"Emitting DATA message\",\"trace_id\":\"524f98ae-54b2-4a65-97c3-add832538294\",\"node\":\"obs_processor\",\"port\":\"output\",\"json\":false,\"message_type\":\"DATA\"}\n",
      "{\"ts\":1754534528.347383,\"level\":\"DEBUG\",\"event\":\"edge.enqueue\",\"message\":\"Item enqueued, depth=1\",\"trace_id\":\"2235d4d3-82b0-43cd-b9d0-7bc04a71d270\",\"node\":\"obs_processor\",\"edge_id\":\"obs_processor:output->obs_consumer:input\",\"port\":\"input\",\"json\":false}\n",
      "{\"ts\":1754534528.347423,\"level\":\"DEBUG\",\"event\":\"scheduler.message_routed\",\"message\":\"Message routed successfully: OK\",\"trace_id\":\"2235d4d3-82b0-43cd-b9d0-7bc04a71d270\",\"node\":\"obs_processor\",\"edge_id\":\"obs_processor:output->obs_consumer:input\",\"port\":\"output\",\"json\":false}\n",
      "{\"ts\":1754534528.347457,\"level\":\"DEBUG\",\"event\":\"node.message_emitted\",\"message\":\"Emitted processed message\",\"trace_id\":\"2235d4d3-82b0-43cd-b9d0-7bc04a71d270\",\"node\":\"obs_processor\",\"port\":\"input\",\"json\":false}\n",
      "{\"ts\":1754534528.347483,\"level\":\"INFO\",\"event\":\"node.message_complete\",\"message\":\"Message processed successfully\",\"trace_id\":\"2235d4d3-82b0-43cd-b9d0-7bc04a71d270\",\"node\":\"obs_processor\",\"port\":\"input\",\"json\":false,\"processing_time\":0.012611041995114647,\"message_sequence\":19}\n",
      "{\"ts\":1754534528.347519,\"level\":\"DEBUG\",\"event\":\"node.message_processed\",\"message\":\"Message processed in 0.013023s\",\"trace_id\":\"2235d4d3-82b0-43cd-b9d0-7bc04a71d270\",\"node\":\"obs_processor\",\"port\":\"input\",\"json\":false,\"duration\":0.013022541999816895}\n",
      "{\"ts\":1754534528.347617,\"level\":\"DEBUG\",\"event\":\"scheduler.process_tick\",\"message\":\"Processing tick for node obs_processor\",\"node\":\"obs_processor\",\"json\":false}\n",
      "{\"ts\":1754534528.3476632,\"level\":\"DEBUG\",\"event\":\"node.tick_processed\",\"message\":\"Tick processed successfully\",\"node\":\"obs_processor\",\"json\":false}\n",
      "{\"ts\":1754534528.3477151,\"level\":\"DEBUG\",\"event\":\"scheduler.process_messages\",\"message\":\"Processing messages for node obs_consumer\",\"node\":\"obs_consumer\",\"json\":false}\n",
      "{\"ts\":1754534528.347744,\"level\":\"DEBUG\",\"event\":\"edge.dequeue\",\"message\":\"Item dequeued, depth=0\",\"edge_id\":\"obs_processor:output->obs_consumer:input\",\"json\":false}\n",
      "{\"ts\":1754534528.3477771,\"level\":\"DEBUG\",\"event\":\"node.message_start\",\"message\":\"Processing message 23\",\"trace_id\":\"524f98ae-54b2-4a65-97c3-add832538294\",\"node\":\"obs_consumer\",\"port\":\"input\",\"json\":false}\n",
      "{\"ts\":1754534528.360369,\"level\":\"INFO\",\"event\":\"node.message_complete\",\"message\":\"Message processed successfully\",\"trace_id\":\"524f98ae-54b2-4a65-97c3-add832538294\",\"node\":\"obs_consumer\",\"port\":\"input\",\"json\":false,\"processing_time\":0.01257416699809255,\"message_sequence\":23}\n",
      "{\"ts\":1754534528.360561,\"level\":\"DEBUG\",\"event\":\"node.message_processed\",\"message\":\"Message processed in 0.012777s\",\"trace_id\":\"524f98ae-54b2-4a65-97c3-add832538294\",\"node\":\"obs_consumer\",\"port\":\"input\",\"json\":false,\"duration\":0.012776832998497412}\n",
      "{\"ts\":1754534528.386304,\"level\":\"DEBUG\",\"event\":\"scheduler.process_tick\",\"message\":\"Processing tick for node obs_consumer\",\"node\":\"obs_consumer\",\"json\":false}\n",
      "{\"ts\":1754534528.386494,\"level\":\"DEBUG\",\"event\":\"node.tick_processed\",\"message\":\"Tick processed successfully\",\"node\":\"obs_consumer\",\"json\":false}\n",
      "{\"ts\":1754534528.436411,\"level\":\"DEBUG\",\"event\":\"scheduler.process_tick\",\"message\":\"Processing tick for node obs_producer\",\"node\":\"obs_producer\",\"json\":false}\n",
      "{\"ts\":1754534528.436935,\"level\":\"DEBUG\",\"event\":\"node.emit\",\"message\":\"Emitting DATA message\",\"trace_id\":\"530858e6-4436-4ad8-9f8f-56146a8019e8\",\"node\":\"obs_producer\",\"port\":\"output\",\"json\":false,\"message_type\":\"DATA\"}\n",
      "{\"ts\":1754534528.437045,\"level\":\"DEBUG\",\"event\":\"edge.enqueue\",\"message\":\"Item enqueued, depth=1\",\"node\":\"obs_producer\",\"edge_id\":\"obs_producer:output->obs_processor:input\",\"json\":false}\n",
      "{\"ts\":1754534528.4371068,\"level\":\"DEBUG\",\"event\":\"scheduler.message_routed\",\"message\":\"Message routed successfully: OK\",\"node\":\"obs_producer\",\"edge_id\":\"obs_producer:output->obs_processor:input\",\"port\":\"output\",\"json\":false}\n",
      "{\"ts\":1754534528.43715,\"level\":\"INFO\",\"event\":\"node.tick_emit\",\"message\":\"Generated message 1\",\"node\":\"obs_producer\",\"json\":false}\n",
      "{\"ts\":1754534528.4372008,\"level\":\"DEBUG\",\"event\":\"node.tick_processed\",\"message\":\"Tick processed successfully\",\"node\":\"obs_producer\",\"json\":false}\n",
      "{\"ts\":1754534528.437324,\"level\":\"DEBUG\",\"event\":\"scheduler.process_messages\",\"message\":\"Processing messages for node obs_processor\",\"node\":\"obs_processor\",\"json\":false}\n",
      "{\"ts\":1754534528.437386,\"level\":\"DEBUG\",\"event\":\"edge.dequeue\",\"message\":\"Item dequeued, depth=0\",\"edge_id\":\"obs_producer:output->obs_processor:input\",\"json\":false}\n",
      "{\"ts\":1754534528.437452,\"level\":\"DEBUG\",\"event\":\"node.message_start\",\"message\":\"Processing message 20\",\"trace_id\":\"530858e6-4436-4ad8-9f8f-56146a8019e8\",\"node\":\"obs_processor\",\"port\":\"input\",\"json\":false}\n",
      "{\"ts\":1754534528.448083,\"level\":\"DEBUG\",\"event\":\"node.emit\",\"message\":\"Emitting DATA message\",\"trace_id\":\"43477b0d-88d5-44e0-86ea-3b1910a5d4a0\",\"node\":\"obs_processor\",\"port\":\"output\",\"json\":false,\"message_type\":\"DATA\"}\n",
      "{\"ts\":1754534528.448443,\"level\":\"DEBUG\",\"event\":\"edge.enqueue\",\"message\":\"Item enqueued, depth=1\",\"trace_id\":\"530858e6-4436-4ad8-9f8f-56146a8019e8\",\"node\":\"obs_processor\",\"edge_id\":\"obs_processor:output->obs_consumer:input\",\"port\":\"input\",\"json\":false}\n",
      "{\"ts\":1754534528.448511,\"level\":\"DEBUG\",\"event\":\"scheduler.message_routed\",\"message\":\"Message routed successfully: OK\",\"trace_id\":\"530858e6-4436-4ad8-9f8f-56146a8019e8\",\"node\":\"obs_processor\",\"edge_id\":\"obs_processor:output->obs_consumer:input\",\"port\":\"output\",\"json\":false}\n",
      "{\"ts\":1754534528.448549,\"level\":\"DEBUG\",\"event\":\"node.message_emitted\",\"message\":\"Emitted processed message\",\"trace_id\":\"530858e6-4436-4ad8-9f8f-56146a8019e8\",\"node\":\"obs_processor\",\"port\":\"input\",\"json\":false}\n",
      "{\"ts\":1754534528.4485881,\"level\":\"INFO\",\"event\":\"node.message_complete\",\"message\":\"Message processed successfully\",\"trace_id\":\"530858e6-4436-4ad8-9f8f-56146a8019e8\",\"node\":\"obs_processor\",\"port\":\"input\",\"json\":false,\"processing_time\":0.010468749998835847,\"message_sequence\":20}\n",
      "{\"ts\":1754534528.4486358,\"level\":\"DEBUG\",\"event\":\"node.message_processed\",\"message\":\"Message processed in 0.011181s\",\"trace_id\":\"530858e6-4436-4ad8-9f8f-56146a8019e8\",\"node\":\"obs_processor\",\"port\":\"input\",\"json\":false,\"duration\":0.01118141599727096}\n",
      "{\"ts\":1754534528.449109,\"level\":\"DEBUG\",\"event\":\"scheduler.process_tick\",\"message\":\"Processing tick for node obs_processor\",\"node\":\"obs_processor\",\"json\":false}\n",
      "{\"ts\":1754534528.449235,\"level\":\"DEBUG\",\"event\":\"node.tick_processed\",\"message\":\"Tick processed successfully\",\"node\":\"obs_processor\",\"json\":false}\n",
      "{\"ts\":1754534528.4493198,\"level\":\"DEBUG\",\"event\":\"scheduler.process_messages\",\"message\":\"Processing messages for node obs_consumer\",\"node\":\"obs_consumer\",\"json\":false}\n",
      "{\"ts\":1754534528.4495301,\"level\":\"DEBUG\",\"event\":\"edge.dequeue\",\"message\":\"Item dequeued, depth=0\",\"edge_id\":\"obs_processor:output->obs_consumer:input\",\"json\":false}\n",
      "{\"ts\":1754534528.449742,\"level\":\"DEBUG\",\"event\":\"node.message_start\",\"message\":\"Processing message 24\",\"trace_id\":\"43477b0d-88d5-44e0-86ea-3b1910a5d4a0\",\"node\":\"obs_consumer\",\"port\":\"input\",\"json\":false}\n",
      "{\"ts\":1754534528.462231,\"level\":\"INFO\",\"event\":\"node.message_complete\",\"message\":\"Message processed successfully\",\"trace_id\":\"43477b0d-88d5-44e0-86ea-3b1910a5d4a0\",\"node\":\"obs_consumer\",\"port\":\"input\",\"json\":false,\"processing_time\":0.012468417000491172,\"message_sequence\":24}\n",
      "{\"ts\":1754534528.462511,\"level\":\"DEBUG\",\"event\":\"node.message_processed\",\"message\":\"Message processed in 0.012763s\",\"trace_id\":\"43477b0d-88d5-44e0-86ea-3b1910a5d4a0\",\"node\":\"obs_consumer\",\"port\":\"input\",\"json\":false,\"duration\":0.012762584003212396}\n",
      "{\"ts\":1754534528.488853,\"level\":\"DEBUG\",\"event\":\"scheduler.process_tick\",\"message\":\"Processing tick for node obs_consumer\",\"node\":\"obs_consumer\",\"json\":false}\n",
      "{\"ts\":1754534528.489156,\"level\":\"DEBUG\",\"event\":\"node.tick_processed\",\"message\":\"Tick processed successfully\",\"node\":\"obs_consumer\",\"json\":false}\n",
      "{\"ts\":1754534528.5388758,\"level\":\"DEBUG\",\"event\":\"scheduler.process_tick\",\"message\":\"Processing tick for node obs_producer\",\"node\":\"obs_producer\",\"json\":false}\n",
      "{\"ts\":1754534528.539263,\"level\":\"DEBUG\",\"event\":\"node.emit\",\"message\":\"Emitting DATA message\",\"trace_id\":\"64c64659-b769-41af-b5d0-3a88945bde11\",\"node\":\"obs_producer\",\"port\":\"output\",\"json\":false,\"message_type\":\"DATA\"}\n",
      "{\"ts\":1754534528.539372,\"level\":\"DEBUG\",\"event\":\"edge.enqueue\",\"message\":\"Item enqueued, depth=1\",\"node\":\"obs_producer\",\"edge_id\":\"obs_producer:output->obs_processor:input\",\"json\":false}\n",
      "{\"ts\":1754534528.539458,\"level\":\"DEBUG\",\"event\":\"scheduler.message_routed\",\"message\":\"Message routed successfully: OK\",\"node\":\"obs_producer\",\"edge_id\":\"obs_producer:output->obs_processor:input\",\"port\":\"output\",\"json\":false}\n",
      "{\"ts\":1754534528.539521,\"level\":\"INFO\",\"event\":\"node.tick_emit\",\"message\":\"Generated message 1\",\"node\":\"obs_producer\",\"json\":false}\n",
      "{\"ts\":1754534528.5396018,\"level\":\"DEBUG\",\"event\":\"node.tick_processed\",\"message\":\"Tick processed successfully\",\"node\":\"obs_producer\",\"json\":false}\n",
      "{\"ts\":1754534528.539741,\"level\":\"DEBUG\",\"event\":\"scheduler.process_messages\",\"message\":\"Processing messages for node obs_processor\",\"node\":\"obs_processor\",\"json\":false}\n",
      "{\"ts\":1754534528.5398211,\"level\":\"DEBUG\",\"event\":\"edge.dequeue\",\"message\":\"Item dequeued, depth=0\",\"edge_id\":\"obs_producer:output->obs_processor:input\",\"json\":false}\n",
      "{\"ts\":1754534528.5399098,\"level\":\"DEBUG\",\"event\":\"node.message_start\",\"message\":\"Processing message 21\",\"trace_id\":\"64c64659-b769-41af-b5d0-3a88945bde11\",\"node\":\"obs_processor\",\"port\":\"input\",\"json\":false}\n",
      "{\"ts\":1754534528.552064,\"level\":\"DEBUG\",\"event\":\"node.emit\",\"message\":\"Emitting DATA message\",\"trace_id\":\"f77a2463-0425-492b-988c-0ce4ae32cd2f\",\"node\":\"obs_processor\",\"port\":\"output\",\"json\":false,\"message_type\":\"DATA\"}\n",
      "{\"ts\":1754534528.552329,\"level\":\"DEBUG\",\"event\":\"edge.enqueue\",\"message\":\"Item enqueued, depth=1\",\"trace_id\":\"64c64659-b769-41af-b5d0-3a88945bde11\",\"node\":\"obs_processor\",\"edge_id\":\"obs_processor:output->obs_consumer:input\",\"port\":\"input\",\"json\":false}\n",
      "{\"ts\":1754534528.552398,\"level\":\"DEBUG\",\"event\":\"scheduler.message_routed\",\"message\":\"Message routed successfully: OK\",\"trace_id\":\"64c64659-b769-41af-b5d0-3a88945bde11\",\"node\":\"obs_processor\",\"edge_id\":\"obs_processor:output->obs_consumer:input\",\"port\":\"output\",\"json\":false}\n",
      "{\"ts\":1754534528.552442,\"level\":\"DEBUG\",\"event\":\"node.message_emitted\",\"message\":\"Emitted processed message\",\"trace_id\":\"64c64659-b769-41af-b5d0-3a88945bde11\",\"node\":\"obs_processor\",\"port\":\"input\",\"json\":false}\n",
      "{\"ts\":1754534528.5524778,\"level\":\"INFO\",\"event\":\"node.message_complete\",\"message\":\"Message processed successfully\",\"trace_id\":\"64c64659-b769-41af-b5d0-3a88945bde11\",\"node\":\"obs_processor\",\"port\":\"input\",\"json\":false,\"processing_time\":0.01200658299785573,\"message_sequence\":21}\n",
      "{\"ts\":1754534528.552533,\"level\":\"DEBUG\",\"event\":\"node.message_processed\",\"message\":\"Message processed in 0.012619s\",\"trace_id\":\"64c64659-b769-41af-b5d0-3a88945bde11\",\"node\":\"obs_processor\",\"port\":\"input\",\"json\":false,\"duration\":0.012619082997844089}\n",
      "{\"ts\":1754534528.5526772,\"level\":\"DEBUG\",\"event\":\"scheduler.process_tick\",\"message\":\"Processing tick for node obs_processor\",\"node\":\"obs_processor\",\"json\":false}\n",
      "{\"ts\":1754534528.552756,\"level\":\"DEBUG\",\"event\":\"node.tick_processed\",\"message\":\"Tick processed successfully\",\"node\":\"obs_processor\",\"json\":false}\n",
      "{\"ts\":1754534528.552829,\"level\":\"DEBUG\",\"event\":\"scheduler.process_messages\",\"message\":\"Processing messages for node obs_consumer\",\"node\":\"obs_consumer\",\"json\":false}\n",
      "{\"ts\":1754534528.552876,\"level\":\"DEBUG\",\"event\":\"edge.dequeue\",\"message\":\"Item dequeued, depth=0\",\"edge_id\":\"obs_processor:output->obs_consumer:input\",\"json\":false}\n",
      "{\"ts\":1754534528.552928,\"level\":\"DEBUG\",\"event\":\"node.message_start\",\"message\":\"Processing message 25\",\"trace_id\":\"f77a2463-0425-492b-988c-0ce4ae32cd2f\",\"node\":\"obs_consumer\",\"port\":\"input\",\"json\":false}\n",
      "{\"ts\":1754534528.5638158,\"level\":\"INFO\",\"event\":\"node.message_complete\",\"message\":\"Message processed successfully\",\"trace_id\":\"f77a2463-0425-492b-988c-0ce4ae32cd2f\",\"node\":\"obs_consumer\",\"port\":\"input\",\"json\":false,\"processing_time\":0.010856166998564731,\"message_sequence\":25}\n",
      "{\"ts\":1754534528.5641851,\"level\":\"DEBUG\",\"event\":\"node.message_processed\",\"message\":\"Message processed in 0.011242s\",\"trace_id\":\"f77a2463-0425-492b-988c-0ce4ae32cd2f\",\"node\":\"obs_consumer\",\"port\":\"input\",\"json\":false,\"duration\":0.011242207998293452}\n",
      "{\"ts\":1754534528.595049,\"level\":\"DEBUG\",\"event\":\"scheduler.process_tick\",\"message\":\"Processing tick for node obs_consumer\",\"node\":\"obs_consumer\",\"json\":false}\n",
      "{\"ts\":1754534528.595367,\"level\":\"DEBUG\",\"event\":\"node.tick_processed\",\"message\":\"Tick processed successfully\",\"node\":\"obs_consumer\",\"json\":false}\n",
      "{\"ts\":1754534528.640934,\"level\":\"DEBUG\",\"event\":\"scheduler.process_tick\",\"message\":\"Processing tick for node obs_producer\",\"node\":\"obs_producer\",\"json\":false}\n",
      "{\"ts\":1754534528.641203,\"level\":\"DEBUG\",\"event\":\"node.emit\",\"message\":\"Emitting DATA message\",\"trace_id\":\"f441017f-158a-4033-8084-fd67002a8b19\",\"node\":\"obs_producer\",\"port\":\"output\",\"json\":false,\"message_type\":\"DATA\"}\n",
      "{\"ts\":1754534528.641301,\"level\":\"DEBUG\",\"event\":\"edge.enqueue\",\"message\":\"Item enqueued, depth=1\",\"node\":\"obs_producer\",\"edge_id\":\"obs_producer:output->obs_processor:input\",\"json\":false}\n",
      "{\"ts\":1754534528.6413782,\"level\":\"DEBUG\",\"event\":\"scheduler.message_routed\",\"message\":\"Message routed successfully: OK\",\"node\":\"obs_producer\",\"edge_id\":\"obs_producer:output->obs_processor:input\",\"port\":\"output\",\"json\":false}\n",
      "{\"ts\":1754534528.641439,\"level\":\"INFO\",\"event\":\"node.tick_emit\",\"message\":\"Generated message 1\",\"node\":\"obs_producer\",\"json\":false}\n",
      "{\"ts\":1754534528.641508,\"level\":\"DEBUG\",\"event\":\"node.tick_processed\",\"message\":\"Tick processed successfully\",\"node\":\"obs_producer\",\"json\":false}\n",
      "{\"ts\":1754534528.641651,\"level\":\"DEBUG\",\"event\":\"scheduler.process_messages\",\"message\":\"Processing messages for node obs_processor\",\"node\":\"obs_processor\",\"json\":false}\n",
      "{\"ts\":1754534528.6417248,\"level\":\"DEBUG\",\"event\":\"edge.dequeue\",\"message\":\"Item dequeued, depth=0\",\"edge_id\":\"obs_producer:output->obs_processor:input\",\"json\":false}\n",
      "{\"ts\":1754534528.641815,\"level\":\"DEBUG\",\"event\":\"node.message_start\",\"message\":\"Processing message 22\",\"trace_id\":\"f441017f-158a-4033-8084-fd67002a8b19\",\"node\":\"obs_processor\",\"port\":\"input\",\"json\":false}\n",
      "{\"ts\":1754534528.6528919,\"level\":\"DEBUG\",\"event\":\"node.emit\",\"message\":\"Emitting DATA message\",\"trace_id\":\"7e984014-deac-4af2-9747-5f7b05a8b308\",\"node\":\"obs_processor\",\"port\":\"output\",\"json\":false,\"message_type\":\"DATA\"}\n",
      "{\"ts\":1754534528.653126,\"level\":\"DEBUG\",\"event\":\"edge.enqueue\",\"message\":\"Item enqueued, depth=1\",\"trace_id\":\"f441017f-158a-4033-8084-fd67002a8b19\",\"node\":\"obs_processor\",\"edge_id\":\"obs_processor:output->obs_consumer:input\",\"port\":\"input\",\"json\":false}\n",
      "{\"ts\":1754534528.653188,\"level\":\"DEBUG\",\"event\":\"scheduler.message_routed\",\"message\":\"Message routed successfully: OK\",\"trace_id\":\"f441017f-158a-4033-8084-fd67002a8b19\",\"node\":\"obs_processor\",\"edge_id\":\"obs_processor:output->obs_consumer:input\",\"port\":\"output\",\"json\":false}\n",
      "{\"ts\":1754534528.653227,\"level\":\"DEBUG\",\"event\":\"node.message_emitted\",\"message\":\"Emitted processed message\",\"trace_id\":\"f441017f-158a-4033-8084-fd67002a8b19\",\"node\":\"obs_processor\",\"port\":\"input\",\"json\":false}\n",
      "{\"ts\":1754534528.653267,\"level\":\"INFO\",\"event\":\"node.message_complete\",\"message\":\"Message processed successfully\",\"trace_id\":\"f441017f-158a-4033-8084-fd67002a8b19\",\"node\":\"obs_processor\",\"port\":\"input\",\"json\":false,\"processing_time\":0.011009875001036562,\"message_sequence\":22}\n",
      "{\"ts\":1754534528.6533172,\"level\":\"DEBUG\",\"event\":\"node.message_processed\",\"message\":\"Message processed in 0.011501s\",\"trace_id\":\"f441017f-158a-4033-8084-fd67002a8b19\",\"node\":\"obs_processor\",\"port\":\"input\",\"json\":false,\"duration\":0.011501416003738996}\n",
      "{\"ts\":1754534528.653816,\"level\":\"DEBUG\",\"event\":\"scheduler.process_tick\",\"message\":\"Processing tick for node obs_processor\",\"node\":\"obs_processor\",\"json\":false}\n",
      "{\"ts\":1754534528.653926,\"level\":\"DEBUG\",\"event\":\"node.tick_processed\",\"message\":\"Tick processed successfully\",\"node\":\"obs_processor\",\"json\":false}\n",
      "{\"ts\":1754534528.653992,\"level\":\"DEBUG\",\"event\":\"scheduler.process_messages\",\"message\":\"Processing messages for node obs_consumer\",\"node\":\"obs_consumer\",\"json\":false}\n",
      "{\"ts\":1754534528.6540291,\"level\":\"DEBUG\",\"event\":\"edge.dequeue\",\"message\":\"Item dequeued, depth=0\",\"edge_id\":\"obs_processor:output->obs_consumer:input\",\"json\":false}\n",
      "{\"ts\":1754534528.654078,\"level\":\"DEBUG\",\"event\":\"node.message_start\",\"message\":\"Processing message 26\",\"trace_id\":\"7e984014-deac-4af2-9747-5f7b05a8b308\",\"node\":\"obs_consumer\",\"port\":\"input\",\"json\":false}\n",
      "{\"ts\":1754534528.665812,\"level\":\"INFO\",\"event\":\"node.message_complete\",\"message\":\"Message processed successfully\",\"trace_id\":\"7e984014-deac-4af2-9747-5f7b05a8b308\",\"node\":\"obs_consumer\",\"port\":\"input\",\"json\":false,\"processing_time\":0.0116883329974371,\"message_sequence\":26}\n",
      "{\"ts\":1754534528.666004,\"level\":\"DEBUG\",\"event\":\"node.message_processed\",\"message\":\"Message processed in 0.011924s\",\"trace_id\":\"7e984014-deac-4af2-9747-5f7b05a8b308\",\"node\":\"obs_consumer\",\"port\":\"input\",\"json\":false,\"duration\":0.011923666002985556}\n",
      "{\"ts\":1754534528.696832,\"level\":\"DEBUG\",\"event\":\"scheduler.process_tick\",\"message\":\"Processing tick for node obs_consumer\",\"node\":\"obs_consumer\",\"json\":false}\n",
      "{\"ts\":1754534528.697124,\"level\":\"DEBUG\",\"event\":\"node.tick_processed\",\"message\":\"Tick processed successfully\",\"node\":\"obs_consumer\",\"json\":false}\n",
      "{\"ts\":1754534528.741664,\"level\":\"DEBUG\",\"event\":\"scheduler.process_tick\",\"message\":\"Processing tick for node obs_producer\",\"node\":\"obs_producer\",\"json\":false}\n",
      "{\"ts\":1754534528.741811,\"level\":\"DEBUG\",\"event\":\"node.emit\",\"message\":\"Emitting DATA message\",\"trace_id\":\"3790ff1d-4f52-4d2b-8930-c5f622e64471\",\"node\":\"obs_producer\",\"port\":\"output\",\"json\":false,\"message_type\":\"DATA\"}\n",
      "{\"ts\":1754534528.741854,\"level\":\"DEBUG\",\"event\":\"edge.enqueue\",\"message\":\"Item enqueued, depth=1\",\"node\":\"obs_producer\",\"edge_id\":\"obs_producer:output->obs_processor:input\",\"json\":false}\n",
      "{\"ts\":1754534528.741892,\"level\":\"DEBUG\",\"event\":\"scheduler.message_routed\",\"message\":\"Message routed successfully: OK\",\"node\":\"obs_producer\",\"edge_id\":\"obs_producer:output->obs_processor:input\",\"port\":\"output\",\"json\":false}\n",
      "{\"ts\":1754534528.741919,\"level\":\"INFO\",\"event\":\"node.tick_emit\",\"message\":\"Generated message 1\",\"node\":\"obs_producer\",\"json\":false}\n",
      "{\"ts\":1754534528.7419488,\"level\":\"DEBUG\",\"event\":\"node.tick_processed\",\"message\":\"Tick processed successfully\",\"node\":\"obs_producer\",\"json\":false}\n",
      "{\"ts\":1754534528.742006,\"level\":\"DEBUG\",\"event\":\"scheduler.process_messages\",\"message\":\"Processing messages for node obs_processor\",\"node\":\"obs_processor\",\"json\":false}\n",
      "{\"ts\":1754534528.742038,\"level\":\"DEBUG\",\"event\":\"edge.dequeue\",\"message\":\"Item dequeued, depth=0\",\"edge_id\":\"obs_producer:output->obs_processor:input\",\"json\":false}\n",
      "{\"ts\":1754534528.742074,\"level\":\"DEBUG\",\"event\":\"node.message_start\",\"message\":\"Processing message 23\",\"trace_id\":\"3790ff1d-4f52-4d2b-8930-c5f622e64471\",\"node\":\"obs_processor\",\"port\":\"input\",\"json\":false}\n",
      "{\"ts\":1754534528.754136,\"level\":\"DEBUG\",\"event\":\"node.emit\",\"message\":\"Emitting DATA message\",\"trace_id\":\"ca9b5243-a800-4039-a23a-ffb81501ce51\",\"node\":\"obs_processor\",\"port\":\"output\",\"json\":false,\"message_type\":\"DATA\"}\n",
      "{\"ts\":1754534528.755024,\"level\":\"DEBUG\",\"event\":\"edge.enqueue\",\"message\":\"Item enqueued, depth=1\",\"trace_id\":\"3790ff1d-4f52-4d2b-8930-c5f622e64471\",\"node\":\"obs_processor\",\"edge_id\":\"obs_processor:output->obs_consumer:input\",\"port\":\"input\",\"json\":false}\n",
      "{\"ts\":1754534528.755125,\"level\":\"DEBUG\",\"event\":\"scheduler.message_routed\",\"message\":\"Message routed successfully: OK\",\"trace_id\":\"3790ff1d-4f52-4d2b-8930-c5f622e64471\",\"node\":\"obs_processor\",\"edge_id\":\"obs_processor:output->obs_consumer:input\",\"port\":\"output\",\"json\":false}\n",
      "{\"ts\":1754534528.755195,\"level\":\"DEBUG\",\"event\":\"node.message_emitted\",\"message\":\"Emitted processed message\",\"trace_id\":\"3790ff1d-4f52-4d2b-8930-c5f622e64471\",\"node\":\"obs_processor\",\"port\":\"input\",\"json\":false}\n",
      "{\"ts\":1754534528.755255,\"level\":\"INFO\",\"event\":\"node.message_complete\",\"message\":\"Message processed successfully\",\"trace_id\":\"3790ff1d-4f52-4d2b-8930-c5f622e64471\",\"node\":\"obs_processor\",\"port\":\"input\",\"json\":false,\"processing_time\":0.011868000001413748,\"message_sequence\":23}\n",
      "{\"ts\":1754534528.7553332,\"level\":\"DEBUG\",\"event\":\"node.message_processed\",\"message\":\"Message processed in 0.013252s\",\"trace_id\":\"3790ff1d-4f52-4d2b-8930-c5f622e64471\",\"node\":\"obs_processor\",\"port\":\"input\",\"json\":false,\"duration\":0.013252292003016919}\n",
      "{\"ts\":1754534528.755538,\"level\":\"DEBUG\",\"event\":\"scheduler.process_tick\",\"message\":\"Processing tick for node obs_processor\",\"node\":\"obs_processor\",\"json\":false}\n",
      "{\"ts\":1754534528.7556548,\"level\":\"DEBUG\",\"event\":\"node.tick_processed\",\"message\":\"Tick processed successfully\",\"node\":\"obs_processor\",\"json\":false}\n",
      "{\"ts\":1754534528.7557828,\"level\":\"DEBUG\",\"event\":\"scheduler.process_messages\",\"message\":\"Processing messages for node obs_consumer\",\"node\":\"obs_consumer\",\"json\":false}\n",
      "{\"ts\":1754534528.755853,\"level\":\"DEBUG\",\"event\":\"edge.dequeue\",\"message\":\"Item dequeued, depth=0\",\"edge_id\":\"obs_processor:output->obs_consumer:input\",\"json\":false}\n",
      "{\"ts\":1754534528.755948,\"level\":\"DEBUG\",\"event\":\"node.message_start\",\"message\":\"Processing message 27\",\"trace_id\":\"ca9b5243-a800-4039-a23a-ffb81501ce51\",\"node\":\"obs_consumer\",\"port\":\"input\",\"json\":false}\n",
      "{\"ts\":1754534528.768586,\"level\":\"INFO\",\"event\":\"node.message_complete\",\"message\":\"Message processed successfully\",\"trace_id\":\"ca9b5243-a800-4039-a23a-ffb81501ce51\",\"node\":\"obs_consumer\",\"port\":\"input\",\"json\":false,\"processing_time\":0.012617915999726392,\"message_sequence\":27}\n",
      "{\"ts\":1754534528.76883,\"level\":\"DEBUG\",\"event\":\"node.message_processed\",\"message\":\"Message processed in 0.012874s\",\"trace_id\":\"ca9b5243-a800-4039-a23a-ffb81501ce51\",\"node\":\"obs_consumer\",\"port\":\"input\",\"json\":false,\"duration\":0.012873874999058899}\n",
      "{\"ts\":1754534528.799893,\"level\":\"DEBUG\",\"event\":\"scheduler.process_tick\",\"message\":\"Processing tick for node obs_consumer\",\"node\":\"obs_consumer\",\"json\":false}\n",
      "{\"ts\":1754534528.8000078,\"level\":\"DEBUG\",\"event\":\"node.tick_processed\",\"message\":\"Tick processed successfully\",\"node\":\"obs_consumer\",\"json\":false}\n",
      "{\"ts\":1754534528.843393,\"level\":\"DEBUG\",\"event\":\"scheduler.process_tick\",\"message\":\"Processing tick for node obs_producer\",\"node\":\"obs_producer\",\"json\":false}\n",
      "{\"ts\":1754534528.843761,\"level\":\"DEBUG\",\"event\":\"node.emit\",\"message\":\"Emitting DATA message\",\"trace_id\":\"55fb1f51-59aa-451d-b1ee-d3018958dd6b\",\"node\":\"obs_producer\",\"port\":\"output\",\"json\":false,\"message_type\":\"DATA\"}\n",
      "{\"ts\":1754534528.843901,\"level\":\"DEBUG\",\"event\":\"edge.enqueue\",\"message\":\"Item enqueued, depth=1\",\"node\":\"obs_producer\",\"edge_id\":\"obs_producer:output->obs_processor:input\",\"json\":false}\n",
      "{\"ts\":1754534528.8439949,\"level\":\"DEBUG\",\"event\":\"scheduler.message_routed\",\"message\":\"Message routed successfully: OK\",\"node\":\"obs_producer\",\"edge_id\":\"obs_producer:output->obs_processor:input\",\"port\":\"output\",\"json\":false}\n",
      "{\"ts\":1754534528.844044,\"level\":\"INFO\",\"event\":\"node.tick_emit\",\"message\":\"Generated message 1\",\"node\":\"obs_producer\",\"json\":false}\n",
      "{\"ts\":1754534528.84411,\"level\":\"DEBUG\",\"event\":\"node.tick_processed\",\"message\":\"Tick processed successfully\",\"node\":\"obs_producer\",\"json\":false}\n",
      "{\"ts\":1754534528.844268,\"level\":\"DEBUG\",\"event\":\"scheduler.process_messages\",\"message\":\"Processing messages for node obs_processor\",\"node\":\"obs_processor\",\"json\":false}\n",
      "{\"ts\":1754534528.8443289,\"level\":\"DEBUG\",\"event\":\"edge.dequeue\",\"message\":\"Item dequeued, depth=0\",\"edge_id\":\"obs_producer:output->obs_processor:input\",\"json\":false}\n",
      "{\"ts\":1754534528.84438,\"level\":\"DEBUG\",\"event\":\"node.message_start\",\"message\":\"Processing message 24\",\"trace_id\":\"55fb1f51-59aa-451d-b1ee-d3018958dd6b\",\"node\":\"obs_processor\",\"port\":\"input\",\"json\":false}\n",
      "{\"ts\":1754534528.856669,\"level\":\"DEBUG\",\"event\":\"node.emit\",\"message\":\"Emitting DATA message\",\"trace_id\":\"0ed8bf52-ff84-4d5f-83ef-55b5897d1303\",\"node\":\"obs_processor\",\"port\":\"output\",\"json\":false,\"message_type\":\"DATA\"}\n",
      "{\"ts\":1754534528.856909,\"level\":\"DEBUG\",\"event\":\"edge.enqueue\",\"message\":\"Item enqueued, depth=1\",\"trace_id\":\"55fb1f51-59aa-451d-b1ee-d3018958dd6b\",\"node\":\"obs_processor\",\"edge_id\":\"obs_processor:output->obs_consumer:input\",\"port\":\"input\",\"json\":false}\n",
      "{\"ts\":1754534528.856956,\"level\":\"DEBUG\",\"event\":\"scheduler.message_routed\",\"message\":\"Message routed successfully: OK\",\"trace_id\":\"55fb1f51-59aa-451d-b1ee-d3018958dd6b\",\"node\":\"obs_processor\",\"edge_id\":\"obs_processor:output->obs_consumer:input\",\"port\":\"output\",\"json\":false}\n",
      "{\"ts\":1754534528.8569868,\"level\":\"DEBUG\",\"event\":\"node.message_emitted\",\"message\":\"Emitted processed message\",\"trace_id\":\"55fb1f51-59aa-451d-b1ee-d3018958dd6b\",\"node\":\"obs_processor\",\"port\":\"input\",\"json\":false}\n",
      "{\"ts\":1754534528.8570418,\"level\":\"INFO\",\"event\":\"node.message_complete\",\"message\":\"Message processed successfully\",\"trace_id\":\"55fb1f51-59aa-451d-b1ee-d3018958dd6b\",\"node\":\"obs_processor\",\"port\":\"input\",\"json\":false,\"processing_time\":0.01212962499994319,\"message_sequence\":24}\n",
      "{\"ts\":1754534528.85711,\"level\":\"DEBUG\",\"event\":\"node.message_processed\",\"message\":\"Message processed in 0.012728s\",\"trace_id\":\"55fb1f51-59aa-451d-b1ee-d3018958dd6b\",\"node\":\"obs_processor\",\"port\":\"input\",\"json\":false,\"duration\":0.01272791699739173}\n",
      "{\"ts\":1754534528.85741,\"level\":\"DEBUG\",\"event\":\"scheduler.process_tick\",\"message\":\"Processing tick for node obs_processor\",\"node\":\"obs_processor\",\"json\":false}\n",
      "{\"ts\":1754534528.857492,\"level\":\"DEBUG\",\"event\":\"node.tick_processed\",\"message\":\"Tick processed successfully\",\"node\":\"obs_processor\",\"json\":false}\n",
      "{\"ts\":1754534528.857555,\"level\":\"DEBUG\",\"event\":\"scheduler.process_messages\",\"message\":\"Processing messages for node obs_consumer\",\"node\":\"obs_consumer\",\"json\":false}\n",
      "{\"ts\":1754534528.857594,\"level\":\"DEBUG\",\"event\":\"edge.dequeue\",\"message\":\"Item dequeued, depth=0\",\"edge_id\":\"obs_processor:output->obs_consumer:input\",\"json\":false}\n",
      "{\"ts\":1754534528.857638,\"level\":\"DEBUG\",\"event\":\"node.message_start\",\"message\":\"Processing message 28\",\"trace_id\":\"0ed8bf52-ff84-4d5f-83ef-55b5897d1303\",\"node\":\"obs_consumer\",\"port\":\"input\",\"json\":false}\n",
      "{\"ts\":1754534528.870232,\"level\":\"INFO\",\"event\":\"node.message_complete\",\"message\":\"Message processed successfully\",\"trace_id\":\"0ed8bf52-ff84-4d5f-83ef-55b5897d1303\",\"node\":\"obs_consumer\",\"port\":\"input\",\"json\":false,\"processing_time\":0.0125758330032113,\"message_sequence\":28}\n",
      "{\"ts\":1754534528.8704221,\"level\":\"DEBUG\",\"event\":\"node.message_processed\",\"message\":\"Message processed in 0.012776s\",\"trace_id\":\"0ed8bf52-ff84-4d5f-83ef-55b5897d1303\",\"node\":\"obs_consumer\",\"port\":\"input\",\"json\":false,\"duration\":0.0127760830000625}\n",
      "{\"ts\":1754534528.901518,\"level\":\"DEBUG\",\"event\":\"scheduler.process_tick\",\"message\":\"Processing tick for node obs_consumer\",\"node\":\"obs_consumer\",\"json\":false}\n",
      "{\"ts\":1754534528.901855,\"level\":\"DEBUG\",\"event\":\"node.tick_processed\",\"message\":\"Tick processed successfully\",\"node\":\"obs_consumer\",\"json\":false}\n",
      "{\"ts\":1754534528.9467142,\"level\":\"DEBUG\",\"event\":\"scheduler.process_tick\",\"message\":\"Processing tick for node obs_producer\",\"node\":\"obs_producer\",\"json\":false}\n",
      "{\"ts\":1754534528.947253,\"level\":\"DEBUG\",\"event\":\"node.emit\",\"message\":\"Emitting DATA message\",\"trace_id\":\"34c40675-b228-4407-9404-951809f0c9de\",\"node\":\"obs_producer\",\"port\":\"output\",\"json\":false,\"message_type\":\"DATA\"}\n",
      "{\"ts\":1754534528.947366,\"level\":\"DEBUG\",\"event\":\"edge.enqueue\",\"message\":\"Item enqueued, depth=1\",\"node\":\"obs_producer\",\"edge_id\":\"obs_producer:output->obs_processor:input\",\"json\":false}\n",
      "{\"ts\":1754534528.947528,\"level\":\"DEBUG\",\"event\":\"scheduler.message_routed\",\"message\":\"Message routed successfully: OK\",\"node\":\"obs_producer\",\"edge_id\":\"obs_producer:output->obs_processor:input\",\"port\":\"output\",\"json\":false}\n",
      "{\"ts\":1754534528.947607,\"level\":\"INFO\",\"event\":\"node.tick_emit\",\"message\":\"Generated message 1\",\"node\":\"obs_producer\",\"json\":false}\n",
      "{\"ts\":1754534528.947671,\"level\":\"DEBUG\",\"event\":\"node.tick_processed\",\"message\":\"Tick processed successfully\",\"node\":\"obs_producer\",\"json\":false}\n",
      "{\"ts\":1754534528.947826,\"level\":\"DEBUG\",\"event\":\"scheduler.process_messages\",\"message\":\"Processing messages for node obs_processor\",\"node\":\"obs_processor\",\"json\":false}\n",
      "{\"ts\":1754534528.94788,\"level\":\"DEBUG\",\"event\":\"edge.dequeue\",\"message\":\"Item dequeued, depth=0\",\"edge_id\":\"obs_producer:output->obs_processor:input\",\"json\":false}\n",
      "{\"ts\":1754534528.947928,\"level\":\"DEBUG\",\"event\":\"node.message_start\",\"message\":\"Processing message 25\",\"trace_id\":\"34c40675-b228-4407-9404-951809f0c9de\",\"node\":\"obs_processor\",\"port\":\"input\",\"json\":false}\n",
      "{\"ts\":1754534528.960581,\"level\":\"DEBUG\",\"event\":\"node.emit\",\"message\":\"Emitting DATA message\",\"trace_id\":\"f0802a89-a291-4f96-b26a-92bde82a37c7\",\"node\":\"obs_processor\",\"port\":\"output\",\"json\":false,\"message_type\":\"DATA\"}\n",
      "{\"ts\":1754534528.960769,\"level\":\"DEBUG\",\"event\":\"edge.enqueue\",\"message\":\"Item enqueued, depth=1\",\"trace_id\":\"34c40675-b228-4407-9404-951809f0c9de\",\"node\":\"obs_processor\",\"edge_id\":\"obs_processor:output->obs_consumer:input\",\"port\":\"input\",\"json\":false}\n",
      "{\"ts\":1754534528.9608378,\"level\":\"DEBUG\",\"event\":\"scheduler.message_routed\",\"message\":\"Message routed successfully: OK\",\"trace_id\":\"34c40675-b228-4407-9404-951809f0c9de\",\"node\":\"obs_processor\",\"edge_id\":\"obs_processor:output->obs_consumer:input\",\"port\":\"output\",\"json\":false}\n",
      "{\"ts\":1754534528.960875,\"level\":\"DEBUG\",\"event\":\"node.message_emitted\",\"message\":\"Emitted processed message\",\"trace_id\":\"34c40675-b228-4407-9404-951809f0c9de\",\"node\":\"obs_processor\",\"port\":\"input\",\"json\":false}\n",
      "{\"ts\":1754534528.960907,\"level\":\"INFO\",\"event\":\"node.message_complete\",\"message\":\"Message processed successfully\",\"trace_id\":\"34c40675-b228-4407-9404-951809f0c9de\",\"node\":\"obs_processor\",\"port\":\"input\",\"json\":false,\"processing_time\":0.012565958997583948,\"message_sequence\":25}\n",
      "{\"ts\":1754534528.9609458,\"level\":\"DEBUG\",\"event\":\"node.message_processed\",\"message\":\"Message processed in 0.013016s\",\"trace_id\":\"34c40675-b228-4407-9404-951809f0c9de\",\"node\":\"obs_processor\",\"port\":\"input\",\"json\":false,\"duration\":0.013016124998102896}\n",
      "{\"ts\":1754534528.961067,\"level\":\"DEBUG\",\"event\":\"scheduler.process_tick\",\"message\":\"Processing tick for node obs_processor\",\"node\":\"obs_processor\",\"json\":false}\n",
      "{\"ts\":1754534528.961144,\"level\":\"DEBUG\",\"event\":\"node.tick_processed\",\"message\":\"Tick processed successfully\",\"node\":\"obs_processor\",\"json\":false}\n",
      "{\"ts\":1754534528.961216,\"level\":\"DEBUG\",\"event\":\"scheduler.process_messages\",\"message\":\"Processing messages for node obs_consumer\",\"node\":\"obs_consumer\",\"json\":false}\n",
      "{\"ts\":1754534528.961258,\"level\":\"DEBUG\",\"event\":\"edge.dequeue\",\"message\":\"Item dequeued, depth=0\",\"edge_id\":\"obs_processor:output->obs_consumer:input\",\"json\":false}\n",
      "{\"ts\":1754534528.9613068,\"level\":\"DEBUG\",\"event\":\"node.message_start\",\"message\":\"Processing message 29\",\"trace_id\":\"f0802a89-a291-4f96-b26a-92bde82a37c7\",\"node\":\"obs_consumer\",\"port\":\"input\",\"json\":false}\n",
      "{\"ts\":1754534528.973224,\"level\":\"INFO\",\"event\":\"node.message_complete\",\"message\":\"Message processed successfully\",\"trace_id\":\"f0802a89-a291-4f96-b26a-92bde82a37c7\",\"node\":\"obs_consumer\",\"port\":\"input\",\"json\":false,\"processing_time\":0.011893458002305124,\"message_sequence\":29}\n",
      "{\"ts\":1754534528.973504,\"level\":\"DEBUG\",\"event\":\"node.message_processed\",\"message\":\"Message processed in 0.012186s\",\"trace_id\":\"f0802a89-a291-4f96-b26a-92bde82a37c7\",\"node\":\"obs_consumer\",\"port\":\"input\",\"json\":false,\"duration\":0.012185874998976942}\n",
      "{\"ts\":1754534529.0056121,\"level\":\"DEBUG\",\"event\":\"scheduler.process_tick\",\"message\":\"Processing tick for node obs_consumer\",\"node\":\"obs_consumer\",\"json\":false}\n",
      "{\"ts\":1754534529.005943,\"level\":\"DEBUG\",\"event\":\"node.tick_processed\",\"message\":\"Tick processed successfully\",\"node\":\"obs_consumer\",\"json\":false}\n",
      "{\"ts\":1754534529.048758,\"level\":\"DEBUG\",\"event\":\"scheduler.process_tick\",\"message\":\"Processing tick for node obs_producer\",\"node\":\"obs_producer\",\"json\":false}\n",
      "{\"ts\":1754534529.049037,\"level\":\"DEBUG\",\"event\":\"node.emit\",\"message\":\"Emitting DATA message\",\"trace_id\":\"06abf45a-4dc2-4bab-8fa9-71e2f7c0bcfc\",\"node\":\"obs_producer\",\"port\":\"output\",\"json\":false,\"message_type\":\"DATA\"}\n",
      "{\"ts\":1754534529.0491562,\"level\":\"DEBUG\",\"event\":\"edge.enqueue\",\"message\":\"Item enqueued, depth=1\",\"node\":\"obs_producer\",\"edge_id\":\"obs_producer:output->obs_processor:input\",\"json\":false}\n",
      "{\"ts\":1754534529.0492392,\"level\":\"DEBUG\",\"event\":\"scheduler.message_routed\",\"message\":\"Message routed successfully: OK\",\"node\":\"obs_producer\",\"edge_id\":\"obs_producer:output->obs_processor:input\",\"port\":\"output\",\"json\":false}\n",
      "{\"ts\":1754534529.049304,\"level\":\"INFO\",\"event\":\"node.tick_emit\",\"message\":\"Generated message 1\",\"node\":\"obs_producer\",\"json\":false}\n",
      "{\"ts\":1754534529.049383,\"level\":\"DEBUG\",\"event\":\"node.tick_processed\",\"message\":\"Tick processed successfully\",\"node\":\"obs_producer\",\"json\":false}\n",
      "{\"ts\":1754534529.049481,\"level\":\"DEBUG\",\"event\":\"scheduler.process_messages\",\"message\":\"Processing messages for node obs_processor\",\"node\":\"obs_processor\",\"json\":false}\n",
      "{\"ts\":1754534529.049532,\"level\":\"DEBUG\",\"event\":\"edge.dequeue\",\"message\":\"Item dequeued, depth=0\",\"edge_id\":\"obs_producer:output->obs_processor:input\",\"json\":false}\n",
      "{\"ts\":1754534529.0495849,\"level\":\"DEBUG\",\"event\":\"node.message_start\",\"message\":\"Processing message 26\",\"trace_id\":\"06abf45a-4dc2-4bab-8fa9-71e2f7c0bcfc\",\"node\":\"obs_processor\",\"port\":\"input\",\"json\":false}\n",
      "{\"ts\":1754534529.061057,\"level\":\"DEBUG\",\"event\":\"node.emit\",\"message\":\"Emitting DATA message\",\"trace_id\":\"4278dff8-6d99-476a-9e5b-90a6412ea587\",\"node\":\"obs_processor\",\"port\":\"output\",\"json\":false,\"message_type\":\"DATA\"}\n",
      "{\"ts\":1754534529.061284,\"level\":\"DEBUG\",\"event\":\"edge.enqueue\",\"message\":\"Item enqueued, depth=1\",\"trace_id\":\"06abf45a-4dc2-4bab-8fa9-71e2f7c0bcfc\",\"node\":\"obs_processor\",\"edge_id\":\"obs_processor:output->obs_consumer:input\",\"port\":\"input\",\"json\":false}\n",
      "{\"ts\":1754534529.061365,\"level\":\"DEBUG\",\"event\":\"scheduler.message_routed\",\"message\":\"Message routed successfully: OK\",\"trace_id\":\"06abf45a-4dc2-4bab-8fa9-71e2f7c0bcfc\",\"node\":\"obs_processor\",\"edge_id\":\"obs_processor:output->obs_consumer:input\",\"port\":\"output\",\"json\":false}\n",
      "{\"ts\":1754534529.061423,\"level\":\"DEBUG\",\"event\":\"node.message_emitted\",\"message\":\"Emitted processed message\",\"trace_id\":\"06abf45a-4dc2-4bab-8fa9-71e2f7c0bcfc\",\"node\":\"obs_processor\",\"port\":\"input\",\"json\":false}\n",
      "{\"ts\":1754534529.0614789,\"level\":\"INFO\",\"event\":\"node.message_complete\",\"message\":\"Message processed successfully\",\"trace_id\":\"06abf45a-4dc2-4bab-8fa9-71e2f7c0bcfc\",\"node\":\"obs_processor\",\"port\":\"input\",\"json\":false,\"processing_time\":0.011381541997252498,\"message_sequence\":26}\n",
      "{\"ts\":1754534529.061543,\"level\":\"DEBUG\",\"event\":\"node.message_processed\",\"message\":\"Message processed in 0.011955s\",\"trace_id\":\"06abf45a-4dc2-4bab-8fa9-71e2f7c0bcfc\",\"node\":\"obs_processor\",\"port\":\"input\",\"json\":false,\"duration\":0.011955249996390194}\n",
      "{\"ts\":1754534529.0617542,\"level\":\"DEBUG\",\"event\":\"scheduler.process_tick\",\"message\":\"Processing tick for node obs_processor\",\"node\":\"obs_processor\",\"json\":false}\n",
      "{\"ts\":1754534529.061856,\"level\":\"DEBUG\",\"event\":\"node.tick_processed\",\"message\":\"Tick processed successfully\",\"node\":\"obs_processor\",\"json\":false}\n",
      "{\"ts\":1754534529.062006,\"level\":\"DEBUG\",\"event\":\"scheduler.process_messages\",\"message\":\"Processing messages for node obs_consumer\",\"node\":\"obs_consumer\",\"json\":false}\n",
      "{\"ts\":1754534529.062072,\"level\":\"DEBUG\",\"event\":\"edge.dequeue\",\"message\":\"Item dequeued, depth=0\",\"edge_id\":\"obs_processor:output->obs_consumer:input\",\"json\":false}\n",
      "{\"ts\":1754534529.06215,\"level\":\"DEBUG\",\"event\":\"node.message_start\",\"message\":\"Processing message 30\",\"trace_id\":\"4278dff8-6d99-476a-9e5b-90a6412ea587\",\"node\":\"obs_consumer\",\"port\":\"input\",\"json\":false}\n",
      "{\"ts\":1754534529.074083,\"level\":\"INFO\",\"event\":\"node.message_complete\",\"message\":\"Message processed successfully\",\"trace_id\":\"4278dff8-6d99-476a-9e5b-90a6412ea587\",\"node\":\"obs_consumer\",\"port\":\"input\",\"json\":false,\"processing_time\":0.011918832999072038,\"message_sequence\":30}\n",
      "{\"ts\":1754534529.0742998,\"level\":\"DEBUG\",\"event\":\"node.message_processed\",\"message\":\"Message processed in 0.012145s\",\"trace_id\":\"4278dff8-6d99-476a-9e5b-90a6412ea587\",\"node\":\"obs_consumer\",\"port\":\"input\",\"json\":false,\"duration\":0.012145000000600703}\n",
      "{\"ts\":1754534529.1119318,\"level\":\"DEBUG\",\"event\":\"scheduler.process_tick\",\"message\":\"Processing tick for node obs_consumer\",\"node\":\"obs_consumer\",\"json\":false}\n",
      "{\"ts\":1754534529.112322,\"level\":\"DEBUG\",\"event\":\"node.tick_processed\",\"message\":\"Tick processed successfully\",\"node\":\"obs_consumer\",\"json\":false}\n",
      "{\"ts\":1754534529.149882,\"level\":\"DEBUG\",\"event\":\"scheduler.process_tick\",\"message\":\"Processing tick for node obs_producer\",\"node\":\"obs_producer\",\"json\":false}\n",
      "{\"ts\":1754534529.150181,\"level\":\"DEBUG\",\"event\":\"node.emit\",\"message\":\"Emitting DATA message\",\"trace_id\":\"4445d9b0-4e19-4099-9576-5827310ae1b8\",\"node\":\"obs_producer\",\"port\":\"output\",\"json\":false,\"message_type\":\"DATA\"}\n",
      "{\"ts\":1754534529.150291,\"level\":\"DEBUG\",\"event\":\"edge.enqueue\",\"message\":\"Item enqueued, depth=1\",\"node\":\"obs_producer\",\"edge_id\":\"obs_producer:output->obs_processor:input\",\"json\":false}\n",
      "{\"ts\":1754534529.150385,\"level\":\"DEBUG\",\"event\":\"scheduler.message_routed\",\"message\":\"Message routed successfully: OK\",\"node\":\"obs_producer\",\"edge_id\":\"obs_producer:output->obs_processor:input\",\"port\":\"output\",\"json\":false}\n",
      "{\"ts\":1754534529.150454,\"level\":\"INFO\",\"event\":\"node.tick_emit\",\"message\":\"Generated message 1\",\"node\":\"obs_producer\",\"json\":false}\n",
      "{\"ts\":1754534529.150532,\"level\":\"DEBUG\",\"event\":\"node.tick_processed\",\"message\":\"Tick processed successfully\",\"node\":\"obs_producer\",\"json\":false}\n",
      "{\"ts\":1754534529.15068,\"level\":\"DEBUG\",\"event\":\"scheduler.process_messages\",\"message\":\"Processing messages for node obs_processor\",\"node\":\"obs_processor\",\"json\":false}\n",
      "{\"ts\":1754534529.150769,\"level\":\"DEBUG\",\"event\":\"edge.dequeue\",\"message\":\"Item dequeued, depth=0\",\"edge_id\":\"obs_producer:output->obs_processor:input\",\"json\":false}\n",
      "{\"ts\":1754534529.150871,\"level\":\"DEBUG\",\"event\":\"node.message_start\",\"message\":\"Processing message 27\",\"trace_id\":\"4445d9b0-4e19-4099-9576-5827310ae1b8\",\"node\":\"obs_processor\",\"port\":\"input\",\"json\":false}\n",
      "{\"ts\":1754534529.1635609,\"level\":\"DEBUG\",\"event\":\"node.emit\",\"message\":\"Emitting DATA message\",\"trace_id\":\"32e75a64-3a85-4f19-862d-8697e8015a70\",\"node\":\"obs_processor\",\"port\":\"output\",\"json\":false,\"message_type\":\"DATA\"}\n",
      "{\"ts\":1754534529.1637938,\"level\":\"DEBUG\",\"event\":\"edge.enqueue\",\"message\":\"Item enqueued, depth=1\",\"trace_id\":\"4445d9b0-4e19-4099-9576-5827310ae1b8\",\"node\":\"obs_processor\",\"edge_id\":\"obs_processor:output->obs_consumer:input\",\"port\":\"input\",\"json\":false}\n",
      "{\"ts\":1754534529.163975,\"level\":\"DEBUG\",\"event\":\"scheduler.message_routed\",\"message\":\"Message routed successfully: OK\",\"trace_id\":\"4445d9b0-4e19-4099-9576-5827310ae1b8\",\"node\":\"obs_processor\",\"edge_id\":\"obs_processor:output->obs_consumer:input\",\"port\":\"output\",\"json\":false}\n",
      "{\"ts\":1754534529.1640651,\"level\":\"DEBUG\",\"event\":\"node.message_emitted\",\"message\":\"Emitted processed message\",\"trace_id\":\"4445d9b0-4e19-4099-9576-5827310ae1b8\",\"node\":\"obs_processor\",\"port\":\"input\",\"json\":false}\n",
      "{\"ts\":1754534529.164259,\"level\":\"INFO\",\"event\":\"node.message_complete\",\"message\":\"Message processed successfully\",\"trace_id\":\"4445d9b0-4e19-4099-9576-5827310ae1b8\",\"node\":\"obs_processor\",\"port\":\"input\",\"json\":false,\"processing_time\":0.012609000004886184,\"message_sequence\":27}\n",
      "{\"ts\":1754534529.164365,\"level\":\"DEBUG\",\"event\":\"node.message_processed\",\"message\":\"Message processed in 0.013492s\",\"trace_id\":\"4445d9b0-4e19-4099-9576-5827310ae1b8\",\"node\":\"obs_processor\",\"port\":\"input\",\"json\":false,\"duration\":0.013492333004251122}\n",
      "{\"ts\":1754534529.164534,\"level\":\"DEBUG\",\"event\":\"scheduler.process_tick\",\"message\":\"Processing tick for node obs_processor\",\"node\":\"obs_processor\",\"json\":false}\n",
      "{\"ts\":1754534529.164618,\"level\":\"DEBUG\",\"event\":\"node.tick_processed\",\"message\":\"Tick processed successfully\",\"node\":\"obs_processor\",\"json\":false}\n",
      "{\"ts\":1754534529.164672,\"level\":\"DEBUG\",\"event\":\"scheduler.process_messages\",\"message\":\"Processing messages for node obs_consumer\",\"node\":\"obs_consumer\",\"json\":false}\n",
      "{\"ts\":1754534529.1647081,\"level\":\"DEBUG\",\"event\":\"edge.dequeue\",\"message\":\"Item dequeued, depth=0\",\"edge_id\":\"obs_processor:output->obs_consumer:input\",\"json\":false}\n",
      "{\"ts\":1754534529.164748,\"level\":\"DEBUG\",\"event\":\"node.message_start\",\"message\":\"Processing message 31\",\"trace_id\":\"32e75a64-3a85-4f19-862d-8697e8015a70\",\"node\":\"obs_consumer\",\"port\":\"input\",\"json\":false}\n",
      "{\"ts\":1754534529.175959,\"level\":\"INFO\",\"event\":\"node.message_complete\",\"message\":\"Message processed successfully\",\"trace_id\":\"32e75a64-3a85-4f19-862d-8697e8015a70\",\"node\":\"obs_consumer\",\"port\":\"input\",\"json\":false,\"processing_time\":0.011197125000762753,\"message_sequence\":31}\n",
      "{\"ts\":1754534529.176157,\"level\":\"DEBUG\",\"event\":\"node.message_processed\",\"message\":\"Message processed in 0.011397s\",\"trace_id\":\"32e75a64-3a85-4f19-862d-8697e8015a70\",\"node\":\"obs_consumer\",\"port\":\"input\",\"json\":false,\"duration\":0.0113974169944413}\n",
      "{\"ts\":1754534529.2126029,\"level\":\"DEBUG\",\"event\":\"scheduler.process_tick\",\"message\":\"Processing tick for node obs_consumer\",\"node\":\"obs_consumer\",\"json\":false}\n",
      "{\"ts\":1754534529.212985,\"level\":\"DEBUG\",\"event\":\"node.tick_processed\",\"message\":\"Tick processed successfully\",\"node\":\"obs_consumer\",\"json\":false}\n",
      "{\"ts\":1754534529.251446,\"level\":\"DEBUG\",\"event\":\"scheduler.process_tick\",\"message\":\"Processing tick for node obs_producer\",\"node\":\"obs_producer\",\"json\":false}\n",
      "{\"ts\":1754534529.2519171,\"level\":\"DEBUG\",\"event\":\"node.emit\",\"message\":\"Emitting DATA message\",\"trace_id\":\"b50367e2-6ee9-4358-bbae-57fd4660473b\",\"node\":\"obs_producer\",\"port\":\"output\",\"json\":false,\"message_type\":\"DATA\"}\n",
      "{\"ts\":1754534529.252052,\"level\":\"DEBUG\",\"event\":\"edge.enqueue\",\"message\":\"Item enqueued, depth=1\",\"node\":\"obs_producer\",\"edge_id\":\"obs_producer:output->obs_processor:input\",\"json\":false}\n",
      "{\"ts\":1754534529.252147,\"level\":\"DEBUG\",\"event\":\"scheduler.message_routed\",\"message\":\"Message routed successfully: OK\",\"node\":\"obs_producer\",\"edge_id\":\"obs_producer:output->obs_processor:input\",\"port\":\"output\",\"json\":false}\n",
      "{\"ts\":1754534529.252218,\"level\":\"INFO\",\"event\":\"node.tick_emit\",\"message\":\"Generated message 1\",\"node\":\"obs_producer\",\"json\":false}\n",
      "{\"ts\":1754534529.2523,\"level\":\"DEBUG\",\"event\":\"node.tick_processed\",\"message\":\"Tick processed successfully\",\"node\":\"obs_producer\",\"json\":false}\n",
      "{\"ts\":1754534529.252465,\"level\":\"DEBUG\",\"event\":\"scheduler.process_messages\",\"message\":\"Processing messages for node obs_processor\",\"node\":\"obs_processor\",\"json\":false}\n",
      "{\"ts\":1754534529.253151,\"level\":\"DEBUG\",\"event\":\"edge.dequeue\",\"message\":\"Item dequeued, depth=0\",\"edge_id\":\"obs_producer:output->obs_processor:input\",\"json\":false}\n",
      "{\"ts\":1754534529.2533078,\"level\":\"DEBUG\",\"event\":\"node.message_start\",\"message\":\"Processing message 28\",\"trace_id\":\"b50367e2-6ee9-4358-bbae-57fd4660473b\",\"node\":\"obs_processor\",\"port\":\"input\",\"json\":false}\n"
     ]
    },
    {
     "name": "stdout",
     "output_type": "stream",
     "text": [
      "✅ Observability demo completed successfully!\n",
      "\n",
      "📈 Final Statistics:\n",
      "   Producer messages: 0\n",
      "   Processor messages: 29\n",
      "   Consumer messages: 33\n",
      "   Average processing time: 11.91ms\n"
     ]
    },
    {
     "name": "stderr",
     "output_type": "stream",
     "text": [
      "{\"ts\":1754534529.266004,\"level\":\"DEBUG\",\"event\":\"node.emit\",\"message\":\"Emitting DATA message\",\"trace_id\":\"666d97f2-a8ea-40f3-9967-2b0f40be5c9b\",\"node\":\"obs_processor\",\"port\":\"output\",\"json\":false,\"message_type\":\"DATA\"}\n",
      "{\"ts\":1754534529.266861,\"level\":\"DEBUG\",\"event\":\"edge.enqueue\",\"message\":\"Item enqueued, depth=1\",\"trace_id\":\"b50367e2-6ee9-4358-bbae-57fd4660473b\",\"node\":\"obs_processor\",\"edge_id\":\"obs_processor:output->obs_consumer:input\",\"port\":\"input\",\"json\":false}\n",
      "{\"ts\":1754534529.267165,\"level\":\"DEBUG\",\"event\":\"scheduler.message_routed\",\"message\":\"Message routed successfully: OK\",\"trace_id\":\"b50367e2-6ee9-4358-bbae-57fd4660473b\",\"node\":\"obs_processor\",\"edge_id\":\"obs_processor:output->obs_consumer:input\",\"port\":\"output\",\"json\":false}\n",
      "{\"ts\":1754534529.2673228,\"level\":\"DEBUG\",\"event\":\"node.message_emitted\",\"message\":\"Emitted processed message\",\"trace_id\":\"b50367e2-6ee9-4358-bbae-57fd4660473b\",\"node\":\"obs_processor\",\"port\":\"input\",\"json\":false}\n",
      "{\"ts\":1754534529.267384,\"level\":\"INFO\",\"event\":\"node.message_complete\",\"message\":\"Message processed successfully\",\"trace_id\":\"b50367e2-6ee9-4358-bbae-57fd4660473b\",\"node\":\"obs_processor\",\"port\":\"input\",\"json\":false,\"processing_time\":0.012639124994166195,\"message_sequence\":28}\n",
      "{\"ts\":1754534529.267446,\"level\":\"DEBUG\",\"event\":\"node.message_processed\",\"message\":\"Message processed in 0.014141s\",\"trace_id\":\"b50367e2-6ee9-4358-bbae-57fd4660473b\",\"node\":\"obs_processor\",\"port\":\"input\",\"json\":false,\"duration\":0.014141125000605825}\n",
      "{\"ts\":1754534529.267583,\"level\":\"DEBUG\",\"event\":\"scheduler.process_tick\",\"message\":\"Processing tick for node obs_processor\",\"node\":\"obs_processor\",\"json\":false}\n",
      "{\"ts\":1754534529.267678,\"level\":\"DEBUG\",\"event\":\"node.tick_processed\",\"message\":\"Tick processed successfully\",\"node\":\"obs_processor\",\"json\":false}\n",
      "{\"ts\":1754534529.267756,\"level\":\"DEBUG\",\"event\":\"scheduler.process_messages\",\"message\":\"Processing messages for node obs_consumer\",\"node\":\"obs_consumer\",\"json\":false}\n",
      "{\"ts\":1754534529.267817,\"level\":\"DEBUG\",\"event\":\"edge.dequeue\",\"message\":\"Item dequeued, depth=0\",\"edge_id\":\"obs_processor:output->obs_consumer:input\",\"json\":false}\n",
      "{\"ts\":1754534529.2678761,\"level\":\"DEBUG\",\"event\":\"node.message_start\",\"message\":\"Processing message 32\",\"trace_id\":\"666d97f2-a8ea-40f3-9967-2b0f40be5c9b\",\"node\":\"obs_consumer\",\"port\":\"input\",\"json\":false}\n",
      "{\"ts\":1754534529.2804658,\"level\":\"INFO\",\"event\":\"node.message_complete\",\"message\":\"Message processed successfully\",\"trace_id\":\"666d97f2-a8ea-40f3-9967-2b0f40be5c9b\",\"node\":\"obs_consumer\",\"port\":\"input\",\"json\":false,\"processing_time\":0.012579082998854574,\"message_sequence\":32}\n",
      "{\"ts\":1754534529.280618,\"level\":\"DEBUG\",\"event\":\"node.message_processed\",\"message\":\"Message processed in 0.012736s\",\"trace_id\":\"666d97f2-a8ea-40f3-9967-2b0f40be5c9b\",\"node\":\"obs_consumer\",\"port\":\"input\",\"json\":false,\"duration\":0.012736083001072984}\n",
      "{\"ts\":1754534529.317466,\"level\":\"DEBUG\",\"event\":\"scheduler.process_tick\",\"message\":\"Processing tick for node obs_consumer\",\"node\":\"obs_consumer\",\"json\":false}\n",
      "{\"ts\":1754534529.317661,\"level\":\"DEBUG\",\"event\":\"node.tick_processed\",\"message\":\"Tick processed successfully\",\"node\":\"obs_consumer\",\"json\":false}\n",
      "{\"ts\":1754534529.35437,\"level\":\"DEBUG\",\"event\":\"scheduler.process_tick\",\"message\":\"Processing tick for node obs_producer\",\"node\":\"obs_producer\",\"json\":false}\n",
      "{\"ts\":1754534529.354677,\"level\":\"DEBUG\",\"event\":\"node.emit\",\"message\":\"Emitting DATA message\",\"trace_id\":\"dae26c55-0d38-44dd-a145-35973162b154\",\"node\":\"obs_producer\",\"port\":\"output\",\"json\":false,\"message_type\":\"DATA\"}\n",
      "{\"ts\":1754534529.354804,\"level\":\"DEBUG\",\"event\":\"edge.enqueue\",\"message\":\"Item enqueued, depth=1\",\"node\":\"obs_producer\",\"edge_id\":\"obs_producer:output->obs_processor:input\",\"json\":false}\n",
      "{\"ts\":1754534529.354914,\"level\":\"DEBUG\",\"event\":\"scheduler.message_routed\",\"message\":\"Message routed successfully: OK\",\"node\":\"obs_producer\",\"edge_id\":\"obs_producer:output->obs_processor:input\",\"port\":\"output\",\"json\":false}\n",
      "{\"ts\":1754534529.354988,\"level\":\"INFO\",\"event\":\"node.tick_emit\",\"message\":\"Generated message 1\",\"node\":\"obs_producer\",\"json\":false}\n",
      "{\"ts\":1754534529.355066,\"level\":\"DEBUG\",\"event\":\"node.tick_processed\",\"message\":\"Tick processed successfully\",\"node\":\"obs_producer\",\"json\":false}\n",
      "{\"ts\":1754534529.355229,\"level\":\"DEBUG\",\"event\":\"scheduler.process_messages\",\"message\":\"Processing messages for node obs_processor\",\"node\":\"obs_processor\",\"json\":false}\n",
      "{\"ts\":1754534529.355314,\"level\":\"DEBUG\",\"event\":\"edge.dequeue\",\"message\":\"Item dequeued, depth=0\",\"edge_id\":\"obs_producer:output->obs_processor:input\",\"json\":false}\n",
      "{\"ts\":1754534529.3554208,\"level\":\"DEBUG\",\"event\":\"node.message_start\",\"message\":\"Processing message 29\",\"trace_id\":\"dae26c55-0d38-44dd-a145-35973162b154\",\"node\":\"obs_processor\",\"port\":\"input\",\"json\":false}\n",
      "{\"ts\":1754534529.365854,\"level\":\"DEBUG\",\"event\":\"node.emit\",\"message\":\"Emitting DATA message\",\"trace_id\":\"2a237e5b-b289-4970-ac06-591f4003e642\",\"node\":\"obs_processor\",\"port\":\"output\",\"json\":false,\"message_type\":\"DATA\"}\n",
      "{\"ts\":1754534529.366008,\"level\":\"DEBUG\",\"event\":\"edge.enqueue\",\"message\":\"Item enqueued, depth=1\",\"trace_id\":\"dae26c55-0d38-44dd-a145-35973162b154\",\"node\":\"obs_processor\",\"edge_id\":\"obs_processor:output->obs_consumer:input\",\"port\":\"input\",\"json\":false}\n",
      "{\"ts\":1754534529.366165,\"level\":\"DEBUG\",\"event\":\"scheduler.message_routed\",\"message\":\"Message routed successfully: OK\",\"trace_id\":\"dae26c55-0d38-44dd-a145-35973162b154\",\"node\":\"obs_processor\",\"edge_id\":\"obs_processor:output->obs_consumer:input\",\"port\":\"output\",\"json\":false}\n",
      "{\"ts\":1754534529.3664482,\"level\":\"DEBUG\",\"event\":\"node.message_emitted\",\"message\":\"Emitted processed message\",\"trace_id\":\"dae26c55-0d38-44dd-a145-35973162b154\",\"node\":\"obs_processor\",\"port\":\"input\",\"json\":false}\n",
      "{\"ts\":1754534529.366513,\"level\":\"INFO\",\"event\":\"node.message_complete\",\"message\":\"Message processed successfully\",\"trace_id\":\"dae26c55-0d38-44dd-a145-35973162b154\",\"node\":\"obs_processor\",\"port\":\"input\",\"json\":false,\"processing_time\":0.010250916995573789,\"message_sequence\":29}\n",
      "{\"ts\":1754534529.3666549,\"level\":\"DEBUG\",\"event\":\"node.message_processed\",\"message\":\"Message processed in 0.011234s\",\"trace_id\":\"dae26c55-0d38-44dd-a145-35973162b154\",\"node\":\"obs_processor\",\"port\":\"input\",\"json\":false,\"duration\":0.0112339580009575}\n",
      "{\"ts\":1754534529.366828,\"level\":\"DEBUG\",\"event\":\"scheduler.process_messages\",\"message\":\"Processing messages for node obs_consumer\",\"node\":\"obs_consumer\",\"json\":false}\n",
      "{\"ts\":1754534529.366888,\"level\":\"DEBUG\",\"event\":\"edge.dequeue\",\"message\":\"Item dequeued, depth=0\",\"edge_id\":\"obs_processor:output->obs_consumer:input\",\"json\":false}\n",
      "{\"ts\":1754534529.3669682,\"level\":\"DEBUG\",\"event\":\"node.message_start\",\"message\":\"Processing message 33\",\"trace_id\":\"2a237e5b-b289-4970-ac06-591f4003e642\",\"node\":\"obs_consumer\",\"port\":\"input\",\"json\":false}\n",
      "{\"ts\":1754534529.377881,\"level\":\"INFO\",\"event\":\"node.message_complete\",\"message\":\"Message processed successfully\",\"trace_id\":\"2a237e5b-b289-4970-ac06-591f4003e642\",\"node\":\"obs_consumer\",\"port\":\"input\",\"json\":false,\"processing_time\":0.010902999994868878,\"message_sequence\":33}\n",
      "{\"ts\":1754534529.3780322,\"level\":\"DEBUG\",\"event\":\"node.message_processed\",\"message\":\"Message processed in 0.011059s\",\"trace_id\":\"2a237e5b-b289-4970-ac06-591f4003e642\",\"node\":\"obs_consumer\",\"port\":\"input\",\"json\":false,\"duration\":0.01105929100594949}\n",
      "{\"ts\":1754534529.3782039,\"level\":\"DEBUG\",\"event\":\"scheduler.process_tick\",\"message\":\"Processing tick for node obs_processor\",\"node\":\"obs_processor\",\"json\":false}\n",
      "{\"ts\":1754534529.378314,\"level\":\"DEBUG\",\"event\":\"node.tick_processed\",\"message\":\"Tick processed successfully\",\"node\":\"obs_processor\",\"json\":false}\n",
      "{\"ts\":1754534529.378412,\"level\":\"INFO\",\"event\":\"scheduler.timeout\",\"message\":\"Scheduler timeout reached, shutting down\",\"json\":false}\n",
      "{\"ts\":1754534529.378459,\"level\":\"INFO\",\"event\":\"scheduler.shutdown_start\",\"message\":\"Starting graceful shutdown\",\"json\":false}\n",
      "{\"ts\":1754534529.378536,\"level\":\"INFO\",\"event\":\"node.stop\",\"message\":\"Node obs_consumer stopping\",\"node\":\"obs_consumer\",\"json\":false}\n",
      "{\"ts\":1754534529.378596,\"level\":\"INFO\",\"event\":\"node.enhanced_stop\",\"message\":\"Node obs_consumer stopping\",\"node\":\"obs_consumer\",\"json\":false,\"total_messages\":33,\"avg_processing_time\":0.011813299212724703}\n",
      "{\"ts\":1754534529.3786938,\"level\":\"INFO\",\"event\":\"node.stop\",\"message\":\"Node obs_processor stopping\",\"node\":\"obs_processor\",\"json\":false}\n",
      "{\"ts\":1754534529.3787909,\"level\":\"INFO\",\"event\":\"node.enhanced_stop\",\"message\":\"Node obs_processor stopping\",\"node\":\"obs_processor\",\"json\":false,\"total_messages\":29,\"avg_processing_time\":0.011907830552131756}\n",
      "{\"ts\":1754534529.378844,\"level\":\"INFO\",\"event\":\"node.stop\",\"message\":\"Node obs_producer stopping\",\"node\":\"obs_producer\",\"json\":false}\n",
      "{\"ts\":1754534529.3788931,\"level\":\"INFO\",\"event\":\"node.enhanced_stop\",\"message\":\"Node obs_producer stopping\",\"node\":\"obs_producer\",\"json\":false,\"total_messages\":0,\"avg_processing_time\":0}\n",
      "{\"ts\":1754534529.378952,\"level\":\"INFO\",\"event\":\"scheduler.shutdown_complete\",\"message\":\"Scheduler shutdown complete\",\"json\":false}\n"
     ]
    }
   ],
   "source": [
    "class ObservabilityDemo:\n",
    "    \"\"\"Demonstration of Meridian's observability features.\"\"\"\n",
    "    \n",
    "    def __init__(self):\n",
    "        self.setup_observability()\n",
    "    \n",
    "    def setup_observability(self):\n",
    "        \"\"\"Configure comprehensive observability.\"\"\"\n",
    "        \n",
    "        # Configure with development settings for detailed visibility\n",
    "        configure_observability(ObservabilityConfig(\n",
    "            log_level=\"DEBUG\",\n",
    "            log_json=False,  # Human-readable for notebooks\n",
    "            metrics_enabled=True,\n",
    "            metrics_namespace=\"meridian_tutorial\",\n",
    "            tracing_enabled=True,\n",
    "            tracing_provider=\"inmemory\",\n",
    "            tracing_sample_rate=1.0  # 100% sampling for demo\n",
    "        ))\n",
    "        \n",
    "        print(\"✅ Observability configured with full monitoring\")\n",
    "    \n",
    "    def create_monitored_node(self, name: str, node_type: str = \"processor\") -> Node:\n",
    "        \"\"\"Create a node with comprehensive monitoring.\"\"\"\n",
    "        \n",
    "        class MonitoredNode(Node):\n",
    "            def __init__(self, name: str):\n",
    "                if node_type == \"producer\":\n",
    "                    super().__init__(\n",
    "                        name=name,\n",
    "                        inputs=[],\n",
    "                        outputs=[Port(\"output\", PortDirection.OUTPUT, spec=PortSpec(\"output\", dict))]\n",
    "                    )\n",
    "                elif node_type == \"consumer\":\n",
    "                    super().__init__(\n",
    "                        name=name,\n",
    "                        inputs=[Port(\"input\", PortDirection.INPUT, spec=PortSpec(\"input\", dict))],\n",
    "                        outputs=[]\n",
    "                    )\n",
    "                else:  # processor\n",
    "                    super().__init__(\n",
    "                        name=name,\n",
    "                        inputs=[Port(\"input\", PortDirection.INPUT, spec=PortSpec(\"input\", dict))],\n",
    "                        outputs=[Port(\"output\", PortDirection.OUTPUT, spec=PortSpec(\"output\", dict))]\n",
    "                    )\n",
    "                \n",
    "                self.message_count = 0\n",
    "                self.processing_times = []\n",
    "            \n",
    "            def on_start(self):\n",
    "                \"\"\"Enhanced startup with logging.\"\"\"\n",
    "                super().on_start()\n",
    "                logger = get_logger()\n",
    "                with with_context(node=self.name):\n",
    "                    logger.info(\"node.enhanced_start\", f\"Enhanced node {self.name} starting with monitoring\")\n",
    "            \n",
    "            def _handle_message(self, port: str, msg: Message):\n",
    "                \"\"\"Enhanced message handling with detailed monitoring.\"\"\"\n",
    "                logger = get_logger()\n",
    "                start_time = time.perf_counter()\n",
    "                \n",
    "                with with_context(node=self.name, port=port, trace_id=msg.get_trace_id()):\n",
    "                    logger.debug(\"node.message_start\", f\"Processing message {self.message_count + 1}\")\n",
    "                    \n",
    "                    # Simulate processing\n",
    "                    time.sleep(0.01)  # 10ms processing time\n",
    "                    \n",
    "                    # Transform the message\n",
    "                    if hasattr(msg.payload, 'get'):\n",
    "                        processed_payload = {\n",
    "                            **msg.payload,\n",
    "                            'processed_by': self.name,\n",
    "                            'processing_time': time.perf_counter() - start_time,\n",
    "                            'sequence': self.message_count\n",
    "                        }\n",
    "                    else:\n",
    "                        processed_payload = {\n",
    "                            'original_value': msg.payload,\n",
    "                            'processed_by': self.name,\n",
    "                            'processing_time': time.perf_counter() - start_time,\n",
    "                            'sequence': self.message_count\n",
    "                        }\n",
    "                    \n",
    "                    self.message_count += 1\n",
    "                    processing_time = time.perf_counter() - start_time\n",
    "                    self.processing_times.append(processing_time)\n",
    "                    \n",
    "                    # Emit if this is a processor\n",
    "                    if self.outputs:\n",
    "                        output_msg = Message(MessageType.DATA, processed_payload)\n",
    "                        self.emit(\"output\", output_msg)\n",
    "                        logger.debug(\"node.message_emitted\", f\"Emitted processed message\")\n",
    "                    \n",
    "                    logger.info(\"node.message_complete\", \n",
    "                               f\"Message processed successfully\",\n",
    "                               processing_time=processing_time,\n",
    "                               message_sequence=self.message_count)\n",
    "            \n",
    "            def _handle_tick(self):\n",
    "                \"\"\"Enhanced tick handling for producers.\"\"\"\n",
    "                if not self.outputs:  # Only producers should tick\n",
    "                    return\n",
    "                    \n",
    "                logger = get_logger()\n",
    "                with with_context(node=self.name):\n",
    "                    if self.message_count < 5:  # Generate 5 messages\n",
    "                        payload = {\n",
    "                            'id': str(uuid.uuid4()),\n",
    "                            'value': self.message_count,\n",
    "                            'timestamp': time.time(),\n",
    "                            'source': self.name\n",
    "                        }\n",
    "                        \n",
    "                        msg = Message(MessageType.DATA, payload)\n",
    "                        self.emit(\"output\", msg)\n",
    "                        \n",
    "                        logger.info(\"node.tick_emit\", f\"Generated message {self.message_count + 1}\")\n",
    "            \n",
    "            def on_stop(self):\n",
    "                \"\"\"Enhanced shutdown with statistics.\"\"\"\n",
    "                super().on_stop()\n",
    "                logger = get_logger()\n",
    "                with with_context(node=self.name):\n",
    "                    avg_time = sum(self.processing_times) / len(self.processing_times) if self.processing_times else 0\n",
    "                    logger.info(\"node.enhanced_stop\", \n",
    "                               f\"Node {self.name} stopping\",\n",
    "                               total_messages=self.message_count,\n",
    "                               avg_processing_time=avg_time)\n",
    "        \n",
    "        return MonitoredNode(name)\n",
    "    \n",
    "    def run_observability_demo(self):\n",
    "        \"\"\"Run a complete observability demonstration.\"\"\"\n",
    "        \n",
    "        print(\"🔍 Starting comprehensive observability demo...\")\n",
    "        \n",
    "        # Create monitored nodes\n",
    "        producer = self.create_monitored_node(\"obs_producer\", \"producer\")\n",
    "        processor = self.create_monitored_node(\"obs_processor\", \"processor\") \n",
    "        consumer = self.create_monitored_node(\"obs_consumer\", \"consumer\")\n",
    "        \n",
    "        # Create graph\n",
    "        graph = Subgraph.from_nodes(\"observability_demo\", [producer, processor, consumer])\n",
    "        \n",
    "        # Connect with different capacities to show backpressure\n",
    "        graph.connect((\"obs_producer\", \"output\"), (\"obs_processor\", \"input\"), capacity=2)\n",
    "        graph.connect((\"obs_processor\", \"output\"), (\"obs_consumer\", \"input\"), capacity=3)\n",
    "        \n",
    "        # Create scheduler with detailed configuration\n",
    "        scheduler_config = SchedulerConfig(\n",
    "            tick_interval_ms=100,\n",
    "            fairness_ratio=(4, 2, 1),\n",
    "            max_batch_per_node=2,\n",
    "            idle_sleep_ms=5,\n",
    "            shutdown_timeout_s=3.0\n",
    "        )\n",
    "        \n",
    "        scheduler = Scheduler(scheduler_config)\n",
    "        scheduler.register(graph)\n",
    "        \n",
    "        print(\"📊 Graph created with comprehensive monitoring\")\n",
    "        print(\"🚀 Starting execution with detailed logging...\")\n",
    "        \n",
    "        # Run the scheduler\n",
    "        try:\n",
    "            scheduler.run()\n",
    "            print(\"✅ Observability demo completed successfully!\")\n",
    "        except Exception as e:\n",
    "            print(f\"❌ Demo error: {e}\")\n",
    "        \n",
    "        # Display final statistics\n",
    "        print(f\"\\n📈 Final Statistics:\")\n",
    "        print(f\"   Producer messages: {producer.message_count}\")\n",
    "        print(f\"   Processor messages: {processor.message_count}\")\n",
    "        print(f\"   Consumer messages: {consumer.message_count}\")\n",
    "        \n",
    "        if processor.processing_times:\n",
    "            avg_time = sum(processor.processing_times) / len(processor.processing_times)\n",
    "            print(f\"   Average processing time: {avg_time*1000:.2f}ms\")\n",
    "\n",
    "# Run observability demonstration\n",
    "obs_demo = ObservabilityDemo()\n",
    "print(\"🧭 Observability demo ready\")\n",
    "obs_demo.run_observability_demo()"
   ]
  },
  {
   "cell_type": "markdown",
   "id": "9a45dcc0",
   "metadata": {},
   "source": [
    "### Step 3: Interactive Graph Configuration\n",
    "Sliders and actions to build/run a simple producer→consumer graph with a configurable edge policy.\n",
    "The UI is arranged as:\n",
    "- Row 1: Graph Config (48% x 500px) | Graph Topology (48% x 500px)\n",
    "- Row 2: Performance Dashboard (100% x 500px)\n",
    "- Row 3: Execution Log (100% x 150px)"
   ]
  },
  {
   "cell_type": "markdown",
   "id": "61de1705",
   "metadata": {},
   "source": [
    "## Summary and Next Steps\n",
    "You now have an interactive, professional layout and optional deeper experiments.\n",
    "For production guidance, see:\n",
    "- ../../docs/getting-started/quickstart.md\n",
    "- ../../docs/concepts/observability.md\n",
    "- ../../docs/guides/performance.md"
   ]
  },
  {
   "cell_type": "code",
   "execution_count": 9,
   "id": "60eeb207",
   "metadata": {},
   "outputs": [
    {
     "name": "stdout",
     "output_type": "stream",
     "text": [
      "🔧 Environment Information:\n",
      "   Python: 3.12.11\n",
      "   Platform: macOS-15.6-arm64-arm-64bit\n",
      "\n",
      "📦 Package Versions:\n",
      "   Meridian: 0.0.0\n",
      "   ipywidgets: 8.1.7\n",
      "   matplotlib: 3.10.5\n",
      "   networkx: 3.5\n",
      "   pandas: 2.3.1\n",
      "   plotly: 6.2.0\n",
      "\n",
      "✅ Environment verification complete!\n"
     ]
    }
   ],
   "source": [
    "# Environment verification and imports (stable height via cell metadata)\n",
    "import sys\n",
    "import platform\n",
    "import time\n",
    "import threading\n",
    "from typing import Any, Dict, List, Tuple, Optional\n",
    "from dataclasses import dataclass\n",
    "from collections import deque\n",
    "import uuid\n",
    "\n",
    "# Visualization libraries\n",
    "import matplotlib.pyplot as plt\n",
    "import matplotlib.patches as patches\n",
    "from matplotlib.animation import FuncAnimation\n",
    "import plotly.graph_objects as go\n",
    "import plotly.express as px\n",
    "from plotly.subplots import make_subplots\n",
    "import ipywidgets as widgets\n",
    "from IPython.display import display, clear_output, HTML\n",
    "import networkx as nx\n",
    "import pandas as pd\n",
    "import numpy as np\n",
    "\n",
    "# Reproducibility\n",
    "np.random.seed(42)\n",
    "\n",
    "# Configure matplotlib for better appearance\n",
    "plt.style.use('seaborn-v0_8-darkgrid')\n",
    "plt.rcParams['figure.facecolor'] = 'white'\n",
    "plt.rcParams['axes.facecolor'] = '#f8f9fa'\n",
    "plt.rcParams['font.size'] = 11\n",
    "plt.rcParams['axes.titlesize'] = 14\n",
    "plt.rcParams['axes.labelsize'] = 12\n",
    "\n",
    "print(\"🔧 Environment Information:\")\n",
    "print(f\"   Python: {sys.version.split()[0]}\")\n",
    "print(f\"   Platform: {platform.platform()}\")\n",
    "\n",
    "# Lightweight sanity check\n",
    "assert hasattr(widgets, \"VBox\"), \"ipywidgets not available\"\n",
    "\n",
    "# Verify all required packages\n",
    "try:\n",
    "    import meridian\n",
    "    import ipywidgets\n",
    "    import matplotlib\n",
    "    import networkx\n",
    "    import pandas\n",
    "    import plotly\n",
    "    \n",
    "    print(\"\\n📦 Package Versions:\")\n",
    "    print(f\"   Meridian: {getattr(meridian, '__version__', 'dev')}\")\n",
    "    print(f\"   ipywidgets: {ipywidgets.__version__}\")\n",
    "    print(f\"   matplotlib: {matplotlib.__version__}\")\n",
    "    print(f\"   networkx: {networkx.__version__}\")\n",
    "    print(f\"   pandas: {pandas.__version__}\")\n",
    "    print(f\"   plotly: {plotly.__version__}\")\n",
    "    print(\"\\n✅ Environment verification complete!\")\n",
    "except ImportError as e:\n",
    "    print(f\"❌ Missing dependency: {e}\")\n",
    "    print(\"Please run the setup commands above.\")"
   ]
  },
  {
   "cell_type": "code",
   "execution_count": 10,
   "id": "f2bd6e96",
   "metadata": {},
   "outputs": [
    {
     "name": "stdout",
     "output_type": "stream",
     "text": [
      "✅ Meridian Runtime imported successfully!\n",
      "📚 Ready to explore dataflow graphs!\n"
     ]
    }
   ],
   "source": [
    "# Import Meridian Runtime components\n",
    "from meridian.core import (\n",
    "    Node, Message, MessageType, Subgraph, Scheduler, SchedulerConfig,\n",
    "    PortSpec, Port, PortDirection\n",
    ")\n",
    "from meridian.observability.config import ObservabilityConfig, configure_observability\n",
    "from meridian.observability.logging import get_logger, with_context\n",
    "from meridian.core.policies import Block, Drop, Latest, Coalesce, PutResult\n",
    "\n",
    "# Verify API compatibility\n",
    "assert hasattr(Subgraph, \"from_nodes\"), \"Unexpected Subgraph API; update notebook to match library\"\n",
    "assert hasattr(Scheduler, \"register\"), \"Unexpected Scheduler API; update notebook to match library\"\n",
    "\n",
    "print(\"✅ Meridian Runtime imported successfully!\")\n",
    "print(\"📚 Ready to explore dataflow graphs!\")"
   ]
  }
 ],
 "metadata": {
  "jupytext": {
   "cell_metadata_filter": "scrolled,-all",
   "cell_metadata_json": true,
   "main_language": "python",
   "notebook_metadata_filter": "-all"
  },
  "kernelspec": {
   "display_name": ".venv",
   "language": "python",
   "name": "python3"
  },
  "language_info": {
   "codemirror_mode": {
    "name": "ipython",
    "version": 3
   },
   "file_extension": ".py",
   "mimetype": "text/x-python",
   "name": "python",
   "nbconvert_exporter": "python",
   "pygments_lexer": "ipython3",
   "version": "3.12.11"
  }
 },
 "nbformat": 4,
 "nbformat_minor": 5
}
