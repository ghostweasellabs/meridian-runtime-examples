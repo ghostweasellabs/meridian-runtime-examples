{
  "cells": [
    {
      "cell_type": "markdown",
      "metadata": {},
      "source": [
        "# Getting Started with Meridian Runtime\n",
        "\n",
        "Welcome to your first interactive Meridian Runtime tutorial! This notebook will guide you through the basic concepts of building dataflow graphs with Meridian Runtime.\n",
        "\n",
        "## What You'll Learn\n",
        "\n",
        "- How to create simple nodes and connect them\n",
        "- Understanding the basic graph execution model\n",
        "- Interactive exploration of message flow\n",
        "- Real-time visualization of graph behavior\n",
        "\n",
        "## Prerequisites\n",
        "\n",
        "Make sure you have the notebook dependencies installed:\n",
        "```bash\n",
        "uv sync --extra notebooks\n",
        "```\n"
      ]
    },
    {
      "cell_type": "code",
      "execution_count": 2,
      "metadata": {},
      "outputs": [
        {
          "name": "stdout",
          "output_type": "stream",
          "text": [
            "✅ Meridian Runtime imported successfully!\n"
          ]
        }
      ],
      "source": [
        "# Import required libraries\n",
        "import sys\n",
        "import time\n",
        "import threading\n",
        "from typing import List, Dict, Any\n",
        "import matplotlib.pyplot as plt\n",
        "import ipywidgets as widgets\n",
        "from IPython.display import display, clear_output\n",
        "import networkx as nx\n",
        "import pandas as pd\n",
        "\n",
        "# Add the project root to the path\n",
        "sys.path.insert(0, '../..')\n",
        "\n",
        "# Import Meridian Runtime\n",
        "from meridian.core import (\n",
        "    Node, Message, MessageType, Subgraph, Scheduler, \n",
        "    PortSpec, Port, PortDirection\n",
        ")\n",
        "from meridian.observability.config import ObservabilityConfig, configure_observability\n",
        "from meridian.observability.logging import get_logger, with_context\n",
        "\n",
        "print(\"✅ Meridian Runtime imported successfully!\")\n"
      ]
    },
    {
      "cell_type": "markdown",
      "metadata": {},
      "source": [
        "## Step 1: Understanding the Basic Components\n",
        "\n",
        "Meridian Runtime is built around four core concepts:\n",
        "\n",
        "1. **Nodes**: Single-responsibility processing units\n",
        "2. **Edges**: Bounded queues connecting nodes\n",
        "3. **Subgraphs**: Composable groups of nodes\n",
        "4. **Scheduler**: Coordinates execution and enforces backpressure\n",
        "\n",
        "Let's start by creating a simple producer-consumer pattern.\n"
      ]
    },
    {
      "cell_type": "code",
      "execution_count": 3,
      "metadata": {},
      "outputs": [
        {
          "name": "stdout",
          "output_type": "stream",
          "text": [
            "✅ Producer and Consumer nodes created!\n"
          ]
        }
      ],
      "source": [
        "# Create a simple producer node\n",
        "class InteractiveProducer(Node):\n",
        "    \"\"\"A producer that generates numbers with interactive controls.\"\"\"\n",
        "    \n",
        "    def __init__(self, name: str = \"producer\", max_count: int = 10):\n",
        "        super().__init__(\n",
        "            name=name,\n",
        "            inputs=[],\n",
        "            outputs=[Port(\"output\", PortDirection.OUTPUT, spec=PortSpec(\"output\", int))]\n",
        "        )\n",
        "        self._max_count = max_count\n",
        "        self._current = 0\n",
        "        self._messages_sent = 0\n",
        "        \n",
        "    def _handle_tick(self):\n",
        "        \"\"\"Emit a number on each tick until we reach max_count.\"\"\"\n",
        "        if self._current < self._max_count:\n",
        "            self.emit(\"output\", Message(MessageType.DATA, self._current))\n",
        "            self._current += 1\n",
        "            self._messages_sent += 1\n",
        "            \n",
        "    def get_stats(self) -> Dict[str, Any]:\n",
        "        \"\"\"Get current statistics for visualization.\"\"\"\n",
        "        return {\n",
        "            \"messages_sent\": self._messages_sent,\n",
        "            \"current_value\": self._current,\n",
        "            \"is_complete\": self._current >= self._max_count\n",
        "        }\n",
        "\n",
        "# Create a simple consumer node\n",
        "class InteractiveConsumer(Node):\n",
        "    \"\"\"A consumer that collects and displays received messages.\"\"\"\n",
        "    \n",
        "    def __init__(self, name: str = \"consumer\"):\n",
        "        super().__init__(\n",
        "            name=name,\n",
        "            inputs=[Port(\"input\", PortDirection.INPUT, spec=PortSpec(\"input\", int))],\n",
        "            outputs=[]\n",
        "        )\n",
        "        self._received_messages = []\n",
        "        self._message_count = 0\n",
        "        \n",
        "    def _handle_message(self, port: str, msg: Message):\n",
        "        \"\"\"Process incoming messages.\"\"\"\n",
        "        if port == \"input\":\n",
        "            self._received_messages.append(msg.payload)\n",
        "            self._message_count += 1\n",
        "            print(f\"📨 Consumer received: {msg.payload}\")\n",
        "            \n",
        "    def get_stats(self) -> Dict[str, Any]:\n",
        "        \"\"\"Get current statistics for visualization.\"\"\"\n",
        "        return {\n",
        "            \"messages_received\": self._message_count,\n",
        "            \"last_values\": self._received_messages[-5:] if self._received_messages else [],\n",
        "            \"all_values\": self._received_messages.copy()\n",
        "        }\n",
        "\n",
        "print(\"✅ Producer and Consumer nodes created!\")\n"
      ]
    },
    {
      "cell_type": "markdown",
      "metadata": {},
      "source": [
        "## Step 2: Building Your First Graph\n",
        "\n",
        "Now let's create a simple graph that connects our producer to our consumer. We'll use interactive controls to explore different configurations.\n"
      ]
    },
    {
      "cell_type": "code",
      "execution_count": 5,
      "metadata": {},
      "outputs": [
        {
          "name": "stdout",
          "output_type": "stream",
          "text": [
            "🎛️  Graph Configuration Controls:\n"
          ]
        },
        {
          "data": {
            "application/vnd.jupyter.widget-view+json": {
              "model_id": "8a17b62bb66844d28ed46aa63e146882",
              "version_major": 2,
              "version_minor": 0
            },
            "text/plain": [
              "IntSlider(value=5, description='Max Count:', max=20, min=1, style=SliderStyle(description_width='initial'))"
            ]
          },
          "metadata": {},
          "output_type": "display_data"
        },
        {
          "data": {
            "application/vnd.jupyter.widget-view+json": {
              "model_id": "216149bbe00c40639d2a712c1496f000",
              "version_major": 2,
              "version_minor": 0
            },
            "text/plain": [
              "IntSlider(value=8, description='Edge Capacity:', max=32, min=1, style=SliderStyle(description_width='initial')…"
            ]
          },
          "metadata": {},
          "output_type": "display_data"
        },
        {
          "data": {
            "application/vnd.jupyter.widget-view+json": {
              "model_id": "2336b7a654094e78ab3971141f8dbb52",
              "version_major": 2,
              "version_minor": 0
            },
            "text/plain": [
              "IntSlider(value=100, description='Tick Interval (ms):', max=500, min=50, step=50, style=SliderStyle(descriptio…"
            ]
          },
          "metadata": {},
          "output_type": "display_data"
        }
      ],
      "source": [
        "# Interactive controls for graph configuration\n",
        "max_count_slider = widgets.IntSlider(\n",
        "    value=5, min=1, max=20, step=1,\n",
        "    description='Max Count:',\n",
        "    style={'description_width': 'initial'}\n",
        ")\n",
        "\n",
        "capacity_slider = widgets.IntSlider(\n",
        "    value=8, min=1, max=32, step=1,\n",
        "    description='Edge Capacity:',\n",
        "    style={'description_width': 'initial'}\n",
        ")\n",
        "\n",
        "tick_interval_slider = widgets.IntSlider(\n",
        "    value=100, min=50, max=500, step=50,\n",
        "    description='Tick Interval (ms):',\n",
        "    style={'description_width': 'initial'}\n",
        ")\n",
        "\n",
        "# Display controls\n",
        "print(\"🎛️  Graph Configuration Controls:\")\n",
        "display(max_count_slider, capacity_slider, tick_interval_slider)\n"
      ]
    },
    {
      "cell_type": "code",
      "execution_count": 8,
      "metadata": {},
      "outputs": [
        {
          "name": "stdout",
          "output_type": "stream",
          "text": [
            "✅ Graph built with 15 messages and capacity 32\n"
          ]
        }
      ],
      "source": [
        "def build_interactive_graph(max_count: int, capacity: int) -> tuple[Subgraph, InteractiveProducer, InteractiveConsumer]:\n",
        "    \"\"\"Build a graph with the given configuration.\"\"\"\n",
        "    \n",
        "    # Create nodes\n",
        "    producer = InteractiveProducer(name=\"producer\", max_count=max_count)\n",
        "    consumer = InteractiveConsumer(name=\"consumer\")\n",
        "    \n",
        "    # Create subgraph\n",
        "    graph = Subgraph.from_nodes(\"interactive_demo\", [producer, consumer])\n",
        "    \n",
        "    # Connect nodes with specified capacity\n",
        "    graph.connect((\"producer\", \"output\"), (\"consumer\", \"input\"), capacity=capacity)\n",
        "    \n",
        "    return graph, producer, consumer\n",
        "\n",
        "# Build the graph with current slider values\n",
        "graph, producer, consumer = build_interactive_graph(\n",
        "    max_count_slider.value,\n",
        "    capacity_slider.value\n",
        ")\n",
        "\n",
        "print(f\"✅ Graph built with {max_count_slider.value} messages and capacity {capacity_slider.value}\")\n"
      ]
    },
    {
      "cell_type": "markdown",
      "metadata": {},
      "source": [
        "## Step 3: Visualizing the Graph Structure\n",
        "\n",
        "Let's create a visual representation of our graph to understand the topology.\n"
      ]
    },
    {
      "cell_type": "code",
      "execution_count": 9,
      "metadata": {},
      "outputs": [
        {
          "ename": "AttributeError",
          "evalue": "'str' object has no attribute 'name'",
          "output_type": "error",
          "traceback": [
            "\u001b[31m---------------------------------------------------------------------------\u001b[39m",
            "\u001b[31mAttributeError\u001b[39m                            Traceback (most recent call last)",
            "\u001b[36mCell\u001b[39m\u001b[36m \u001b[39m\u001b[32mIn[9]\u001b[39m\u001b[32m, line 46\u001b[39m\n\u001b[32m     43\u001b[39m         \u001b[38;5;28mprint\u001b[39m(\u001b[33mf\u001b[39m\u001b[33m\"\u001b[39m\u001b[33m   \u001b[39m\u001b[38;5;132;01m{\u001b[39;00medge.source_node\u001b[38;5;132;01m}\u001b[39;00m\u001b[33m → \u001b[39m\u001b[38;5;132;01m{\u001b[39;00medge.target_node\u001b[38;5;132;01m}\u001b[39;00m\u001b[33m (capacity: \u001b[39m\u001b[38;5;132;01m{\u001b[39;00medge.capacity\u001b[38;5;132;01m}\u001b[39;00m\u001b[33m)\u001b[39m\u001b[33m\"\u001b[39m)\n\u001b[32m     45\u001b[39m \u001b[38;5;66;03m# Visualize our graph\u001b[39;00m\n\u001b[32m---> \u001b[39m\u001b[32m46\u001b[39m \u001b[43mvisualize_graph\u001b[49m\u001b[43m(\u001b[49m\u001b[43mgraph\u001b[49m\u001b[43m)\u001b[49m\n",
            "\u001b[36mCell\u001b[39m\u001b[36m \u001b[39m\u001b[32mIn[9]\u001b[39m\u001b[32m, line 9\u001b[39m, in \u001b[36mvisualize_graph\u001b[39m\u001b[34m(graph)\u001b[39m\n\u001b[32m      7\u001b[39m \u001b[38;5;66;03m# Add nodes\u001b[39;00m\n\u001b[32m      8\u001b[39m \u001b[38;5;28;01mfor\u001b[39;00m node \u001b[38;5;129;01min\u001b[39;00m graph.nodes:\n\u001b[32m----> \u001b[39m\u001b[32m9\u001b[39m     G.add_node(\u001b[43mnode\u001b[49m\u001b[43m.\u001b[49m\u001b[43mname\u001b[49m, \u001b[38;5;28mtype\u001b[39m=node.\u001b[34m__class__\u001b[39m.\u001b[34m__name__\u001b[39m)\n\u001b[32m     11\u001b[39m \u001b[38;5;66;03m# Add edges with capacity information\u001b[39;00m\n\u001b[32m     12\u001b[39m \u001b[38;5;28;01mfor\u001b[39;00m edge \u001b[38;5;129;01min\u001b[39;00m graph.edges:\n",
            "\u001b[31mAttributeError\u001b[39m: 'str' object has no attribute 'name'"
          ]
        }
      ],
      "source": [
        "def visualize_graph(graph: Subgraph):\n",
        "    \"\"\"Create a visual representation of the graph topology.\"\"\"\n",
        "    \n",
        "    # Create NetworkX graph for visualization\n",
        "    G = nx.DiGraph()\n",
        "    \n",
        "    # Add nodes\n",
        "    for node in graph.nodes:\n",
        "        G.add_node(node.name, type=node.__class__.__name__)\n",
        "    \n",
        "    # Add edges with capacity information\n",
        "    for edge in graph.edges:\n",
        "        G.add_edge(\n",
        "            edge.source_node, \n",
        "            edge.target_node, \n",
        "            capacity=edge.capacity,\n",
        "            policy=edge.policy.__class__.__name__\n",
        "        )\n",
        "    \n",
        "    # Create the visualization\n",
        "    plt.figure(figsize=(10, 6))\n",
        "    pos = nx.spring_layout(G, seed=42)\n",
        "    \n",
        "    # Draw nodes\n",
        "    nx.draw_networkx_nodes(G, pos, node_color='lightblue', node_size=2000)\n",
        "    nx.draw_networkx_labels(G, pos, font_size=10, font_weight='bold')\n",
        "    \n",
        "    # Draw edges with labels\n",
        "    edge_labels = {(u, v): f\"cap={d['capacity']}\" for u, v, d in G.edges(data=True)}\n",
        "    nx.draw_networkx_edge_labels(G, pos, edge_labels=edge_labels, font_size=8)\n",
        "    nx.draw_networkx_edges(G, pos, edge_color='gray', arrows=True, arrowsize=20)\n",
        "    \n",
        "    plt.title(\"Meridian Runtime Graph Topology\", fontsize=14, fontweight='bold')\n",
        "    plt.axis('off')\n",
        "    plt.tight_layout()\n",
        "    plt.show()\n",
        "    \n",
        "    # Print graph information\n",
        "    print(f\"📊 Graph Information:\")\n",
        "    print(f\"   Nodes: {len(graph.nodes)}\")\n",
        "    print(f\"   Edges: {len(graph.edges)}\")\n",
        "    for edge in graph.edges:\n",
        "        print(f\"   {edge.source_node} → {edge.target_node} (capacity: {edge.capacity})\")\n",
        "\n",
        "# Visualize our graph\n",
        "visualize_graph(graph)\n"
      ]
    },
    {
      "cell_type": "markdown",
      "metadata": {},
      "source": [
        "## Step 4: Running the Graph with Real-time Monitoring\n",
        "\n",
        "Now let's run our graph and watch the messages flow in real-time!\n"
      ]
    },
    {
      "cell_type": "code",
      "execution_count": null,
      "metadata": {},
      "outputs": [],
      "source": [
        "# Configure observability for better visibility\n",
        "configure_observability(ObservabilityConfig(\n",
        "    log_level=\"INFO\",\n",
        "    log_json=False,  # Human-readable logs for notebooks\n",
        "    metrics_enabled=True,\n",
        "    tracing_enabled=False\n",
        "))\n",
        "\n",
        "def run_graph_with_monitoring(graph: Subgraph, producer: InteractiveProducer, \n",
        "                              consumer: InteractiveConsumer, max_ticks: int = 50):\n",
        "    \"\"\"Run the graph with real-time monitoring and visualization.\"\"\"\n",
        "    \n",
        "    # Create scheduler\n",
        "    scheduler = Scheduler()\n",
        "    scheduler.register(graph)\n",
        "    \n",
        "    # Monitoring data\n",
        "    producer_stats = []\n",
        "    consumer_stats = []\n",
        "    tick_count = 0\n",
        "    \n",
        "    print(\"🚀 Starting graph execution...\")\n",
        "    print(\"=\" * 50)\n",
        "    \n",
        "    # Run for a limited number of ticks to avoid infinite loops\n",
        "    while tick_count < max_ticks:\n",
        "        # Check if producer is complete\n",
        "        producer_stat = producer.get_stats()\n",
        "        if producer_stat[\"is_complete\"]:\n",
        "            print(\"✅ Producer completed!\")\n",
        "            break\n",
        "            \n",
        "        # Run one tick\n",
        "        scheduler._run_one_tick()\n",
        "        tick_count += 1\n",
        "        \n",
        "        # Collect stats every few ticks\n",
        "        if tick_count % 5 == 0:\n",
        "            producer_stats.append(producer.get_stats())\n",
        "            consumer_stats.append(consumer.get_stats())\n",
        "            \n",
        "            # Print progress\n",
        "            print(f\"Tick {tick_count}: Producer sent {producer_stat['messages_sent']}, \"\n",
        "                  f\"Consumer received {consumer.get_stats()['messages_received']}\")\n",
        "    \n",
        "    print(\"=\" * 50)\n",
        "    print(\"🏁 Graph execution completed!\")\n",
        "    \n",
        "    # Final statistics\n",
        "    final_producer_stats = producer.get_stats()\n",
        "    final_consumer_stats = consumer.get_stats()\n",
        "    \n",
        "    print(f\"📈 Final Statistics:\")\n",
        "    print(f\"   Producer sent: {final_producer_stats['messages_sent']} messages\")\n",
        "    print(f\"   Consumer received: {final_consumer_stats['messages_received']} messages\")\n",
        "    print(f\"   Messages received: {final_consumer_stats['all_values']}\")\n",
        "    \n",
        "    return producer_stats, consumer_stats\n",
        "\n",
        "# Run the graph\n",
        "producer_stats, consumer_stats = run_graph_with_monitoring(graph, producer, consumer)\n"
      ]
    },
    {
      "cell_type": "markdown",
      "metadata": {},
      "source": [
        "## Step 5: Interactive Experimentation\n",
        "\n",
        "Now let's create an interactive experiment where you can change parameters and see the results!\n"
      ]
    },
    {
      "cell_type": "code",
      "execution_count": null,
      "metadata": {},
      "outputs": [],
      "source": [
        "# Create an interactive experiment button\n",
        "experiment_button = widgets.Button(\n",
        "    description=\"Run New Experiment\",\n",
        "    button_style='success',\n",
        "    tooltip='Click to run a new experiment with current settings'\n",
        ")\n",
        "\n",
        "output_area = widgets.Output()\n",
        "\n",
        "def on_experiment_click(b):\n",
        "    \"\"\"Handle experiment button click.\"\"\"\n",
        "    with output_area:\n",
        "        clear_output()\n",
        "        \n",
        "        # Build new graph with current settings\n",
        "        new_graph, new_producer, new_consumer = build_interactive_graph(\n",
        "            max_count_slider.value,\n",
        "            capacity_slider.value\n",
        "        )\n",
        "        \n",
        "        # Run the experiment\n",
        "        run_graph_with_monitoring(new_graph, new_producer, new_consumer)\n",
        "        \n",
        "        # Show the graph visualization\n",
        "        visualize_graph(new_graph)\n",
        "\n",
        "experiment_button.on_click(on_experiment_click)\n",
        "\n",
        "print(\"🔬 Interactive Experiment Controls:\")\n",
        "print(\"Adjust the sliders above, then click the button to run a new experiment!\")\n",
        "display(experiment_button, output_area)\n"
      ]
    },
    {
      "cell_type": "markdown",
      "metadata": {},
      "source": [
        "## Step 6: Understanding Backpressure\n",
        "\n",
        "Let's explore what happens when we create a bottleneck in our graph. This demonstrates Meridian's backpressure mechanism.\n"
      ]
    },
    {
      "cell_type": "code",
      "execution_count": null,
      "metadata": {},
      "outputs": [],
      "source": [
        "# Create a slow consumer to demonstrate backpressure\n",
        "class SlowConsumer(InteractiveConsumer):\n",
        "    \"\"\"A consumer that processes messages slowly to create backpressure.\"\"\"\n",
        "    \n",
        "    def __init__(self, name: str = \"slow_consumer\", delay_ms: int = 200):\n",
        "        super().__init__(name=name)\n",
        "        self._delay_ms = delay_ms\n",
        "        \n",
        "    def _handle_message(self, port: str, msg: Message):\n",
        "        \"\"\"Process messages with artificial delay.\"\"\"\n",
        "        if port == \"input\":\n",
        "            # Simulate slow processing\n",
        "            time.sleep(self._delay_ms / 1000.0)\n",
        "            self._received_messages.append(msg.payload)\n",
        "            self._message_count += 1\n",
        "            print(f\"🐌 Slow consumer processed: {msg.payload} (took {self._delay_ms}ms)\")\n",
        "\n",
        "# Interactive controls for backpressure experiment\n",
        "delay_slider = widgets.IntSlider(\n",
        "    value=100, min=0, max=500, step=50,\n",
        "    description='Consumer Delay (ms):',\n",
        "    style={'description_width': 'initial'}\n",
        ")\n",
        "\n",
        "backpressure_button = widgets.Button(\n",
        "    description=\"Run Backpressure Experiment\",\n",
        "    button_style='warning',\n",
        "    tooltip='Click to run backpressure experiment'\n",
        ")\n",
        "\n",
        "backpressure_output = widgets.Output()\n",
        "\n",
        "def on_backpressure_click(b):\n",
        "    \"\"\"Handle backpressure experiment button click.\"\"\"\n",
        "    with backpressure_output:\n",
        "        clear_output()\n",
        "        \n",
        "        print(f\"🔍 Backpressure Experiment with {delay_slider.value}ms delay\")\n",
        "        print(\"=\" * 60)\n",
        "        \n",
        "        # Create graph with slow consumer\n",
        "        producer = InteractiveProducer(name=\"fast_producer\", max_count=10)\n",
        "        consumer = SlowConsumer(name=\"slow_consumer\", delay_ms=delay_slider.value)\n",
        "        \n",
        "        graph = Subgraph.from_nodes(\"backpressure_demo\", [producer, consumer])\n",
        "        graph.connect((\"fast_producer\", \"output\"), (\"slow_consumer\", \"input\"), capacity=3)\n",
        "        \n",
        "        # Run with monitoring\n",
        "        start_time = time.time()\n",
        "        run_graph_with_monitoring(graph, producer, consumer, max_ticks=100)\n",
        "        end_time = time.time()\n",
        "        \n",
        "        print(f\"⏱️  Total execution time: {end_time - start_time:.2f} seconds\")\n",
        "        print(f\"📊 Producer sent: {producer.get_stats()['messages_sent']} messages\")\n",
        "        print(f\"📊 Consumer received: {consumer.get_stats()['messages_received']} messages\")\n",
        "        \n",
        "        # Explain what happened\n",
        "        if delay_slider.value > 0:\n",
        "            print(\"\\n💡 Backpressure Explanation:\")\n",
        "            print(\"   - The slow consumer created a bottleneck\")\n",
        "            print(\"   - The edge capacity (3) limited buffering\")\n",
        "            print(\"   - The producer was forced to wait (backpressure)\")\n",
        "            print(\"   - This prevents unbounded memory usage\")\n",
        "\n",
        "backpressure_button.on_click(on_backpressure_click)\n",
        "\n",
        "print(\"🔍 Backpressure Experiment Controls:\")\n",
        "display(delay_slider, backpressure_button, backpressure_output)\n"
      ]
    },
    {
      "cell_type": "markdown",
      "metadata": {},
      "source": [
        "## Summary\n",
        "\n",
        "Congratulations! You've successfully completed your first Meridian Runtime tutorial. Here's what you've learned:\n",
        "\n",
        "### Key Concepts\n",
        "✅ **Nodes**: Single-responsibility processing units (Producer, Consumer)\n",
        "✅ **Edges**: Bounded queues connecting nodes with configurable capacity\n",
        "✅ **Subgraphs**: Composable groups of nodes\n",
        "✅ **Scheduler**: Coordinates execution and manages the graph lifecycle\n",
        "✅ **Backpressure**: Automatic flow control when consumers can't keep up\n",
        "\n",
        "### Interactive Features\n",
        "✅ **Real-time monitoring**: Watch messages flow through your graph\n",
        "✅ **Visual graph topology**: See how nodes are connected\n",
        "✅ **Parameter experimentation**: Adjust settings and see immediate results\n",
        "✅ **Backpressure demonstration**: Understand flow control in action\n",
        "\n",
        "### Next Steps\n",
        "\n",
        "Ready to explore more advanced concepts? Check out:\n",
        "\n",
        "1. **02-backpressure-policies.ipynb**: Different overflow policies (Drop, Latest, Coalesce)\n",
        "2. **03-control-plane-priorities.ipynb**: Priority messaging and control flow\n",
        "3. **04-observability-basics.ipynb**: Logs, metrics, and tracing\n",
        "\n",
        "### Production Considerations\n",
        "\n",
        "Remember that Jupyter notebooks are great for learning and experimentation, but for production:\n",
        "\n",
        "- Use the command-line examples in the `examples/` directory\n",
        "- Implement proper error handling and graceful shutdown\n",
        "- Consider performance implications of your graph design\n",
        "- Use appropriate observability and monitoring\n",
        "\n",
        "Happy building with Meridian Runtime! 🚀\n"
      ]
    }
  ],
  "metadata": {
    "kernelspec": {
      "display_name": ".venv",
      "language": "python",
      "name": "python3"
    },
    "language_info": {
      "codemirror_mode": {
        "name": "ipython",
        "version": 3
      },
      "file_extension": ".py",
      "mimetype": "text/x-python",
      "name": "python",
      "nbconvert_exporter": "python",
      "pygments_lexer": "ipython3",
      "version": "3.12.11"
    }
  },
  "nbformat": 4,
  "nbformat_minor": 4
}
