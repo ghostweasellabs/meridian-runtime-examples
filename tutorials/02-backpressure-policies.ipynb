{
 "cells": [
  {
   "cell_type": "markdown",
   "id": "dcdc1950",
   "metadata": {},
   "source": [
    "# Backpressure Policies"
   ]
  },
  {
   "cell_type": "markdown",
   "id": "53ab2319",
   "metadata": {},
   "source": [
    "This notebook demonstrates the different backpressure policies available in Meridian Runtime. Backpressure is a critical mechanism for building robust and resilient dataflows. It allows a system to gracefully handle load spikes and prevent downstream components from being overwhelmed."
   ]
  },
  {
   "cell_type": "markdown",
   "id": "95611a78",
   "metadata": {},
   "source": [
    "## 1. Setup: Add Project to Python Path"
   ]
  },
  {
   "cell_type": "markdown",
   "id": "0e9e72c5",
   "metadata": {},
   "source": [
    "This cell adds the project's `src` directory to the Python path. This is necessary for the notebook to find and import the `meridian` module."
   ]
  },
  {
   "cell_type": "code",
   "execution_count": null,
   "id": "82878332",
   "metadata": {},
   "outputs": [],
   "source": [
    "import sys\n",
    "import os\n",
    "\n",
    "# Add the project's 'src' directory to the Python path\n",
    "# This is necessary for the notebook to find the 'meridian' module\n",
    "# We assume the notebook is run from the 'notebooks/tutorials' directory.\n",
    "src_path = os.path.abspath('../../src')\n",
    "if src_path not in sys.path:\n",
    "    sys.path.insert(0, src_path)\n",
    "    print(f\"Added '{src_path}' to the Python path.\")"
   ]
  },
  {
   "cell_type": "markdown",
   "id": "1280f4c3",
   "metadata": {},
   "source": [
    "## 2. The Problem: Unbounded Queues"
   ]
  },
  {
   "cell_type": "markdown",
   "id": "5aa8da21",
   "metadata": {},
   "source": [
    "In a typical dataflow, a producer sends messages to a consumer through a queue. If the producer is faster than the consumer, the queue will grow indefinitely, eventually leading to memory exhaustion and system failure. This is known as the \"unbounded queue\" problem."
   ]
  },
  {
   "cell_type": "markdown",
   "id": "27ceccec",
   "metadata": {},
   "source": [
    "## 3. Meridian Runtime's Solution: Bounded Edges and Backpressure Policies"
   ]
  },
  {
   "cell_type": "markdown",
   "id": "364db871",
   "metadata": {},
   "source": [
    "Meridian Runtime solves this problem by using **bounded edges** (queues with a fixed capacity) and **backpressure policies**. When an edge is full, the runtime applies a backpressure policy to prevent the queue from growing further. Meridian Runtime provides four backpressure policies:"
   ]
  },
  {
   "cell_type": "markdown",
   "id": "0e64dc16",
   "metadata": {},
   "source": [
    "* **Block**: The producer is blocked until space becomes available in the queue. This is the default policy.\n",
    "* **Drop**: The new message is dropped.\n",
    "* **Latest**: The oldest message in the queue is dropped to make space for the new message.\n",
    "* **Coalesce**: The new message is merged with an existing message in the queue."
   ]
  },
  {
   "cell_type": "markdown",
   "id": "a7256108",
   "metadata": {},
   "source": [
    "## 4. Demonstrating the Backpressure Policies"
   ]
  },
  {
   "cell_type": "markdown",
   "id": "ea55a915",
   "metadata": {},
   "source": [
    "Let's see how these policies work in practice. We'll use a simple graph with a fast producer and a slow consumer to simulate a load spike."
   ]
  },
  {
   "cell_type": "markdown",
   "id": "42baeeb5",
   "metadata": {},
   "source": [
    "### 4.1. The Base Graph"
   ]
  },
  {
   "cell_type": "markdown",
   "id": "4c152588",
   "metadata": {},
   "source": [
    "First, let's define the producer and consumer nodes."
   ]
  },
  {
   "cell_type": "code",
   "execution_count": null,
   "id": "56671084",
   "metadata": {
    "lines_to_end_of_cell_marker": 0,
    "lines_to_next_cell": 1
   },
   "outputs": [],
   "source": [
    "import time\n",
    "from meridian.core import Node, Message\n",
    "\n",
    "class FastProducer(Node):\n",
    "    def __init__(self, n=10):\n",
    "        self._n = n\n",
    "        self._i = 0\n",
    "\n",
    "    def name(self):\n",
    "        return \"producer\"\n",
    "\n",
    "    def on_start(self):\n",
    "        self._i = 0\n",
    "\n",
    "    def on_tick(self):\n",
    "        if self._i < self._n:\n",
    "            print(f\"Producing message {self._i}\")\n",
    "            self.emit(\"out\", Message(payload=self._i))\n",
    "            self._i += 1\n",
    "\n",
    "class SlowConsumer(Node):\n",
    "    def name(self):\n",
    "        return \"consumer\"\n",
    "\n",
    "    def on_message(self, port, msg):\n",
    "        print(f\"Consuming message: {msg.payload}\")\n",
    "        time.sleep(0.1) # Simulate a slow consumer"
   ]
  },
  {
   "cell_type": "markdown",
   "id": "dba0046c",
   "metadata": {},
   "source": [
    "### 4.2. The \"Block\" Policy (Default)"
   ]
  },
  {
   "cell_type": "markdown",
   "id": "90dbf03f",
   "metadata": {},
   "source": [
    "The \"Block\" policy is the default policy. When the edge is full, the producer is blocked until the consumer has processed a message and freed up space in the queue."
   ]
  },
  {
   "cell_type": "code",
   "execution_count": null,
   "id": "ef8f460f",
   "metadata": {},
   "outputs": [],
   "source": [
    "from meridian.core import Subgraph, Scheduler\n",
    "\n",
    "# Create a subgraph\n",
    "graph = Subgraph()\n",
    "\n",
    "# Add the producer and consumer nodes\n",
    "graph.add_node(FastProducer(n=5))\n",
    "graph.add_node(SlowConsumer())\n",
    "\n",
    "# Connect the producer and consumer with a small capacity\n",
    "graph.connect((\"producer\", \"out\"), (\"consumer\", \"in\"), capacity=2)\n",
    "\n",
    "# Create a scheduler and register the subgraph\n",
    "scheduler = Scheduler()\n",
    "scheduler.register(graph)\n",
    "\n",
    "# Run the scheduler\n",
    "scheduler.run()"
   ]
  },
  {
   "cell_type": "markdown",
   "id": "a66f4785",
   "metadata": {},
   "source": [
    "### 4.3. The \"Drop\" Policy"
   ]
  },
  {
   "cell_type": "markdown",
   "id": "a80626b3",
   "metadata": {},
   "source": [
    "The \"Drop\" policy simply drops the new message when the edge is full."
   ]
  },
  {
   "cell_type": "code",
   "execution_count": null,
   "id": "3bff4c6f",
   "metadata": {},
   "outputs": [],
   "source": [
    "from meridian.core import Subgraph, Scheduler, OverflowPolicy\n",
    "\n",
    "# Create a subgraph\n",
    "graph = Subgraph()\n",
    "\n",
    "# Add the producer and consumer nodes\n",
    "graph.add_node(FastProducer(n=5))\n",
    "graph.add_node(SlowConsumer())\n",
    "\n",
    "# Connect the producer and consumer with the \"Drop\" policy\n",
    "graph.connect((\"producer\", \"out\"), (\"consumer\", \"in\"), capacity=2, overflow_policy=OverflowPolicy.DROP)\n",
    "\n",
    "# Create a scheduler and register the subgraph\n",
    "scheduler = Scheduler()\n",
    "scheduler.register(graph)\n",
    "\n",
    "# Run the scheduler\n",
    "scheduler.run()"
   ]
  },
  {
   "cell_type": "markdown",
   "id": "664f9ccc",
   "metadata": {},
   "source": [
    "### 4.4. The \"Latest\" Policy"
   ]
  },
  {
   "cell_type": "markdown",
   "id": "8ae70a5d",
   "metadata": {},
   "source": [
    "The \"Latest\" policy drops the oldest message in the queue to make space for the new message."
   ]
  },
  {
   "cell_type": "code",
   "execution_count": null,
   "id": "720915b5",
   "metadata": {},
   "outputs": [],
   "source": [
    "from meridian.core import Subgraph, Scheduler, OverflowPolicy\n",
    "\n",
    "# Create a subgraph\n",
    "graph = Subgraph()\n",
    "\n",
    "# Add the producer and consumer nodes\n",
    "graph.add_node(FastProducer(n=5))\n",
    "graph.add_node(SlowConsumer())\n",
    "\n",
    "# Connect the producer and consumer with the \"Latest\" policy\n",
    "graph.connect((\"producer\", \"out\"), (\"consumer\", \"in\"), capacity=2, overflow_policy=OverflowPolicy.LATEST)\n",
    "\n",
    "# Create a scheduler and register the subgraph\n",
    "scheduler = Scheduler()\n",
    "scheduler.register(graph)\n",
    "\n",
    "# Run the scheduler\n",
    "scheduler.run()"
   ]
  },
  {
   "cell_type": "markdown",
   "id": "1d035323",
   "metadata": {},
   "source": [
    "## 5. Conclusion"
   ]
  },
  {
   "cell_type": "markdown",
   "id": "f117143e",
   "metadata": {},
   "source": [
    "This notebook has demonstrated the different backpressure policies available in Meridian Runtime. By choosing the right policy for your use case, you can build robust and resilient dataflows that can handle load spikes and prevent system failures."
   ]
  }
 ],
 "metadata": {
  "jupytext": {
   "main_language": "python"
  },
  "kernelspec": {
   "display_name": "Python 3",
   "name": "python3"
  }
 },
 "nbformat": 4,
 "nbformat_minor": 5
}
