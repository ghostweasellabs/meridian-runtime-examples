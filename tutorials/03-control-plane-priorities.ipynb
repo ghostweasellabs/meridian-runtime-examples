{
 "cells": [
  {
   "cell_type": "markdown",
   "id": "8c986be3",
   "metadata": {},
   "source": [
    "# Control-Plane Priorities"
   ]
  },
  {
   "cell_type": "markdown",
   "id": "4e06033d",
   "metadata": {},
   "source": [
    "This notebook demonstrates how to use control-plane messages to prioritize critical operations in Meridian Runtime. In a real-time dataflow, it's often necessary to ensure that certain messages, such as shutdown commands or configuration updates, are processed before normal data messages. Meridian Runtime provides a mechanism for this called **control-plane priorities**."
   ]
  },
  {
   "cell_type": "markdown",
   "id": "8fb1367f",
   "metadata": {},
   "source": [
    "## 1. Setup: Add Project to Python Path"
   ]
  },
  {
   "cell_type": "markdown",
   "id": "8b657d65",
   "metadata": {},
   "source": [
    "This cell adds the project's `src` directory to the Python path. This is necessary for the notebook to find and import the `meridian` module."
   ]
  },
  {
   "cell_type": "code",
   "execution_count": null,
   "id": "47bed9e2",
   "metadata": {},
   "outputs": [],
   "source": [
    "import sys\n",
    "import os\n",
    "\n",
    "# Add the project's 'src' directory to the Python path\n",
    "# This is necessary for the notebook to find the 'meridian' module\n",
    "# We assume the notebook is run from the 'notebooks/tutorials' directory.\n",
    "src_path = os.path.abspath('../../src')\n",
    "if src_path not in sys.path:\n",
    "    sys.path.insert(0, src_path)\n",
    "    print(f\"Added '{src_path}' to the Python path.\")"
   ]
  },
  {
   "cell_type": "markdown",
   "id": "250d3645",
   "metadata": {},
   "source": [
    "## 2. The Problem: Starvation"
   ]
  },
  {
   "cell_type": "markdown",
   "id": "66ece29e",
   "metadata": {},
   "source": [
    "In a busy dataflow, it's possible for a high volume of data messages to \"starve\" control messages. This means that the control messages may be stuck in a queue for a long time, waiting for the data messages to be processed. This can be a serious problem if the control messages are time-sensitive, such as a command to shut down the system."
   ]
  },
  {
   "cell_type": "markdown",
   "id": "c67d9e2d",
   "metadata": {},
   "source": [
    "## 3. Meridian Runtime's Solution: Control-Plane Priorities"
   ]
  },
  {
   "cell_type": "markdown",
   "id": "60beccf5",
   "metadata": {},
   "source": [
    "Meridian Runtime solves this problem by giving priority to **control messages**. Control messages are messages with the `MessageType.CONTROL` type. When the scheduler selects the next message to process, it will always choose a control message over a data message if one is available."
   ]
  },
  {
   "cell_type": "markdown",
   "id": "010b7455",
   "metadata": {},
   "source": [
    "## 4. Demonstrating Control-Plane Priorities"
   ]
  },
  {
   "cell_type": "markdown",
   "id": "5159f115",
   "metadata": {},
   "source": [
    "Let's see how this works in practice. We'll use a graph with a worker node that can be controlled by a controller node."
   ]
  },
  {
   "cell_type": "markdown",
   "id": "2212d580",
   "metadata": {},
   "source": [
    "### 4.1. The Worker and Controller Nodes"
   ]
  },
  {
   "cell_type": "markdown",
   "id": "8c72d757",
   "metadata": {},
   "source": [
    "First, let's define the worker and controller nodes."
   ]
  },
  {
   "cell_type": "code",
   "execution_count": null,
   "id": "efd0ad13",
   "metadata": {
    "lines_to_end_of_cell_marker": 0,
    "lines_to_next_cell": 1
   },
   "outputs": [],
   "source": [
    "from meridian.core import Subgraph, Scheduler, Message, MessageType, Node, PortSpec\n",
    "from meridian.core.ports import Port, PortDirection\n",
    "\n",
    "class Worker(Node):\n",
    "    def __init__(self):\n",
    "        super().__init__(\n",
    "            \"worker\",\n",
    "            inputs=[\n",
    "                Port(\"in\", PortDirection.INPUT, spec=PortSpec(\"in\", int)),\n",
    "                Port(\"ctl\", PortDirection.INPUT, spec=PortSpec(\"ctl\", str)),\n",
    "            ],\n",
    "            outputs=[Port(\"out\", PortDirection.OUTPUT, spec=PortSpec(\"out\", int))],\n",
    "        )\n",
    "        self._mode = \"normal\"\n",
    "\n",
    "    def _handle_message(self, port, msg):\n",
    "        if port == \"ctl\" and msg.type == MessageType.CONTROL:\n",
    "            cmd = str(msg.payload).strip().lower()\n",
    "            print(f\"Received control message: {cmd}\")\n",
    "            if cmd in {\"normal\", \"quiet\"}:\n",
    "                self._mode = cmd\n",
    "            return\n",
    "        if port == \"in\" and self._mode != \"quiet\":\n",
    "            print(f\"Processing data message: {msg.payload}\")\n",
    "            self.emit(\"out\", Message(MessageType.DATA, msg.payload))\n",
    "\n",
    "class Controller(Node):\n",
    "    def __init__(self):\n",
    "        super().__init__(\"controller\", inputs=[], outputs=[Port(\"ctl\", PortDirection.OUTPUT, spec=PortSpec(\"ctl\", str))])\n",
    "        self._sent = False\n",
    "\n",
    "    def _handle_tick(self):\n",
    "        if not self._sent:\n",
    "            print(\"Sending control message\")\n",
    "            self.emit(\"ctl\", Message(MessageType.CONTROL, \"quiet\"))\n",
    "            self._sent = True\n",
    "\n",
    "class Producer(Node):\n",
    "    def __init__(self, n=5):\n",
    "        self._n = n\n",
    "        self._i = 0\n",
    "\n",
    "    def name(self):\n",
    "        return \"producer\"\n",
    "\n",
    "    def on_start(self):\n",
    "        self._i = 0\n",
    "\n",
    "    def on_tick(self):\n",
    "        if self._i < self._n:\n",
    "            print(f\"Producing message {self._i}\")\n",
    "            self.emit(\"out\", Message(payload=self._i))\n",
    "            self._i += 1"
   ]
  },
  {
   "cell_type": "markdown",
   "id": "cde88701",
   "metadata": {},
   "source": [
    "### 4.2. Building and Running the Graph"
   ]
  },
  {
   "cell_type": "markdown",
   "id": "e01bc809",
   "metadata": {},
   "source": [
    "Now, let's wire up the nodes in a subgraph and run it with the scheduler."
   ]
  },
  {
   "cell_type": "code",
   "execution_count": null,
   "id": "68904e3d",
   "metadata": {},
   "outputs": [],
   "source": [
    "# Create a subgraph\n",
    "sg = Subgraph.from_nodes(\"ctl_demo\", [Worker(), Controller(), Producer()])\n",
    "\n",
    "# Control edge: small capacity; scheduler treats CONTROL with higher priority.\n",
    "sg.connect((\"controller\",\"ctl\"), (\"worker\",\"ctl\"), capacity=4)\n",
    "\n",
    "# Data edge\n",
    "sg.connect((\"producer\",\"out\"), (\"worker\",\"in\"), capacity=4)\n",
    "\n",
    "# Create a scheduler and register the subgraph\n",
    "scheduler = Scheduler()\n",
    "scheduler.register(sg)\n",
    "\n",
    "# Run the scheduler\n",
    "scheduler.run()"
   ]
  },
  {
   "cell_type": "markdown",
   "id": "3e4488bb",
   "metadata": {},
   "source": [
    "## 5. Conclusion"
   ]
  },
  {
   "cell_type": "markdown",
   "id": "51471723",
   "metadata": {},
   "source": [
    "This notebook has demonstrated how to use control-plane priorities to ensure that critical messages are processed in a timely manner. By using `MessageType.CONTROL` for your control messages, you can build robust and reliable dataflows that can handle high volumes of data without starving critical operations."
   ]
  }
 ],
 "metadata": {
  "jupytext": {
   "main_language": "python"
  },
  "kernelspec": {
   "display_name": "Python 3",
   "name": "python3"
  }
 },
 "nbformat": 4,
 "nbformat_minor": 5
}
