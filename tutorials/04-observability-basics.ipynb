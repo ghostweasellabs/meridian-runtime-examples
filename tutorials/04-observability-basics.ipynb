{
 "cells": [
  {
   "cell_type": "markdown",
   "id": "79049d20",
   "metadata": {},
   "source": [
    "# Observability Basics"
   ]
  },
  {
   "cell_type": "markdown",
   "id": "c60395ff",
   "metadata": {},
   "source": [
    "This notebook provides an introduction to the observability features in Meridian Runtime. Observability is crucial for understanding the behavior of a system, debugging issues, and monitoring performance. Meridian Runtime provides a comprehensive observability system with structured logging, metrics collection, and distributed tracing."
   ]
  },
  {
   "cell_type": "markdown",
   "id": "be5b5237",
   "metadata": {},
   "source": [
    "## 1. Setup: Add Project to Python Path"
   ]
  },
  {
   "cell_type": "markdown",
   "id": "cb9d4cd8",
   "metadata": {},
   "source": [
    "This cell adds the project's `src` directory to the Python path. This is necessary for the notebook to find and import the `meridian` module."
   ]
  },
  {
   "cell_type": "code",
   "execution_count": null,
   "id": "0190db58",
   "metadata": {},
   "outputs": [],
   "source": [
    "import sys\n",
    "import os\n",
    "\n",
    "# Add the project's 'src' directory to the Python path\n",
    "# This is necessary for the notebook to find the 'meridian' module\n",
    "# We assume the notebook is run from the 'notebooks/tutorials' directory.\n",
    "src_path = os.path.abspath('../../src')\n",
    "if src_path not in sys.path:\n",
    "    sys.path.insert(0, src_path)\n",
    "    print(f\"Added '{src_path}' to the Python path.\")"
   ]
  },
  {
   "cell_type": "markdown",
   "id": "abbdba0f",
   "metadata": {},
   "source": [
    "## 2. Configuring Observability"
   ]
  },
  {
   "cell_type": "markdown",
   "id": "c62ddbbb",
   "metadata": {},
   "source": [
    "The first step is to configure the observability system. You can do this using the `ObservabilityConfig` class and the `configure_observability` function."
   ]
  },
  {
   "cell_type": "code",
   "execution_count": null,
   "id": "bc5e35ce",
   "metadata": {},
   "outputs": [],
   "source": [
    "from meridian.observability.config import ObservabilityConfig, configure_observability\n",
    "\n",
    "# Simple development setup\n",
    "config = ObservabilityConfig(\n",
    "    log_level=\"INFO\",\n",
    "    log_json=False, # Use human-readable logs for this example\n",
    "    metrics_enabled=True,\n",
    "    metrics_namespace=\"myapp\",\n",
    "    tracing_enabled=True,\n",
    "    tracing_provider=\"inmemory\",\n",
    "    tracing_sample_rate=1.0\n",
    ")\n",
    "\n",
    "configure_observability(config)"
   ]
  },
  {
   "cell_type": "markdown",
   "id": "e3b5effb",
   "metadata": {},
   "source": [
    "## 3. Structured Logging"
   ]
  },
  {
   "cell_type": "markdown",
   "id": "2a89eb7f",
   "metadata": {},
   "source": [
    "Meridian Runtime uses structured logging to make it easy to search and analyze logs. You can use the `get_logger` function to get a logger instance."
   ]
  },
  {
   "cell_type": "code",
   "execution_count": null,
   "id": "690b65be",
   "metadata": {},
   "outputs": [],
   "source": [
    "from meridian.observability.logging import get_logger\n",
    "\n",
    "logger = get_logger()\n",
    "\n",
    "# Simple logging\n",
    "logger.info(\"node.start\", \"Node starting up\", node_name=\"worker\", version=\"1.0\")\n",
    "\n",
    "# Error logging with context\n",
    "logger.error(\"node.error\", \"Failed to process message\", \n",
    "            error=\"validation_failed\", \n",
    "            message_id=\"123\",\n",
    "            port=\"input\")"
   ]
  },
  {
   "cell_type": "markdown",
   "id": "b3e7ada9",
   "metadata": {},
   "source": [
    "## 4. Metrics Collection"
   ]
  },
  {
   "cell_type": "markdown",
   "id": "0efeef7a",
   "metadata": {},
   "source": [
    "Meridian Runtime can collect a variety of metrics to help you monitor the performance of your dataflows. You can use the `get_metrics` function to get a metrics collector instance."
   ]
  },
  {
   "cell_type": "code",
   "execution_count": null,
   "id": "bd03c80f",
   "metadata": {},
   "outputs": [],
   "source": [
    "from meridian.observability.metrics import get_metrics\n",
    "\n",
    "metrics = get_metrics()\n",
    "\n",
    "# Counters for events\n",
    "messages_processed = metrics.counter(\"messages_processed_total\")\n",
    "messages_processed.inc()\n",
    "\n",
    "# Gauges for current state\n",
    "queue_depth = metrics.gauge(\"queue_depth\")\n",
    "queue_depth.set(42)\n",
    "\n",
    "# Histograms for distributions\n",
    "processing_time = metrics.histogram(\"processing_duration_seconds\")\n",
    "processing_time.observe(0.125)"
   ]
  },
  {
   "cell_type": "markdown",
   "id": "307a56fc",
   "metadata": {},
   "source": [
    "## 5. Distributed Tracing"
   ]
  },
  {
   "cell_type": "markdown",
   "id": "b585e45e",
   "metadata": {},
   "source": [
    "Distributed tracing allows you to trace the flow of a request across multiple nodes in your dataflow. You can use the `start_span` function to create a new trace span."
   ]
  },
  {
   "cell_type": "code",
   "execution_count": null,
   "id": "56b2a64e",
   "metadata": {},
   "outputs": [],
   "source": [
    "from meridian.observability.tracing import start_span\n",
    "\n",
    "# Create a span for an operation\n",
    "with start_span(\"process_message\", {\"message_id\": \"123\", \"node\": \"worker\"}):\n",
    "    # All operations in this block are traced\n",
    "    print(\"Processing message...\")"
   ]
  },
  {
   "cell_type": "markdown",
   "id": "83440f39",
   "metadata": {},
   "source": [
    "## 6. Putting It All Together"
   ]
  },
  {
   "cell_type": "markdown",
   "id": "d091ca2b",
   "metadata": {},
   "source": [
    "Let's see how to use these features in a simple graph."
   ]
  },
  {
   "cell_type": "code",
   "execution_count": null,
   "id": "e3b18efc",
   "metadata": {},
   "outputs": [],
   "source": [
    "from meridian.core import Subgraph, Scheduler, Node, Message, MessageType\n",
    "from meridian.observability.logging import get_logger, with_context\n",
    "from meridian.observability.metrics import get_metrics, time_block\n",
    "from meridian.observability.tracing import start_span\n",
    "\n",
    "from meridian.core import Port, PortDirection, PortSpec\n",
    "\n",
    "class InstrumentedNode(Node):\n",
    "    def __init__(self):\n",
    "        super().__init__(\n",
    "            name=\"instrumentednode\",\n",
    "            inputs=[Port(\"in\", PortDirection.INPUT, spec=PortSpec(\"in\", int))],\n",
    "            outputs=[Port(\"out\", PortDirection.OUTPUT, spec=PortSpec(\"out\", int))],\n",
    "        )\n",
    "\n",
    "    def _handle_message(self, port, msg):\n",
    "        logger = get_logger()\n",
    "        metrics = get_metrics()\n",
    "\n",
    "        with with_context(node=self.name, port=port, trace_id=msg.get_trace_id(), message_type=msg.type.value):\n",
    "            logger.info(\"processing.start\", \"Starting message processing\")\n",
    "\n",
    "            with time_block(\"node_processing_duration\"):\n",
    "                with start_span(\"process_message\", {\"port\": port, \"type\": msg.type.value}):\n",
    "                    print(f\"Processing message: {msg.payload}\")\n",
    "                    metrics.counter(\"messages_processed_total\").inc()\n",
    "                    self.emit(\"out\", Message(MessageType.DATA, msg.payload))\n",
    "\n",
    "            logger.info(\"processing.complete\", \"Message processed successfully\")\n",
    "\n",
    "class Producer(Node):\n",
    "    def __init__(self, n=5):\n",
    "        super().__init__(\n",
    "            name=\"producer\",\n",
    "            inputs=[],\n",
    "            outputs=[Port(\"out\", PortDirection.OUTPUT, spec=PortSpec(\"out\", int))]\n",
    "        )\n",
    "        self._n = n\n",
    "        self._i = 0\n",
    "\n",
    "    def on_start(self):\n",
    "        self._i = 0\n",
    "\n",
    "    def _handle_tick(self):\n",
    "        if self._i < self._n:\n",
    "            self.emit(\"out\", Message(type=MessageType.DATA, payload=self._i))\n",
    "            self._i += 1\n",
    "\n",
    "# Create a subgraph\n",
    "sg = Subgraph.from_nodes(\"observability_demo\", [InstrumentedNode(), Producer()])\n",
    "sg.connect((\"producer\",\"out\"), (\"instrumentednode\",\"in\"), capacity=4)\n",
    "\n",
    "# Create a scheduler and register the subgraph\n",
    "scheduler = Scheduler()\n",
    "scheduler.register(sg)\n",
    "\n",
    "# Run the scheduler\n",
    "scheduler.run()"
   ]
  },
  {
   "cell_type": "markdown",
   "id": "9117aed5",
   "metadata": {},
   "source": [
    "## 7. Conclusion"
   ]
  },
  {
   "cell_type": "markdown",
   "id": "4dee7641",
   "metadata": {},
   "source": [
    "This notebook has provided a basic introduction to the observability features in Meridian Runtime. By using structured logging, metrics collection, and distributed tracing, you can gain deep insights into the behavior of your dataflows, making it easier to debug issues and monitor performance."
   ]
  }
 ],
 "metadata": {
  "jupytext": {
   "main_language": "python"
  },
  "kernelspec": {
   "display_name": "Python 3",
   "name": "python3"
  }
 },
 "nbformat": 4,
 "nbformat_minor": 5
}
