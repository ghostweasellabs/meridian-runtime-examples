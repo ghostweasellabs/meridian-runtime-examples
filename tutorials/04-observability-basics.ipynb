{
 "cells": [
  {
   "cell_type": "code",
   "execution_count": null,
   "id": "a6da90b3",
   "metadata": {
    "lines_to_next_cell": 0
   },
   "outputs": [],
   "source": []
  },
  {
   "cell_type": "markdown",
   "id": "845e35c2",
   "metadata": {},
   "source": [
    "---\n",
    "jupyter:\n",
    "  jupytext:\n",
    "    text_representation:\n",
    "      extension: .py\n",
    "      format_name: light\n",
    "      format_version: '1.5'\n",
    "      jupytext_version: 1.17.2\n",
    "  kernelspec:\n",
    "    display_name: Python 3\n",
    "    name: python3\n",
    "---"
   ]
  },
  {
   "cell_type": "markdown",
   "id": "2d0439f8",
   "metadata": {},
   "source": [
    "# Observability Basics"
   ]
  },
  {
   "cell_type": "markdown",
   "id": "decc7589",
   "metadata": {},
   "source": [
    "This notebook provides an introduction to the observability features in Meridian Runtime. Observability is crucial for understanding the behavior of a system, debugging issues, and monitoring performance. Meridian Runtime provides a comprehensive observability system with structured logging, metrics collection, and distributed tracing."
   ]
  },
  {
   "cell_type": "markdown",
   "id": "c61fab76",
   "metadata": {},
   "source": [
    "## 1. Configuring Observability"
   ]
  },
  {
   "cell_type": "markdown",
   "id": "b625d7b3",
   "metadata": {},
   "source": [
    "The first step is to configure the observability system. You can do this using the `ObservabilityConfig` class and the `configure_observability` function."
   ]
  },
  {
   "cell_type": "code",
   "execution_count": null,
   "id": "f1d97d26",
   "metadata": {},
   "outputs": [],
   "source": [
    "from meridian.observability.config import ObservabilityConfig, configure_observability\n",
    "\n",
    "# Simple development setup\n",
    "config = ObservabilityConfig(\n",
    "    log_level=\"INFO\",\n",
    "    log_json=False, # Use human-readable logs for this example\n",
    "    metrics_enabled=True,\n",
    "    metrics_namespace=\"myapp\",\n",
    "    tracing_enabled=True,\n",
    "    tracing_provider=\"inmemory\",\n",
    "    tracing_sample_rate=1.0\n",
    ")\n",
    "\n",
    "configure_observability(config)"
   ]
  },
  {
   "cell_type": "markdown",
   "id": "9d1aea85",
   "metadata": {},
   "source": [
    "## 2. Structured Logging"
   ]
  },
  {
   "cell_type": "markdown",
   "id": "6da1eecc",
   "metadata": {},
   "source": [
    "Meridian Runtime uses structured logging to make it easy to search and analyze logs. You can use the `get_logger` function to get a logger instance."
   ]
  },
  {
   "cell_type": "code",
   "execution_count": null,
   "id": "904396cb",
   "metadata": {},
   "outputs": [],
   "source": [
    "from meridian.observability.logging import get_logger\n",
    "\n",
    "logger = get_logger()\n",
    "\n",
    "# Simple logging\n",
    "logger.info(\"node.start\", \"Node starting up\", node_name=\"worker\", version=\"1.0\")\n",
    "\n",
    "# Error logging with context\n",
    "logger.error(\"node.error\", \"Failed to process message\", \n",
    "            error=\"validation_failed\", \n",
    "            message_id=\"123\",\n",
    "            port=\"input\")"
   ]
  },
  {
   "cell_type": "markdown",
   "id": "dad00969",
   "metadata": {},
   "source": [
    "## 3. Metrics Collection"
   ]
  },
  {
   "cell_type": "markdown",
   "id": "a7a64abc",
   "metadata": {},
   "source": [
    "Meridian Runtime can collect a variety of metrics to help you monitor the performance of your dataflows. You can use the `get_metrics` function to get a metrics collector instance."
   ]
  },
  {
   "cell_type": "code",
   "execution_count": null,
   "id": "2ac5f4bc",
   "metadata": {},
   "outputs": [],
   "source": [
    "from meridian.observability.metrics import get_metrics\n",
    "\n",
    "metrics = get_metrics()\n",
    "\n",
    "# Counters for events\n",
    "messages_processed = metrics.counter(\"messages_processed_total\")\n",
    "messages_processed.inc()\n",
    "\n",
    "# Gauges for current state\n",
    "queue_depth = metrics.gauge(\"queue_depth\")\n",
    "queue_depth.set(42)\n",
    "\n",
    "# Histograms for distributions\n",
    "processing_time = metrics.histogram(\"processing_duration_seconds\")\n",
    "processing_time.observe(0.125)"
   ]
  },
  {
   "cell_type": "markdown",
   "id": "5a18784d",
   "metadata": {},
   "source": [
    "## 4. Distributed Tracing"
   ]
  },
  {
   "cell_type": "markdown",
   "id": "a18c7f43",
   "metadata": {},
   "source": [
    "Distributed tracing allows you to trace the flow of a request across multiple nodes in your dataflow. You can use the `start_span` function to create a new trace span."
   ]
  },
  {
   "cell_type": "code",
   "execution_count": null,
   "id": "2381d947",
   "metadata": {},
   "outputs": [],
   "source": [
    "from meridian.observability.tracing import start_span\n",
    "\n",
    "# Create a span for an operation\n",
    "with start_span(\"process_message\", {\"message_id\": \"123\", \"node\": \"worker\"}):\n",
    "    # All operations in this block are traced\n",
    "    print(\"Processing message...\")"
   ]
  },
  {
   "cell_type": "markdown",
   "id": "cfcb4af4",
   "metadata": {},
   "source": [
    "## 5. Putting It All Together"
   ]
  },
  {
   "cell_type": "markdown",
   "id": "5bfcd089",
   "metadata": {},
   "source": [
    "Let's see how to use these features in a simple graph."
   ]
  },
  {
   "cell_type": "code",
   "execution_count": null,
   "id": "96091117",
   "metadata": {},
   "outputs": [],
   "source": [
    "from meridian.core import Subgraph, Scheduler, Node, Message, MessageType\n",
    "from meridian.observability.logging import get_logger, with_context\n",
    "from meridian.observability.metrics import get_metrics, time_block\n",
    "from meridian.observability.tracing import start_span\n",
    "\n",
    "class InstrumentedNode(Node):\n",
    "    def _handle_message(self, port, msg):\n",
    "        logger = get_logger()\n",
    "        metrics = get_metrics()\n",
    "\n",
    "        with with_context(node=self.name, port=port, trace_id=msg.get_trace_id()):\n",
    "            logger.info(\"processing.start\", \"Starting message processing\")\n",
    "\n",
    "            with time_block(\"node_processing_duration\"):\n",
    "                with start_span(\"process_message\", {\"port\": port, \"type\": msg.type.value}):\n",
    "                    print(f\"Processing message: {msg.payload}\")\n",
    "                    metrics.counter(\"messages_processed_total\").inc()\n",
    "                    self.emit(\"out\", Message(MessageType.DATA, msg.payload))\n",
    "\n",
    "            logger.info(\"processing.complete\", \"Message processed successfully\")\n",
    "\n",
    "class Producer(Node):\n",
    "    def __init__(self, n=5):\n",
    "        self._n = n\n",
    "        self._i = 0\n",
    "\n",
    "    def name(self):\n",
    "        return \"producer\"\n",
    "\n",
    "    def on_start(self):\n",
    "        self._i = 0\n",
    "\n",
    "    def on_tick(self):\n",
    "        if self._i < self._n:\n",
    "            self.emit(\"out\", Message(payload=self._i))\n",
    "            self._i += 1\n",
    "\n",
    "# Create a subgraph\n",
    "sg = Subgraph.from_nodes(\"observability_demo\", [InstrumentedNode(), Producer()])\n",
    "sg.connect((\"producer\",\"out\"), (\"instrumentednode\",\"in\"), capacity=4)\n",
    "\n",
    "# Create a scheduler and register the subgraph\n",
    "scheduler = Scheduler()\n",
    "scheduler.register(sg)\n",
    "\n",
    "# Run the scheduler\n",
    "scheduler.run()"
   ]
  },
  {
   "cell_type": "markdown",
   "id": "0c34580b",
   "metadata": {},
   "source": [
    "## 6. Conclusion"
   ]
  },
  {
   "cell_type": "markdown",
   "id": "3ac99ca0",
   "metadata": {},
   "source": [
    "This notebook has provided a basic introduction to the observability features in Meridian Runtime. By using structured logging, metrics collection, and distributed tracing, you can gain deep insights into the behavior of your dataflows, making it easier to debug issues and monitor performance."
   ]
  }
 ],
 "metadata": {
  "jupytext": {
   "cell_metadata_filter": "-all",
   "main_language": "python",
   "notebook_metadata_filter": "-all"
  }
 },
 "nbformat": 4,
 "nbformat_minor": 5
}
