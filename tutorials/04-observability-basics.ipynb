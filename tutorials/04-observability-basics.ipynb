{
 "cells": [
  {
   "cell_type": "markdown",
   "id": "a3b69d07",
   "metadata": {},
   "source": [
    "# Observability Basics"
   ]
  },
  {
   "cell_type": "markdown",
   "id": "defc5c68",
   "metadata": {},
   "source": [
    "This notebook provides an introduction to the observability features in Meridian Runtime. Observability is crucial for understanding the behavior of a system, debugging issues, and monitoring performance. Meridian Runtime provides a comprehensive observability system with structured logging, metrics collection, and distributed tracing."
   ]
  },
  {
   "cell_type": "markdown",
   "id": "29360289",
   "metadata": {},
   "source": [
    "## 1. Setup: Add Project to Python Path"
   ]
  },
  {
   "cell_type": "markdown",
   "id": "82448541",
   "metadata": {},
   "source": [
    "This cell adds the project's `src` directory to the Python path. This is necessary for the notebook to find and import the `meridian` module."
   ]
  },
  {
   "cell_type": "code",
   "execution_count": null,
   "id": "03883378",
   "metadata": {},
   "outputs": [],
   "source": [
    "import sys\n",
    "import os\n",
    "\n",
    "# Add the project's 'src' directory to the Python path\n",
    "# This is necessary for the notebook to find the 'meridian' module\n",
    "# We assume the notebook is run from the 'notebooks/tutorials' directory.\n",
    "src_path = os.path.abspath('../../src')\n",
    "if src_path not in sys.path:\n",
    "    sys.path.insert(0, src_path)\n",
    "    print(f\"Added '{src_path}' to the Python path.\")"
   ]
  },
  {
   "cell_type": "markdown",
   "id": "323d99a9",
   "metadata": {},
   "source": [
    "## 2. Configuring Observability"
   ]
  },
  {
   "cell_type": "markdown",
   "id": "f8eae901",
   "metadata": {},
   "source": [
    "The first step is to configure the observability system. You can do this using the `ObservabilityConfig` class and the `configure_observability` function."
   ]
  },
  {
   "cell_type": "code",
   "execution_count": null,
   "id": "0f914cc9",
   "metadata": {},
   "outputs": [],
   "source": [
    "from meridian.observability.config import ObservabilityConfig, configure_observability\n",
    "\n",
    "# Simple development setup\n",
    "config = ObservabilityConfig(\n",
    "    log_level=\"INFO\",\n",
    "    log_json=False, # Use human-readable logs for this example\n",
    "    metrics_enabled=True,\n",
    "    metrics_namespace=\"myapp\",\n",
    "    tracing_enabled=True,\n",
    "    tracing_provider=\"inmemory\",\n",
    "    tracing_sample_rate=1.0\n",
    ")\n",
    "\n",
    "configure_observability(config)"
   ]
  },
  {
   "cell_type": "markdown",
   "id": "43b77b92",
   "metadata": {},
   "source": [
    "## 3. Structured Logging"
   ]
  },
  {
   "cell_type": "markdown",
   "id": "d8df018d",
   "metadata": {},
   "source": [
    "Meridian Runtime uses structured logging to make it easy to search and analyze logs. You can use the `get_logger` function to get a logger instance."
   ]
  },
  {
   "cell_type": "code",
   "execution_count": null,
   "id": "31fc5fbe",
   "metadata": {},
   "outputs": [],
   "source": [
    "from meridian.observability.logging import get_logger\n",
    "\n",
    "logger = get_logger()\n",
    "\n",
    "# Simple logging\n",
    "logger.info(\"node.start\", \"Node starting up\", node_name=\"worker\", version=\"1.0\")\n",
    "\n",
    "# Error logging with context\n",
    "logger.error(\"node.error\", \"Failed to process message\", \n",
    "            error=\"validation_failed\", \n",
    "            message_id=\"123\",\n",
    "            port=\"input\")"
   ]
  },
  {
   "cell_type": "markdown",
   "id": "52221f3c",
   "metadata": {},
   "source": [
    "## 4. Metrics Collection"
   ]
  },
  {
   "cell_type": "markdown",
   "id": "cdf94020",
   "metadata": {},
   "source": [
    "Meridian Runtime can collect a variety of metrics to help you monitor the performance of your dataflows. You can use the `get_metrics` function to get a metrics collector instance."
   ]
  },
  {
   "cell_type": "code",
   "execution_count": null,
   "id": "1183200d",
   "metadata": {},
   "outputs": [],
   "source": [
    "from meridian.observability.metrics import get_metrics\n",
    "\n",
    "metrics = get_metrics()\n",
    "\n",
    "# Counters for events\n",
    "messages_processed = metrics.counter(\"messages_processed_total\")\n",
    "messages_processed.inc()\n",
    "\n",
    "# Gauges for current state\n",
    "queue_depth = metrics.gauge(\"queue_depth\")\n",
    "queue_depth.set(42)\n",
    "\n",
    "# Histograms for distributions\n",
    "processing_time = metrics.histogram(\"processing_duration_seconds\")\n",
    "processing_time.observe(0.125)"
   ]
  },
  {
   "cell_type": "markdown",
   "id": "5e6bc415",
   "metadata": {},
   "source": [
    "## 5. Distributed Tracing"
   ]
  },
  {
   "cell_type": "markdown",
   "id": "59ea18e2",
   "metadata": {},
   "source": [
    "Distributed tracing allows you to trace the flow of a request across multiple nodes in your dataflow. You can use the `start_span` function to create a new trace span."
   ]
  },
  {
   "cell_type": "code",
   "execution_count": null,
   "id": "2507c5d4",
   "metadata": {},
   "outputs": [],
   "source": [
    "from meridian.observability.tracing import start_span\n",
    "\n",
    "# Create a span for an operation\n",
    "with start_span(\"process_message\", {\"message_id\": \"123\", \"node\": \"worker\"}):\n",
    "    # All operations in this block are traced\n",
    "    print(\"Processing message...\")"
   ]
  },
  {
   "cell_type": "markdown",
   "id": "70f30299",
   "metadata": {},
   "source": [
    "## 6. Putting It All Together"
   ]
  },
  {
   "cell_type": "markdown",
   "id": "0709fba8",
   "metadata": {},
   "source": [
    "Let's see how to use these features in a simple graph."
   ]
  },
  {
   "cell_type": "code",
   "execution_count": null,
   "id": "73c66e49",
   "metadata": {},
   "outputs": [],
   "source": [
    "from meridian.core import Subgraph, Scheduler, Node, Message, MessageType\n",
    "from meridian.observability.logging import get_logger, with_context\n",
    "from meridian.observability.metrics import get_metrics, time_block\n",
    "from meridian.observability.tracing import start_span\n",
    "\n",
    "class InstrumentedNode(Node):\n",
    "    def _handle_message(self, port, msg):\n",
    "        logger = get_logger()\n",
    "        metrics = get_metrics()\n",
    "\n",
    "        with with_context(node=self.name, port=port, trace_id=msg.get_trace_id()):\n",
    "            logger.info(\"processing.start\", \"Starting message processing\")\n",
    "\n",
    "            with time_block(\"node_processing_duration\"):\n",
    "                with start_span(\"process_message\", {\"port\": port, \"type\": msg.type.value}):\n",
    "                    print(f\"Processing message: {msg.payload}\")\n",
    "                    metrics.counter(\"messages_processed_total\").inc()\n",
    "                    self.emit(\"out\", Message(MessageType.DATA, msg.payload))\n",
    "\n",
    "            logger.info(\"processing.complete\", \"Message processed successfully\")\n",
    "\n",
    "class Producer(Node):\n",
    "    def __init__(self, n=5):\n",
    "        self._n = n\n",
    "        self._i = 0\n",
    "\n",
    "    def name(self):\n",
    "        return \"producer\"\n",
    "\n",
    "    def on_start(self):\n",
    "        self._i = 0\n",
    "\n",
    "    def on_tick(self):\n",
    "        if self._i < self._n:\n",
    "            self.emit(\"out\", Message(payload=self._i))\n",
    "            self._i += 1\n",
    "\n",
    "# Create a subgraph\n",
    "sg = Subgraph.from_nodes(\"observability_demo\", [InstrumentedNode(), Producer()])\n",
    "sg.connect((\"producer\",\"out\"), (\"instrumentednode\",\"in\"), capacity=4)\n",
    "\n",
    "# Create a scheduler and register the subgraph\n",
    "scheduler = Scheduler()\n",
    "scheduler.register(sg)\n",
    "\n",
    "# Run the scheduler\n",
    "scheduler.run()"
   ]
  },
  {
   "cell_type": "markdown",
   "id": "2d1c6516",
   "metadata": {},
   "source": [
    "## 7. Conclusion"
   ]
  },
  {
   "cell_type": "markdown",
   "id": "dc790c5a",
   "metadata": {},
   "source": [
    "This notebook has provided a basic introduction to the observability features in Meridian Runtime. By using structured logging, metrics collection, and distributed tracing, you can gain deep insights into the behavior of your dataflows, making it easier to debug issues and monitor performance."
   ]
  }
 ],
 "metadata": {
  "jupytext": {
   "main_language": "python"
  },
  "kernelspec": {
   "display_name": "Python 3",
   "name": "python3"
  }
 },
 "nbformat": 4,
 "nbformat_minor": 5
}
