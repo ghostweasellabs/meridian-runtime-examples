{
 "cells": [
  {
   "cell_type": "code",
   "execution_count": null,
   "id": "df8b54d7",
   "metadata": {
    "lines_to_next_cell": 0
   },
   "outputs": [],
   "source": []
  },
  {
   "cell_type": "markdown",
   "id": "e64fcf5d",
   "metadata": {},
   "source": [
    "---\n",
    "jupyter:\n",
    "  jupytext:\n",
    "    text_representation:\n",
    "      extension: .py\n",
    "      format_name: light\n",
    "      format_version: '1.5'\n",
    "      jupytext_version: 1.17.2\n",
    "  kernelspec:\n",
    "    display_name: Python 3\n",
    "    name: python3\n",
    "---"
   ]
  },
  {
   "cell_type": "markdown",
   "id": "68eb6e20",
   "metadata": {},
   "source": [
    "# Hello, Graph! (Interactive)"
   ]
  },
  {
   "cell_type": "markdown",
   "id": "a377cc81",
   "metadata": {},
   "source": [
    "This notebook is an interactive version of the `hello-graph` example. It demonstrates how to build and run a simple graph with a producer and a consumer, and how to interact with it using widgets."
   ]
  },
  {
   "cell_type": "markdown",
   "id": "b90fc742",
   "metadata": {},
   "source": [
    "## 1. Setup: Add Project to Python Path"
   ]
  },
  {
   "cell_type": "markdown",
   "id": "fdcad6ae",
   "metadata": {},
   "source": [
    "This cell adds the project's `src` directory to the Python path. This is necessary for the notebook to find and import the `meridian` module."
   ]
  },
  {
   "cell_type": "code",
   "execution_count": null,
   "id": "24a448ba",
   "metadata": {},
   "outputs": [],
   "source": [
    "import sys\n",
    "import os\n",
    "\n",
    "# Add the project's 'src' directory to the Python path\n",
    "# This is necessary for the notebook to find the 'meridian' module\n",
    "# We assume the notebook is run from the 'notebooks/examples' directory.\n",
    "src_path = os.path.abspath('../../src')\n",
    "if src_path not in sys.path:\n",
    "    sys.path.insert(0, src_path)\n",
    "    print(f\"Added '{src_path}' to the Python path.\")"
   ]
  },
  {
   "cell_type": "markdown",
   "id": "56b70f5b",
   "metadata": {},
   "source": [
    "## 2. The Producer and Consumer Nodes"
   ]
  },
  {
   "cell_type": "markdown",
   "id": "ad0cefbe",
   "metadata": {},
   "source": [
    "First, let's define the producer and consumer nodes. The producer will emit a sequence of integers, and the consumer will receive them and store them in a list."
   ]
  },
  {
   "cell_type": "code",
   "execution_count": null,
   "id": "afb78a0d",
   "metadata": {
    "lines_to_end_of_cell_marker": 0,
    "lines_to_next_cell": 1
   },
   "outputs": [],
   "source": [
    "from meridian.core import Node, Message\n",
    "\n",
    "class Producer(Node):\n",
    "    def __init__(self, n=5):\n",
    "        self._n = n\n",
    "        self._i = 0\n",
    "\n",
    "    def name(self):\n",
    "        return \"producer\"\n",
    "\n",
    "    def on_start(self):\n",
    "        self._i = 0\n",
    "\n",
    "    def on_tick(self):\n",
    "        if self._i < self._n:\n",
    "            self.emit(\"out\", Message(payload=self._i))\n",
    "            self._i += 1\n",
    "\n",
    "class Consumer(Node):\n",
    "    def __init__(self):\n",
    "        self.values = []\n",
    "\n",
    "    def name(self):\n",
    "        return \"consumer\"\n",
    "\n",
    "    def on_message(self, port, msg):\n",
    "        self.values.append(msg.payload)"
   ]
  },
  {
   "cell_type": "markdown",
   "id": "76968149",
   "metadata": {},
   "source": [
    "## 3. Building and Running the Graph"
   ]
  },
  {
   "cell_type": "markdown",
   "id": "215cb37f",
   "metadata": {},
   "source": [
    "Now, let's build the graph and run it with the scheduler. We'll use a slider to control the number of messages the producer emits."
   ]
  },
  {
   "cell_type": "code",
   "execution_count": null,
   "id": "ad0510a9",
   "metadata": {},
   "outputs": [],
   "source": [
    "import ipywidgets as widgets\n",
    "from IPython.display import display\n",
    "from meridian.core import Subgraph, Scheduler\n",
    "\n",
    "# Create a slider to control the number of messages\n",
    "slider = widgets.IntSlider(value=5, min=1, max=10, description='Messages:')\n",
    "\n",
    "# Create a button to run the graph\n",
    "button = widgets.Button(description='Run Graph')\n",
    "\n",
    "# Create an output widget to display the results\n",
    "output = widgets.Output()\n",
    "\n",
    "def run_graph(b):\n",
    "    with output:\n",
    "        output.clear_output()\n",
    "        # Create a subgraph\n",
    "        graph = Subgraph()\n",
    "\n",
    "        # Add the producer and consumer nodes\n",
    "        producer = Producer(n=slider.value)\n",
    "        consumer = Consumer()\n",
    "        graph.add_node(producer)\n",
    "        graph.add_node(consumer)\n",
    "\n",
    "        # Connect the producer and consumer\n",
    "        graph.connect((\"producer\", \"out\"), (\"consumer\", \"in\"))\n",
    "\n",
    "        # Create a scheduler and register the subgraph\n",
    "        scheduler = Scheduler()\n",
    "        scheduler.register(graph)\n",
    "\n",
    "        # Run the scheduler\n",
    "        scheduler.run()\n",
    "\n",
    "        print(f\"Consumer received: {consumer.values}\")\n",
    "\n",
    "button.on_click(run_graph)\n",
    "\n",
    "display(slider, button, output)"
   ]
  }
 ],
 "metadata": {
  "jupytext": {
   "cell_metadata_filter": "-all",
   "main_language": "python",
   "notebook_metadata_filter": "-all"
  }
 },
 "nbformat": 4,
 "nbformat_minor": 5
}
