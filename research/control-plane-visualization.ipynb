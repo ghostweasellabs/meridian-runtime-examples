{
 "cells": [
  {
   "cell_type": "code",
   "execution_count": null,
   "id": "12cfa507",
   "metadata": {},
   "outputs": [],
   "source": []
  },
  {
   "cell_type": "markdown",
   "id": "b41d40e2",
   "metadata": {},
   "source": [
    "---\n",
    "jupyter:\n",
    "  jupytext:\n",
    "    text_representation:\n",
    "      extension: .py\n",
    "      format_name: light\n",
    "      format_version: '1.5'\n",
    "      jupytext_version: 1.17.2\n",
    "  kernelspec:\n",
    "    display_name: Python 3\n",
    "    name: python3\n",
    "---"
   ]
  },
  {
   "cell_type": "markdown",
   "id": "1587151c",
   "metadata": {},
   "source": [
    "# Control-Plane Priority Visualization"
   ]
  },
  {
   "cell_type": "markdown",
   "id": "6056ea01",
   "metadata": {},
   "source": [
    "This notebook demonstrates the effect of control-plane messages on data flow and queue states in Meridian Runtime, using interactive visualizations."
   ]
  },
  {
   "cell_type": "markdown",
   "id": "93c22fe7",
   "metadata": {},
   "source": [
    "## 1. Setup: Add Project to Python Path"
   ]
  },
  {
   "cell_type": "markdown",
   "id": "75a7dbbf",
   "metadata": {},
   "source": [
    "This cell adds the project's `src` directory to the Python path. This is necessary for the notebook to find and import the `meridian` module."
   ]
  },
  {
   "cell_type": "code",
   "execution_count": null,
   "id": "66ea1ebe",
   "metadata": {},
   "outputs": [],
   "source": [
    "import sys\n",
    "import os\n",
    "\n",
    "# Add the project's 'src' directory to the Python path\n",
    "# This is necessary for the notebook to find the 'meridian' module\n",
    "# We assume the notebook is run from the 'notebooks/research' directory.\n",
    "src_path = os.path.abspath('../../src')\n",
    "if src_path not in sys.path:\n",
    "    sys.path.insert(0, src_path)\n",
    "    print(f\"Added '{src_path}' to the Python path.\")"
   ]
  },
  {
   "cell_type": "markdown",
   "id": "59f3fef6",
   "metadata": {},
   "source": [
    "## 2. Imports and Node Definitions"
   ]
  },
  {
   "cell_type": "markdown",
   "id": "37c6ef0c",
   "metadata": {},
   "source": [
    "We'll import necessary modules and define the `Worker`, `Controller`, and `Producer` nodes."
   ]
  },
  {
   "cell_type": "code",
   "execution_count": null,
   "id": "e09088ee",
   "metadata": {
    "lines_to_end_of_cell_marker": 0,
    "lines_to_next_cell": 1
   },
   "outputs": [],
   "source": [
    "import time\n",
    "import threading\n",
    "import plotly.graph_objects as go\n",
    "from collections import deque\n",
    "\n",
    "from meridian.core import Subgraph, Scheduler, Message, MessageType, Node, PortSpec, SchedulerConfig\n",
    "from meridian.core.ports import Port, PortDirection\n",
    "from meridian.observability.logging import configure_observability, ObservabilityConfig\n",
    "\n",
    "# Configure observability to capture logs for visualization\n",
    "configure_observability(\n",
    "    ObservabilityConfig(\n",
    "        log_level=\"INFO\",\n",
    "        log_json=False, # Human-readable logs for this example\n",
    "        metrics_enabled=False,\n",
    "        tracing_enabled=False,\n",
    "    )\n",
    ")\n",
    "\n",
    "class Worker(Node):\n",
    "    def __init__(self):\n",
    "        super().__init__(\n",
    "            \"worker\",\n",
    "            inputs=[\n",
    "                Port(\"in\", PortDirection.INPUT, spec=PortSpec(\"in\", int)),\n",
    "                Port(\"ctl\", PortDirection.INPUT, spec=PortSpec(\"ctl\", str)),\n",
    "            ],\n",
    "            outputs=[Port(\"out\", PortDirection.OUTPUT, spec=PortSpec(\"out\", int))],\n",
    "        )\n",
    "        self._mode = \"normal\"\n",
    "        self.processed_data_messages = 0\n",
    "        self.processed_control_messages = 0\n",
    "\n",
    "    def _handle_message(self, port, msg):\n",
    "        if port == \"ctl\" and msg.type == MessageType.CONTROL:\n",
    "            cmd = str(msg.payload).strip().lower()\n",
    "            print(f\"Worker received control message: {cmd}\")\n",
    "            if cmd in {\"normal\", \"quiet\"}:\n",
    "                self._mode = cmd\n",
    "            self.processed_control_messages += 1\n",
    "            return\n",
    "        if port == \"in\" and self._mode != \"quiet\":\n",
    "            # Simulate some work\n",
    "            time.sleep(0.01) \n",
    "            self.processed_data_messages += 1\n",
    "            # print(f\"Worker processing data message: {msg.payload}\")\n",
    "            self.emit(\"out\", Message(MessageType.DATA, msg.payload))\n",
    "\n",
    "class Controller(Node):\n",
    "    def __init__(self, control_interval_s=1.0):\n",
    "        super().__init__(\"controller\", inputs=[], outputs=[Port(\"ctl\", PortDirection.OUTPUT, spec=PortSpec(\"ctl\", str))])\n",
    "        self._control_interval_s = control_interval_s\n",
    "        self._last_control_time = time.monotonic()\n",
    "\n",
    "    def _handle_tick(self):\n",
    "        now = time.monotonic()\n",
    "        if now - self._last_control_time >= self._control_interval_s:\n",
    "            print(\"Controller sending control message: quiet\")\n",
    "            self.emit(\"ctl\", Message(MessageType.CONTROL, \"quiet\"))\n",
    "            self._last_control_time = now\n",
    "\n",
    "class Producer(Node):\n",
    "    def __init__(self, n=100):\n",
    "        super().__init__(\n",
    "            name=\"producer\",\n",
    "            inputs=[],\n",
    "            outputs=[Port(\"out\", PortDirection.OUTPUT, spec=PortSpec(\"out\", int))],\n",
    "        )\n",
    "        self._n = n\n",
    "        self._i = 0\n",
    "\n",
    "    def _handle_tick(self):\n",
    "        if self._i < self._n:\n",
    "            # print(f\"Producer emitting data message: {self._i}\")\n",
    "            self.emit(\"out\", Message(type=MessageType.DATA, payload=self._i))\n",
    "            self._i += 1"
   ]
  },
  {
   "cell_type": "markdown",
   "id": "d0fb13bb",
   "metadata": {},
   "source": [
    "## 3. Data Collection for Visualization"
   ]
  },
  {
   "cell_type": "markdown",
   "id": "5932537f",
   "metadata": {},
   "source": [
    "We'll create a custom scheduler that records queue depths over time."
   ]
  },
  {
   "cell_type": "code",
   "execution_count": null,
   "id": "36e96a9b",
   "metadata": {
    "lines_to_end_of_cell_marker": 0,
    "lines_to_next_cell": 1
   },
   "outputs": [],
   "source": [
    "class VisualizingScheduler(Scheduler):\n",
    "    def __init__(self, config: SchedulerConfig | None = None):\n",
    "        super().__init__(config)\n",
    "        self.queue_depth_history = {\n",
    "            \"producer:out->worker:in\": deque(),\n",
    "            \"controller:ctl->worker:ctl\": deque(),\n",
    "        }\n",
    "        self.timestamps = deque()\n",
    "        self._start_time = time.monotonic()\n",
    "\n",
    "    def _run_main_loop(self) -> None:\n",
    "        # Override to collect data\n",
    "        super()._run_main_loop()\n",
    "        \n",
    "        # After the main loop, collect final queue depths\n",
    "        self._collect_queue_depths()\n",
    "\n",
    "    def _collect_queue_depths(self):\n",
    "        current_time = time.monotonic() - self._start_time\n",
    "        self.timestamps.append(current_time)\n",
    "        \n",
    "        for edge_id, edge_ref in self._plan.edges.items():\n",
    "            if edge_id in self.queue_depth_history:\n",
    "                self.queue_depth_history[edge_id].append(edge_ref.edge.depth())\n",
    "\n",
    "    def run(self) -> None:\n",
    "        # Wrap the original run method to collect data periodically\n",
    "        self._start_time = time.monotonic()\n",
    "        super().run()\n",
    "\n",
    "        # Ensure all history deques have the same length for plotting\n",
    "        max_len = max(len(q) for q in self.queue_depth_history.values())\n",
    "        for q in self.queue_depth_history.values():\n",
    "            while len(q) < max_len:\n",
    "                q.append(q[-1] if q else 0) # Pad with last value or 0\n"
   ]
  },
  {
   "cell_type": "markdown",
   "id": "28eb3bf9",
   "metadata": {},
   "source": [
    "## 4. Building and Running the Graph with Visualization"
   ]
  },
  {
   "cell_type": "markdown",
   "id": "6cfd8e18",
   "metadata": {},
   "source": [
    "We'll set up the graph and run it using our `VisualizingScheduler`."
   ]
  },
  {
   "cell_type": "code",
   "execution_count": null,
   "id": "2e021c92",
   "metadata": {
    "lines_to_next_cell": 0
   },
   "outputs": [],
   "source": [
    "import ipywidgets as widgets\n",
    "from IPython.display import display\n",
    "\n",
    "# Create widgets for configuration\n",
    "duration_slider = widgets.FloatSlider(value=5.0, min=1.0, max=20.0, step=1.0, description='Duration (s):')\n",
    "producer_messages_slider = widgets.IntSlider(value=100, min=10, max=1000, step=10, description='Producer Msgs:')\n",
    "control_interval_slider = widgets.FloatSlider(value=1.0, min=0.1, max=5.0, step=0.1, description='Control Interval (s):')\n",
    "\n",
    "run_button = widgets.Button(description='Run Simulation')\n",
    "output_widget = widgets.Output()\n",
    "\n",
    "def run_simulation(b):\n",
    "    with output_widget:\n",
    "        output_widget.clear_output()\n",
    "        print(\"🚀 Running Control Plane Priority Simulation...\")\n",
    "\n",
    "        # Create nodes with interactive parameters\n",
    "        worker = Worker()\n",
    "        controller = Controller(control_interval_s=control_interval_slider.value)\n",
    "        producer = Producer(n=producer_messages_slider.value)\n",
    "\n",
    "        # Create subgraph\n",
    "        sg = Subgraph.from_nodes(\"control_plane_demo\", [worker, controller, producer])\n",
    "\n",
    "        # Connect data edge\n",
    "        sg.connect((\"producer\",\"out\"), (\"worker\",\"in\"), capacity=10) # Data queue\n",
    "\n",
    "        # Connect control edge (higher priority by default)\n",
    "        sg.connect((\"controller\",\"ctl\"), (\"worker\",\"ctl\"), capacity=1) # Control queue\n",
    "\n",
    "        # Create and run visualizing scheduler\n",
    "        scheduler_config = SchedulerConfig(\n",
    "            tick_interval_ms=1, \n",
    "            shutdown_timeout_s=duration_slider.value + 2.0 # Add buffer for shutdown\n",
    "        )\n",
    "        scheduler = VisualizingScheduler(scheduler_config)\n",
    "        scheduler.register(sg)\n",
    "        \n",
    "        # Run in a separate thread to keep notebook interactive\n",
    "        sim_thread = threading.Thread(target=scheduler.run)\n",
    "        sim_thread.start()\n",
    "        sim_thread.join() # Wait for simulation to complete\n",
    "\n",
    "        print(\"Simulation complete. Generating plot...\")\n",
    "\n",
    "        # Generate plot\n",
    "        fig = go.Figure()\n",
    "\n",
    "        for edge_id, history in scheduler.queue_depth_history.items():\n",
    "            fig.add_trace(go.Scatter(x=list(scheduler.timestamps), y=list(history), mode='lines', name=f'Queue Depth: {edge_id}'))\n",
    "\n",
    "        fig.update_layout(\n",
    "            title='Queue Depth Over Time',\n",
    "            xaxis_title='Time (s)',\n",
    "            yaxis_title='Queue Depth',\n",
    "            hovermode='x unified'\n",
    "        )\n",
    "        fig.show()\n",
    "        \n",
    "        print(f\"\\nWorker processed data messages: {worker.processed_data_messages}\")\n",
    "        print(f\"Worker processed control messages: {worker.processed_control_messages}\")\n",
    "\n",
    "run_button.on_click(run_simulation)\n",
    "\n",
    "display(\n",
    "    duration_slider,\n",
    "    producer_messages_slider,\n",
    "    control_interval_slider,\n",
    "    run_button,\n",
    "    output_widget\n",
    ")"
   ]
  },
  {
   "cell_type": "code",
   "execution_count": null,
   "id": "a44a7cd8",
   "metadata": {},
   "outputs": [],
   "source": []
  }
 ],
 "metadata": {
  "jupytext": {
   "cell_metadata_filter": "-all",
   "main_language": "python",
   "notebook_metadata_filter": "-all"
  }
 },
 "nbformat": 4,
 "nbformat_minor": 5
}
